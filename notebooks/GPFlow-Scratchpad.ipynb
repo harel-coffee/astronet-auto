{
 "cells": [
  {
   "cell_type": "code",
   "execution_count": null,
   "metadata": {},
   "outputs": [],
   "source": [
    "!which python"
   ]
  },
  {
   "cell_type": "code",
   "execution_count": null,
   "metadata": {},
   "outputs": [],
   "source": [
    "import numpy as np\n",
    "import matplotlib.pyplot as plt\n",
    "import tensorflow as tf\n",
    "\n",
    "import gpflow\n",
    "from gpflow.ci_utils import ci_niter\n",
    "\n",
    "np.random.seed(0)"
   ]
  },
  {
   "cell_type": "code",
   "execution_count": null,
   "metadata": {},
   "outputs": [],
   "source": [
    "# Define some configuration constants.\n",
    "\n",
    "num_data = 25\n",
    "noise_std = 0.3\n",
    "optimisation_steps = ci_niter(100)"
   ]
  },
  {
   "cell_type": "code",
   "execution_count": null,
   "metadata": {},
   "outputs": [],
   "source": [
    "# Create dummy data.\n",
    "\n",
    "X = np.random.randn(num_data, 1)  # [N, 2]\n",
    "Y = np.sin(X) + 2 * np.cos(X) + np.random.randn(*X.shape) * noise_std  # [N, 1]\n",
    "plt.plot(X, Y, \"o\")"
   ]
  },
  {
   "cell_type": "code",
   "execution_count": null,
   "metadata": {},
   "outputs": [],
   "source": [
    "# Set up model and print\n",
    "\n",
    "kernel = gpflow.kernels.SquaredExponential(lengthscales=[1.0, 2.0]) + gpflow.kernels.Linear()\n",
    "model = gpflow.models.GPR((X, Y), kernel, noise_variance=noise_std ** 2)\n",
    "model"
   ]
  },
  {
   "cell_type": "code",
   "execution_count": null,
   "metadata": {},
   "outputs": [],
   "source": [
    "# We define a function that plots the model's prediction (in the form of samples) together with the data.\n",
    "# Importantly, this function has no other argument than `fig: matplotlib.figure.Figure` and `ax: matplotlib.figure.Axes`.\n",
    "\n",
    "\n",
    "def plot_prediction(fig, ax):\n",
    "    Xnew = np.linspace(X.min() - 0.5, X.max() + 0.5, 100).reshape(-1, 1)\n",
    "    Ypred = model.predict_f_samples(Xnew, full_cov=True, num_samples=1)\n",
    "    ax.plot(Xnew.flatten(), np.squeeze(Ypred).T, \"C2\", linestyle='none', marker='x', alpha=0.2)\n",
    "    ax.plot(X, Y, \"o\")\n",
    "\n",
    "\n",
    "# Let's check if the function does the desired plotting\n",
    "fig = plt.figure()\n",
    "ax = fig.subplots()\n",
    "plot_prediction(fig, ax)\n",
    "plt.show()"
   ]
  },
  {
   "cell_type": "code",
   "execution_count": null,
   "metadata": {},
   "outputs": [],
   "source": [
    "Xnew = np.linspace(X.min() - 0.5, X.max() + 0.5, 100).reshape(-1, 1)\n",
    "Ypred = model.predict_f_samples(Xnew, full_cov=True, num_samples=100)"
   ]
  },
  {
   "cell_type": "code",
   "execution_count": null,
   "metadata": {},
   "outputs": [],
   "source": [
    "Xnew.shape"
   ]
  },
  {
   "cell_type": "code",
   "execution_count": null,
   "metadata": {},
   "outputs": [],
   "source": [
    "Ypred"
   ]
  },
  {
   "cell_type": "code",
   "execution_count": null,
   "metadata": {},
   "outputs": [],
   "source": [
    "np.squeeze(Ypred).T.shape"
   ]
  },
  {
   "cell_type": "code",
   "execution_count": null,
   "metadata": {},
   "outputs": [],
   "source": [
    "Ypred.shape"
   ]
  },
  {
   "cell_type": "code",
   "execution_count": null,
   "metadata": {},
   "outputs": [],
   "source": [
    "import numpy as np\n",
    "import matplotlib.pyplot as plt\n",
    "import tensorflow as tf\n",
    "from gpflow.utilities import print_summary\n",
    "\n",
    "# The lines below are specific to the notebook format\n",
    "%matplotlib inline\n",
    "plt.rcParams[\"figure.figsize\"] = (12, 6)"
   ]
  },
  {
   "cell_type": "code",
   "execution_count": null,
   "metadata": {},
   "outputs": [],
   "source": [
    "X = np.random.randn(num_data, 1)  # [N, 2]\n",
    "Y = np.sin(X) + 2 * np.cos(X) + np.random.randn(*X.shape) * noise_std  # [N, 1]\n",
    "\n",
    "_ = plt.plot(X, Y, \"kx\", mew=2)"
   ]
  },
  {
   "cell_type": "code",
   "execution_count": null,
   "metadata": {},
   "outputs": [],
   "source": [
    "k = gpflow.kernels.Matern52()"
   ]
  },
  {
   "cell_type": "code",
   "execution_count": null,
   "metadata": {},
   "outputs": [],
   "source": [
    "print_summary(k)"
   ]
  },
  {
   "cell_type": "code",
   "execution_count": null,
   "metadata": {},
   "outputs": [],
   "source": [
    "m = gpflow.models.GPR(data=(X, Y), kernel=k, mean_function=None)"
   ]
  },
  {
   "cell_type": "code",
   "execution_count": null,
   "metadata": {},
   "outputs": [],
   "source": [
    "m.likelihood.variance.assign(0.01)\n",
    "m.kernel.lengthscales.assign(0.3)"
   ]
  },
  {
   "cell_type": "code",
   "execution_count": null,
   "metadata": {},
   "outputs": [],
   "source": [
    "opt = gpflow.optimizers.Scipy()"
   ]
  },
  {
   "cell_type": "code",
   "execution_count": null,
   "metadata": {},
   "outputs": [],
   "source": [
    "opt_logs = opt.minimize(m.training_loss, m.trainable_variables, options=dict(maxiter=100))\n",
    "print_summary(m)"
   ]
  },
  {
   "cell_type": "code",
   "execution_count": null,
   "metadata": {},
   "outputs": [],
   "source": [
    "X.shape, Y.shape"
   ]
  },
  {
   "cell_type": "code",
   "execution_count": null,
   "metadata": {},
   "outputs": [],
   "source": [
    "## generate test points for prediction\n",
    "xx = np.linspace(-2, 2, 100).reshape(100, 1)  # test points must be of shape (N, D)\n",
    "\n",
    "## predict mean and variance of latent GP at test points\n",
    "mean, var = m.predict_f(xx)\n",
    "\n",
    "## generate 10 samples from posterior\n",
    "tf.random.set_seed(1)  # for reproducibility\n",
    "samples = m.predict_f_samples(xx, 10)  # shape (10, 100, 1)\n",
    "\n",
    "## plot\n",
    "plt.figure(figsize=(12, 6))\n",
    "plt.plot(X, Y, \"kx\", mew=2)\n",
    "plt.plot(xx, mean, \"C2\", linestyle='none', marker='x')\n",
    "plt.fill_between(\n",
    "    xx[:, 0],\n",
    "    mean[:, 0] - 1.96 * np.sqrt(var[:, 0]),\n",
    "    mean[:, 0] + 1.96 * np.sqrt(var[:, 0]),\n",
    "    color=\"C3\",\n",
    "    alpha=0.2,\n",
    ")\n",
    "\n",
    "plt.plot(xx, samples[:, :, 0].numpy().T, \"C0\", linewidth=0.5)\n",
    "_ = plt.xlim(-2, 2)"
   ]
  },
  {
   "cell_type": "code",
   "execution_count": null,
   "metadata": {},
   "outputs": [],
   "source": [
    "mean"
   ]
  },
  {
   "cell_type": "code",
   "execution_count": null,
   "metadata": {},
   "outputs": [],
   "source": [
    "xx"
   ]
  },
  {
   "cell_type": "code",
   "execution_count": null,
   "metadata": {},
   "outputs": [],
   "source": []
  },
  {
   "cell_type": "code",
   "execution_count": null,
   "metadata": {},
   "outputs": [],
   "source": []
  },
  {
   "cell_type": "code",
   "execution_count": 76,
   "metadata": {},
   "outputs": [],
   "source": [
    "import pandas as pd\n",
    "import numpy as np"
   ]
  },
  {
   "cell_type": "code",
   "execution_count": 99,
   "metadata": {},
   "outputs": [],
   "source": [
    "metadata_pd = pd.read_csv(\"/Users/tallamjr/data/plasticc/training_set_metadata.csv\", sep=',', index_col='object_id')\n",
    "metadata_pd.index = metadata_pd.index.astype(str)\n",
    "metadata_pd['obj_id'] = metadata_pd.index  # it is useful to be able to call this column by name"
   ]
  },
  {
   "cell_type": "code",
   "execution_count": 100,
   "metadata": {},
   "outputs": [
    {
     "data": {
      "text/html": [
       "<div>\n",
       "<style scoped>\n",
       "    .dataframe tbody tr th:only-of-type {\n",
       "        vertical-align: middle;\n",
       "    }\n",
       "\n",
       "    .dataframe tbody tr th {\n",
       "        vertical-align: top;\n",
       "    }\n",
       "\n",
       "    .dataframe thead th {\n",
       "        text-align: right;\n",
       "    }\n",
       "</style>\n",
       "<table border=\"1\" class=\"dataframe\">\n",
       "  <thead>\n",
       "    <tr style=\"text-align: right;\">\n",
       "      <th></th>\n",
       "      <th>ra</th>\n",
       "      <th>decl</th>\n",
       "      <th>gal_l</th>\n",
       "      <th>gal_b</th>\n",
       "      <th>ddf</th>\n",
       "      <th>hostgal_specz</th>\n",
       "      <th>hostgal_photoz</th>\n",
       "      <th>hostgal_photoz_err</th>\n",
       "      <th>distmod</th>\n",
       "      <th>mwebv</th>\n",
       "      <th>target</th>\n",
       "      <th>obj_id</th>\n",
       "    </tr>\n",
       "    <tr>\n",
       "      <th>object_id</th>\n",
       "      <th></th>\n",
       "      <th></th>\n",
       "      <th></th>\n",
       "      <th></th>\n",
       "      <th></th>\n",
       "      <th></th>\n",
       "      <th></th>\n",
       "      <th></th>\n",
       "      <th></th>\n",
       "      <th></th>\n",
       "      <th></th>\n",
       "      <th></th>\n",
       "    </tr>\n",
       "  </thead>\n",
       "  <tbody>\n",
       "    <tr>\n",
       "      <th>615</th>\n",
       "      <td>349.046051</td>\n",
       "      <td>-61.943836</td>\n",
       "      <td>320.796530</td>\n",
       "      <td>-51.753706</td>\n",
       "      <td>1</td>\n",
       "      <td>0.0000</td>\n",
       "      <td>0.0000</td>\n",
       "      <td>0.0000</td>\n",
       "      <td>NaN</td>\n",
       "      <td>0.017</td>\n",
       "      <td>92</td>\n",
       "      <td>615</td>\n",
       "    </tr>\n",
       "    <tr>\n",
       "      <th>713</th>\n",
       "      <td>53.085938</td>\n",
       "      <td>-27.784405</td>\n",
       "      <td>223.525509</td>\n",
       "      <td>-54.460748</td>\n",
       "      <td>1</td>\n",
       "      <td>1.8181</td>\n",
       "      <td>1.6267</td>\n",
       "      <td>0.2552</td>\n",
       "      <td>45.4063</td>\n",
       "      <td>0.007</td>\n",
       "      <td>88</td>\n",
       "      <td>713</td>\n",
       "    </tr>\n",
       "    <tr>\n",
       "      <th>730</th>\n",
       "      <td>33.574219</td>\n",
       "      <td>-6.579593</td>\n",
       "      <td>170.455585</td>\n",
       "      <td>-61.548219</td>\n",
       "      <td>1</td>\n",
       "      <td>0.2320</td>\n",
       "      <td>0.2262</td>\n",
       "      <td>0.0157</td>\n",
       "      <td>40.2561</td>\n",
       "      <td>0.021</td>\n",
       "      <td>42</td>\n",
       "      <td>730</td>\n",
       "    </tr>\n",
       "    <tr>\n",
       "      <th>745</th>\n",
       "      <td>0.189873</td>\n",
       "      <td>-45.586655</td>\n",
       "      <td>328.254458</td>\n",
       "      <td>-68.969298</td>\n",
       "      <td>1</td>\n",
       "      <td>0.3037</td>\n",
       "      <td>0.2813</td>\n",
       "      <td>1.1523</td>\n",
       "      <td>40.7951</td>\n",
       "      <td>0.007</td>\n",
       "      <td>90</td>\n",
       "      <td>745</td>\n",
       "    </tr>\n",
       "    <tr>\n",
       "      <th>1124</th>\n",
       "      <td>352.711273</td>\n",
       "      <td>-63.823658</td>\n",
       "      <td>316.922299</td>\n",
       "      <td>-51.059403</td>\n",
       "      <td>1</td>\n",
       "      <td>0.1934</td>\n",
       "      <td>0.2415</td>\n",
       "      <td>0.0176</td>\n",
       "      <td>40.4166</td>\n",
       "      <td>0.024</td>\n",
       "      <td>90</td>\n",
       "      <td>1124</td>\n",
       "    </tr>\n",
       "  </tbody>\n",
       "</table>\n",
       "</div>"
      ],
      "text/plain": [
       "                   ra       decl       gal_l      gal_b  ddf  hostgal_specz  \\\n",
       "object_id                                                                     \n",
       "615        349.046051 -61.943836  320.796530 -51.753706    1         0.0000   \n",
       "713         53.085938 -27.784405  223.525509 -54.460748    1         1.8181   \n",
       "730         33.574219  -6.579593  170.455585 -61.548219    1         0.2320   \n",
       "745          0.189873 -45.586655  328.254458 -68.969298    1         0.3037   \n",
       "1124       352.711273 -63.823658  316.922299 -51.059403    1         0.1934   \n",
       "\n",
       "           hostgal_photoz  hostgal_photoz_err  distmod  mwebv  target obj_id  \n",
       "object_id                                                                     \n",
       "615                0.0000              0.0000      NaN  0.017      92    615  \n",
       "713                1.6267              0.2552  45.4063  0.007      88    713  \n",
       "730                0.2262              0.0157  40.2561  0.021      42    730  \n",
       "745                0.2813              1.1523  40.7951  0.007      90    745  \n",
       "1124               0.2415              0.0176  40.4166  0.024      90   1124  "
      ]
     },
     "execution_count": 100,
     "metadata": {},
     "output_type": "execute_result"
    }
   ],
   "source": [
    "metadata_pd.head()"
   ]
  },
  {
   "cell_type": "code",
   "execution_count": 109,
   "metadata": {},
   "outputs": [
    {
     "name": "stderr",
     "output_type": "stream",
     "text": [
      "/usr/local/anaconda3/envs/astronet/lib/python3.7/site-packages/ipykernel_launcher.py:1: SettingWithCopyWarning: \n",
      "A value is trying to be set on a copy of a slice from a DataFrame.\n",
      "Try using .loc[row_indexer,col_indexer] = value instead\n",
      "\n",
      "See the caveats in the documentation: https://pandas.pydata.org/pandas-docs/stable/user_guide/indexing.html#returning-a-view-versus-a-copy\n",
      "  \"\"\"Entry point for launching an IPython kernel.\n"
     ]
    }
   ],
   "source": [
    "df['object_id']=df['object_id'].astype(str)"
   ]
  },
  {
   "cell_type": "code",
   "execution_count": 113,
   "metadata": {},
   "outputs": [
    {
     "data": {
      "text/html": [
       "<div>\n",
       "<style scoped>\n",
       "    .dataframe tbody tr th:only-of-type {\n",
       "        vertical-align: middle;\n",
       "    }\n",
       "\n",
       "    .dataframe tbody tr th {\n",
       "        vertical-align: top;\n",
       "    }\n",
       "\n",
       "    .dataframe thead th {\n",
       "        text-align: right;\n",
       "    }\n",
       "</style>\n",
       "<table border=\"1\" class=\"dataframe\">\n",
       "  <thead>\n",
       "    <tr style=\"text-align: right;\">\n",
       "      <th></th>\n",
       "      <th>object_id</th>\n",
       "      <th>mjd</th>\n",
       "      <th>filter</th>\n",
       "      <th>flux</th>\n",
       "      <th>flux_error</th>\n",
       "      <th>detected</th>\n",
       "      <th>ra</th>\n",
       "      <th>decl</th>\n",
       "      <th>gal_l</th>\n",
       "      <th>gal_b</th>\n",
       "      <th>ddf</th>\n",
       "      <th>hostgal_specz</th>\n",
       "      <th>hostgal_photoz</th>\n",
       "      <th>hostgal_photoz_err</th>\n",
       "      <th>distmod</th>\n",
       "      <th>mwebv</th>\n",
       "      <th>target</th>\n",
       "      <th>obj_id</th>\n",
       "    </tr>\n",
       "  </thead>\n",
       "  <tbody>\n",
       "    <tr>\n",
       "      <th>0</th>\n",
       "      <td>730</td>\n",
       "      <td>60532.3019</td>\n",
       "      <td>lsstr</td>\n",
       "      <td>20.994711</td>\n",
       "      <td>1.047298</td>\n",
       "      <td>1</td>\n",
       "      <td>33.574219</td>\n",
       "      <td>-6.579593</td>\n",
       "      <td>170.455585</td>\n",
       "      <td>-61.548219</td>\n",
       "      <td>1</td>\n",
       "      <td>0.232</td>\n",
       "      <td>0.2262</td>\n",
       "      <td>0.0157</td>\n",
       "      <td>40.2561</td>\n",
       "      <td>0.021</td>\n",
       "      <td>42</td>\n",
       "      <td>730</td>\n",
       "    </tr>\n",
       "    <tr>\n",
       "      <th>1</th>\n",
       "      <td>730</td>\n",
       "      <td>60532.3173</td>\n",
       "      <td>lssti</td>\n",
       "      <td>31.523088</td>\n",
       "      <td>1.569497</td>\n",
       "      <td>1</td>\n",
       "      <td>33.574219</td>\n",
       "      <td>-6.579593</td>\n",
       "      <td>170.455585</td>\n",
       "      <td>-61.548219</td>\n",
       "      <td>1</td>\n",
       "      <td>0.232</td>\n",
       "      <td>0.2262</td>\n",
       "      <td>0.0157</td>\n",
       "      <td>40.2561</td>\n",
       "      <td>0.021</td>\n",
       "      <td>42</td>\n",
       "      <td>730</td>\n",
       "    </tr>\n",
       "    <tr>\n",
       "      <th>2</th>\n",
       "      <td>730</td>\n",
       "      <td>60532.3282</td>\n",
       "      <td>lsstz</td>\n",
       "      <td>41.159981</td>\n",
       "      <td>2.310168</td>\n",
       "      <td>1</td>\n",
       "      <td>33.574219</td>\n",
       "      <td>-6.579593</td>\n",
       "      <td>170.455585</td>\n",
       "      <td>-61.548219</td>\n",
       "      <td>1</td>\n",
       "      <td>0.232</td>\n",
       "      <td>0.2262</td>\n",
       "      <td>0.0157</td>\n",
       "      <td>40.2561</td>\n",
       "      <td>0.021</td>\n",
       "      <td>42</td>\n",
       "      <td>730</td>\n",
       "    </tr>\n",
       "    <tr>\n",
       "      <th>3</th>\n",
       "      <td>730</td>\n",
       "      <td>60532.3392</td>\n",
       "      <td>lssty</td>\n",
       "      <td>46.795868</td>\n",
       "      <td>5.458707</td>\n",
       "      <td>1</td>\n",
       "      <td>33.574219</td>\n",
       "      <td>-6.579593</td>\n",
       "      <td>170.455585</td>\n",
       "      <td>-61.548219</td>\n",
       "      <td>1</td>\n",
       "      <td>0.232</td>\n",
       "      <td>0.2262</td>\n",
       "      <td>0.0157</td>\n",
       "      <td>40.2561</td>\n",
       "      <td>0.021</td>\n",
       "      <td>42</td>\n",
       "      <td>730</td>\n",
       "    </tr>\n",
       "    <tr>\n",
       "      <th>4</th>\n",
       "      <td>730</td>\n",
       "      <td>60535.2957</td>\n",
       "      <td>lssti</td>\n",
       "      <td>30.361010</td>\n",
       "      <td>2.107024</td>\n",
       "      <td>1</td>\n",
       "      <td>33.574219</td>\n",
       "      <td>-6.579593</td>\n",
       "      <td>170.455585</td>\n",
       "      <td>-61.548219</td>\n",
       "      <td>1</td>\n",
       "      <td>0.232</td>\n",
       "      <td>0.2262</td>\n",
       "      <td>0.0157</td>\n",
       "      <td>40.2561</td>\n",
       "      <td>0.021</td>\n",
       "      <td>42</td>\n",
       "      <td>730</td>\n",
       "    </tr>\n",
       "  </tbody>\n",
       "</table>\n",
       "</div>"
      ],
      "text/plain": [
       "  object_id         mjd filter       flux  flux_error  detected         ra  \\\n",
       "0       730  60532.3019  lsstr  20.994711    1.047298         1  33.574219   \n",
       "1       730  60532.3173  lssti  31.523088    1.569497         1  33.574219   \n",
       "2       730  60532.3282  lsstz  41.159981    2.310168         1  33.574219   \n",
       "3       730  60532.3392  lssty  46.795868    5.458707         1  33.574219   \n",
       "4       730  60535.2957  lssti  30.361010    2.107024         1  33.574219   \n",
       "\n",
       "       decl       gal_l      gal_b  ddf  hostgal_specz  hostgal_photoz  \\\n",
       "0 -6.579593  170.455585 -61.548219    1          0.232          0.2262   \n",
       "1 -6.579593  170.455585 -61.548219    1          0.232          0.2262   \n",
       "2 -6.579593  170.455585 -61.548219    1          0.232          0.2262   \n",
       "3 -6.579593  170.455585 -61.548219    1          0.232          0.2262   \n",
       "4 -6.579593  170.455585 -61.548219    1          0.232          0.2262   \n",
       "\n",
       "   hostgal_photoz_err  distmod  mwebv  target obj_id  \n",
       "0              0.0157  40.2561  0.021      42    730  \n",
       "1              0.0157  40.2561  0.021      42    730  \n",
       "2              0.0157  40.2561  0.021      42    730  \n",
       "3              0.0157  40.2561  0.021      42    730  \n",
       "4              0.0157  40.2561  0.021      42    730  "
      ]
     },
     "execution_count": 113,
     "metadata": {},
     "output_type": "execute_result"
    }
   ],
   "source": [
    "df_combi = df.merge(metadata_pd, on='object_id', how='left')\n",
    "df_combi.head()"
   ]
  },
  {
   "cell_type": "code",
   "execution_count": 117,
   "metadata": {},
   "outputs": [
    {
     "data": {
      "text/html": [
       "<div>\n",
       "<style scoped>\n",
       "    .dataframe tbody tr th:only-of-type {\n",
       "        vertical-align: middle;\n",
       "    }\n",
       "\n",
       "    .dataframe tbody tr th {\n",
       "        vertical-align: top;\n",
       "    }\n",
       "\n",
       "    .dataframe thead th {\n",
       "        text-align: right;\n",
       "    }\n",
       "</style>\n",
       "<table border=\"1\" class=\"dataframe\">\n",
       "  <thead>\n",
       "    <tr style=\"text-align: right;\">\n",
       "      <th></th>\n",
       "      <th>object_id</th>\n",
       "      <th>mjd</th>\n",
       "      <th>filter</th>\n",
       "      <th>flux</th>\n",
       "      <th>flux_error</th>\n",
       "      <th>target</th>\n",
       "    </tr>\n",
       "  </thead>\n",
       "  <tbody>\n",
       "    <tr>\n",
       "      <th>0</th>\n",
       "      <td>730</td>\n",
       "      <td>60532.3019</td>\n",
       "      <td>lsstr</td>\n",
       "      <td>20.994711</td>\n",
       "      <td>1.047298</td>\n",
       "      <td>42</td>\n",
       "    </tr>\n",
       "    <tr>\n",
       "      <th>1</th>\n",
       "      <td>730</td>\n",
       "      <td>60532.3173</td>\n",
       "      <td>lssti</td>\n",
       "      <td>31.523088</td>\n",
       "      <td>1.569497</td>\n",
       "      <td>42</td>\n",
       "    </tr>\n",
       "    <tr>\n",
       "      <th>2</th>\n",
       "      <td>730</td>\n",
       "      <td>60532.3282</td>\n",
       "      <td>lsstz</td>\n",
       "      <td>41.159981</td>\n",
       "      <td>2.310168</td>\n",
       "      <td>42</td>\n",
       "    </tr>\n",
       "    <tr>\n",
       "      <th>3</th>\n",
       "      <td>730</td>\n",
       "      <td>60532.3392</td>\n",
       "      <td>lssty</td>\n",
       "      <td>46.795868</td>\n",
       "      <td>5.458707</td>\n",
       "      <td>42</td>\n",
       "    </tr>\n",
       "    <tr>\n",
       "      <th>4</th>\n",
       "      <td>730</td>\n",
       "      <td>60535.2957</td>\n",
       "      <td>lssti</td>\n",
       "      <td>30.361010</td>\n",
       "      <td>2.107024</td>\n",
       "      <td>42</td>\n",
       "    </tr>\n",
       "  </tbody>\n",
       "</table>\n",
       "</div>"
      ],
      "text/plain": [
       "  object_id         mjd filter       flux  flux_error  target\n",
       "0       730  60532.3019  lsstr  20.994711    1.047298      42\n",
       "1       730  60532.3173  lssti  31.523088    1.569497      42\n",
       "2       730  60532.3282  lsstz  41.159981    2.310168      42\n",
       "3       730  60532.3392  lssty  46.795868    5.458707      42\n",
       "4       730  60535.2957  lssti  30.361010    2.107024      42"
      ]
     },
     "execution_count": 117,
     "metadata": {},
     "output_type": "execute_result"
    }
   ],
   "source": [
    "df_combi_trimmed = df_combi.drop(columns=[\"detected\", \"ra\", \"decl\", \"gal_l\", \"gal_b\", \"ddf\", \"hostgal_specz\", \"hostgal_photoz\", \"hostgal_photoz_err\", \"distmod\", \"mwebv\", \"obj_id\"])\n",
    "df_combi_trimmed.head()"
   ]
  },
  {
   "cell_type": "code",
   "execution_count": 118,
   "metadata": {},
   "outputs": [
    {
     "data": {
      "text/html": [
       "<div>\n",
       "<style scoped>\n",
       "    .dataframe tbody tr th:only-of-type {\n",
       "        vertical-align: middle;\n",
       "    }\n",
       "\n",
       "    .dataframe tbody tr th {\n",
       "        vertical-align: top;\n",
       "    }\n",
       "\n",
       "    .dataframe thead th {\n",
       "        text-align: right;\n",
       "    }\n",
       "</style>\n",
       "<table border=\"1\" class=\"dataframe\">\n",
       "  <thead>\n",
       "    <tr style=\"text-align: right;\">\n",
       "      <th></th>\n",
       "      <th>object_id</th>\n",
       "      <th>mjd</th>\n",
       "      <th>filter</th>\n",
       "      <th>flux</th>\n",
       "      <th>flux_error</th>\n",
       "      <th>detected</th>\n",
       "    </tr>\n",
       "  </thead>\n",
       "  <tbody>\n",
       "    <tr>\n",
       "      <th>924</th>\n",
       "      <td>730</td>\n",
       "      <td>60532.3019</td>\n",
       "      <td>lsstr</td>\n",
       "      <td>20.994711</td>\n",
       "      <td>1.047298</td>\n",
       "      <td>1</td>\n",
       "    </tr>\n",
       "    <tr>\n",
       "      <th>926</th>\n",
       "      <td>730</td>\n",
       "      <td>60532.3173</td>\n",
       "      <td>lssti</td>\n",
       "      <td>31.523088</td>\n",
       "      <td>1.569497</td>\n",
       "      <td>1</td>\n",
       "    </tr>\n",
       "    <tr>\n",
       "      <th>927</th>\n",
       "      <td>730</td>\n",
       "      <td>60532.3282</td>\n",
       "      <td>lsstz</td>\n",
       "      <td>41.159981</td>\n",
       "      <td>2.310168</td>\n",
       "      <td>1</td>\n",
       "    </tr>\n",
       "    <tr>\n",
       "      <th>928</th>\n",
       "      <td>730</td>\n",
       "      <td>60532.3392</td>\n",
       "      <td>lssty</td>\n",
       "      <td>46.795868</td>\n",
       "      <td>5.458707</td>\n",
       "      <td>1</td>\n",
       "    </tr>\n",
       "    <tr>\n",
       "      <th>931</th>\n",
       "      <td>730</td>\n",
       "      <td>60535.2957</td>\n",
       "      <td>lssti</td>\n",
       "      <td>30.361010</td>\n",
       "      <td>2.107024</td>\n",
       "      <td>1</td>\n",
       "    </tr>\n",
       "  </tbody>\n",
       "</table>\n",
       "</div>"
      ],
      "text/plain": [
       "    object_id         mjd filter       flux  flux_error  detected\n",
       "924       730  60532.3019  lsstr  20.994711    1.047298         1\n",
       "926       730  60532.3173  lssti  31.523088    1.569497         1\n",
       "927       730  60532.3282  lsstz  41.159981    2.310168         1\n",
       "928       730  60532.3392  lssty  46.795868    5.458707         1\n",
       "931       730  60535.2957  lssti  30.361010    2.107024         1"
      ]
     },
     "execution_count": 118,
     "metadata": {},
     "output_type": "execute_result"
    }
   ],
   "source": [
    "df.head()"
   ]
  },
  {
   "cell_type": "code",
   "execution_count": 146,
   "metadata": {},
   "outputs": [],
   "source": [
    "object_list = list(np.unique(df['object_id']))"
   ]
  },
  {
   "cell_type": "code",
   "execution_count": null,
   "metadata": {},
   "outputs": [],
   "source": []
  },
  {
   "cell_type": "code",
   "execution_count": null,
   "metadata": {},
   "outputs": [],
   "source": []
  },
  {
   "cell_type": "code",
   "execution_count": null,
   "metadata": {},
   "outputs": [],
   "source": []
  },
  {
   "cell_type": "code",
   "execution_count": null,
   "metadata": {},
   "outputs": [],
   "source": []
  },
  {
   "cell_type": "code",
   "execution_count": null,
   "metadata": {},
   "outputs": [],
   "source": []
  },
  {
   "cell_type": "code",
   "execution_count": 120,
   "metadata": {},
   "outputs": [
    {
     "data": {
      "text/plain": [
       "(1421705, 6)"
      ]
     },
     "execution_count": 120,
     "metadata": {},
     "output_type": "execute_result"
    }
   ],
   "source": [
    "data = pd.read_csv(\"~/data/plasticc/training_set.csv\", sep=',')\n",
    "data.shape"
   ]
  },
  {
   "cell_type": "code",
   "execution_count": 121,
   "metadata": {},
   "outputs": [],
   "source": [
    "data = data.loc[data.detected == 1]  # Update dataframe with only detected points"
   ]
  },
  {
   "cell_type": "code",
   "execution_count": 122,
   "metadata": {},
   "outputs": [
    {
     "data": {
      "text/plain": [
       "(236880, 6)"
      ]
     },
     "execution_count": 122,
     "metadata": {},
     "output_type": "execute_result"
    }
   ],
   "source": [
    "data.shape"
   ]
  },
  {
   "cell_type": "code",
   "execution_count": 123,
   "metadata": {},
   "outputs": [],
   "source": [
    "def remap_filters(df):  # maybe not in snmachine (raise issue/channel)\n",
    "    \"\"\"Function to remap integer filters to the corresponding lsst filters and\n",
    "    also to set filter name syntax to what snmachine already recognizes\n",
    "\n",
    "    df: pandas.dataframe\n",
    "        Dataframe of lightcurve observations\n",
    "    \"\"\"\n",
    "    df.rename({'passband': 'filter'}, axis='columns', inplace=True)\n",
    "    filter_replace = {0: 'lsstu', 1: 'lsstg', 2: 'lsstr', 3: 'lssti',\n",
    "                      4: 'lsstz', 5: 'lssty'}\n",
    "    df['filter'].replace(to_replace=filter_replace, inplace=True)\n",
    "    return df\n"
   ]
  },
  {
   "cell_type": "code",
   "execution_count": 124,
   "metadata": {},
   "outputs": [
    {
     "data": {
      "text/html": [
       "<div>\n",
       "<style scoped>\n",
       "    .dataframe tbody tr th:only-of-type {\n",
       "        vertical-align: middle;\n",
       "    }\n",
       "\n",
       "    .dataframe tbody tr th {\n",
       "        vertical-align: top;\n",
       "    }\n",
       "\n",
       "    .dataframe thead th {\n",
       "        text-align: right;\n",
       "    }\n",
       "</style>\n",
       "<table border=\"1\" class=\"dataframe\">\n",
       "  <thead>\n",
       "    <tr style=\"text-align: right;\">\n",
       "      <th></th>\n",
       "      <th>object_id</th>\n",
       "      <th>mjd</th>\n",
       "      <th>filter</th>\n",
       "      <th>flux</th>\n",
       "      <th>flux_error</th>\n",
       "      <th>detected</th>\n",
       "    </tr>\n",
       "  </thead>\n",
       "  <tbody>\n",
       "    <tr>\n",
       "      <th>0</th>\n",
       "      <td>615</td>\n",
       "      <td>59750.4229</td>\n",
       "      <td>lsstr</td>\n",
       "      <td>-544.810303</td>\n",
       "      <td>3.622952</td>\n",
       "      <td>1</td>\n",
       "    </tr>\n",
       "    <tr>\n",
       "      <th>1</th>\n",
       "      <td>615</td>\n",
       "      <td>59750.4306</td>\n",
       "      <td>lsstg</td>\n",
       "      <td>-816.434326</td>\n",
       "      <td>5.553370</td>\n",
       "      <td>1</td>\n",
       "    </tr>\n",
       "    <tr>\n",
       "      <th>2</th>\n",
       "      <td>615</td>\n",
       "      <td>59750.4383</td>\n",
       "      <td>lssti</td>\n",
       "      <td>-471.385529</td>\n",
       "      <td>3.801213</td>\n",
       "      <td>1</td>\n",
       "    </tr>\n",
       "    <tr>\n",
       "      <th>3</th>\n",
       "      <td>615</td>\n",
       "      <td>59750.4450</td>\n",
       "      <td>lsstz</td>\n",
       "      <td>-388.984985</td>\n",
       "      <td>11.395031</td>\n",
       "      <td>1</td>\n",
       "    </tr>\n",
       "    <tr>\n",
       "      <th>4</th>\n",
       "      <td>615</td>\n",
       "      <td>59752.4070</td>\n",
       "      <td>lsstr</td>\n",
       "      <td>-681.858887</td>\n",
       "      <td>4.041204</td>\n",
       "      <td>1</td>\n",
       "    </tr>\n",
       "  </tbody>\n",
       "</table>\n",
       "</div>"
      ],
      "text/plain": [
       "   object_id         mjd filter        flux  flux_error  detected\n",
       "0        615  59750.4229  lsstr -544.810303    3.622952         1\n",
       "1        615  59750.4306  lsstg -816.434326    5.553370         1\n",
       "2        615  59750.4383  lssti -471.385529    3.801213         1\n",
       "3        615  59750.4450  lsstz -388.984985   11.395031         1\n",
       "4        615  59752.4070  lsstr -681.858887    4.041204         1"
      ]
     },
     "execution_count": 124,
     "metadata": {},
     "output_type": "execute_result"
    }
   ],
   "source": [
    "data = remap_filters(df=data)\n",
    "data.rename({'flux_err': 'flux_error'}, axis='columns', inplace=True)  # snmachine and PLAsTiCC uses a different denomination\n",
    "data.head()"
   ]
  },
  {
   "cell_type": "code",
   "execution_count": 125,
   "metadata": {},
   "outputs": [],
   "source": [
    "import re\n",
    "# Abstract column names from dataset\n",
    "for col in data.columns:\n",
    "    if re.search('mjd', col):  # catches the column that has `mjd` in its name\n",
    "        data.mjd_col = col\n",
    "    if re.search('id', col):  # catches the column that has `id` in its name\n",
    "        data.id_col = col"
   ]
  },
  {
   "cell_type": "code",
   "execution_count": 126,
   "metadata": {},
   "outputs": [
    {
     "data": {
      "text/plain": [
       "'object_id'"
      ]
     },
     "execution_count": 126,
     "metadata": {},
     "output_type": "execute_result"
    }
   ],
   "source": [
    "data.id_col"
   ]
  },
  {
   "cell_type": "code",
   "execution_count": 127,
   "metadata": {},
   "outputs": [],
   "source": [
    "number_invalid_objs = 0  # Some objects may have empty data\n",
    "number_objs = len(data[data.id_col].unique())\n",
    "object_names = []"
   ]
  },
  {
   "cell_type": "code",
   "execution_count": 128,
   "metadata": {},
   "outputs": [
    {
     "data": {
      "text/html": [
       "<div>\n",
       "<style scoped>\n",
       "    .dataframe tbody tr th:only-of-type {\n",
       "        vertical-align: middle;\n",
       "    }\n",
       "\n",
       "    .dataframe tbody tr th {\n",
       "        vertical-align: top;\n",
       "    }\n",
       "\n",
       "    .dataframe thead th {\n",
       "        text-align: right;\n",
       "    }\n",
       "</style>\n",
       "<table border=\"1\" class=\"dataframe\">\n",
       "  <thead>\n",
       "    <tr style=\"text-align: right;\">\n",
       "      <th></th>\n",
       "      <th>object_id</th>\n",
       "      <th>mjd</th>\n",
       "      <th>filter</th>\n",
       "      <th>flux</th>\n",
       "      <th>flux_error</th>\n",
       "      <th>detected</th>\n",
       "    </tr>\n",
       "  </thead>\n",
       "  <tbody>\n",
       "    <tr>\n",
       "      <th>0</th>\n",
       "      <td>615</td>\n",
       "      <td>59750.4229</td>\n",
       "      <td>lsstr</td>\n",
       "      <td>-544.810303</td>\n",
       "      <td>3.622952</td>\n",
       "      <td>1</td>\n",
       "    </tr>\n",
       "    <tr>\n",
       "      <th>1</th>\n",
       "      <td>615</td>\n",
       "      <td>59750.4306</td>\n",
       "      <td>lsstg</td>\n",
       "      <td>-816.434326</td>\n",
       "      <td>5.553370</td>\n",
       "      <td>1</td>\n",
       "    </tr>\n",
       "    <tr>\n",
       "      <th>2</th>\n",
       "      <td>615</td>\n",
       "      <td>59750.4383</td>\n",
       "      <td>lssti</td>\n",
       "      <td>-471.385529</td>\n",
       "      <td>3.801213</td>\n",
       "      <td>1</td>\n",
       "    </tr>\n",
       "    <tr>\n",
       "      <th>3</th>\n",
       "      <td>615</td>\n",
       "      <td>59750.4450</td>\n",
       "      <td>lsstz</td>\n",
       "      <td>-388.984985</td>\n",
       "      <td>11.395031</td>\n",
       "      <td>1</td>\n",
       "    </tr>\n",
       "    <tr>\n",
       "      <th>4</th>\n",
       "      <td>615</td>\n",
       "      <td>59752.4070</td>\n",
       "      <td>lsstr</td>\n",
       "      <td>-681.858887</td>\n",
       "      <td>4.041204</td>\n",
       "      <td>1</td>\n",
       "    </tr>\n",
       "    <tr>\n",
       "      <th>...</th>\n",
       "      <td>...</td>\n",
       "      <td>...</td>\n",
       "      <td>...</td>\n",
       "      <td>...</td>\n",
       "      <td>...</td>\n",
       "      <td>...</td>\n",
       "    </tr>\n",
       "    <tr>\n",
       "      <th>1421641</th>\n",
       "      <td>130779836</td>\n",
       "      <td>60133.3766</td>\n",
       "      <td>lssti</td>\n",
       "      <td>304.545258</td>\n",
       "      <td>28.338671</td>\n",
       "      <td>1</td>\n",
       "    </tr>\n",
       "    <tr>\n",
       "      <th>1421642</th>\n",
       "      <td>130779836</td>\n",
       "      <td>60137.1041</td>\n",
       "      <td>lssti</td>\n",
       "      <td>305.615570</td>\n",
       "      <td>28.171988</td>\n",
       "      <td>1</td>\n",
       "    </tr>\n",
       "    <tr>\n",
       "      <th>1421643</th>\n",
       "      <td>130779836</td>\n",
       "      <td>60138.1329</td>\n",
       "      <td>lssti</td>\n",
       "      <td>270.237976</td>\n",
       "      <td>28.013514</td>\n",
       "      <td>1</td>\n",
       "    </tr>\n",
       "    <tr>\n",
       "      <th>1421645</th>\n",
       "      <td>130779836</td>\n",
       "      <td>60142.1321</td>\n",
       "      <td>lssti</td>\n",
       "      <td>276.659332</td>\n",
       "      <td>27.884199</td>\n",
       "      <td>1</td>\n",
       "    </tr>\n",
       "    <tr>\n",
       "      <th>1421649</th>\n",
       "      <td>130779836</td>\n",
       "      <td>60159.0981</td>\n",
       "      <td>lssty</td>\n",
       "      <td>183.245865</td>\n",
       "      <td>29.652933</td>\n",
       "      <td>1</td>\n",
       "    </tr>\n",
       "  </tbody>\n",
       "</table>\n",
       "<p>236880 rows × 6 columns</p>\n",
       "</div>"
      ],
      "text/plain": [
       "         object_id         mjd filter        flux  flux_error  detected\n",
       "0              615  59750.4229  lsstr -544.810303    3.622952         1\n",
       "1              615  59750.4306  lsstg -816.434326    5.553370         1\n",
       "2              615  59750.4383  lssti -471.385529    3.801213         1\n",
       "3              615  59750.4450  lsstz -388.984985   11.395031         1\n",
       "4              615  59752.4070  lsstr -681.858887    4.041204         1\n",
       "...            ...         ...    ...         ...         ...       ...\n",
       "1421641  130779836  60133.3766  lssti  304.545258   28.338671         1\n",
       "1421642  130779836  60137.1041  lssti  305.615570   28.171988         1\n",
       "1421643  130779836  60138.1329  lssti  270.237976   28.013514         1\n",
       "1421645  130779836  60142.1321  lssti  276.659332   27.884199         1\n",
       "1421649  130779836  60159.0981  lssty  183.245865   29.652933         1\n",
       "\n",
       "[236880 rows x 6 columns]"
      ]
     },
     "execution_count": 128,
     "metadata": {},
     "output_type": "execute_result"
    }
   ],
   "source": [
    "data"
   ]
  },
  {
   "cell_type": "code",
   "execution_count": 129,
   "metadata": {},
   "outputs": [],
   "source": [
    "import matplotlib.pyplot as plt\n",
    "%matplotlib inline"
   ]
  },
  {
   "cell_type": "code",
   "execution_count": 130,
   "metadata": {},
   "outputs": [
    {
     "data": {
      "text/html": [
       "<div>\n",
       "<style scoped>\n",
       "    .dataframe tbody tr th:only-of-type {\n",
       "        vertical-align: middle;\n",
       "    }\n",
       "\n",
       "    .dataframe tbody tr th {\n",
       "        vertical-align: top;\n",
       "    }\n",
       "\n",
       "    .dataframe thead th {\n",
       "        text-align: right;\n",
       "    }\n",
       "</style>\n",
       "<table border=\"1\" class=\"dataframe\">\n",
       "  <thead>\n",
       "    <tr style=\"text-align: right;\">\n",
       "      <th></th>\n",
       "      <th>object_id</th>\n",
       "      <th>mjd</th>\n",
       "      <th>filter</th>\n",
       "      <th>flux</th>\n",
       "      <th>flux_error</th>\n",
       "      <th>detected</th>\n",
       "    </tr>\n",
       "  </thead>\n",
       "  <tbody>\n",
       "    <tr>\n",
       "      <th>0</th>\n",
       "      <td>615</td>\n",
       "      <td>59750.4229</td>\n",
       "      <td>lsstr</td>\n",
       "      <td>-544.810303</td>\n",
       "      <td>3.622952</td>\n",
       "      <td>1</td>\n",
       "    </tr>\n",
       "    <tr>\n",
       "      <th>1</th>\n",
       "      <td>615</td>\n",
       "      <td>59750.4306</td>\n",
       "      <td>lsstg</td>\n",
       "      <td>-816.434326</td>\n",
       "      <td>5.553370</td>\n",
       "      <td>1</td>\n",
       "    </tr>\n",
       "    <tr>\n",
       "      <th>2</th>\n",
       "      <td>615</td>\n",
       "      <td>59750.4383</td>\n",
       "      <td>lssti</td>\n",
       "      <td>-471.385529</td>\n",
       "      <td>3.801213</td>\n",
       "      <td>1</td>\n",
       "    </tr>\n",
       "    <tr>\n",
       "      <th>3</th>\n",
       "      <td>615</td>\n",
       "      <td>59750.4450</td>\n",
       "      <td>lsstz</td>\n",
       "      <td>-388.984985</td>\n",
       "      <td>11.395031</td>\n",
       "      <td>1</td>\n",
       "    </tr>\n",
       "    <tr>\n",
       "      <th>4</th>\n",
       "      <td>615</td>\n",
       "      <td>59752.4070</td>\n",
       "      <td>lsstr</td>\n",
       "      <td>-681.858887</td>\n",
       "      <td>4.041204</td>\n",
       "      <td>1</td>\n",
       "    </tr>\n",
       "  </tbody>\n",
       "</table>\n",
       "</div>"
      ],
      "text/plain": [
       "   object_id         mjd filter        flux  flux_error  detected\n",
       "0        615  59750.4229  lsstr -544.810303    3.622952         1\n",
       "1        615  59750.4306  lsstg -816.434326    5.553370         1\n",
       "2        615  59750.4383  lssti -471.385529    3.801213         1\n",
       "3        615  59750.4450  lsstz -388.984985   11.395031         1\n",
       "4        615  59752.4070  lsstr -681.858887    4.041204         1"
      ]
     },
     "execution_count": 130,
     "metadata": {},
     "output_type": "execute_result"
    }
   ],
   "source": [
    "data.head()"
   ]
  },
  {
   "cell_type": "code",
   "execution_count": 131,
   "metadata": {},
   "outputs": [
    {
     "data": {
      "text/plain": [
       "['lsstg', 'lssti', 'lsstr', 'lsstu', 'lssty', 'lsstz']"
      ]
     },
     "execution_count": 131,
     "metadata": {},
     "output_type": "execute_result"
    }
   ],
   "source": [
    "filters = data['filter']\n",
    "filters = list(np.unique(filters))\n",
    "filters"
   ]
  },
  {
   "cell_type": "code",
   "execution_count": 132,
   "metadata": {},
   "outputs": [
    {
     "data": {
      "text/html": [
       "<div>\n",
       "<style scoped>\n",
       "    .dataframe tbody tr th:only-of-type {\n",
       "        vertical-align: middle;\n",
       "    }\n",
       "\n",
       "    .dataframe tbody tr th {\n",
       "        vertical-align: top;\n",
       "    }\n",
       "\n",
       "    .dataframe thead th {\n",
       "        text-align: right;\n",
       "    }\n",
       "</style>\n",
       "<table border=\"1\" class=\"dataframe\">\n",
       "  <thead>\n",
       "    <tr style=\"text-align: right;\">\n",
       "      <th></th>\n",
       "      <th>object_id</th>\n",
       "      <th>mjd</th>\n",
       "      <th>filter</th>\n",
       "      <th>flux</th>\n",
       "      <th>flux_error</th>\n",
       "      <th>detected</th>\n",
       "    </tr>\n",
       "  </thead>\n",
       "  <tbody>\n",
       "    <tr>\n",
       "      <th>0</th>\n",
       "      <td>615</td>\n",
       "      <td>59750.4229</td>\n",
       "      <td>lsstr</td>\n",
       "      <td>-544.810303</td>\n",
       "      <td>3.622952</td>\n",
       "      <td>1</td>\n",
       "    </tr>\n",
       "    <tr>\n",
       "      <th>1</th>\n",
       "      <td>615</td>\n",
       "      <td>59750.4306</td>\n",
       "      <td>lsstg</td>\n",
       "      <td>-816.434326</td>\n",
       "      <td>5.553370</td>\n",
       "      <td>1</td>\n",
       "    </tr>\n",
       "    <tr>\n",
       "      <th>2</th>\n",
       "      <td>615</td>\n",
       "      <td>59750.4383</td>\n",
       "      <td>lssti</td>\n",
       "      <td>-471.385529</td>\n",
       "      <td>3.801213</td>\n",
       "      <td>1</td>\n",
       "    </tr>\n",
       "    <tr>\n",
       "      <th>3</th>\n",
       "      <td>615</td>\n",
       "      <td>59750.4450</td>\n",
       "      <td>lsstz</td>\n",
       "      <td>-388.984985</td>\n",
       "      <td>11.395031</td>\n",
       "      <td>1</td>\n",
       "    </tr>\n",
       "    <tr>\n",
       "      <th>4</th>\n",
       "      <td>615</td>\n",
       "      <td>59752.4070</td>\n",
       "      <td>lsstr</td>\n",
       "      <td>-681.858887</td>\n",
       "      <td>4.041204</td>\n",
       "      <td>1</td>\n",
       "    </tr>\n",
       "    <tr>\n",
       "      <th>...</th>\n",
       "      <td>...</td>\n",
       "      <td>...</td>\n",
       "      <td>...</td>\n",
       "      <td>...</td>\n",
       "      <td>...</td>\n",
       "      <td>...</td>\n",
       "    </tr>\n",
       "    <tr>\n",
       "      <th>1421641</th>\n",
       "      <td>130779836</td>\n",
       "      <td>60133.3766</td>\n",
       "      <td>lssti</td>\n",
       "      <td>304.545258</td>\n",
       "      <td>28.338671</td>\n",
       "      <td>1</td>\n",
       "    </tr>\n",
       "    <tr>\n",
       "      <th>1421642</th>\n",
       "      <td>130779836</td>\n",
       "      <td>60137.1041</td>\n",
       "      <td>lssti</td>\n",
       "      <td>305.615570</td>\n",
       "      <td>28.171988</td>\n",
       "      <td>1</td>\n",
       "    </tr>\n",
       "    <tr>\n",
       "      <th>1421643</th>\n",
       "      <td>130779836</td>\n",
       "      <td>60138.1329</td>\n",
       "      <td>lssti</td>\n",
       "      <td>270.237976</td>\n",
       "      <td>28.013514</td>\n",
       "      <td>1</td>\n",
       "    </tr>\n",
       "    <tr>\n",
       "      <th>1421645</th>\n",
       "      <td>130779836</td>\n",
       "      <td>60142.1321</td>\n",
       "      <td>lssti</td>\n",
       "      <td>276.659332</td>\n",
       "      <td>27.884199</td>\n",
       "      <td>1</td>\n",
       "    </tr>\n",
       "    <tr>\n",
       "      <th>1421649</th>\n",
       "      <td>130779836</td>\n",
       "      <td>60159.0981</td>\n",
       "      <td>lssty</td>\n",
       "      <td>183.245865</td>\n",
       "      <td>29.652933</td>\n",
       "      <td>1</td>\n",
       "    </tr>\n",
       "  </tbody>\n",
       "</table>\n",
       "<p>236880 rows × 6 columns</p>\n",
       "</div>"
      ],
      "text/plain": [
       "         object_id         mjd filter        flux  flux_error  detected\n",
       "0              615  59750.4229  lsstr -544.810303    3.622952         1\n",
       "1              615  59750.4306  lsstg -816.434326    5.553370         1\n",
       "2              615  59750.4383  lssti -471.385529    3.801213         1\n",
       "3              615  59750.4450  lsstz -388.984985   11.395031         1\n",
       "4              615  59752.4070  lsstr -681.858887    4.041204         1\n",
       "...            ...         ...    ...         ...         ...       ...\n",
       "1421641  130779836  60133.3766  lssti  304.545258   28.338671         1\n",
       "1421642  130779836  60137.1041  lssti  305.615570   28.171988         1\n",
       "1421643  130779836  60138.1329  lssti  270.237976   28.013514         1\n",
       "1421645  130779836  60142.1321  lssti  276.659332   27.884199         1\n",
       "1421649  130779836  60159.0981  lssty  183.245865   29.652933         1\n",
       "\n",
       "[236880 rows x 6 columns]"
      ]
     },
     "execution_count": 132,
     "metadata": {},
     "output_type": "execute_result"
    }
   ],
   "source": [
    "data"
   ]
  },
  {
   "cell_type": "code",
   "execution_count": 133,
   "metadata": {},
   "outputs": [],
   "source": [
    "def filter_dataframe(object_list_filename, dataframe):\n",
    "\n",
    "    plasticc_object_list = np.genfromtxt(object_list_filename, dtype='U')\n",
    "    print(len(plasticc_object_list))\n",
    "    print(dataframe.shape)\n",
    "    filtered_dataframe = dataframe[dataframe['object_id'].isin(plasticc_object_list)]\n",
    "    return filtered_dataframe"
   ]
  },
  {
   "cell_type": "code",
   "execution_count": 134,
   "metadata": {},
   "outputs": [
    {
     "data": {
      "text/html": [
       "<div>\n",
       "<style scoped>\n",
       "    .dataframe tbody tr th:only-of-type {\n",
       "        vertical-align: middle;\n",
       "    }\n",
       "\n",
       "    .dataframe tbody tr th {\n",
       "        vertical-align: top;\n",
       "    }\n",
       "\n",
       "    .dataframe thead th {\n",
       "        text-align: right;\n",
       "    }\n",
       "</style>\n",
       "<table border=\"1\" class=\"dataframe\">\n",
       "  <thead>\n",
       "    <tr style=\"text-align: right;\">\n",
       "      <th></th>\n",
       "      <th>object_id</th>\n",
       "      <th>mjd</th>\n",
       "      <th>filter</th>\n",
       "      <th>flux</th>\n",
       "      <th>flux_error</th>\n",
       "      <th>detected</th>\n",
       "    </tr>\n",
       "  </thead>\n",
       "  <tbody>\n",
       "    <tr>\n",
       "      <th>0</th>\n",
       "      <td>615</td>\n",
       "      <td>59750.4229</td>\n",
       "      <td>lsstr</td>\n",
       "      <td>-544.810303</td>\n",
       "      <td>3.622952</td>\n",
       "      <td>1</td>\n",
       "    </tr>\n",
       "    <tr>\n",
       "      <th>1</th>\n",
       "      <td>615</td>\n",
       "      <td>59750.4306</td>\n",
       "      <td>lsstg</td>\n",
       "      <td>-816.434326</td>\n",
       "      <td>5.553370</td>\n",
       "      <td>1</td>\n",
       "    </tr>\n",
       "    <tr>\n",
       "      <th>2</th>\n",
       "      <td>615</td>\n",
       "      <td>59750.4383</td>\n",
       "      <td>lssti</td>\n",
       "      <td>-471.385529</td>\n",
       "      <td>3.801213</td>\n",
       "      <td>1</td>\n",
       "    </tr>\n",
       "    <tr>\n",
       "      <th>3</th>\n",
       "      <td>615</td>\n",
       "      <td>59750.4450</td>\n",
       "      <td>lsstz</td>\n",
       "      <td>-388.984985</td>\n",
       "      <td>11.395031</td>\n",
       "      <td>1</td>\n",
       "    </tr>\n",
       "    <tr>\n",
       "      <th>4</th>\n",
       "      <td>615</td>\n",
       "      <td>59752.4070</td>\n",
       "      <td>lsstr</td>\n",
       "      <td>-681.858887</td>\n",
       "      <td>4.041204</td>\n",
       "      <td>1</td>\n",
       "    </tr>\n",
       "  </tbody>\n",
       "</table>\n",
       "</div>"
      ],
      "text/plain": [
       "   object_id         mjd filter        flux  flux_error  detected\n",
       "0        615  59750.4229  lsstr -544.810303    3.622952         1\n",
       "1        615  59750.4306  lsstg -816.434326    5.553370         1\n",
       "2        615  59750.4383  lssti -471.385529    3.801213         1\n",
       "3        615  59750.4450  lsstz -388.984985   11.395031         1\n",
       "4        615  59752.4070  lsstr -681.858887    4.041204         1"
      ]
     },
     "execution_count": 134,
     "metadata": {},
     "output_type": "execute_result"
    }
   ],
   "source": [
    "data.head()"
   ]
  },
  {
   "cell_type": "code",
   "execution_count": 135,
   "metadata": {},
   "outputs": [
    {
     "name": "stdout",
     "output_type": "stream",
     "text": [
      "3990\n",
      "(236880, 6)\n"
     ]
    },
    {
     "data": {
      "text/plain": [
       "(74917, 6)"
      ]
     },
     "execution_count": 135,
     "metadata": {},
     "output_type": "execute_result"
    }
   ],
   "source": [
    "df = filter_dataframe(\"../data/plasticc/train_subset.txt\", data)\n",
    "df.shape"
   ]
  },
  {
   "cell_type": "code",
   "execution_count": 136,
   "metadata": {},
   "outputs": [
    {
     "data": {
      "text/html": [
       "<div>\n",
       "<style scoped>\n",
       "    .dataframe tbody tr th:only-of-type {\n",
       "        vertical-align: middle;\n",
       "    }\n",
       "\n",
       "    .dataframe tbody tr th {\n",
       "        vertical-align: top;\n",
       "    }\n",
       "\n",
       "    .dataframe thead th {\n",
       "        text-align: right;\n",
       "    }\n",
       "</style>\n",
       "<table border=\"1\" class=\"dataframe\">\n",
       "  <thead>\n",
       "    <tr style=\"text-align: right;\">\n",
       "      <th></th>\n",
       "      <th>object_id</th>\n",
       "      <th>mjd</th>\n",
       "      <th>filter</th>\n",
       "      <th>flux</th>\n",
       "      <th>flux_error</th>\n",
       "      <th>detected</th>\n",
       "    </tr>\n",
       "  </thead>\n",
       "  <tbody>\n",
       "    <tr>\n",
       "      <th>924</th>\n",
       "      <td>730</td>\n",
       "      <td>60532.3019</td>\n",
       "      <td>lsstr</td>\n",
       "      <td>20.994711</td>\n",
       "      <td>1.047298</td>\n",
       "      <td>1</td>\n",
       "    </tr>\n",
       "    <tr>\n",
       "      <th>926</th>\n",
       "      <td>730</td>\n",
       "      <td>60532.3173</td>\n",
       "      <td>lssti</td>\n",
       "      <td>31.523088</td>\n",
       "      <td>1.569497</td>\n",
       "      <td>1</td>\n",
       "    </tr>\n",
       "    <tr>\n",
       "      <th>927</th>\n",
       "      <td>730</td>\n",
       "      <td>60532.3282</td>\n",
       "      <td>lsstz</td>\n",
       "      <td>41.159981</td>\n",
       "      <td>2.310168</td>\n",
       "      <td>1</td>\n",
       "    </tr>\n",
       "    <tr>\n",
       "      <th>928</th>\n",
       "      <td>730</td>\n",
       "      <td>60532.3392</td>\n",
       "      <td>lssty</td>\n",
       "      <td>46.795868</td>\n",
       "      <td>5.458707</td>\n",
       "      <td>1</td>\n",
       "    </tr>\n",
       "    <tr>\n",
       "      <th>931</th>\n",
       "      <td>730</td>\n",
       "      <td>60535.2957</td>\n",
       "      <td>lssti</td>\n",
       "      <td>30.361010</td>\n",
       "      <td>2.107024</td>\n",
       "      <td>1</td>\n",
       "    </tr>\n",
       "  </tbody>\n",
       "</table>\n",
       "</div>"
      ],
      "text/plain": [
       "     object_id         mjd filter       flux  flux_error  detected\n",
       "924        730  60532.3019  lsstr  20.994711    1.047298         1\n",
       "926        730  60532.3173  lssti  31.523088    1.569497         1\n",
       "927        730  60532.3282  lsstz  41.159981    2.310168         1\n",
       "928        730  60532.3392  lssty  46.795868    5.458707         1\n",
       "931        730  60535.2957  lssti  30.361010    2.107024         1"
      ]
     },
     "execution_count": 136,
     "metadata": {},
     "output_type": "execute_result"
    }
   ],
   "source": [
    "df.head()"
   ]
  },
  {
   "cell_type": "code",
   "execution_count": 137,
   "metadata": {},
   "outputs": [],
   "source": [
    "colours = {\n",
    "    'lsstu': '#9a0eea', \n",
    "    'lsstg': '#75bbfd', \n",
    "    'lsstr': '#76ff7b',\n",
    "    'lssti': '#fdde6c', \n",
    "    'lsstz': '#f97306', \n",
    "    'lssty': '#e50000'\n",
    "}"
   ]
  },
  {
   "cell_type": "code",
   "execution_count": 138,
   "metadata": {},
   "outputs": [
    {
     "name": "stdout",
     "output_type": "stream",
     "text": [
      "#9a0eea\n"
     ]
    }
   ],
   "source": [
    "print(colours['lsstu'])"
   ]
  },
  {
   "cell_type": "code",
   "execution_count": 139,
   "metadata": {},
   "outputs": [],
   "source": [
    "# Central passbands wavelengths\n",
    "pb_wavelengths = {\"lsstu\": 3685., \"lsstg\": 4802., \"lsstr\": 6231.,\n",
    "                  \"lssti\": 7542., \"lsstz\": 8690., \"lssty\": 9736.}\n"
   ]
  },
  {
   "cell_type": "code",
   "execution_count": 140,
   "metadata": {},
   "outputs": [],
   "source": [
    "from pylab import rcParams\n",
    "rcParams['figure.figsize'] = 12, 8"
   ]
  },
  {
   "cell_type": "code",
   "execution_count": 141,
   "metadata": {},
   "outputs": [],
   "source": [
    "def plot_object(object_name, df, filters):\n",
    "    for passband in filters:\n",
    "        data = df[df['object_id'] == object_name]\n",
    "        data = data[data['filter'] == passband]\n",
    "        plt.errorbar(x=data['mjd'], y=data['flux'], yerr=data['flux_error'], \n",
    "                     linestyle='none', \n",
    "                     marker='o', \n",
    "                     color=colours[passband]\n",
    "                    )"
   ]
  },
  {
   "cell_type": "code",
   "execution_count": 142,
   "metadata": {},
   "outputs": [
    {
     "data": {
      "image/png": "[encoded data removed]",
      "text/plain": [
       "<Figure size 864x576 with 1 Axes>"
      ]
     },
     "metadata": {
      "needs_background": "light"
     },
     "output_type": "display_data"
    }
   ],
   "source": [
    "plot_object(1124, data, filters)"
   ]
  },
  {
   "cell_type": "code",
   "execution_count": 143,
   "metadata": {},
   "outputs": [],
   "source": [
    "import george\n",
    "import numpy as np\n",
    "import pandas as pd\n",
    "from astropy.table import Table, vstack\n",
    "import scipy.optimize as op\n",
    "from functools import partial\n",
    "\n",
    "\n",
    "def fit_2d_gp(obj_data, return_kernel=False, **kwargs):\n",
    "    \"\"\"Fit a 2D Gaussian process.\n",
    "\n",
    "    If required, predict the GP at evenly spaced points along a light curve.\n",
    "\n",
    "    Parameters\n",
    "    ----------\n",
    "    obj_data : pandas.core.frame.DataFrame or astropy.table.Table\n",
    "        Time, flux and flux error of the data (specific filter of an object).\n",
    "    return_kernel : Bool, default = False\n",
    "        Whether to return the used kernel.\n",
    "    kwargs : dict\n",
    "        Additional keyword arguments that are ignored at the moment. We allow\n",
    "        additional keyword arguments so that the various functions that\n",
    "        call this one can be called with the same arguments.\n",
    "\n",
    "    Returns\n",
    "    -------\n",
    "    kernel: george.gp.GP.kernel, optional\n",
    "        The kernel used to fit the GP.\n",
    "    gp_predict : functools.partial of george.gp.GP\n",
    "        The GP instance that was used to fit the object.\n",
    "    \"\"\"\n",
    "    guess_length_scale = 20.0  # a parameter of the Matern32Kernel\n",
    "\n",
    "    #obj_data = preprocess_obs(obj_data, **kwargs)  # preprocess obs\n",
    "\n",
    "    obj_times = obj_data.mjd\n",
    "    obj_flux = obj_data.flux\n",
    "    obj_flux_error = obj_data.flux_error\n",
    "    obj_wavelengths = obj_data['filter'].map(pb_wavelengths)\n",
    "\n",
    "    def neg_log_like(p):  # Objective function: negative log-likelihood\n",
    "        gp.set_parameter_vector(p)\n",
    "        loglike = gp.log_likelihood(obj_flux, quiet=True)\n",
    "        return -loglike if np.isfinite(loglike) else 1e25\n",
    "\n",
    "    def grad_neg_log_like(p):  # Gradient of the objective function.\n",
    "        gp.set_parameter_vector(p)\n",
    "        return -gp.grad_log_likelihood(obj_flux, quiet=True)\n",
    "\n",
    "    # Use the highest signal-to-noise observation to estimate the scale. We\n",
    "    # include an error floor so that in the case of very high\n",
    "    # signal-to-noise observations we pick the maximum flux value.\n",
    "    signal_to_noises = np.abs(obj_flux) / np.sqrt(\n",
    "        obj_flux_error ** 2 + (1e-2 * np.max(obj_flux)) ** 2\n",
    "    )\n",
    "    scale = np.abs(obj_flux[signal_to_noises.idxmax()])\n",
    "\n",
    "    kernel = (0.5 * scale) ** 2 * george.kernels.Matern32Kernel([\n",
    "        guess_length_scale ** 2, 6000 ** 2], ndim=2)\n",
    "    kernel.freeze_parameter(\"k2:metric:log_M_1_1\")\n",
    "\n",
    "    gp = george.GP(kernel)\n",
    "    default_gp_param = gp.get_parameter_vector()\n",
    "    x_data = np.vstack([obj_times, obj_wavelengths]).T\n",
    "    gp.compute(x_data, obj_flux_error)\n",
    "\n",
    "    bounds = [(0, np.log(1000 ** 2))]\n",
    "    bounds = [(default_gp_param[0] - 10, default_gp_param[0] + 10)] + bounds\n",
    "    results = op.minimize(neg_log_like, gp.get_parameter_vector(),\n",
    "                          jac=grad_neg_log_like, method=\"L-BFGS-B\",\n",
    "                          bounds=bounds, tol=1e-6)\n",
    "\n",
    "    if results.success:\n",
    "        gp.set_parameter_vector(results.x)\n",
    "    else:\n",
    "        # Fit failed. Print out a warning, and use the initial guesses for fit\n",
    "        # parameters.\n",
    "        obj = obj_data['object_id'][0]\n",
    "        print(\"GP fit failed for {}! Using guessed GP parameters.\".format(obj))\n",
    "        gp.set_parameter_vector(default_gp_param)\n",
    "\n",
    "    gp_predict = partial(gp.predict, obj_flux)\n",
    "\n",
    "    if return_kernel:\n",
    "        return kernel, gp_predict\n",
    "    else:\n",
    "        return gp_predict\n",
    "\n",
    "\n",
    "def predict_2d_gp(gp_predict, gp_times, gp_wavelengths):\n",
    "    \"\"\"Outputs the predictions of a Gaussian Process.\n",
    "\n",
    "    Parameters\n",
    "    ----------\n",
    "    gp_predict : functools.partial of george.gp.GP\n",
    "        The GP instance that was used to fit the object.\n",
    "    gp_times : numpy.ndarray\n",
    "        Times to evaluate the Gaussian Process at.\n",
    "    gp_wavelengths : numpy.ndarray\n",
    "        Wavelengths to evaluate the Gaussian Process at.\n",
    "\n",
    "    Returns\n",
    "    -------\n",
    "    obj_gps : pandas.core.frame.DataFrame, optional\n",
    "        Time, flux and flux error of the fitted Gaussian Process.\n",
    "    \"\"\"\n",
    "    unique_wavelengths = np.unique(gp_wavelengths)\n",
    "    number_gp = len(gp_times)\n",
    "    obj_gps = []\n",
    "    for wavelength in unique_wavelengths:\n",
    "        gp_wavelengths = np.ones(number_gp) * wavelength\n",
    "        pred_x_data = np.vstack([gp_times, gp_wavelengths]).T\n",
    "        pb_pred, pb_pred_var = gp_predict(pred_x_data, return_var=True)\n",
    "        # stack the GP results in a array momentarily\n",
    "        obj_gp_pb_array = np.column_stack((gp_times, pb_pred, np.sqrt(pb_pred_var)))\n",
    "        obj_gp_pb = Table(\n",
    "            [\n",
    "                obj_gp_pb_array[:, 0],\n",
    "                obj_gp_pb_array[:, 1],\n",
    "                obj_gp_pb_array[:, 2],\n",
    "                [wavelength] * number_gp,\n",
    "            ],\n",
    "            names=[\"mjd\", \"flux\", \"flux_error\", \"filter\"],\n",
    "        )\n",
    "        if len(obj_gps) == 0:  # initialize the table for 1st passband\n",
    "            obj_gps = obj_gp_pb\n",
    "        else:  # add more entries to the table\n",
    "            obj_gps = vstack((obj_gps, obj_gp_pb))\n",
    "            \n",
    "    obj_gps = obj_gps.to_pandas()\n",
    "    return obj_gps"
   ]
  },
  {
   "cell_type": "code",
   "execution_count": 167,
   "metadata": {},
   "outputs": [
    {
     "data": {
      "text/plain": [
       "Index(['object_id', 'mjd', 'filter', 'flux', 'flux_error', 'detected'], dtype='object')"
      ]
     },
     "execution_count": 167,
     "metadata": {},
     "output_type": "execute_result"
    }
   ],
   "source": [
    "data.columns"
   ]
  },
  {
   "cell_type": "code",
   "execution_count": 201,
   "metadata": {},
   "outputs": [
    {
     "name": "stdout",
     "output_type": "stream",
     "text": [
      "730\n",
      "745\n",
      "1124\n",
      "1598\n",
      "1632\n"
     ]
    }
   ],
   "source": [
    "for object_id in object_list[:5]:\n",
    "    print(object_id)"
   ]
  },
  {
   "cell_type": "code",
   "execution_count": 273,
   "metadata": {},
   "outputs": [
    {
     "data": {
      "text/html": [
       "<div>\n",
       "<style scoped>\n",
       "    .dataframe tbody tr th:only-of-type {\n",
       "        vertical-align: middle;\n",
       "    }\n",
       "\n",
       "    .dataframe tbody tr th {\n",
       "        vertical-align: top;\n",
       "    }\n",
       "\n",
       "    .dataframe thead th {\n",
       "        text-align: right;\n",
       "    }\n",
       "</style>\n",
       "<table border=\"1\" class=\"dataframe\">\n",
       "  <thead>\n",
       "    <tr style=\"text-align: right;\">\n",
       "      <th>filter</th>\n",
       "      <th>mjd</th>\n",
       "      <th>lsstg</th>\n",
       "      <th>lssti</th>\n",
       "      <th>lsstr</th>\n",
       "      <th>lsstu</th>\n",
       "      <th>lssty</th>\n",
       "      <th>lsstz</th>\n",
       "      <th>object_id</th>\n",
       "    </tr>\n",
       "  </thead>\n",
       "  <tbody>\n",
       "    <tr>\n",
       "      <th>0</th>\n",
       "      <td>60611.1</td>\n",
       "      <td>6.0654</td>\n",
       "      <td>10.2218</td>\n",
       "      <td>3.78723</td>\n",
       "      <td>-47.0913</td>\n",
       "      <td>73.0167</td>\n",
       "      <td>45.7466</td>\n",
       "      <td>7033</td>\n",
       "    </tr>\n",
       "    <tr>\n",
       "      <th>1</th>\n",
       "      <td>60611.8</td>\n",
       "      <td>14.933</td>\n",
       "      <td>22.5206</td>\n",
       "      <td>16.248</td>\n",
       "      <td>-42.2312</td>\n",
       "      <td>90.6368</td>\n",
       "      <td>61.8009</td>\n",
       "      <td>7033</td>\n",
       "    </tr>\n",
       "    <tr>\n",
       "      <th>2</th>\n",
       "      <td>60612.4</td>\n",
       "      <td>25.2359</td>\n",
       "      <td>35.9137</td>\n",
       "      <td>30.6967</td>\n",
       "      <td>-36.6375</td>\n",
       "      <td>109.567</td>\n",
       "      <td>79.0795</td>\n",
       "      <td>7033</td>\n",
       "    </tr>\n",
       "    <tr>\n",
       "      <th>3</th>\n",
       "      <td>60613</td>\n",
       "      <td>37.4074</td>\n",
       "      <td>50.453</td>\n",
       "      <td>47.4069</td>\n",
       "      <td>-30.1991</td>\n",
       "      <td>129.766</td>\n",
       "      <td>97.5994</td>\n",
       "      <td>7033</td>\n",
       "    </tr>\n",
       "    <tr>\n",
       "      <th>4</th>\n",
       "      <td>60613.7</td>\n",
       "      <td>51.9577</td>\n",
       "      <td>66.1937</td>\n",
       "      <td>66.6812</td>\n",
       "      <td>-22.7963</td>\n",
       "      <td>151.197</td>\n",
       "      <td>117.371</td>\n",
       "      <td>7033</td>\n",
       "    </tr>\n",
       "    <tr>\n",
       "      <th>...</th>\n",
       "      <td>...</td>\n",
       "      <td>...</td>\n",
       "      <td>...</td>\n",
       "      <td>...</td>\n",
       "      <td>...</td>\n",
       "      <td>...</td>\n",
       "      <td>...</td>\n",
       "      <td>...</td>\n",
       "    </tr>\n",
       "    <tr>\n",
       "      <th>95</th>\n",
       "      <td>60671.5</td>\n",
       "      <td>522.723</td>\n",
       "      <td>1106.02</td>\n",
       "      <td>907.636</td>\n",
       "      <td>114.729</td>\n",
       "      <td>1052.36</td>\n",
       "      <td>1067.24</td>\n",
       "      <td>7033</td>\n",
       "    </tr>\n",
       "    <tr>\n",
       "      <th>96</th>\n",
       "      <td>60672.2</td>\n",
       "      <td>503.627</td>\n",
       "      <td>1080.49</td>\n",
       "      <td>885.884</td>\n",
       "      <td>110.559</td>\n",
       "      <td>1029.29</td>\n",
       "      <td>1048.17</td>\n",
       "      <td>7033</td>\n",
       "    </tr>\n",
       "    <tr>\n",
       "      <th>97</th>\n",
       "      <td>60672.8</td>\n",
       "      <td>485.071</td>\n",
       "      <td>1054.54</td>\n",
       "      <td>863.764</td>\n",
       "      <td>106.554</td>\n",
       "      <td>1006.94</td>\n",
       "      <td>1028.62</td>\n",
       "      <td>7033</td>\n",
       "    </tr>\n",
       "    <tr>\n",
       "      <th>98</th>\n",
       "      <td>60673.4</td>\n",
       "      <td>466.989</td>\n",
       "      <td>1028.31</td>\n",
       "      <td>841.324</td>\n",
       "      <td>99.9629</td>\n",
       "      <td>985.17</td>\n",
       "      <td>1008.63</td>\n",
       "      <td>7033</td>\n",
       "    </tr>\n",
       "    <tr>\n",
       "      <th>99</th>\n",
       "      <td>60674.1</td>\n",
       "      <td>449.331</td>\n",
       "      <td>1001.94</td>\n",
       "      <td>818.631</td>\n",
       "      <td>91.1184</td>\n",
       "      <td>963.886</td>\n",
       "      <td>988.273</td>\n",
       "      <td>7033</td>\n",
       "    </tr>\n",
       "  </tbody>\n",
       "</table>\n",
       "<p>100 rows × 8 columns</p>\n",
       "</div>"
      ],
      "text/plain": [
       "filter      mjd    lsstg    lssti    lsstr    lsstu    lssty    lsstz  \\\n",
       "0       60611.1   6.0654  10.2218  3.78723 -47.0913  73.0167  45.7466   \n",
       "1       60611.8   14.933  22.5206   16.248 -42.2312  90.6368  61.8009   \n",
       "2       60612.4  25.2359  35.9137  30.6967 -36.6375  109.567  79.0795   \n",
       "3         60613  37.4074   50.453  47.4069 -30.1991  129.766  97.5994   \n",
       "4       60613.7  51.9577  66.1937  66.6812 -22.7963  151.197  117.371   \n",
       "..          ...      ...      ...      ...      ...      ...      ...   \n",
       "95      60671.5  522.723  1106.02  907.636  114.729  1052.36  1067.24   \n",
       "96      60672.2  503.627  1080.49  885.884  110.559  1029.29  1048.17   \n",
       "97      60672.8  485.071  1054.54  863.764  106.554  1006.94  1028.62   \n",
       "98      60673.4  466.989  1028.31  841.324  99.9629   985.17  1008.63   \n",
       "99      60674.1  449.331  1001.94  818.631  91.1184  963.886  988.273   \n",
       "\n",
       "filter object_id  \n",
       "0           7033  \n",
       "1           7033  \n",
       "2           7033  \n",
       "3           7033  \n",
       "4           7033  \n",
       "..           ...  \n",
       "95          7033  \n",
       "96          7033  \n",
       "97          7033  \n",
       "98          7033  \n",
       "99          7033  \n",
       "\n",
       "[100 rows x 8 columns]"
      ]
     },
     "execution_count": 273,
     "metadata": {},
     "output_type": "execute_result"
    }
   ],
   "source": [
    "adf = pd.DataFrame(data=[], columns=['mjd', 'lsstg', 'lssti', 'lsstr', 'lsstu', 'lssty', 'lsstz', 'object_id'])\n",
    "for object_id in object_list[21:22]:\n",
    "    df = data[data['object_id'] == object_id]\n",
    "    gp_predict = fit_2d_gp(df)\n",
    "    number_gp = 100\n",
    "    gp_times = np.linspace(min(df['mjd']), max(df['mjd']), number_gp)\n",
    "#     print(gp_times.shape)\n",
    "    obj_gps = predict_2d_gp(gp_predict, gp_times, gp_wavelengths)\n",
    "    obj_gps['filter'] = obj_gps['filter'].map(inverse_pb_wavelengths)\n",
    "    \n",
    "    obj_gps = obj_gps.pivot(index='mjd', columns='filter', values='flux')\n",
    "    obj_gps = obj_gps.reset_index()\n",
    "    obj_gps['object_id'] = object_id\n",
    "    adf = np.vstack((adf, obj_gps))  \n",
    "    \n",
    "    \n",
    "#obj_gps.head()\n",
    "#adf.shape\n",
    "pd.DataFrame(data=adf, columns=obj_gps.columns)\n",
    "#pd.DataFrame(data=adf)"
   ]
  },
  {
   "cell_type": "code",
   "execution_count": 274,
   "metadata": {},
   "outputs": [
    {
     "data": {
      "image/png": "[encoded data removed]",
      "text/plain": [
       "<Figure size 864x576 with 1 Axes>"
      ]
     },
     "metadata": {
      "needs_background": "light"
     },
     "output_type": "display_data"
    }
   ],
   "source": [
    "jj = pd.DataFrame(data=adf, columns=obj_gps.columns).drop(columns=['object_id'])\n",
    "jj.set_index('mjd').plot();"
   ]
  },
  {
   "cell_type": "code",
   "execution_count": 258,
   "metadata": {},
   "outputs": [
    {
     "data": {
      "text/html": [
       "<div>\n",
       "<style scoped>\n",
       "    .dataframe tbody tr th:only-of-type {\n",
       "        vertical-align: middle;\n",
       "    }\n",
       "\n",
       "    .dataframe tbody tr th {\n",
       "        vertical-align: top;\n",
       "    }\n",
       "\n",
       "    .dataframe thead th {\n",
       "        text-align: right;\n",
       "    }\n",
       "</style>\n",
       "<table border=\"1\" class=\"dataframe\">\n",
       "  <thead>\n",
       "    <tr style=\"text-align: right;\">\n",
       "      <th>filter</th>\n",
       "      <th>mjd</th>\n",
       "      <th>lsstg</th>\n",
       "      <th>lssti</th>\n",
       "      <th>lsstr</th>\n",
       "      <th>lsstu</th>\n",
       "      <th>lssty</th>\n",
       "      <th>lsstz</th>\n",
       "      <th>object_id</th>\n",
       "    </tr>\n",
       "  </thead>\n",
       "  <tbody>\n",
       "    <tr>\n",
       "      <th>0</th>\n",
       "      <td>60532.301900</td>\n",
       "      <td>13.920079</td>\n",
       "      <td>32.155142</td>\n",
       "      <td>21.046858</td>\n",
       "      <td>10.110353</td>\n",
       "      <td>44.070733</td>\n",
       "      <td>40.735444</td>\n",
       "      <td>730</td>\n",
       "    </tr>\n",
       "    <tr>\n",
       "      <th>1</th>\n",
       "      <td>60533.097594</td>\n",
       "      <td>13.857633</td>\n",
       "      <td>31.975777</td>\n",
       "      <td>20.929288</td>\n",
       "      <td>10.060757</td>\n",
       "      <td>43.892619</td>\n",
       "      <td>40.537964</td>\n",
       "      <td>730</td>\n",
       "    </tr>\n",
       "    <tr>\n",
       "      <th>2</th>\n",
       "      <td>60533.893288</td>\n",
       "      <td>13.794835</td>\n",
       "      <td>31.791269</td>\n",
       "      <td>20.811385</td>\n",
       "      <td>10.010689</td>\n",
       "      <td>43.709000</td>\n",
       "      <td>40.334172</td>\n",
       "      <td>730</td>\n",
       "    </tr>\n",
       "    <tr>\n",
       "      <th>3</th>\n",
       "      <td>60534.688982</td>\n",
       "      <td>13.731663</td>\n",
       "      <td>31.601240</td>\n",
       "      <td>20.693190</td>\n",
       "      <td>9.960139</td>\n",
       "      <td>43.519955</td>\n",
       "      <td>40.124121</td>\n",
       "      <td>730</td>\n",
       "    </tr>\n",
       "    <tr>\n",
       "      <th>4</th>\n",
       "      <td>60535.484676</td>\n",
       "      <td>13.668093</td>\n",
       "      <td>31.405309</td>\n",
       "      <td>20.574752</td>\n",
       "      <td>9.909095</td>\n",
       "      <td>43.325567</td>\n",
       "      <td>39.907867</td>\n",
       "      <td>730</td>\n",
       "    </tr>\n",
       "    <tr>\n",
       "      <th>...</th>\n",
       "      <td>...</td>\n",
       "      <td>...</td>\n",
       "      <td>...</td>\n",
       "      <td>...</td>\n",
       "      <td>...</td>\n",
       "      <td>...</td>\n",
       "      <td>...</td>\n",
       "      <td>...</td>\n",
       "    </tr>\n",
       "    <tr>\n",
       "      <th>95</th>\n",
       "      <td>60607.892824</td>\n",
       "      <td>3.083925</td>\n",
       "      <td>5.195206</td>\n",
       "      <td>3.529121</td>\n",
       "      <td>2.337295</td>\n",
       "      <td>16.778340</td>\n",
       "      <td>10.983845</td>\n",
       "      <td>730</td>\n",
       "    </tr>\n",
       "    <tr>\n",
       "      <th>96</th>\n",
       "      <td>60608.688518</td>\n",
       "      <td>2.928595</td>\n",
       "      <td>5.017554</td>\n",
       "      <td>3.309634</td>\n",
       "      <td>2.230361</td>\n",
       "      <td>16.519662</td>\n",
       "      <td>10.751077</td>\n",
       "      <td>730</td>\n",
       "    </tr>\n",
       "    <tr>\n",
       "      <th>97</th>\n",
       "      <td>60609.484212</td>\n",
       "      <td>2.773739</td>\n",
       "      <td>4.841027</td>\n",
       "      <td>3.090825</td>\n",
       "      <td>2.123512</td>\n",
       "      <td>16.263351</td>\n",
       "      <td>10.521220</td>\n",
       "      <td>730</td>\n",
       "    </tr>\n",
       "    <tr>\n",
       "      <th>98</th>\n",
       "      <td>60610.279906</td>\n",
       "      <td>2.619410</td>\n",
       "      <td>4.665649</td>\n",
       "      <td>2.873723</td>\n",
       "      <td>2.016775</td>\n",
       "      <td>16.009406</td>\n",
       "      <td>10.294221</td>\n",
       "      <td>730</td>\n",
       "    </tr>\n",
       "    <tr>\n",
       "      <th>99</th>\n",
       "      <td>60611.075600</td>\n",
       "      <td>2.465659</td>\n",
       "      <td>4.491447</td>\n",
       "      <td>2.659352</td>\n",
       "      <td>1.910175</td>\n",
       "      <td>15.757828</td>\n",
       "      <td>10.070032</td>\n",
       "      <td>730</td>\n",
       "    </tr>\n",
       "  </tbody>\n",
       "</table>\n",
       "<p>100 rows × 8 columns</p>\n",
       "</div>"
      ],
      "text/plain": [
       "filter           mjd      lsstg      lssti      lsstr      lsstu      lssty  \\\n",
       "0       60532.301900  13.920079  32.155142  21.046858  10.110353  44.070733   \n",
       "1       60533.097594  13.857633  31.975777  20.929288  10.060757  43.892619   \n",
       "2       60533.893288  13.794835  31.791269  20.811385  10.010689  43.709000   \n",
       "3       60534.688982  13.731663  31.601240  20.693190   9.960139  43.519955   \n",
       "4       60535.484676  13.668093  31.405309  20.574752   9.909095  43.325567   \n",
       "..               ...        ...        ...        ...        ...        ...   \n",
       "95      60607.892824   3.083925   5.195206   3.529121   2.337295  16.778340   \n",
       "96      60608.688518   2.928595   5.017554   3.309634   2.230361  16.519662   \n",
       "97      60609.484212   2.773739   4.841027   3.090825   2.123512  16.263351   \n",
       "98      60610.279906   2.619410   4.665649   2.873723   2.016775  16.009406   \n",
       "99      60611.075600   2.465659   4.491447   2.659352   1.910175  15.757828   \n",
       "\n",
       "filter      lsstz  object_id  \n",
       "0       40.735444        730  \n",
       "1       40.537964        730  \n",
       "2       40.334172        730  \n",
       "3       40.124121        730  \n",
       "4       39.907867        730  \n",
       "..            ...        ...  \n",
       "95      10.983845        730  \n",
       "96      10.751077        730  \n",
       "97      10.521220        730  \n",
       "98      10.294221        730  \n",
       "99      10.070032        730  \n",
       "\n",
       "[100 rows x 8 columns]"
      ]
     },
     "execution_count": 258,
     "metadata": {},
     "output_type": "execute_result"
    }
   ],
   "source": [
    "obj_gps.reset_index()"
   ]
  },
  {
   "cell_type": "code",
   "execution_count": 216,
   "metadata": {},
   "outputs": [],
   "source": [
    "full_df = pd.DataFrame(data=adf, columns=[\"mjd\", \"flux\", \"flux_error\", \"filter\", \"object_id\"])\n",
    "full_df['object_id'] = full_df['object_id'].astype(int)"
   ]
  },
  {
   "cell_type": "code",
   "execution_count": 217,
   "metadata": {},
   "outputs": [
    {
     "data": {
      "text/plain": [
       "3990"
      ]
     },
     "execution_count": 217,
     "metadata": {},
     "output_type": "execute_result"
    }
   ],
   "source": [
    "len(np.unique(full_df['object_id']))"
   ]
  },
  {
   "cell_type": "code",
   "execution_count": 218,
   "metadata": {},
   "outputs": [
    {
     "data": {
      "text/html": [
       "<div>\n",
       "<style scoped>\n",
       "    .dataframe tbody tr th:only-of-type {\n",
       "        vertical-align: middle;\n",
       "    }\n",
       "\n",
       "    .dataframe tbody tr th {\n",
       "        vertical-align: top;\n",
       "    }\n",
       "\n",
       "    .dataframe thead th {\n",
       "        text-align: right;\n",
       "    }\n",
       "</style>\n",
       "<table border=\"1\" class=\"dataframe\">\n",
       "  <thead>\n",
       "    <tr style=\"text-align: right;\">\n",
       "      <th></th>\n",
       "      <th>mjd</th>\n",
       "      <th>flux</th>\n",
       "      <th>flux_error</th>\n",
       "      <th>filter</th>\n",
       "      <th>object_id</th>\n",
       "    </tr>\n",
       "  </thead>\n",
       "  <tbody>\n",
       "    <tr>\n",
       "      <th>0</th>\n",
       "      <td>60532.3</td>\n",
       "      <td>10.1104</td>\n",
       "      <td>10.8836</td>\n",
       "      <td>3685</td>\n",
       "      <td>730</td>\n",
       "    </tr>\n",
       "    <tr>\n",
       "      <th>1</th>\n",
       "      <td>60533.1</td>\n",
       "      <td>10.0608</td>\n",
       "      <td>10.8636</td>\n",
       "      <td>3685</td>\n",
       "      <td>730</td>\n",
       "    </tr>\n",
       "    <tr>\n",
       "      <th>2</th>\n",
       "      <td>60533.9</td>\n",
       "      <td>10.0107</td>\n",
       "      <td>10.8443</td>\n",
       "      <td>3685</td>\n",
       "      <td>730</td>\n",
       "    </tr>\n",
       "    <tr>\n",
       "      <th>3</th>\n",
       "      <td>60534.7</td>\n",
       "      <td>9.96014</td>\n",
       "      <td>10.8255</td>\n",
       "      <td>3685</td>\n",
       "      <td>730</td>\n",
       "    </tr>\n",
       "    <tr>\n",
       "      <th>4</th>\n",
       "      <td>60535.5</td>\n",
       "      <td>9.90909</td>\n",
       "      <td>10.8072</td>\n",
       "      <td>3685</td>\n",
       "      <td>730</td>\n",
       "    </tr>\n",
       "    <tr>\n",
       "      <th>...</th>\n",
       "      <td>...</td>\n",
       "      <td>...</td>\n",
       "      <td>...</td>\n",
       "      <td>...</td>\n",
       "      <td>...</td>\n",
       "    </tr>\n",
       "    <tr>\n",
       "      <th>2393995</th>\n",
       "      <td>60085.5</td>\n",
       "      <td>121.816</td>\n",
       "      <td>145.967</td>\n",
       "      <td>9736</td>\n",
       "      <td>130755807</td>\n",
       "    </tr>\n",
       "    <tr>\n",
       "      <th>2393996</th>\n",
       "      <td>60085.9</td>\n",
       "      <td>119.865</td>\n",
       "      <td>147.608</td>\n",
       "      <td>9736</td>\n",
       "      <td>130755807</td>\n",
       "    </tr>\n",
       "    <tr>\n",
       "      <th>2393997</th>\n",
       "      <td>60086.2</td>\n",
       "      <td>117.902</td>\n",
       "      <td>149.228</td>\n",
       "      <td>9736</td>\n",
       "      <td>130755807</td>\n",
       "    </tr>\n",
       "    <tr>\n",
       "      <th>2393998</th>\n",
       "      <td>60086.6</td>\n",
       "      <td>115.929</td>\n",
       "      <td>150.829</td>\n",
       "      <td>9736</td>\n",
       "      <td>130755807</td>\n",
       "    </tr>\n",
       "    <tr>\n",
       "      <th>2393999</th>\n",
       "      <td>60087</td>\n",
       "      <td>113.947</td>\n",
       "      <td>152.411</td>\n",
       "      <td>9736</td>\n",
       "      <td>130755807</td>\n",
       "    </tr>\n",
       "  </tbody>\n",
       "</table>\n",
       "<p>2394000 rows × 5 columns</p>\n",
       "</div>"
      ],
      "text/plain": [
       "             mjd     flux flux_error filter  object_id\n",
       "0        60532.3  10.1104    10.8836   3685        730\n",
       "1        60533.1  10.0608    10.8636   3685        730\n",
       "2        60533.9  10.0107    10.8443   3685        730\n",
       "3        60534.7  9.96014    10.8255   3685        730\n",
       "4        60535.5  9.90909    10.8072   3685        730\n",
       "...          ...      ...        ...    ...        ...\n",
       "2393995  60085.5  121.816    145.967   9736  130755807\n",
       "2393996  60085.9  119.865    147.608   9736  130755807\n",
       "2393997  60086.2  117.902    149.228   9736  130755807\n",
       "2393998  60086.6  115.929    150.829   9736  130755807\n",
       "2393999    60087  113.947    152.411   9736  130755807\n",
       "\n",
       "[2394000 rows x 5 columns]"
      ]
     },
     "execution_count": 218,
     "metadata": {},
     "output_type": "execute_result"
    }
   ],
   "source": [
    "full_df"
   ]
  },
  {
   "cell_type": "code",
   "execution_count": 221,
   "metadata": {},
   "outputs": [
    {
     "data": {
      "text/html": [
       "<div>\n",
       "<style scoped>\n",
       "    .dataframe tbody tr th:only-of-type {\n",
       "        vertical-align: middle;\n",
       "    }\n",
       "\n",
       "    .dataframe tbody tr th {\n",
       "        vertical-align: top;\n",
       "    }\n",
       "\n",
       "    .dataframe thead th {\n",
       "        text-align: right;\n",
       "    }\n",
       "</style>\n",
       "<table border=\"1\" class=\"dataframe\">\n",
       "  <thead>\n",
       "    <tr style=\"text-align: right;\">\n",
       "      <th></th>\n",
       "      <th>mjd</th>\n",
       "      <th>flux</th>\n",
       "      <th>flux_error</th>\n",
       "      <th>filter</th>\n",
       "      <th>object_id</th>\n",
       "    </tr>\n",
       "  </thead>\n",
       "  <tbody>\n",
       "    <tr>\n",
       "      <th>0</th>\n",
       "      <td>60532.3</td>\n",
       "      <td>10.1104</td>\n",
       "      <td>10.8836</td>\n",
       "      <td>lsstu</td>\n",
       "      <td>730</td>\n",
       "    </tr>\n",
       "    <tr>\n",
       "      <th>1</th>\n",
       "      <td>60533.1</td>\n",
       "      <td>10.0608</td>\n",
       "      <td>10.8636</td>\n",
       "      <td>lsstu</td>\n",
       "      <td>730</td>\n",
       "    </tr>\n",
       "    <tr>\n",
       "      <th>2</th>\n",
       "      <td>60533.9</td>\n",
       "      <td>10.0107</td>\n",
       "      <td>10.8443</td>\n",
       "      <td>lsstu</td>\n",
       "      <td>730</td>\n",
       "    </tr>\n",
       "    <tr>\n",
       "      <th>3</th>\n",
       "      <td>60534.7</td>\n",
       "      <td>9.96014</td>\n",
       "      <td>10.8255</td>\n",
       "      <td>lsstu</td>\n",
       "      <td>730</td>\n",
       "    </tr>\n",
       "    <tr>\n",
       "      <th>4</th>\n",
       "      <td>60535.5</td>\n",
       "      <td>9.90909</td>\n",
       "      <td>10.8072</td>\n",
       "      <td>lsstu</td>\n",
       "      <td>730</td>\n",
       "    </tr>\n",
       "    <tr>\n",
       "      <th>...</th>\n",
       "      <td>...</td>\n",
       "      <td>...</td>\n",
       "      <td>...</td>\n",
       "      <td>...</td>\n",
       "      <td>...</td>\n",
       "    </tr>\n",
       "    <tr>\n",
       "      <th>2393995</th>\n",
       "      <td>60085.5</td>\n",
       "      <td>121.816</td>\n",
       "      <td>145.967</td>\n",
       "      <td>lssty</td>\n",
       "      <td>130755807</td>\n",
       "    </tr>\n",
       "    <tr>\n",
       "      <th>2393996</th>\n",
       "      <td>60085.9</td>\n",
       "      <td>119.865</td>\n",
       "      <td>147.608</td>\n",
       "      <td>lssty</td>\n",
       "      <td>130755807</td>\n",
       "    </tr>\n",
       "    <tr>\n",
       "      <th>2393997</th>\n",
       "      <td>60086.2</td>\n",
       "      <td>117.902</td>\n",
       "      <td>149.228</td>\n",
       "      <td>lssty</td>\n",
       "      <td>130755807</td>\n",
       "    </tr>\n",
       "    <tr>\n",
       "      <th>2393998</th>\n",
       "      <td>60086.6</td>\n",
       "      <td>115.929</td>\n",
       "      <td>150.829</td>\n",
       "      <td>lssty</td>\n",
       "      <td>130755807</td>\n",
       "    </tr>\n",
       "    <tr>\n",
       "      <th>2393999</th>\n",
       "      <td>60087</td>\n",
       "      <td>113.947</td>\n",
       "      <td>152.411</td>\n",
       "      <td>lssty</td>\n",
       "      <td>130755807</td>\n",
       "    </tr>\n",
       "  </tbody>\n",
       "</table>\n",
       "<p>2394000 rows × 5 columns</p>\n",
       "</div>"
      ],
      "text/plain": [
       "             mjd     flux flux_error filter  object_id\n",
       "0        60532.3  10.1104    10.8836  lsstu        730\n",
       "1        60533.1  10.0608    10.8636  lsstu        730\n",
       "2        60533.9  10.0107    10.8443  lsstu        730\n",
       "3        60534.7  9.96014    10.8255  lsstu        730\n",
       "4        60535.5  9.90909    10.8072  lsstu        730\n",
       "...          ...      ...        ...    ...        ...\n",
       "2393995  60085.5  121.816    145.967  lssty  130755807\n",
       "2393996  60085.9  119.865    147.608  lssty  130755807\n",
       "2393997  60086.2  117.902    149.228  lssty  130755807\n",
       "2393998  60086.6  115.929    150.829  lssty  130755807\n",
       "2393999    60087  113.947    152.411  lssty  130755807\n",
       "\n",
       "[2394000 rows x 5 columns]"
      ]
     },
     "execution_count": 221,
     "metadata": {},
     "output_type": "execute_result"
    }
   ],
   "source": [
    "full_df['filter'] = full_df['filter'].map(inverse_pb_wavelengths)\n",
    "full_df"
   ]
  },
  {
   "cell_type": "code",
   "execution_count": 227,
   "metadata": {},
   "outputs": [
    {
     "ename": "ValueError",
     "evalue": "Index contains duplicate entries, cannot reshape",
     "output_type": "error",
     "traceback": [
      "\u001b[0;31m---------------------------------------------------------------------------\u001b[0m",
      "\u001b[0;31mValueError\u001b[0m                                Traceback (most recent call last)",
      "\u001b[0;32m<ipython-input-227-ed7f2a8548b4>\u001b[0m in \u001b[0;36m<module>\u001b[0;34m\u001b[0m\n\u001b[0;32m----> 1\u001b[0;31m \u001b[0mpiv\u001b[0m \u001b[0;34m=\u001b[0m \u001b[0mfull_df\u001b[0m\u001b[0;34m.\u001b[0m\u001b[0mpivot\u001b[0m\u001b[0;34m(\u001b[0m\u001b[0mindex\u001b[0m\u001b[0;34m=\u001b[0m\u001b[0;34m'mjd'\u001b[0m\u001b[0;34m,\u001b[0m \u001b[0mcolumns\u001b[0m\u001b[0;34m=\u001b[0m\u001b[0;34m'filter'\u001b[0m\u001b[0;34m,\u001b[0m \u001b[0mvalues\u001b[0m\u001b[0;34m=\u001b[0m\u001b[0;34m'flux'\u001b[0m\u001b[0;34m)\u001b[0m\u001b[0;34m\u001b[0m\u001b[0;34m\u001b[0m\u001b[0m\n\u001b[0m\u001b[1;32m      2\u001b[0m \u001b[0mpiv\u001b[0m\u001b[0;34m.\u001b[0m\u001b[0mhead\u001b[0m\u001b[0;34m(\u001b[0m\u001b[0;34m)\u001b[0m\u001b[0;34m\u001b[0m\u001b[0;34m\u001b[0m\u001b[0m\n",
      "\u001b[0;32m/usr/local/anaconda3/envs/astronet/lib/python3.7/site-packages/pandas/core/frame.py\u001b[0m in \u001b[0;36mpivot\u001b[0;34m(self, index, columns, values)\u001b[0m\n\u001b[1;32m   6671\u001b[0m         \u001b[0;32mfrom\u001b[0m \u001b[0mpandas\u001b[0m\u001b[0;34m.\u001b[0m\u001b[0mcore\u001b[0m\u001b[0;34m.\u001b[0m\u001b[0mreshape\u001b[0m\u001b[0;34m.\u001b[0m\u001b[0mpivot\u001b[0m \u001b[0;32mimport\u001b[0m \u001b[0mpivot\u001b[0m\u001b[0;34m\u001b[0m\u001b[0;34m\u001b[0m\u001b[0m\n\u001b[1;32m   6672\u001b[0m \u001b[0;34m\u001b[0m\u001b[0m\n\u001b[0;32m-> 6673\u001b[0;31m         \u001b[0;32mreturn\u001b[0m \u001b[0mpivot\u001b[0m\u001b[0;34m(\u001b[0m\u001b[0mself\u001b[0m\u001b[0;34m,\u001b[0m \u001b[0mindex\u001b[0m\u001b[0;34m=\u001b[0m\u001b[0mindex\u001b[0m\u001b[0;34m,\u001b[0m \u001b[0mcolumns\u001b[0m\u001b[0;34m=\u001b[0m\u001b[0mcolumns\u001b[0m\u001b[0;34m,\u001b[0m \u001b[0mvalues\u001b[0m\u001b[0;34m=\u001b[0m\u001b[0mvalues\u001b[0m\u001b[0;34m)\u001b[0m\u001b[0;34m\u001b[0m\u001b[0;34m\u001b[0m\u001b[0m\n\u001b[0m\u001b[1;32m   6674\u001b[0m \u001b[0;34m\u001b[0m\u001b[0m\n\u001b[1;32m   6675\u001b[0m     _shared_docs[\n",
      "\u001b[0;32m/usr/local/anaconda3/envs/astronet/lib/python3.7/site-packages/pandas/core/reshape/pivot.py\u001b[0m in \u001b[0;36mpivot\u001b[0;34m(data, index, columns, values)\u001b[0m\n\u001b[1;32m    475\u001b[0m         \u001b[0;32melse\u001b[0m\u001b[0;34m:\u001b[0m\u001b[0;34m\u001b[0m\u001b[0;34m\u001b[0m\u001b[0m\n\u001b[1;32m    476\u001b[0m             \u001b[0mindexed\u001b[0m \u001b[0;34m=\u001b[0m \u001b[0mdata\u001b[0m\u001b[0;34m.\u001b[0m\u001b[0m_constructor_sliced\u001b[0m\u001b[0;34m(\u001b[0m\u001b[0mdata\u001b[0m\u001b[0;34m[\u001b[0m\u001b[0mvalues\u001b[0m\u001b[0;34m]\u001b[0m\u001b[0;34m.\u001b[0m\u001b[0m_values\u001b[0m\u001b[0;34m,\u001b[0m \u001b[0mindex\u001b[0m\u001b[0;34m=\u001b[0m\u001b[0mindex\u001b[0m\u001b[0;34m)\u001b[0m\u001b[0;34m\u001b[0m\u001b[0;34m\u001b[0m\u001b[0m\n\u001b[0;32m--> 477\u001b[0;31m     \u001b[0;32mreturn\u001b[0m \u001b[0mindexed\u001b[0m\u001b[0;34m.\u001b[0m\u001b[0munstack\u001b[0m\u001b[0;34m(\u001b[0m\u001b[0mcolumns\u001b[0m\u001b[0;34m)\u001b[0m\u001b[0;34m\u001b[0m\u001b[0;34m\u001b[0m\u001b[0m\n\u001b[0m\u001b[1;32m    478\u001b[0m \u001b[0;34m\u001b[0m\u001b[0m\n\u001b[1;32m    479\u001b[0m \u001b[0;34m\u001b[0m\u001b[0m\n",
      "\u001b[0;32m/usr/local/anaconda3/envs/astronet/lib/python3.7/site-packages/pandas/core/series.py\u001b[0m in \u001b[0;36munstack\u001b[0;34m(self, level, fill_value)\u001b[0m\n\u001b[1;32m   3888\u001b[0m         \u001b[0;32mfrom\u001b[0m \u001b[0mpandas\u001b[0m\u001b[0;34m.\u001b[0m\u001b[0mcore\u001b[0m\u001b[0;34m.\u001b[0m\u001b[0mreshape\u001b[0m\u001b[0;34m.\u001b[0m\u001b[0mreshape\u001b[0m \u001b[0;32mimport\u001b[0m \u001b[0munstack\u001b[0m\u001b[0;34m\u001b[0m\u001b[0;34m\u001b[0m\u001b[0m\n\u001b[1;32m   3889\u001b[0m \u001b[0;34m\u001b[0m\u001b[0m\n\u001b[0;32m-> 3890\u001b[0;31m         \u001b[0;32mreturn\u001b[0m \u001b[0munstack\u001b[0m\u001b[0;34m(\u001b[0m\u001b[0mself\u001b[0m\u001b[0;34m,\u001b[0m \u001b[0mlevel\u001b[0m\u001b[0;34m,\u001b[0m \u001b[0mfill_value\u001b[0m\u001b[0;34m)\u001b[0m\u001b[0;34m\u001b[0m\u001b[0;34m\u001b[0m\u001b[0m\n\u001b[0m\u001b[1;32m   3891\u001b[0m \u001b[0;34m\u001b[0m\u001b[0m\n\u001b[1;32m   3892\u001b[0m     \u001b[0;31m# ----------------------------------------------------------------------\u001b[0m\u001b[0;34m\u001b[0m\u001b[0;34m\u001b[0m\u001b[0;34m\u001b[0m\u001b[0m\n",
      "\u001b[0;32m/usr/local/anaconda3/envs/astronet/lib/python3.7/site-packages/pandas/core/reshape/reshape.py\u001b[0m in \u001b[0;36munstack\u001b[0;34m(obj, level, fill_value)\u001b[0m\n\u001b[1;32m    423\u001b[0m             \u001b[0;32mreturn\u001b[0m \u001b[0m_unstack_extension_series\u001b[0m\u001b[0;34m(\u001b[0m\u001b[0mobj\u001b[0m\u001b[0;34m,\u001b[0m \u001b[0mlevel\u001b[0m\u001b[0;34m,\u001b[0m \u001b[0mfill_value\u001b[0m\u001b[0;34m)\u001b[0m\u001b[0;34m\u001b[0m\u001b[0;34m\u001b[0m\u001b[0m\n\u001b[1;32m    424\u001b[0m         unstacker = _Unstacker(\n\u001b[0;32m--> 425\u001b[0;31m             \u001b[0mobj\u001b[0m\u001b[0;34m.\u001b[0m\u001b[0mindex\u001b[0m\u001b[0;34m,\u001b[0m \u001b[0mlevel\u001b[0m\u001b[0;34m=\u001b[0m\u001b[0mlevel\u001b[0m\u001b[0;34m,\u001b[0m \u001b[0mconstructor\u001b[0m\u001b[0;34m=\u001b[0m\u001b[0mobj\u001b[0m\u001b[0;34m.\u001b[0m\u001b[0m_constructor_expanddim\u001b[0m\u001b[0;34m,\u001b[0m\u001b[0;34m\u001b[0m\u001b[0;34m\u001b[0m\u001b[0m\n\u001b[0m\u001b[1;32m    426\u001b[0m         )\n\u001b[1;32m    427\u001b[0m         return unstacker.get_result(\n",
      "\u001b[0;32m/usr/local/anaconda3/envs/astronet/lib/python3.7/site-packages/pandas/core/reshape/reshape.py\u001b[0m in \u001b[0;36m__init__\u001b[0;34m(self, index, level, constructor)\u001b[0m\n\u001b[1;32m    118\u001b[0m             \u001b[0;32mraise\u001b[0m \u001b[0mValueError\u001b[0m\u001b[0;34m(\u001b[0m\u001b[0;34m\"Unstacked DataFrame is too big, causing int32 overflow\"\u001b[0m\u001b[0;34m)\u001b[0m\u001b[0;34m\u001b[0m\u001b[0;34m\u001b[0m\u001b[0m\n\u001b[1;32m    119\u001b[0m \u001b[0;34m\u001b[0m\u001b[0m\n\u001b[0;32m--> 120\u001b[0;31m         \u001b[0mself\u001b[0m\u001b[0;34m.\u001b[0m\u001b[0m_make_selectors\u001b[0m\u001b[0;34m(\u001b[0m\u001b[0;34m)\u001b[0m\u001b[0;34m\u001b[0m\u001b[0;34m\u001b[0m\u001b[0m\n\u001b[0m\u001b[1;32m    121\u001b[0m \u001b[0;34m\u001b[0m\u001b[0m\n\u001b[1;32m    122\u001b[0m     \u001b[0;34m@\u001b[0m\u001b[0mcache_readonly\u001b[0m\u001b[0;34m\u001b[0m\u001b[0;34m\u001b[0m\u001b[0m\n",
      "\u001b[0;32m/usr/local/anaconda3/envs/astronet/lib/python3.7/site-packages/pandas/core/reshape/reshape.py\u001b[0m in \u001b[0;36m_make_selectors\u001b[0;34m(self)\u001b[0m\n\u001b[1;32m    167\u001b[0m \u001b[0;34m\u001b[0m\u001b[0m\n\u001b[1;32m    168\u001b[0m         \u001b[0;32mif\u001b[0m \u001b[0mmask\u001b[0m\u001b[0;34m.\u001b[0m\u001b[0msum\u001b[0m\u001b[0;34m(\u001b[0m\u001b[0;34m)\u001b[0m \u001b[0;34m<\u001b[0m \u001b[0mlen\u001b[0m\u001b[0;34m(\u001b[0m\u001b[0mself\u001b[0m\u001b[0;34m.\u001b[0m\u001b[0mindex\u001b[0m\u001b[0;34m)\u001b[0m\u001b[0;34m:\u001b[0m\u001b[0;34m\u001b[0m\u001b[0;34m\u001b[0m\u001b[0m\n\u001b[0;32m--> 169\u001b[0;31m             \u001b[0;32mraise\u001b[0m \u001b[0mValueError\u001b[0m\u001b[0;34m(\u001b[0m\u001b[0;34m\"Index contains duplicate entries, cannot reshape\"\u001b[0m\u001b[0;34m)\u001b[0m\u001b[0;34m\u001b[0m\u001b[0;34m\u001b[0m\u001b[0m\n\u001b[0m\u001b[1;32m    170\u001b[0m \u001b[0;34m\u001b[0m\u001b[0m\n\u001b[1;32m    171\u001b[0m         \u001b[0mself\u001b[0m\u001b[0;34m.\u001b[0m\u001b[0mgroup_index\u001b[0m \u001b[0;34m=\u001b[0m \u001b[0mcomp_index\u001b[0m\u001b[0;34m\u001b[0m\u001b[0;34m\u001b[0m\u001b[0m\n",
      "\u001b[0;31mValueError\u001b[0m: Index contains duplicate entries, cannot reshape"
     ]
    }
   ],
   "source": [
    "piv = full_df.pivot(index='mjd', columns='filter', values='flux')\n",
    "piv.head()"
   ]
  },
  {
   "cell_type": "code",
   "execution_count": null,
   "metadata": {},
   "outputs": [],
   "source": []
  },
  {
   "cell_type": "code",
   "execution_count": 151,
   "metadata": {},
   "outputs": [],
   "source": [
    "df = data[data['object_id'] == 745]"
   ]
  },
  {
   "cell_type": "code",
   "execution_count": 152,
   "metadata": {},
   "outputs": [
    {
     "data": {
      "text/html": [
       "<div>\n",
       "<style scoped>\n",
       "    .dataframe tbody tr th:only-of-type {\n",
       "        vertical-align: middle;\n",
       "    }\n",
       "\n",
       "    .dataframe tbody tr th {\n",
       "        vertical-align: top;\n",
       "    }\n",
       "\n",
       "    .dataframe thead th {\n",
       "        text-align: right;\n",
       "    }\n",
       "</style>\n",
       "<table border=\"1\" class=\"dataframe\">\n",
       "  <thead>\n",
       "    <tr style=\"text-align: right;\">\n",
       "      <th></th>\n",
       "      <th>object_id</th>\n",
       "      <th>mjd</th>\n",
       "      <th>filter</th>\n",
       "      <th>flux</th>\n",
       "      <th>flux_error</th>\n",
       "      <th>detected</th>\n",
       "    </tr>\n",
       "  </thead>\n",
       "  <tbody>\n",
       "    <tr>\n",
       "      <th>1157</th>\n",
       "      <td>745</td>\n",
       "      <td>60125.4094</td>\n",
       "      <td>lsstr</td>\n",
       "      <td>220.795212</td>\n",
       "      <td>1.492162</td>\n",
       "      <td>1</td>\n",
       "    </tr>\n",
       "    <tr>\n",
       "      <th>1158</th>\n",
       "      <td>745</td>\n",
       "      <td>60125.4171</td>\n",
       "      <td>lsstg</td>\n",
       "      <td>192.244293</td>\n",
       "      <td>1.432564</td>\n",
       "      <td>1</td>\n",
       "    </tr>\n",
       "    <tr>\n",
       "      <th>1159</th>\n",
       "      <td>745</td>\n",
       "      <td>60125.4248</td>\n",
       "      <td>lssti</td>\n",
       "      <td>203.250702</td>\n",
       "      <td>1.862000</td>\n",
       "      <td>1</td>\n",
       "    </tr>\n",
       "    <tr>\n",
       "      <th>1160</th>\n",
       "      <td>745</td>\n",
       "      <td>60125.4357</td>\n",
       "      <td>lsstz</td>\n",
       "      <td>183.633118</td>\n",
       "      <td>2.818825</td>\n",
       "      <td>1</td>\n",
       "    </tr>\n",
       "    <tr>\n",
       "      <th>1161</th>\n",
       "      <td>745</td>\n",
       "      <td>60125.4448</td>\n",
       "      <td>lssty</td>\n",
       "      <td>141.513290</td>\n",
       "      <td>11.663839</td>\n",
       "      <td>1</td>\n",
       "    </tr>\n",
       "  </tbody>\n",
       "</table>\n",
       "</div>"
      ],
      "text/plain": [
       "      object_id         mjd filter        flux  flux_error  detected\n",
       "1157        745  60125.4094  lsstr  220.795212    1.492162         1\n",
       "1158        745  60125.4171  lsstg  192.244293    1.432564         1\n",
       "1159        745  60125.4248  lssti  203.250702    1.862000         1\n",
       "1160        745  60125.4357  lsstz  183.633118    2.818825         1\n",
       "1161        745  60125.4448  lssty  141.513290   11.663839         1"
      ]
     },
     "execution_count": 152,
     "metadata": {},
     "output_type": "execute_result"
    }
   ],
   "source": [
    "df.head()"
   ]
  },
  {
   "cell_type": "code",
   "execution_count": 153,
   "metadata": {},
   "outputs": [],
   "source": [
    "gp_predict = fit_2d_gp(df)"
   ]
  },
  {
   "cell_type": "code",
   "execution_count": 154,
   "metadata": {},
   "outputs": [],
   "source": [
    "number_gp = 100"
   ]
  },
  {
   "cell_type": "code",
   "execution_count": 155,
   "metadata": {},
   "outputs": [
    {
     "data": {
      "text/plain": [
       "(100,)"
      ]
     },
     "execution_count": 155,
     "metadata": {},
     "output_type": "execute_result"
    }
   ],
   "source": [
    "gp_times = np.linspace(min(df['mjd']), max(df['mjd']), number_gp)\n",
    "gp_times.shape"
   ]
  },
  {
   "cell_type": "code",
   "execution_count": 156,
   "metadata": {},
   "outputs": [
    {
     "data": {
      "text/plain": [
       "(6,)"
      ]
     },
     "execution_count": 156,
     "metadata": {},
     "output_type": "execute_result"
    }
   ],
   "source": [
    "gp_wavelengths = np.vectorize(pb_wavelengths.get)(filters)\n",
    "gp_wavelengths.shape"
   ]
  },
  {
   "cell_type": "code",
   "execution_count": 157,
   "metadata": {},
   "outputs": [],
   "source": [
    "obj_gps = predict_2d_gp(gp_predict, gp_times, gp_wavelengths)"
   ]
  },
  {
   "cell_type": "code",
   "execution_count": 158,
   "metadata": {},
   "outputs": [
    {
     "data": {
      "text/plain": [
       "pandas.core.frame.DataFrame"
      ]
     },
     "execution_count": 158,
     "metadata": {},
     "output_type": "execute_result"
    }
   ],
   "source": [
    "type(obj_gps)"
   ]
  },
  {
   "cell_type": "code",
   "execution_count": 219,
   "metadata": {},
   "outputs": [],
   "source": [
    "inverse_pb_wavelengths = {v: k for k, v in pb_wavelengths.items()}"
   ]
  },
  {
   "cell_type": "code",
   "execution_count": 220,
   "metadata": {},
   "outputs": [
    {
     "data": {
      "text/html": [
       "<div>\n",
       "<style scoped>\n",
       "    .dataframe tbody tr th:only-of-type {\n",
       "        vertical-align: middle;\n",
       "    }\n",
       "\n",
       "    .dataframe tbody tr th {\n",
       "        vertical-align: top;\n",
       "    }\n",
       "\n",
       "    .dataframe thead th {\n",
       "        text-align: right;\n",
       "    }\n",
       "</style>\n",
       "<table border=\"1\" class=\"dataframe\">\n",
       "  <thead>\n",
       "    <tr style=\"text-align: right;\">\n",
       "      <th></th>\n",
       "      <th>mjd</th>\n",
       "      <th>flux</th>\n",
       "      <th>flux_error</th>\n",
       "      <th>filter</th>\n",
       "      <th>object_id</th>\n",
       "    </tr>\n",
       "  </thead>\n",
       "  <tbody>\n",
       "    <tr>\n",
       "      <th>0</th>\n",
       "      <td>60049.981500</td>\n",
       "      <td>270.651425</td>\n",
       "      <td>22.411688</td>\n",
       "      <td>lsstu</td>\n",
       "      <td>130755807</td>\n",
       "    </tr>\n",
       "    <tr>\n",
       "      <th>1</th>\n",
       "      <td>60050.355402</td>\n",
       "      <td>271.083707</td>\n",
       "      <td>20.605983</td>\n",
       "      <td>lsstu</td>\n",
       "      <td>130755807</td>\n",
       "    </tr>\n",
       "    <tr>\n",
       "      <th>2</th>\n",
       "      <td>60050.729304</td>\n",
       "      <td>271.459584</td>\n",
       "      <td>19.453395</td>\n",
       "      <td>lsstu</td>\n",
       "      <td>130755807</td>\n",
       "    </tr>\n",
       "    <tr>\n",
       "      <th>3</th>\n",
       "      <td>60051.103206</td>\n",
       "      <td>271.777628</td>\n",
       "      <td>19.097608</td>\n",
       "      <td>lsstu</td>\n",
       "      <td>130755807</td>\n",
       "    </tr>\n",
       "    <tr>\n",
       "      <th>4</th>\n",
       "      <td>60051.477108</td>\n",
       "      <td>272.036594</td>\n",
       "      <td>19.588107</td>\n",
       "      <td>lsstu</td>\n",
       "      <td>130755807</td>\n",
       "    </tr>\n",
       "  </tbody>\n",
       "</table>\n",
       "</div>"
      ],
      "text/plain": [
       "            mjd        flux  flux_error filter  object_id\n",
       "0  60049.981500  270.651425   22.411688  lsstu  130755807\n",
       "1  60050.355402  271.083707   20.605983  lsstu  130755807\n",
       "2  60050.729304  271.459584   19.453395  lsstu  130755807\n",
       "3  60051.103206  271.777628   19.097608  lsstu  130755807\n",
       "4  60051.477108  272.036594   19.588107  lsstu  130755807"
      ]
     },
     "execution_count": 220,
     "metadata": {},
     "output_type": "execute_result"
    }
   ],
   "source": [
    "obj_gps['filter'] = obj_gps['filter'].map(inverse_pb_wavelengths)\n",
    "obj_gps.head()"
   ]
  },
  {
   "cell_type": "code",
   "execution_count": 161,
   "metadata": {},
   "outputs": [],
   "source": [
    "# Central passbands wavelengths\n",
    "pb_wavelengths = {\"lsstu\": 3685., \"lsstg\": 4802., \"lsstr\": 6231.,\n",
    "                  \"lssti\": 7542., \"lsstz\": 8690., \"lssty\": 9736.}\n"
   ]
  },
  {
   "cell_type": "code",
   "execution_count": 162,
   "metadata": {},
   "outputs": [],
   "source": [
    "pb_colors = {'lsstu':'#984ea3', 'lsstg':'#4daf4a', 'lsstr':'#e41a1c', \n",
    "             'lssti':'#377eb8', 'lsstz':'#ff7f00', 'lssty':'#e3c530'} # colours for the plot\n",
    "\n",
    "def plot_real_data_and_model(obj_data, obj_model=None, number_col=2, \n",
    "                             show_title=False, show_legend=True):\n",
    "    \"\"\"Plots real data and model fluxes at the corresponding mjd\"\"\"\n",
    "    passbands = np.unique(obj_data['filter'])\n",
    "    passbands = ['lsstu', 'lsstg', 'lsstr', 'lssti', 'lsstz', 'lssty']\n",
    "    for pb in passbands:\n",
    "        obj_data_pb = obj_data[obj_data['filter'] == pb] # obj LC in that passband\n",
    "        if obj_model is not None:\n",
    "            obj_model_pb = obj_model[obj_model['filter'] == pb]\n",
    "            model_flux = obj_model_pb['flux']\n",
    "            plt.plot(obj_model_pb['mjd'], model_flux, color=pb_colors[pb], alpha=.7, label='')\n",
    "            try:\n",
    "                model_flux_error = obj_model_pb['flux_error']\n",
    "                plt.fill_between(x=obj_model_pb['mjd'], y1=model_flux-model_flux_error, \n",
    "                                 y2=model_flux+model_flux_error, color=pb_colors[pb], alpha=.15, label=None)\n",
    "            except:\n",
    "                pass\n",
    "        plt.errorbar(obj_data_pb['mjd'], obj_data_pb['flux'], obj_data_pb['flux_error'], \n",
    "                     fmt='o', color=pb_colors[pb], label=pb[-1])\n",
    "    plt.xlabel('Time (days)')\n",
    "    plt.ylabel('Flux units')\n",
    "    if show_title:\n",
    "        plt.title('Object ID: {}\\nPhoto-z = {:.3f}'.format(obj_data.meta['name'], obj_data.meta['z']))\n",
    "    if show_legend:\n",
    "        plt.legend(ncol=number_col, handletextpad=.3, borderaxespad=.3, \n",
    "                   labelspacing=.2, borderpad=.3, columnspacing=.4)"
   ]
  },
  {
   "cell_type": "code",
   "execution_count": 163,
   "metadata": {},
   "outputs": [
    {
     "data": {
      "text/html": [
       "<div>\n",
       "<style scoped>\n",
       "    .dataframe tbody tr th:only-of-type {\n",
       "        vertical-align: middle;\n",
       "    }\n",
       "\n",
       "    .dataframe tbody tr th {\n",
       "        vertical-align: top;\n",
       "    }\n",
       "\n",
       "    .dataframe thead th {\n",
       "        text-align: right;\n",
       "    }\n",
       "</style>\n",
       "<table border=\"1\" class=\"dataframe\">\n",
       "  <thead>\n",
       "    <tr style=\"text-align: right;\">\n",
       "      <th></th>\n",
       "      <th>mjd</th>\n",
       "      <th>flux</th>\n",
       "      <th>flux_error</th>\n",
       "      <th>filter</th>\n",
       "    </tr>\n",
       "  </thead>\n",
       "  <tbody>\n",
       "    <tr>\n",
       "      <th>0</th>\n",
       "      <td>60125.409400</td>\n",
       "      <td>85.239398</td>\n",
       "      <td>13.169184</td>\n",
       "      <td>lsstu</td>\n",
       "    </tr>\n",
       "    <tr>\n",
       "      <th>1</th>\n",
       "      <td>60126.658766</td>\n",
       "      <td>78.827047</td>\n",
       "      <td>12.062357</td>\n",
       "      <td>lsstu</td>\n",
       "    </tr>\n",
       "    <tr>\n",
       "      <th>2</th>\n",
       "      <td>60127.908131</td>\n",
       "      <td>72.413508</td>\n",
       "      <td>10.973103</td>\n",
       "      <td>lsstu</td>\n",
       "    </tr>\n",
       "    <tr>\n",
       "      <th>3</th>\n",
       "      <td>60129.157497</td>\n",
       "      <td>66.042017</td>\n",
       "      <td>9.900084</td>\n",
       "      <td>lsstu</td>\n",
       "    </tr>\n",
       "    <tr>\n",
       "      <th>4</th>\n",
       "      <td>60130.406863</td>\n",
       "      <td>59.760191</td>\n",
       "      <td>8.842291</td>\n",
       "      <td>lsstu</td>\n",
       "    </tr>\n",
       "  </tbody>\n",
       "</table>\n",
       "</div>"
      ],
      "text/plain": [
       "            mjd       flux  flux_error filter\n",
       "0  60125.409400  85.239398   13.169184  lsstu\n",
       "1  60126.658766  78.827047   12.062357  lsstu\n",
       "2  60127.908131  72.413508   10.973103  lsstu\n",
       "3  60129.157497  66.042017    9.900084  lsstu\n",
       "4  60130.406863  59.760191    8.842291  lsstu"
      ]
     },
     "execution_count": 163,
     "metadata": {},
     "output_type": "execute_result"
    }
   ],
   "source": [
    "obj_gps.head()"
   ]
  },
  {
   "cell_type": "code",
   "execution_count": 164,
   "metadata": {},
   "outputs": [
    {
     "data": {
      "image/png": "[encoded data removed]",
      "text/plain": [
       "<Figure size 864x576 with 1 Axes>"
      ]
     },
     "metadata": {
      "needs_background": "light"
     },
     "output_type": "display_data"
    }
   ],
   "source": [
    "plot_real_data_and_model(df, obj_model=obj_gps)"
   ]
  },
  {
   "cell_type": "code",
   "execution_count": 165,
   "metadata": {},
   "outputs": [
    {
     "data": {
      "text/html": [
       "<div>\n",
       "<style scoped>\n",
       "    .dataframe tbody tr th:only-of-type {\n",
       "        vertical-align: middle;\n",
       "    }\n",
       "\n",
       "    .dataframe tbody tr th {\n",
       "        vertical-align: top;\n",
       "    }\n",
       "\n",
       "    .dataframe thead th {\n",
       "        text-align: right;\n",
       "    }\n",
       "</style>\n",
       "<table border=\"1\" class=\"dataframe\">\n",
       "  <thead>\n",
       "    <tr style=\"text-align: right;\">\n",
       "      <th></th>\n",
       "      <th>mjd</th>\n",
       "      <th>flux</th>\n",
       "      <th>flux_error</th>\n",
       "      <th>filter</th>\n",
       "    </tr>\n",
       "  </thead>\n",
       "  <tbody>\n",
       "    <tr>\n",
       "      <th>0</th>\n",
       "      <td>60125.409400</td>\n",
       "      <td>85.239398</td>\n",
       "      <td>13.169184</td>\n",
       "      <td>lsstu</td>\n",
       "    </tr>\n",
       "    <tr>\n",
       "      <th>1</th>\n",
       "      <td>60126.658766</td>\n",
       "      <td>78.827047</td>\n",
       "      <td>12.062357</td>\n",
       "      <td>lsstu</td>\n",
       "    </tr>\n",
       "    <tr>\n",
       "      <th>2</th>\n",
       "      <td>60127.908131</td>\n",
       "      <td>72.413508</td>\n",
       "      <td>10.973103</td>\n",
       "      <td>lsstu</td>\n",
       "    </tr>\n",
       "    <tr>\n",
       "      <th>3</th>\n",
       "      <td>60129.157497</td>\n",
       "      <td>66.042017</td>\n",
       "      <td>9.900084</td>\n",
       "      <td>lsstu</td>\n",
       "    </tr>\n",
       "    <tr>\n",
       "      <th>4</th>\n",
       "      <td>60130.406863</td>\n",
       "      <td>59.760191</td>\n",
       "      <td>8.842291</td>\n",
       "      <td>lsstu</td>\n",
       "    </tr>\n",
       "  </tbody>\n",
       "</table>\n",
       "</div>"
      ],
      "text/plain": [
       "            mjd       flux  flux_error filter\n",
       "0  60125.409400  85.239398   13.169184  lsstu\n",
       "1  60126.658766  78.827047   12.062357  lsstu\n",
       "2  60127.908131  72.413508   10.973103  lsstu\n",
       "3  60129.157497  66.042017    9.900084  lsstu\n",
       "4  60130.406863  59.760191    8.842291  lsstu"
      ]
     },
     "execution_count": 165,
     "metadata": {},
     "output_type": "execute_result"
    }
   ],
   "source": [
    "obj_gps.head()"
   ]
  },
  {
   "cell_type": "code",
   "execution_count": 166,
   "metadata": {},
   "outputs": [
    {
     "data": {
      "text/html": [
       "<div>\n",
       "<style scoped>\n",
       "    .dataframe tbody tr th:only-of-type {\n",
       "        vertical-align: middle;\n",
       "    }\n",
       "\n",
       "    .dataframe tbody tr th {\n",
       "        vertical-align: top;\n",
       "    }\n",
       "\n",
       "    .dataframe thead th {\n",
       "        text-align: right;\n",
       "    }\n",
       "</style>\n",
       "<table border=\"1\" class=\"dataframe\">\n",
       "  <thead>\n",
       "    <tr style=\"text-align: right;\">\n",
       "      <th>filter</th>\n",
       "      <th>lsstg</th>\n",
       "      <th>lssti</th>\n",
       "      <th>lsstr</th>\n",
       "      <th>lsstu</th>\n",
       "      <th>lssty</th>\n",
       "      <th>lsstz</th>\n",
       "      <th>obj_id</th>\n",
       "    </tr>\n",
       "    <tr>\n",
       "      <th>mjd</th>\n",
       "      <th></th>\n",
       "      <th></th>\n",
       "      <th></th>\n",
       "      <th></th>\n",
       "      <th></th>\n",
       "      <th></th>\n",
       "      <th></th>\n",
       "    </tr>\n",
       "  </thead>\n",
       "  <tbody>\n",
       "    <tr>\n",
       "      <th>60125.409400</th>\n",
       "      <td>191.804452</td>\n",
       "      <td>203.486435</td>\n",
       "      <td>220.839308</td>\n",
       "      <td>85.239398</td>\n",
       "      <td>142.699996</td>\n",
       "      <td>183.006312</td>\n",
       "      <td>745</td>\n",
       "    </tr>\n",
       "    <tr>\n",
       "      <th>60126.658766</th>\n",
       "      <td>184.756912</td>\n",
       "      <td>199.536666</td>\n",
       "      <td>215.394826</td>\n",
       "      <td>78.827047</td>\n",
       "      <td>139.428623</td>\n",
       "      <td>179.251691</td>\n",
       "      <td>745</td>\n",
       "    </tr>\n",
       "    <tr>\n",
       "      <th>60127.908131</th>\n",
       "      <td>177.327218</td>\n",
       "      <td>195.580718</td>\n",
       "      <td>209.812026</td>\n",
       "      <td>72.413508</td>\n",
       "      <td>136.113325</td>\n",
       "      <td>175.363131</td>\n",
       "      <td>745</td>\n",
       "    </tr>\n",
       "    <tr>\n",
       "      <th>60129.157497</th>\n",
       "      <td>169.588797</td>\n",
       "      <td>191.617705</td>\n",
       "      <td>204.099033</td>\n",
       "      <td>66.042017</td>\n",
       "      <td>132.763736</td>\n",
       "      <td>171.368904</td>\n",
       "      <td>745</td>\n",
       "    </tr>\n",
       "    <tr>\n",
       "      <th>60130.406863</th>\n",
       "      <td>161.611846</td>\n",
       "      <td>187.648345</td>\n",
       "      <td>198.265394</td>\n",
       "      <td>59.760191</td>\n",
       "      <td>129.390911</td>\n",
       "      <td>167.296101</td>\n",
       "      <td>745</td>\n",
       "    </tr>\n",
       "  </tbody>\n",
       "</table>\n",
       "</div>"
      ],
      "text/plain": [
       "filter             lsstg       lssti       lsstr      lsstu       lssty  \\\n",
       "mjd                                                                       \n",
       "60125.409400  191.804452  203.486435  220.839308  85.239398  142.699996   \n",
       "60126.658766  184.756912  199.536666  215.394826  78.827047  139.428623   \n",
       "60127.908131  177.327218  195.580718  209.812026  72.413508  136.113325   \n",
       "60129.157497  169.588797  191.617705  204.099033  66.042017  132.763736   \n",
       "60130.406863  161.611846  187.648345  198.265394  59.760191  129.390911   \n",
       "\n",
       "filter             lsstz  obj_id  \n",
       "mjd                               \n",
       "60125.409400  183.006312     745  \n",
       "60126.658766  179.251691     745  \n",
       "60127.908131  175.363131     745  \n",
       "60129.157497  171.368904     745  \n",
       "60130.406863  167.296101     745  "
      ]
     },
     "execution_count": 166,
     "metadata": {},
     "output_type": "execute_result"
    }
   ],
   "source": [
    "piv = obj_gps.pivot(index='mjd', columns='filter', values='flux')\n",
    "piv['obj_id'] = 745\n",
    "piv.head()"
   ]
  },
  {
   "cell_type": "code",
   "execution_count": null,
   "metadata": {},
   "outputs": [],
   "source": []
  },
  {
   "cell_type": "code",
   "execution_count": null,
   "metadata": {},
   "outputs": [],
   "source": []
  },
  {
   "cell_type": "code",
   "execution_count": null,
   "metadata": {},
   "outputs": [],
   "source": []
  },
  {
   "cell_type": "code",
   "execution_count": null,
   "metadata": {},
   "outputs": [],
   "source": [
    "import numpy as np\n",
    "import tensorflow as tf\n",
    "import gpflow\n",
    "from gpflow.ci_utils import ci_niter\n",
    "from gpflow.optimizers import NaturalGradient\n",
    "from gpflow import set_trainable\n",
    "import matplotlib.pyplot as plt\n",
    "\n",
    "%matplotlib inline"
   ]
  },
  {
   "cell_type": "code",
   "execution_count": null,
   "metadata": {},
   "outputs": [],
   "source": [
    "object_name = 745\n",
    "\n",
    "df = data[data['object_id'] == object_name]\n",
    "df = df[df['filter'] == 'lsstr']\n",
    "df['flux'].shape, df['flux_error'].shape"
   ]
  },
  {
   "cell_type": "code",
   "execution_count": null,
   "metadata": {},
   "outputs": [],
   "source": [
    "y = df['flux']\n",
    "y_err = df['flux_error']\n",
    "y.shape, y_err.shape"
   ]
  },
  {
   "cell_type": "code",
   "execution_count": null,
   "metadata": {},
   "outputs": [],
   "source": [
    "pp = np.column_stack([y, y_err])\n",
    "pp.shape"
   ]
  },
  {
   "cell_type": "code",
   "execution_count": null,
   "metadata": {},
   "outputs": [],
   "source": [
    "y = y.values.reshape(-1, 1)\n",
    "y_err = y_err.values.reshape(-1, 1)\n",
    "y.shape, y_err.shape"
   ]
  },
  {
   "cell_type": "code",
   "execution_count": null,
   "metadata": {},
   "outputs": [],
   "source": [
    "Y_data = np.hstack([y, y_err])\n",
    "Y_data.shape"
   ]
  },
  {
   "cell_type": "code",
   "execution_count": null,
   "metadata": {},
   "outputs": [],
   "source": [
    "mjd = df['mjd']\n",
    "obj_wavelengths = df['filter'].map(pb_wavelengths)\n",
    "obj_wavelengths"
   ]
  },
  {
   "cell_type": "code",
   "execution_count": null,
   "metadata": {},
   "outputs": [],
   "source": [
    "obj_wavelengths = obj_wavelengths.values.reshape(-1, 1)\n",
    "mjd = mjd.values.reshape(-1, 1)"
   ]
  },
  {
   "cell_type": "code",
   "execution_count": null,
   "metadata": {},
   "outputs": [],
   "source": [
    "mjd.shape"
   ]
  },
  {
   "cell_type": "code",
   "execution_count": null,
   "metadata": {},
   "outputs": [],
   "source": [
    "X = np.hstack([mjd, obj_wavelengths])\n",
    "X.shape"
   ]
  },
  {
   "cell_type": "code",
   "execution_count": null,
   "metadata": {},
   "outputs": [],
   "source": [
    "X"
   ]
  },
  {
   "cell_type": "code",
   "execution_count": null,
   "metadata": {},
   "outputs": [],
   "source": [
    "class HeteroskedasticGaussian(gpflow.likelihoods.Likelihood):\n",
    "    def __init__(self, **kwargs):\n",
    "        # this likelihood expects a single latent function F, and two columns in the data matrix Y:\n",
    "        super().__init__(latent_dim=1, observation_dim=2, **kwargs)\n",
    "\n",
    "    def _log_prob(self, H, Y):\n",
    "        # log_prob is used by the quadrature fallback of variational_expectations and predict_log_density.\n",
    "        # Because variational_expectations is implemented analytically below, this is not actually needed,\n",
    "        # but is included for pedagogical purposes.\n",
    "        # Note that currently relying on the quadrature would fail due to https://github.com/GPflow/GPflow/issues/966\n",
    "        Y, NoiseVar = Y[:, 0], Y[:, 1]\n",
    "        return gpflow.logdensities.gaussian(Y, H, NoiseVar)\n",
    "\n",
    "    def _variational_expectations(self, Fmu, Fvar, Y):\n",
    "        Y, NoiseVar = Y[:, 0], Y[:, 1]\n",
    "        Fmu, Fvar = Fmu[:, 0], Fvar[:, 0]\n",
    "        return (\n",
    "            -0.5 * np.log(2 * np.pi)\n",
    "            - 0.5 * tf.math.log(NoiseVar)\n",
    "            - 0.5 * (tf.math.square(Y - Fmu) + Fvar) / NoiseVar\n",
    "        )\n",
    "\n",
    "    # The following two methods are abstract in the base class.\n",
    "    # They need to be implemented even if not used.\n",
    "\n",
    "    def _predict_log_density(self, Fmu, Fvar, Y):\n",
    "        raise NotImplementedError\n",
    "\n",
    "    def _predict_mean_and_var(self, Fmu, Fvar):\n",
    "        raise NotImplementedError"
   ]
  },
  {
   "cell_type": "code",
   "execution_count": null,
   "metadata": {},
   "outputs": [],
   "source": [
    "Y_data.shape, X.shape"
   ]
  },
  {
   "cell_type": "code",
   "execution_count": null,
   "metadata": {},
   "outputs": [],
   "source": [
    "np.isnan(np.sum(Y_data)), np.isnan(np.sum(X))"
   ]
  },
  {
   "cell_type": "code",
   "execution_count": null,
   "metadata": {},
   "outputs": [],
   "source": [
    "# model construction\n",
    "likelihood = HeteroskedasticGaussian()\n",
    "# kernel = gpflow.kernels.Matern52(lengthscales=0.5)\n",
    "kernel = gpflow.kernels.Matern52(active_dims=[0], lengthscales=2) + gpflow.kernels.Matern52(active_dims=[1], lengthscales=2)\n",
    "    \n",
    "m = gpflow.models.VGP((X, Y_data), kernel=kernel, likelihood=likelihood, num_latent_gps=1)"
   ]
  },
  {
   "cell_type": "code",
   "execution_count": null,
   "metadata": {},
   "outputs": [],
   "source": [
    "m"
   ]
  },
  {
   "cell_type": "code",
   "execution_count": null,
   "metadata": {},
   "outputs": [],
   "source": [
    "set_trainable(m.q_mu, False)\n",
    "set_trainable(m.q_sqrt, False)"
   ]
  },
  {
   "cell_type": "code",
   "execution_count": null,
   "metadata": {},
   "outputs": [],
   "source": [
    "opt = gpflow.optimizers.Scipy()"
   ]
  },
  {
   "cell_type": "code",
   "execution_count": null,
   "metadata": {},
   "outputs": [],
   "source": [
    "opt_logs = opt.minimize(m.training_loss, m.trainable_variables, options=dict(maxiter=100))"
   ]
  },
  {
   "cell_type": "code",
   "execution_count": null,
   "metadata": {},
   "outputs": [],
   "source": [
    "from gpflow.utilities import print_summary\n",
    "# You can change the default format as follows:\n",
    "gpflow.config.set_default_summary_fmt(\"notebook\")\n",
    "print_summary(m)"
   ]
  },
  {
   "cell_type": "code",
   "execution_count": null,
   "metadata": {},
   "outputs": [],
   "source": [
    "# natgrad = NaturalGradient(gamma=1.0)\n",
    "# adam = tf.optimizers.Adam()"
   ]
  },
  {
   "cell_type": "code",
   "execution_count": null,
   "metadata": {},
   "outputs": [],
   "source": [
    "# for _ in range(ci_niter(1000)):\n",
    "#     natgrad.minimize(model.training_loss, [(model.q_mu, model.q_sqrt)])\n",
    "#     adam.minimize(model.training_loss, model.trainable_variables)"
   ]
  },
  {
   "cell_type": "code",
   "execution_count": null,
   "metadata": {},
   "outputs": [],
   "source": [
    "m = gpflow.models.VGP(\n",
    "    (X, Y_data), kernel=kernel, likelihood=likelihood, num_latent_gps=1\n",
    ")\n",
    "\n",
    "opt = gpflow.optimizers.Scipy()\n",
    "opt.minimize(\n",
    "    m.training_loss, variables=m.trainable_variables, options=dict(maxiter=25), method=\"L-BFGS-B\"\n",
    ")\n",
    "# in practice, the optimization needs around 250 iterations to converge"
   ]
  },
  {
   "cell_type": "code",
   "execution_count": null,
   "metadata": {},
   "outputs": [],
   "source": []
  },
  {
   "cell_type": "code",
   "execution_count": null,
   "metadata": {},
   "outputs": [],
   "source": [
    "x_grid = np.linspace(-3, 3, 40)\n",
    "xx, yy = np.meshgrid(x_grid, x_grid)\n",
    "Xplot = np.vstack((xx.flatten(), yy.flatten())).T"
   ]
  },
  {
   "cell_type": "code",
   "execution_count": null,
   "metadata": {},
   "outputs": [],
   "source": [
    "p, _ = m.predict_y(Xplot)"
   ]
  },
  {
   "cell_type": "code",
   "execution_count": null,
   "metadata": {},
   "outputs": [],
   "source": []
  },
  {
   "cell_type": "code",
   "execution_count": null,
   "metadata": {},
   "outputs": [],
   "source": []
  },
  {
   "cell_type": "code",
   "execution_count": null,
   "metadata": {},
   "outputs": [],
   "source": []
  },
  {
   "cell_type": "code",
   "execution_count": null,
   "metadata": {},
   "outputs": [],
   "source": []
  },
  {
   "cell_type": "code",
   "execution_count": null,
   "metadata": {},
   "outputs": [],
   "source": [
    "y_err.shape, X.shape, y.shape"
   ]
  },
  {
   "cell_type": "code",
   "execution_count": null,
   "metadata": {},
   "outputs": [],
   "source": [
    "X[0].min().round(), X[0].max().round()"
   ]
  },
  {
   "cell_type": "code",
   "execution_count": null,
   "metadata": {},
   "outputs": [],
   "source": [
    "X[:, 0]"
   ]
  },
  {
   "cell_type": "code",
   "execution_count": null,
   "metadata": {},
   "outputs": [],
   "source": [
    "del mu, var"
   ]
  },
  {
   "cell_type": "code",
   "execution_count": null,
   "metadata": {},
   "outputs": [],
   "source": [
    "#let's do some plotting!\n",
    "xx = np.linspace(X[:, 0].min().round(), X[:, 0].max().round(), 200)[:, None]"
   ]
  },
  {
   "cell_type": "code",
   "execution_count": null,
   "metadata": {},
   "outputs": [],
   "source": [
    "obj_wavelengths[0]"
   ]
  },
  {
   "cell_type": "code",
   "execution_count": null,
   "metadata": {},
   "outputs": [],
   "source": [
    "data_tensor = tf.ragged.constant(xx)\n",
    "data_tensor.to_tensor()"
   ]
  },
  {
   "cell_type": "code",
   "execution_count": null,
   "metadata": {},
   "outputs": [],
   "source": [
    "w = [6231.] * 200\n",
    "W = np.array(w)\n",
    "W = W.reshape(W.shape[0], 1)"
   ]
  },
  {
   "cell_type": "code",
   "execution_count": null,
   "metadata": {},
   "outputs": [],
   "source": [
    "mu, var = m.predict_f([data_tensor.to_tensor(), W])"
   ]
  },
  {
   "cell_type": "code",
   "execution_count": null,
   "metadata": {},
   "outputs": [],
   "source": [
    "plt.figure(figsize=(12, 6))\n",
    "plt.plot(xx, mu, \"C0\")\n",
    "plt.plot(xx, mu + 2 * np.sqrt(var), \"C0\", lw=0.5)\n",
    "plt.plot(xx, mu - 2 * np.sqrt(var), \"C0\", lw=0.5)\n",
    "plt.fill_between(\n",
    "    xx[:, 0],\n",
    "    mu[:, 0] - 1.96 * np.sqrt(var[:, 0]),\n",
    "    mu[:, 0] + 1.96 * np.sqrt(var[:, 0]),\n",
    "    color=\"C4\",\n",
    "    alpha=0.2,\n",
    ")"
   ]
  },
  {
   "cell_type": "code",
   "execution_count": null,
   "metadata": {},
   "outputs": [],
   "source": [
    "#let's do some plotting!\n",
    "xx = np.linspace(X[:, 0].min().round(), X[:, 0].max().round(), 200)[:, None]\n",
    "\n",
    "mu, var = m.predict_f(xx)\n",
    "\n",
    "plt.figure(figsize=(12, 6))\n",
    "plt.plot(xx, mu, \"C0\")\n",
    "plt.plot(xx, mu + 2 * np.sqrt(var), \"C0\", lw=0.5)\n",
    "plt.plot(xx, mu - 2 * np.sqrt(var), \"C0\", lw=0.5)\n",
    "\n",
    "plt.fill_between(\n",
    "    xx[:, 0],\n",
    "    mu[:, 0] - 1.96 * np.sqrt(var[:, 0]),\n",
    "    mu[:, 0] + 1.96 * np.sqrt(var[:, 0]),\n",
    "    color=\"C4\",\n",
    "    alpha=0.2,\n",
    ")"
   ]
  },
  {
   "cell_type": "code",
   "execution_count": null,
   "metadata": {},
   "outputs": [],
   "source": [
    "np.random.seed(1)  # for reproducibility\n",
    "\n",
    "\n",
    "def generate_data(N=80):\n",
    "    X = np.random.rand(N)[:, None] * 10 - 5  # Inputs, shape N x 1\n",
    "    X2 = [1500] * N\n",
    "    X2 = np.array(X2)\n",
    "    X2 = X2.reshape(X2.shape[0], 1)\n",
    "    F = 2.5 * np.sin(6 * X) + np.cos(3 * X)  # Mean function values\n",
    "    NoiseVar = 2 * np.exp(-((X - 2) ** 2) / 4) + 0.3  # Noise variances\n",
    "    Y = np.random.randn(N, 1) * np.sqrt(NoiseVar)  # Noisy data\n",
    "    return X, Y, NoiseVar, X2\n",
    "\n",
    "\n",
    "X, Y, NoiseVar, X2 = generate_data()"
   ]
  },
  {
   "cell_type": "code",
   "execution_count": null,
   "metadata": {},
   "outputs": [],
   "source": [
    "X.shape, X2.shape, Y.shape"
   ]
  },
  {
   "cell_type": "code",
   "execution_count": null,
   "metadata": {},
   "outputs": [],
   "source": [
    "Y.shape"
   ]
  },
  {
   "cell_type": "code",
   "execution_count": null,
   "metadata": {},
   "outputs": [],
   "source": [
    "Y_data = np.hstack([Y, NoiseVar])"
   ]
  },
  {
   "cell_type": "code",
   "execution_count": null,
   "metadata": {},
   "outputs": [],
   "source": [
    "Y_data.shape"
   ]
  },
  {
   "cell_type": "code",
   "execution_count": null,
   "metadata": {},
   "outputs": [],
   "source": [
    "XX = np.hstack([X, X2])\n",
    "XX.shape"
   ]
  },
  {
   "cell_type": "code",
   "execution_count": null,
   "metadata": {},
   "outputs": [],
   "source": [
    "# model construction\n",
    "likelihood = HeteroskedasticGaussian()\n",
    "# kernel = gpflow.kernels.Matern52(lengthscales=0.5)\n",
    "kernel = gpflow.kernels.Matern52(active_dims=[0], lengthscales=0.5) + gpflow.kernels.Matern52(active_dims=[1], lengthscales=0.5)\n",
    "model = gpflow.models.VGP((XX, Y_data), kernel=kernel, likelihood=likelihood, num_latent_gps=1)"
   ]
  },
  {
   "cell_type": "code",
   "execution_count": null,
   "metadata": {},
   "outputs": [],
   "source": [
    "model"
   ]
  },
  {
   "cell_type": "code",
   "execution_count": null,
   "metadata": {},
   "outputs": [],
   "source": [
    "natgrad = NaturalGradient(gamma=1.0)\n",
    "adam = tf.optimizers.Adam()\n",
    "\n",
    "set_trainable(model.q_mu, False)\n",
    "set_trainable(model.q_sqrt, False)\n",
    "\n",
    "for _ in range(ci_niter(1000)):\n",
    "    natgrad.minimize(model.training_loss, [(model.q_mu, model.q_sqrt)])\n",
    "    adam.minimize(model.training_loss, model.trainable_variables)"
   ]
  },
  {
   "cell_type": "code",
   "execution_count": null,
   "metadata": {},
   "outputs": [],
   "source": [
    "# let's do some plotting!\n",
    "xx = np.linspace(-5, 5, 200)[:, None]\n",
    "\n",
    "mu, var = model.predict_f(xx)\n",
    "\n",
    "plt.figure(figsize=(12, 6))\n",
    "plt.plot(xx, mu, \"C0\")\n",
    "plt.plot(xx, mu + 2 * np.sqrt(var), \"C0\", lw=0.5)\n",
    "plt.plot(xx, mu - 2 * np.sqrt(var), \"C0\", lw=0.5)\n",
    "\n",
    "plt.errorbar(\n",
    "    X.squeeze(),\n",
    "    Y.squeeze(),\n",
    "    yerr=2 * (np.sqrt(NoiseVar)).squeeze(),\n",
    "    marker=\"x\",\n",
    "    lw=0,\n",
    "    elinewidth=1.0,\n",
    "    color=\"C1\",\n",
    ")\n",
    "_ = plt.xlim(-5, 5)"
   ]
  },
  {
   "cell_type": "code",
   "execution_count": null,
   "metadata": {},
   "outputs": [],
   "source": [
    "np.isnan(np.sum(Y_data)), np.isnan(np.sum(X))"
   ]
  },
  {
   "cell_type": "code",
   "execution_count": null,
   "metadata": {},
   "outputs": [],
   "source": []
  }
 ],
 "metadata": {
  "kernelspec": {
   "display_name": "Python 3",
   "language": "python",
   "name": "python3"
  },
  "language_info": {
   "codemirror_mode": {
    "name": "ipython",
    "version": 3
   },
   "file_extension": ".py",
   "mimetype": "text/x-python",
   "name": "python",
   "nbconvert_exporter": "python",
   "pygments_lexer": "ipython3",
   "version": "3.7.8"
  }
 },
 "nbformat": 4,
 "nbformat_minor": 4
}
