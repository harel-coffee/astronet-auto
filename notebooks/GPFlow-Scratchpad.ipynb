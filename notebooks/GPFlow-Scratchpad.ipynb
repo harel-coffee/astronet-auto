{
 "cells": [
  {
   "cell_type": "code",
   "execution_count": null,
   "metadata": {},
   "outputs": [],
   "source": [
    "!which python"
   ]
  },
  {
   "cell_type": "code",
   "execution_count": 52,
   "metadata": {},
   "outputs": [],
   "source": [
    "import numpy as np\n",
    "import matplotlib.pyplot as plt\n",
    "import tensorflow as tf\n",
    "\n",
    "import gpflow\n",
    "from gpflow.ci_utils import ci_niter\n",
    "\n",
    "np.random.seed(0)"
   ]
  },
  {
   "cell_type": "code",
   "execution_count": 53,
   "metadata": {},
   "outputs": [],
   "source": [
    "# Define some configuration constants.\n",
    "\n",
    "num_data = 25\n",
    "noise_std = 0.3\n",
    "optimisation_steps = ci_niter(100)"
   ]
  },
  {
   "cell_type": "code",
   "execution_count": 54,
   "metadata": {},
   "outputs": [
    {
     "data": {
      "text/plain": [
       "[<matplotlib.lines.Line2D at 0x7f9254cafc90>]"
      ]
     },
     "execution_count": 54,
     "metadata": {},
     "output_type": "execute_result"
    },
    {
     "data": {
      "image/png": "[encoded data removed]",
      "text/plain": [
       "<Figure size 432x288 with 1 Axes>"
      ]
     },
     "metadata": {
      "needs_background": "light"
     },
     "output_type": "display_data"
    }
   ],
   "source": [
    "# Create dummy data.\n",
    "\n",
    "X = np.random.randn(num_data, 1)  # [N, 2]\n",
    "Y = np.sin(X) + 2 * np.cos(X) + np.random.randn(*X.shape) * noise_std  # [N, 1]\n",
    "plt.plot(X, Y, \"o\")"
   ]
  },
  {
   "cell_type": "code",
   "execution_count": 55,
   "metadata": {},
   "outputs": [
    {
     "data": {
      "text/html": [
       "&lt;gpflow.models.gpr.GPR object at 0x7f925481b950&gt;\n",
       "<table>\n",
       "<thead>\n",
       "<tr><th>name                              </th><th>class    </th><th>transform       </th><th>prior  </th><th>trainable  </th><th>shape  </th><th>dtype  </th><th>value              </th></tr>\n",
       "</thead>\n",
       "<tbody>\n",
       "<tr><td>GPR.kernel.kernels[0].variance    </td><td>Parameter</td><td>Softplus        </td><td>       </td><td>True       </td><td>()     </td><td>float64</td><td>1.0                </td></tr>\n",
       "<tr><td>GPR.kernel.kernels[0].lengthscales</td><td>Parameter</td><td>Softplus        </td><td>       </td><td>True       </td><td>(2,)   </td><td>float64</td><td>[1. 2.]            </td></tr>\n",
       "<tr><td>GPR.kernel.kernels[1].variance    </td><td>Parameter</td><td>Softplus        </td><td>       </td><td>True       </td><td>()     </td><td>float64</td><td>1.0                </td></tr>\n",
       "<tr><td>GPR.likelihood.variance           </td><td>Parameter</td><td>Softplus + Shift</td><td>       </td><td>True       </td><td>()     </td><td>float64</td><td>0.09000000000000002</td></tr>\n",
       "</tbody>\n",
       "</table>"
      ],
      "text/plain": [
       "<gpflow.models.gpr.GPR object at 0x7f925481b950>\n",
       "name                                class      transform         prior    trainable    shape    dtype    value\n",
       "----------------------------------  ---------  ----------------  -------  -----------  -------  -------  -------------------\n",
       "GPR.kernel.kernels[0].variance      Parameter  Softplus                   True         ()       float64  1.0\n",
       "GPR.kernel.kernels[0].lengthscales  Parameter  Softplus                   True         (2,)     float64  [1. 2.]\n",
       "GPR.kernel.kernels[1].variance      Parameter  Softplus                   True         ()       float64  1.0\n",
       "GPR.likelihood.variance             Parameter  Softplus + Shift           True         ()       float64  0.09000000000000002"
      ]
     },
     "execution_count": 55,
     "metadata": {},
     "output_type": "execute_result"
    }
   ],
   "source": [
    "# Set up model and print\n",
    "\n",
    "kernel = gpflow.kernels.SquaredExponential(lengthscales=[1.0, 2.0]) + gpflow.kernels.Linear()\n",
    "model = gpflow.models.GPR((X, Y), kernel, noise_variance=noise_std ** 2)\n",
    "model"
   ]
  },
  {
   "cell_type": "code",
   "execution_count": 56,
   "metadata": {},
   "outputs": [
    {
     "data": {
      "image/png": "[encoded data removed]",
      "text/plain": [
       "<Figure size 432x288 with 1 Axes>"
      ]
     },
     "metadata": {
      "needs_background": "light"
     },
     "output_type": "display_data"
    }
   ],
   "source": [
    "# We define a function that plots the model's prediction (in the form of samples) together with the data.\n",
    "# Importantly, this function has no other argument than `fig: matplotlib.figure.Figure` and `ax: matplotlib.figure.Axes`.\n",
    "\n",
    "\n",
    "def plot_prediction(fig, ax):\n",
    "    Xnew = np.linspace(X.min() - 0.5, X.max() + 0.5, 100).reshape(-1, 1)\n",
    "    Ypred = model.predict_f_samples(Xnew, full_cov=True, num_samples=1)\n",
    "    ax.plot(Xnew.flatten(), np.squeeze(Ypred).T, \"C2\", linestyle='none', marker='x', alpha=0.2)\n",
    "    ax.plot(X, Y, \"o\")\n",
    "\n",
    "\n",
    "# Let's check if the function does the desired plotting\n",
    "fig = plt.figure()\n",
    "ax = fig.subplots()\n",
    "plot_prediction(fig, ax)\n",
    "plt.show()"
   ]
  },
  {
   "cell_type": "code",
   "execution_count": 57,
   "metadata": {},
   "outputs": [],
   "source": [
    "Xnew = np.linspace(X.min() - 0.5, X.max() + 0.5, 100).reshape(-1, 1)\n",
    "Ypred = model.predict_f_samples(Xnew, full_cov=True, num_samples=100)"
   ]
  },
  {
   "cell_type": "code",
   "execution_count": 58,
   "metadata": {},
   "outputs": [
    {
     "data": {
      "text/plain": [
       "(100, 1)"
      ]
     },
     "execution_count": 58,
     "metadata": {},
     "output_type": "execute_result"
    }
   ],
   "source": [
    "Xnew.shape"
   ]
  },
  {
   "cell_type": "code",
   "execution_count": 59,
   "metadata": {},
   "outputs": [
    {
     "data": {
      "text/plain": [
       "<tf.Tensor: shape=(100, 100, 1), dtype=float64, numpy=\n",
       "array([[[-2.50725432],\n",
       "        [-2.46025416],\n",
       "        [-2.4173888 ],\n",
       "        ...,\n",
       "        [ 0.34881455],\n",
       "        [ 0.39898696],\n",
       "        [ 0.45535341]],\n",
       "\n",
       "       [[-2.74815692],\n",
       "        [-2.75498319],\n",
       "        [-2.74685399],\n",
       "        ...,\n",
       "        [-0.23041316],\n",
       "        [-0.19212785],\n",
       "        [-0.14525209]],\n",
       "\n",
       "       [[-2.69144675],\n",
       "        [-2.71068625],\n",
       "        [-2.72188184],\n",
       "        ...,\n",
       "        [ 0.06650814],\n",
       "        [ 0.14397928],\n",
       "        [ 0.23039612]],\n",
       "\n",
       "       ...,\n",
       "\n",
       "       [[-2.93583767],\n",
       "        [-2.87039235],\n",
       "        [-2.79903535],\n",
       "        ...,\n",
       "        [-0.02862354],\n",
       "        [ 0.06286709],\n",
       "        [ 0.16046342]],\n",
       "\n",
       "       [[-1.92661387],\n",
       "        [-1.98585166],\n",
       "        [-2.04247778],\n",
       "        ...,\n",
       "        [ 0.37338262],\n",
       "        [ 0.42263201],\n",
       "        [ 0.47924499]],\n",
       "\n",
       "       [[-1.15507965],\n",
       "        [-1.18027667],\n",
       "        [-1.21025044],\n",
       "        ...,\n",
       "        [ 0.1164727 ],\n",
       "        [ 0.20843285],\n",
       "        [ 0.31191602]]])>"
      ]
     },
     "execution_count": 59,
     "metadata": {},
     "output_type": "execute_result"
    }
   ],
   "source": [
    "Ypred"
   ]
  },
  {
   "cell_type": "code",
   "execution_count": 60,
   "metadata": {},
   "outputs": [
    {
     "data": {
      "text/plain": [
       "(100, 100)"
      ]
     },
     "execution_count": 60,
     "metadata": {},
     "output_type": "execute_result"
    }
   ],
   "source": [
    "np.squeeze(Ypred).T.shape"
   ]
  },
  {
   "cell_type": "code",
   "execution_count": 61,
   "metadata": {},
   "outputs": [
    {
     "data": {
      "text/plain": [
       "TensorShape([100, 100, 1])"
      ]
     },
     "execution_count": 61,
     "metadata": {},
     "output_type": "execute_result"
    }
   ],
   "source": [
    "Ypred.shape"
   ]
  },
  {
   "cell_type": "code",
   "execution_count": 62,
   "metadata": {},
   "outputs": [],
   "source": [
    "import numpy as np\n",
    "import matplotlib.pyplot as plt\n",
    "import tensorflow as tf\n",
    "from gpflow.utilities import print_summary\n",
    "\n",
    "# The lines below are specific to the notebook format\n",
    "%matplotlib inline\n",
    "plt.rcParams[\"figure.figsize\"] = (12, 6)"
   ]
  },
  {
   "cell_type": "code",
   "execution_count": 63,
   "metadata": {},
   "outputs": [
    {
     "data": {
      "image/png": "[encoded data removed]",
      "text/plain": [
       "<Figure size 864x432 with 1 Axes>"
      ]
     },
     "metadata": {
      "needs_background": "light"
     },
     "output_type": "display_data"
    }
   ],
   "source": [
    "X = np.random.randn(num_data, 1)  # [N, 2]\n",
    "Y = np.sin(X) + 2 * np.cos(X) + np.random.randn(*X.shape) * noise_std  # [N, 1]\n",
    "\n",
    "_ = plt.plot(X, Y, \"kx\", mew=2)"
   ]
  },
  {
   "cell_type": "code",
   "execution_count": 64,
   "metadata": {},
   "outputs": [],
   "source": [
    "k = gpflow.kernels.Matern52()"
   ]
  },
  {
   "cell_type": "code",
   "execution_count": 65,
   "metadata": {},
   "outputs": [
    {
     "data": {
      "text/html": [
       "<table>\n",
       "<thead>\n",
       "<tr><th>name                 </th><th>class    </th><th>transform  </th><th>prior  </th><th>trainable  </th><th>shape  </th><th>dtype  </th><th style=\"text-align: right;\">  value</th></tr>\n",
       "</thead>\n",
       "<tbody>\n",
       "<tr><td>Matern52.variance    </td><td>Parameter</td><td>Softplus   </td><td>       </td><td>True       </td><td>()     </td><td>float64</td><td style=\"text-align: right;\">      1</td></tr>\n",
       "<tr><td>Matern52.lengthscales</td><td>Parameter</td><td>Softplus   </td><td>       </td><td>True       </td><td>()     </td><td>float64</td><td style=\"text-align: right;\">      1</td></tr>\n",
       "</tbody>\n",
       "</table>"
      ],
      "text/plain": [
       "<IPython.core.display.HTML object>"
      ]
     },
     "metadata": {},
     "output_type": "display_data"
    }
   ],
   "source": [
    "print_summary(k)"
   ]
  },
  {
   "cell_type": "code",
   "execution_count": 66,
   "metadata": {},
   "outputs": [],
   "source": [
    "m = gpflow.models.GPR(data=(X, Y), kernel=k, mean_function=None)"
   ]
  },
  {
   "cell_type": "code",
   "execution_count": 67,
   "metadata": {},
   "outputs": [
    {
     "data": {
      "text/plain": [
       "<tf.Variable 'UnreadVariable' shape=() dtype=float64, numpy=-1.0502256128148466>"
      ]
     },
     "execution_count": 67,
     "metadata": {},
     "output_type": "execute_result"
    }
   ],
   "source": [
    "m.likelihood.variance.assign(0.01)\n",
    "m.kernel.lengthscales.assign(0.3)"
   ]
  },
  {
   "cell_type": "code",
   "execution_count": 68,
   "metadata": {},
   "outputs": [],
   "source": [
    "opt = gpflow.optimizers.Scipy()"
   ]
  },
  {
   "cell_type": "code",
   "execution_count": 69,
   "metadata": {},
   "outputs": [
    {
     "data": {
      "text/html": [
       "<table>\n",
       "<thead>\n",
       "<tr><th>name                   </th><th>class    </th><th>transform       </th><th>prior  </th><th>trainable  </th><th>shape  </th><th>dtype  </th><th style=\"text-align: right;\">    value</th></tr>\n",
       "</thead>\n",
       "<tbody>\n",
       "<tr><td>GPR.kernel.variance    </td><td>Parameter</td><td>Softplus        </td><td>       </td><td>True       </td><td>()     </td><td>float64</td><td style=\"text-align: right;\">5.51076  </td></tr>\n",
       "<tr><td>GPR.kernel.lengthscales</td><td>Parameter</td><td>Softplus        </td><td>       </td><td>True       </td><td>()     </td><td>float64</td><td style=\"text-align: right;\">2.56799  </td></tr>\n",
       "<tr><td>GPR.likelihood.variance</td><td>Parameter</td><td>Softplus + Shift</td><td>       </td><td>True       </td><td>()     </td><td>float64</td><td style=\"text-align: right;\">0.0781864</td></tr>\n",
       "</tbody>\n",
       "</table>"
      ],
      "text/plain": [
       "<IPython.core.display.HTML object>"
      ]
     },
     "metadata": {},
     "output_type": "display_data"
    }
   ],
   "source": [
    "opt_logs = opt.minimize(m.training_loss, m.trainable_variables, options=dict(maxiter=100))\n",
    "print_summary(m)"
   ]
  },
  {
   "cell_type": "code",
   "execution_count": 70,
   "metadata": {},
   "outputs": [
    {
     "data": {
      "text/plain": [
       "((25, 1), (25, 1))"
      ]
     },
     "execution_count": 70,
     "metadata": {},
     "output_type": "execute_result"
    }
   ],
   "source": [
    "X.shape, Y.shape"
   ]
  },
  {
   "cell_type": "code",
   "execution_count": 71,
   "metadata": {},
   "outputs": [
    {
     "data": {
      "image/png": "[encoded data removed]",
      "text/plain": [
       "<Figure size 864x432 with 1 Axes>"
      ]
     },
     "metadata": {
      "needs_background": "light"
     },
     "output_type": "display_data"
    }
   ],
   "source": [
    "## generate test points for prediction\n",
    "xx = np.linspace(-2, 2, 100).reshape(100, 1)  # test points must be of shape (N, D)\n",
    "\n",
    "## predict mean and variance of latent GP at test points\n",
    "mean, var = m.predict_f(xx)\n",
    "\n",
    "## generate 10 samples from posterior\n",
    "tf.random.set_seed(1)  # for reproducibility\n",
    "samples = m.predict_f_samples(xx, 10)  # shape (10, 100, 1)\n",
    "\n",
    "## plot\n",
    "plt.figure(figsize=(12, 6))\n",
    "plt.plot(X, Y, \"kx\", mew=2)\n",
    "plt.plot(xx, mean, \"C2\", linestyle='none', marker='x')\n",
    "plt.fill_between(\n",
    "    xx[:, 0],\n",
    "    mean[:, 0] - 1.96 * np.sqrt(var[:, 0]),\n",
    "    mean[:, 0] + 1.96 * np.sqrt(var[:, 0]),\n",
    "    color=\"C3\",\n",
    "    alpha=0.2,\n",
    ")\n",
    "\n",
    "plt.plot(xx, samples[:, :, 0].numpy().T, \"C0\", linewidth=0.5)\n",
    "_ = plt.xlim(-2, 2)"
   ]
  },
  {
   "cell_type": "code",
   "execution_count": null,
   "metadata": {},
   "outputs": [],
   "source": [
    "mean"
   ]
  },
  {
   "cell_type": "code",
   "execution_count": null,
   "metadata": {},
   "outputs": [],
   "source": [
    "xx"
   ]
  },
  {
   "cell_type": "code",
   "execution_count": null,
   "metadata": {},
   "outputs": [],
   "source": []
  },
  {
   "cell_type": "code",
   "execution_count": null,
   "metadata": {},
   "outputs": [],
   "source": []
  },
  {
   "cell_type": "code",
   "execution_count": 103,
   "metadata": {},
   "outputs": [],
   "source": [
    "import pandas as pd\n",
    "import numpy as np"
   ]
  },
  {
   "cell_type": "code",
   "execution_count": 104,
   "metadata": {},
   "outputs": [
    {
     "data": {
      "text/plain": [
       "(1421705, 6)"
      ]
     },
     "execution_count": 104,
     "metadata": {},
     "output_type": "execute_result"
    }
   ],
   "source": [
    "data = pd.read_csv(\"~/data/plasticc/training_set.csv\", sep=',')\n",
    "data.shape"
   ]
  },
  {
   "cell_type": "code",
   "execution_count": 105,
   "metadata": {},
   "outputs": [],
   "source": [
    "data = data.loc[data.detected == 1]  # Update dataframe with only detected points"
   ]
  },
  {
   "cell_type": "code",
   "execution_count": 106,
   "metadata": {},
   "outputs": [
    {
     "data": {
      "text/plain": [
       "(236880, 6)"
      ]
     },
     "execution_count": 106,
     "metadata": {},
     "output_type": "execute_result"
    }
   ],
   "source": [
    "data.shape"
   ]
  },
  {
   "cell_type": "code",
   "execution_count": 107,
   "metadata": {},
   "outputs": [],
   "source": [
    "def remap_filters(df):  # maybe not in snmachine (raise issue/channel)\n",
    "    \"\"\"Function to remap integer filters to the corresponding lsst filters and\n",
    "    also to set filter name syntax to what snmachine already recognizes\n",
    "\n",
    "    df: pandas.dataframe\n",
    "        Dataframe of lightcurve observations\n",
    "    \"\"\"\n",
    "    df.rename({'passband': 'filter'}, axis='columns', inplace=True)\n",
    "    filter_replace = {0: 'lsstu', 1: 'lsstg', 2: 'lsstr', 3: 'lssti',\n",
    "                      4: 'lsstz', 5: 'lssty'}\n",
    "    df['filter'].replace(to_replace=filter_replace, inplace=True)\n",
    "    return df\n"
   ]
  },
  {
   "cell_type": "code",
   "execution_count": 108,
   "metadata": {},
   "outputs": [
    {
     "data": {
      "text/html": [
       "<div>\n",
       "<style scoped>\n",
       "    .dataframe tbody tr th:only-of-type {\n",
       "        vertical-align: middle;\n",
       "    }\n",
       "\n",
       "    .dataframe tbody tr th {\n",
       "        vertical-align: top;\n",
       "    }\n",
       "\n",
       "    .dataframe thead th {\n",
       "        text-align: right;\n",
       "    }\n",
       "</style>\n",
       "<table border=\"1\" class=\"dataframe\">\n",
       "  <thead>\n",
       "    <tr style=\"text-align: right;\">\n",
       "      <th></th>\n",
       "      <th>object_id</th>\n",
       "      <th>mjd</th>\n",
       "      <th>filter</th>\n",
       "      <th>flux</th>\n",
       "      <th>flux_error</th>\n",
       "      <th>detected</th>\n",
       "    </tr>\n",
       "  </thead>\n",
       "  <tbody>\n",
       "    <tr>\n",
       "      <th>0</th>\n",
       "      <td>615</td>\n",
       "      <td>59750.4229</td>\n",
       "      <td>lsstr</td>\n",
       "      <td>-544.810303</td>\n",
       "      <td>3.622952</td>\n",
       "      <td>1</td>\n",
       "    </tr>\n",
       "    <tr>\n",
       "      <th>1</th>\n",
       "      <td>615</td>\n",
       "      <td>59750.4306</td>\n",
       "      <td>lsstg</td>\n",
       "      <td>-816.434326</td>\n",
       "      <td>5.553370</td>\n",
       "      <td>1</td>\n",
       "    </tr>\n",
       "    <tr>\n",
       "      <th>2</th>\n",
       "      <td>615</td>\n",
       "      <td>59750.4383</td>\n",
       "      <td>lssti</td>\n",
       "      <td>-471.385529</td>\n",
       "      <td>3.801213</td>\n",
       "      <td>1</td>\n",
       "    </tr>\n",
       "    <tr>\n",
       "      <th>3</th>\n",
       "      <td>615</td>\n",
       "      <td>59750.4450</td>\n",
       "      <td>lsstz</td>\n",
       "      <td>-388.984985</td>\n",
       "      <td>11.395031</td>\n",
       "      <td>1</td>\n",
       "    </tr>\n",
       "    <tr>\n",
       "      <th>4</th>\n",
       "      <td>615</td>\n",
       "      <td>59752.4070</td>\n",
       "      <td>lsstr</td>\n",
       "      <td>-681.858887</td>\n",
       "      <td>4.041204</td>\n",
       "      <td>1</td>\n",
       "    </tr>\n",
       "  </tbody>\n",
       "</table>\n",
       "</div>"
      ],
      "text/plain": [
       "   object_id         mjd filter        flux  flux_error  detected\n",
       "0        615  59750.4229  lsstr -544.810303    3.622952         1\n",
       "1        615  59750.4306  lsstg -816.434326    5.553370         1\n",
       "2        615  59750.4383  lssti -471.385529    3.801213         1\n",
       "3        615  59750.4450  lsstz -388.984985   11.395031         1\n",
       "4        615  59752.4070  lsstr -681.858887    4.041204         1"
      ]
     },
     "execution_count": 108,
     "metadata": {},
     "output_type": "execute_result"
    }
   ],
   "source": [
    "data = remap_filters(df=data)\n",
    "data.rename({'flux_err': 'flux_error'}, axis='columns', inplace=True)  # snmachine and PLAsTiCC uses a different denomination\n",
    "data.head()"
   ]
  },
  {
   "cell_type": "code",
   "execution_count": 109,
   "metadata": {},
   "outputs": [],
   "source": [
    "import re\n",
    "# Abstract column names from dataset\n",
    "for col in data.columns:\n",
    "    if re.search('mjd', col):  # catches the column that has `mjd` in its name\n",
    "        data.mjd_col = col\n",
    "    if re.search('id', col):  # catches the column that has `id` in its name\n",
    "        data.id_col = col"
   ]
  },
  {
   "cell_type": "code",
   "execution_count": 110,
   "metadata": {},
   "outputs": [
    {
     "data": {
      "text/plain": [
       "'object_id'"
      ]
     },
     "execution_count": 110,
     "metadata": {},
     "output_type": "execute_result"
    }
   ],
   "source": [
    "data.id_col"
   ]
  },
  {
   "cell_type": "code",
   "execution_count": 111,
   "metadata": {},
   "outputs": [],
   "source": [
    "number_invalid_objs = 0  # Some objects may have empty data\n",
    "number_objs = len(data[data.id_col].unique())\n",
    "object_names = []"
   ]
  },
  {
   "cell_type": "code",
   "execution_count": 112,
   "metadata": {},
   "outputs": [
    {
     "data": {
      "text/html": [
       "<div>\n",
       "<style scoped>\n",
       "    .dataframe tbody tr th:only-of-type {\n",
       "        vertical-align: middle;\n",
       "    }\n",
       "\n",
       "    .dataframe tbody tr th {\n",
       "        vertical-align: top;\n",
       "    }\n",
       "\n",
       "    .dataframe thead th {\n",
       "        text-align: right;\n",
       "    }\n",
       "</style>\n",
       "<table border=\"1\" class=\"dataframe\">\n",
       "  <thead>\n",
       "    <tr style=\"text-align: right;\">\n",
       "      <th></th>\n",
       "      <th>object_id</th>\n",
       "      <th>mjd</th>\n",
       "      <th>filter</th>\n",
       "      <th>flux</th>\n",
       "      <th>flux_error</th>\n",
       "      <th>detected</th>\n",
       "    </tr>\n",
       "  </thead>\n",
       "  <tbody>\n",
       "    <tr>\n",
       "      <th>0</th>\n",
       "      <td>615</td>\n",
       "      <td>59750.4229</td>\n",
       "      <td>lsstr</td>\n",
       "      <td>-544.810303</td>\n",
       "      <td>3.622952</td>\n",
       "      <td>1</td>\n",
       "    </tr>\n",
       "    <tr>\n",
       "      <th>1</th>\n",
       "      <td>615</td>\n",
       "      <td>59750.4306</td>\n",
       "      <td>lsstg</td>\n",
       "      <td>-816.434326</td>\n",
       "      <td>5.553370</td>\n",
       "      <td>1</td>\n",
       "    </tr>\n",
       "    <tr>\n",
       "      <th>2</th>\n",
       "      <td>615</td>\n",
       "      <td>59750.4383</td>\n",
       "      <td>lssti</td>\n",
       "      <td>-471.385529</td>\n",
       "      <td>3.801213</td>\n",
       "      <td>1</td>\n",
       "    </tr>\n",
       "    <tr>\n",
       "      <th>3</th>\n",
       "      <td>615</td>\n",
       "      <td>59750.4450</td>\n",
       "      <td>lsstz</td>\n",
       "      <td>-388.984985</td>\n",
       "      <td>11.395031</td>\n",
       "      <td>1</td>\n",
       "    </tr>\n",
       "    <tr>\n",
       "      <th>4</th>\n",
       "      <td>615</td>\n",
       "      <td>59752.4070</td>\n",
       "      <td>lsstr</td>\n",
       "      <td>-681.858887</td>\n",
       "      <td>4.041204</td>\n",
       "      <td>1</td>\n",
       "    </tr>\n",
       "    <tr>\n",
       "      <th>...</th>\n",
       "      <td>...</td>\n",
       "      <td>...</td>\n",
       "      <td>...</td>\n",
       "      <td>...</td>\n",
       "      <td>...</td>\n",
       "      <td>...</td>\n",
       "    </tr>\n",
       "    <tr>\n",
       "      <th>1421641</th>\n",
       "      <td>130779836</td>\n",
       "      <td>60133.3766</td>\n",
       "      <td>lssti</td>\n",
       "      <td>304.545258</td>\n",
       "      <td>28.338671</td>\n",
       "      <td>1</td>\n",
       "    </tr>\n",
       "    <tr>\n",
       "      <th>1421642</th>\n",
       "      <td>130779836</td>\n",
       "      <td>60137.1041</td>\n",
       "      <td>lssti</td>\n",
       "      <td>305.615570</td>\n",
       "      <td>28.171988</td>\n",
       "      <td>1</td>\n",
       "    </tr>\n",
       "    <tr>\n",
       "      <th>1421643</th>\n",
       "      <td>130779836</td>\n",
       "      <td>60138.1329</td>\n",
       "      <td>lssti</td>\n",
       "      <td>270.237976</td>\n",
       "      <td>28.013514</td>\n",
       "      <td>1</td>\n",
       "    </tr>\n",
       "    <tr>\n",
       "      <th>1421645</th>\n",
       "      <td>130779836</td>\n",
       "      <td>60142.1321</td>\n",
       "      <td>lssti</td>\n",
       "      <td>276.659332</td>\n",
       "      <td>27.884199</td>\n",
       "      <td>1</td>\n",
       "    </tr>\n",
       "    <tr>\n",
       "      <th>1421649</th>\n",
       "      <td>130779836</td>\n",
       "      <td>60159.0981</td>\n",
       "      <td>lssty</td>\n",
       "      <td>183.245865</td>\n",
       "      <td>29.652933</td>\n",
       "      <td>1</td>\n",
       "    </tr>\n",
       "  </tbody>\n",
       "</table>\n",
       "<p>236880 rows × 6 columns</p>\n",
       "</div>"
      ],
      "text/plain": [
       "         object_id         mjd filter        flux  flux_error  detected\n",
       "0              615  59750.4229  lsstr -544.810303    3.622952         1\n",
       "1              615  59750.4306  lsstg -816.434326    5.553370         1\n",
       "2              615  59750.4383  lssti -471.385529    3.801213         1\n",
       "3              615  59750.4450  lsstz -388.984985   11.395031         1\n",
       "4              615  59752.4070  lsstr -681.858887    4.041204         1\n",
       "...            ...         ...    ...         ...         ...       ...\n",
       "1421641  130779836  60133.3766  lssti  304.545258   28.338671         1\n",
       "1421642  130779836  60137.1041  lssti  305.615570   28.171988         1\n",
       "1421643  130779836  60138.1329  lssti  270.237976   28.013514         1\n",
       "1421645  130779836  60142.1321  lssti  276.659332   27.884199         1\n",
       "1421649  130779836  60159.0981  lssty  183.245865   29.652933         1\n",
       "\n",
       "[236880 rows x 6 columns]"
      ]
     },
     "execution_count": 112,
     "metadata": {},
     "output_type": "execute_result"
    }
   ],
   "source": [
    "data"
   ]
  },
  {
   "cell_type": "code",
   "execution_count": 113,
   "metadata": {},
   "outputs": [],
   "source": [
    "import matplotlib.pyplot as plt\n",
    "%matplotlib inline"
   ]
  },
  {
   "cell_type": "code",
   "execution_count": 114,
   "metadata": {},
   "outputs": [
    {
     "data": {
      "text/html": [
       "<div>\n",
       "<style scoped>\n",
       "    .dataframe tbody tr th:only-of-type {\n",
       "        vertical-align: middle;\n",
       "    }\n",
       "\n",
       "    .dataframe tbody tr th {\n",
       "        vertical-align: top;\n",
       "    }\n",
       "\n",
       "    .dataframe thead th {\n",
       "        text-align: right;\n",
       "    }\n",
       "</style>\n",
       "<table border=\"1\" class=\"dataframe\">\n",
       "  <thead>\n",
       "    <tr style=\"text-align: right;\">\n",
       "      <th></th>\n",
       "      <th>object_id</th>\n",
       "      <th>mjd</th>\n",
       "      <th>filter</th>\n",
       "      <th>flux</th>\n",
       "      <th>flux_error</th>\n",
       "      <th>detected</th>\n",
       "    </tr>\n",
       "  </thead>\n",
       "  <tbody>\n",
       "    <tr>\n",
       "      <th>0</th>\n",
       "      <td>615</td>\n",
       "      <td>59750.4229</td>\n",
       "      <td>lsstr</td>\n",
       "      <td>-544.810303</td>\n",
       "      <td>3.622952</td>\n",
       "      <td>1</td>\n",
       "    </tr>\n",
       "    <tr>\n",
       "      <th>1</th>\n",
       "      <td>615</td>\n",
       "      <td>59750.4306</td>\n",
       "      <td>lsstg</td>\n",
       "      <td>-816.434326</td>\n",
       "      <td>5.553370</td>\n",
       "      <td>1</td>\n",
       "    </tr>\n",
       "    <tr>\n",
       "      <th>2</th>\n",
       "      <td>615</td>\n",
       "      <td>59750.4383</td>\n",
       "      <td>lssti</td>\n",
       "      <td>-471.385529</td>\n",
       "      <td>3.801213</td>\n",
       "      <td>1</td>\n",
       "    </tr>\n",
       "    <tr>\n",
       "      <th>3</th>\n",
       "      <td>615</td>\n",
       "      <td>59750.4450</td>\n",
       "      <td>lsstz</td>\n",
       "      <td>-388.984985</td>\n",
       "      <td>11.395031</td>\n",
       "      <td>1</td>\n",
       "    </tr>\n",
       "    <tr>\n",
       "      <th>4</th>\n",
       "      <td>615</td>\n",
       "      <td>59752.4070</td>\n",
       "      <td>lsstr</td>\n",
       "      <td>-681.858887</td>\n",
       "      <td>4.041204</td>\n",
       "      <td>1</td>\n",
       "    </tr>\n",
       "  </tbody>\n",
       "</table>\n",
       "</div>"
      ],
      "text/plain": [
       "   object_id         mjd filter        flux  flux_error  detected\n",
       "0        615  59750.4229  lsstr -544.810303    3.622952         1\n",
       "1        615  59750.4306  lsstg -816.434326    5.553370         1\n",
       "2        615  59750.4383  lssti -471.385529    3.801213         1\n",
       "3        615  59750.4450  lsstz -388.984985   11.395031         1\n",
       "4        615  59752.4070  lsstr -681.858887    4.041204         1"
      ]
     },
     "execution_count": 114,
     "metadata": {},
     "output_type": "execute_result"
    }
   ],
   "source": [
    "data.head()"
   ]
  },
  {
   "cell_type": "code",
   "execution_count": 115,
   "metadata": {},
   "outputs": [
    {
     "data": {
      "text/plain": [
       "['lsstg', 'lssti', 'lsstr', 'lsstu', 'lssty', 'lsstz']"
      ]
     },
     "execution_count": 115,
     "metadata": {},
     "output_type": "execute_result"
    }
   ],
   "source": [
    "filters = data['filter']\n",
    "filters = list(np.unique(filters))\n",
    "filters"
   ]
  },
  {
   "cell_type": "code",
   "execution_count": 116,
   "metadata": {},
   "outputs": [
    {
     "data": {
      "text/html": [
       "<div>\n",
       "<style scoped>\n",
       "    .dataframe tbody tr th:only-of-type {\n",
       "        vertical-align: middle;\n",
       "    }\n",
       "\n",
       "    .dataframe tbody tr th {\n",
       "        vertical-align: top;\n",
       "    }\n",
       "\n",
       "    .dataframe thead th {\n",
       "        text-align: right;\n",
       "    }\n",
       "</style>\n",
       "<table border=\"1\" class=\"dataframe\">\n",
       "  <thead>\n",
       "    <tr style=\"text-align: right;\">\n",
       "      <th></th>\n",
       "      <th>object_id</th>\n",
       "      <th>mjd</th>\n",
       "      <th>filter</th>\n",
       "      <th>flux</th>\n",
       "      <th>flux_error</th>\n",
       "      <th>detected</th>\n",
       "    </tr>\n",
       "  </thead>\n",
       "  <tbody>\n",
       "    <tr>\n",
       "      <th>0</th>\n",
       "      <td>615</td>\n",
       "      <td>59750.4229</td>\n",
       "      <td>lsstr</td>\n",
       "      <td>-544.810303</td>\n",
       "      <td>3.622952</td>\n",
       "      <td>1</td>\n",
       "    </tr>\n",
       "    <tr>\n",
       "      <th>1</th>\n",
       "      <td>615</td>\n",
       "      <td>59750.4306</td>\n",
       "      <td>lsstg</td>\n",
       "      <td>-816.434326</td>\n",
       "      <td>5.553370</td>\n",
       "      <td>1</td>\n",
       "    </tr>\n",
       "    <tr>\n",
       "      <th>2</th>\n",
       "      <td>615</td>\n",
       "      <td>59750.4383</td>\n",
       "      <td>lssti</td>\n",
       "      <td>-471.385529</td>\n",
       "      <td>3.801213</td>\n",
       "      <td>1</td>\n",
       "    </tr>\n",
       "    <tr>\n",
       "      <th>3</th>\n",
       "      <td>615</td>\n",
       "      <td>59750.4450</td>\n",
       "      <td>lsstz</td>\n",
       "      <td>-388.984985</td>\n",
       "      <td>11.395031</td>\n",
       "      <td>1</td>\n",
       "    </tr>\n",
       "    <tr>\n",
       "      <th>4</th>\n",
       "      <td>615</td>\n",
       "      <td>59752.4070</td>\n",
       "      <td>lsstr</td>\n",
       "      <td>-681.858887</td>\n",
       "      <td>4.041204</td>\n",
       "      <td>1</td>\n",
       "    </tr>\n",
       "    <tr>\n",
       "      <th>...</th>\n",
       "      <td>...</td>\n",
       "      <td>...</td>\n",
       "      <td>...</td>\n",
       "      <td>...</td>\n",
       "      <td>...</td>\n",
       "      <td>...</td>\n",
       "    </tr>\n",
       "    <tr>\n",
       "      <th>1421641</th>\n",
       "      <td>130779836</td>\n",
       "      <td>60133.3766</td>\n",
       "      <td>lssti</td>\n",
       "      <td>304.545258</td>\n",
       "      <td>28.338671</td>\n",
       "      <td>1</td>\n",
       "    </tr>\n",
       "    <tr>\n",
       "      <th>1421642</th>\n",
       "      <td>130779836</td>\n",
       "      <td>60137.1041</td>\n",
       "      <td>lssti</td>\n",
       "      <td>305.615570</td>\n",
       "      <td>28.171988</td>\n",
       "      <td>1</td>\n",
       "    </tr>\n",
       "    <tr>\n",
       "      <th>1421643</th>\n",
       "      <td>130779836</td>\n",
       "      <td>60138.1329</td>\n",
       "      <td>lssti</td>\n",
       "      <td>270.237976</td>\n",
       "      <td>28.013514</td>\n",
       "      <td>1</td>\n",
       "    </tr>\n",
       "    <tr>\n",
       "      <th>1421645</th>\n",
       "      <td>130779836</td>\n",
       "      <td>60142.1321</td>\n",
       "      <td>lssti</td>\n",
       "      <td>276.659332</td>\n",
       "      <td>27.884199</td>\n",
       "      <td>1</td>\n",
       "    </tr>\n",
       "    <tr>\n",
       "      <th>1421649</th>\n",
       "      <td>130779836</td>\n",
       "      <td>60159.0981</td>\n",
       "      <td>lssty</td>\n",
       "      <td>183.245865</td>\n",
       "      <td>29.652933</td>\n",
       "      <td>1</td>\n",
       "    </tr>\n",
       "  </tbody>\n",
       "</table>\n",
       "<p>236880 rows × 6 columns</p>\n",
       "</div>"
      ],
      "text/plain": [
       "         object_id         mjd filter        flux  flux_error  detected\n",
       "0              615  59750.4229  lsstr -544.810303    3.622952         1\n",
       "1              615  59750.4306  lsstg -816.434326    5.553370         1\n",
       "2              615  59750.4383  lssti -471.385529    3.801213         1\n",
       "3              615  59750.4450  lsstz -388.984985   11.395031         1\n",
       "4              615  59752.4070  lsstr -681.858887    4.041204         1\n",
       "...            ...         ...    ...         ...         ...       ...\n",
       "1421641  130779836  60133.3766  lssti  304.545258   28.338671         1\n",
       "1421642  130779836  60137.1041  lssti  305.615570   28.171988         1\n",
       "1421643  130779836  60138.1329  lssti  270.237976   28.013514         1\n",
       "1421645  130779836  60142.1321  lssti  276.659332   27.884199         1\n",
       "1421649  130779836  60159.0981  lssty  183.245865   29.652933         1\n",
       "\n",
       "[236880 rows x 6 columns]"
      ]
     },
     "execution_count": 116,
     "metadata": {},
     "output_type": "execute_result"
    }
   ],
   "source": [
    "data"
   ]
  },
  {
   "cell_type": "code",
   "execution_count": 117,
   "metadata": {},
   "outputs": [
    {
     "data": {
      "text/plain": [
       "(55, 6)"
      ]
     },
     "execution_count": 117,
     "metadata": {},
     "output_type": "execute_result"
    }
   ],
   "source": [
    "data[data['object_id'] == 1920].shape"
   ]
  },
  {
   "cell_type": "code",
   "execution_count": 118,
   "metadata": {},
   "outputs": [],
   "source": [
    "colours = {\n",
    "    'lsstu': '#9a0eea', \n",
    "    'lsstg': '#75bbfd', \n",
    "    'lsstr': '#76ff7b',\n",
    "    'lssti': '#fdde6c', \n",
    "    'lsstz': '#f97306', \n",
    "    'lssty': '#e50000'\n",
    "}"
   ]
  },
  {
   "cell_type": "code",
   "execution_count": 119,
   "metadata": {},
   "outputs": [
    {
     "name": "stdout",
     "output_type": "stream",
     "text": [
      "#9a0eea\n"
     ]
    }
   ],
   "source": [
    "print(colours['lsstu'])"
   ]
  },
  {
   "cell_type": "code",
   "execution_count": 120,
   "metadata": {},
   "outputs": [],
   "source": [
    "# Central passbands wavelengths\n",
    "pb_wavelengths = {\"lsstu\": 3685., \"lsstg\": 4802., \"lsstr\": 6231.,\n",
    "                  \"lssti\": 7542., \"lsstz\": 8690., \"lssty\": 9736.}\n"
   ]
  },
  {
   "cell_type": "code",
   "execution_count": 121,
   "metadata": {},
   "outputs": [],
   "source": [
    "from pylab import rcParams\n",
    "rcParams['figure.figsize'] = 12, 8"
   ]
  },
  {
   "cell_type": "code",
   "execution_count": 122,
   "metadata": {},
   "outputs": [],
   "source": [
    "def plot_object(object_name, df, filters):\n",
    "    for passband in filters:\n",
    "        data = df[df['object_id'] == object_name]\n",
    "        data = data[data['filter'] == passband]\n",
    "        plt.errorbar(x=data['mjd'], y=data['flux'], yerr=data['flux_error'], \n",
    "                     linestyle='none', \n",
    "                     marker='o', \n",
    "                     color=colours[passband]\n",
    "                    )"
   ]
  },
  {
   "cell_type": "code",
   "execution_count": 123,
   "metadata": {},
   "outputs": [
    {
     "data": {
      "image/png": "[encoded data removed]",
      "text/plain": [
       "<Figure size 864x576 with 1 Axes>"
      ]
     },
     "metadata": {
      "needs_background": "light"
     },
     "output_type": "display_data"
    }
   ],
   "source": [
    "plot_object(1124, data, filters)"
   ]
  },
  {
   "cell_type": "code",
   "execution_count": 247,
   "metadata": {},
   "outputs": [],
   "source": [
    "import george\n",
    "import numpy as np\n",
    "import pandas as pd\n",
    "from astropy.table import Table, vstack\n",
    "import scipy.optimize as op\n",
    "from functools import partial\n",
    "\n",
    "\n",
    "def fit_2d_gp(obj_data, return_kernel=False, **kwargs):\n",
    "    \"\"\"Fit a 2D Gaussian process.\n",
    "\n",
    "    If required, predict the GP at evenly spaced points along a light curve.\n",
    "\n",
    "    Parameters\n",
    "    ----------\n",
    "    obj_data : pandas.core.frame.DataFrame or astropy.table.Table\n",
    "        Time, flux and flux error of the data (specific filter of an object).\n",
    "    return_kernel : Bool, default = False\n",
    "        Whether to return the used kernel.\n",
    "    kwargs : dict\n",
    "        Additional keyword arguments that are ignored at the moment. We allow\n",
    "        additional keyword arguments so that the various functions that\n",
    "        call this one can be called with the same arguments.\n",
    "\n",
    "    Returns\n",
    "    -------\n",
    "    kernel: george.gp.GP.kernel, optional\n",
    "        The kernel used to fit the GP.\n",
    "    gp_predict : functools.partial of george.gp.GP\n",
    "        The GP instance that was used to fit the object.\n",
    "    \"\"\"\n",
    "    guess_length_scale = 20.0  # a parameter of the Matern32Kernel\n",
    "\n",
    "    #obj_data = preprocess_obs(obj_data, **kwargs)  # preprocess obs\n",
    "\n",
    "    obj_times = obj_data.mjd\n",
    "    obj_flux = obj_data.flux\n",
    "    obj_flux_error = obj_data.flux_error\n",
    "    obj_wavelengths = obj_data['filter'].map(pb_wavelengths)\n",
    "\n",
    "    def neg_log_like(p):  # Objective function: negative log-likelihood\n",
    "        gp.set_parameter_vector(p)\n",
    "        loglike = gp.log_likelihood(obj_flux, quiet=True)\n",
    "        return -loglike if np.isfinite(loglike) else 1e25\n",
    "\n",
    "    def grad_neg_log_like(p):  # Gradient of the objective function.\n",
    "        gp.set_parameter_vector(p)\n",
    "        return -gp.grad_log_likelihood(obj_flux, quiet=True)\n",
    "\n",
    "    # Use the highest signal-to-noise observation to estimate the scale. We\n",
    "    # include an error floor so that in the case of very high\n",
    "    # signal-to-noise observations we pick the maximum flux value.\n",
    "    signal_to_noises = np.abs(obj_flux) / np.sqrt(\n",
    "        obj_flux_error ** 2 + (1e-2 * np.max(obj_flux)) ** 2\n",
    "    )\n",
    "    scale = np.abs(obj_flux[signal_to_noises.idxmax()])\n",
    "\n",
    "    kernel = (0.5 * scale) ** 2 * george.kernels.Matern32Kernel([\n",
    "        guess_length_scale ** 2, 6000 ** 2], ndim=2)\n",
    "    kernel.freeze_parameter(\"k2:metric:log_M_1_1\")\n",
    "\n",
    "    gp = george.GP(kernel)\n",
    "    default_gp_param = gp.get_parameter_vector()\n",
    "    x_data = np.vstack([obj_times, obj_wavelengths]).T\n",
    "    gp.compute(x_data, obj_flux_error)\n",
    "\n",
    "    bounds = [(0, np.log(1000 ** 2))]\n",
    "    bounds = [(default_gp_param[0] - 10, default_gp_param[0] + 10)] + bounds\n",
    "    results = op.minimize(neg_log_like, gp.get_parameter_vector(),\n",
    "                          jac=grad_neg_log_like, method=\"L-BFGS-B\",\n",
    "                          bounds=bounds, tol=1e-6)\n",
    "\n",
    "    if results.success:\n",
    "        gp.set_parameter_vector(results.x)\n",
    "    else:\n",
    "        # Fit failed. Print out a warning, and use the initial guesses for fit\n",
    "        # parameters.\n",
    "        obj = obj_data['object_id'][0]\n",
    "        print(\"GP fit failed for {}! Using guessed GP parameters.\".format(obj))\n",
    "        gp.set_parameter_vector(default_gp_param)\n",
    "\n",
    "    gp_predict = partial(gp.predict, obj_flux)\n",
    "\n",
    "    if return_kernel:\n",
    "        return kernel, gp_predict\n",
    "    else:\n",
    "        return gp_predict\n",
    "\n",
    "\n",
    "def predict_2d_gp(gp_predict, gp_times, gp_wavelengths):\n",
    "    \"\"\"Outputs the predictions of a Gaussian Process.\n",
    "\n",
    "    Parameters\n",
    "    ----------\n",
    "    gp_predict : functools.partial of george.gp.GP\n",
    "        The GP instance that was used to fit the object.\n",
    "    gp_times : numpy.ndarray\n",
    "        Times to evaluate the Gaussian Process at.\n",
    "    gp_wavelengths : numpy.ndarray\n",
    "        Wavelengths to evaluate the Gaussian Process at.\n",
    "\n",
    "    Returns\n",
    "    -------\n",
    "    obj_gps : pandas.core.frame.DataFrame, optional\n",
    "        Time, flux and flux error of the fitted Gaussian Process.\n",
    "    \"\"\"\n",
    "    unique_wavelengths = np.unique(gp_wavelengths)\n",
    "    number_gp = len(gp_times)\n",
    "    obj_gps = []\n",
    "    for wavelength in unique_wavelengths:\n",
    "        gp_wavelengths = np.ones(number_gp) * wavelength\n",
    "        pred_x_data = np.vstack([gp_times, gp_wavelengths]).T\n",
    "        pb_pred, pb_pred_var = gp_predict(pred_x_data, return_var=True)\n",
    "        # stack the GP results in a array momentarily\n",
    "        obj_gp_pb_array = np.column_stack((gp_times, pb_pred, np.sqrt(pb_pred_var)))\n",
    "        obj_gp_pb = Table(\n",
    "            [\n",
    "                obj_gp_pb_array[:, 0],\n",
    "                obj_gp_pb_array[:, 1],\n",
    "                obj_gp_pb_array[:, 2],\n",
    "                [wavelength] * number_gp,\n",
    "            ],\n",
    "            names=[\"mjd\", \"flux\", \"flux_error\", \"filter\"],\n",
    "        )\n",
    "        if len(obj_gps) == 0:  # initialize the table for 1st passband\n",
    "            obj_gps = obj_gp_pb\n",
    "        else:  # add more entries to the table\n",
    "            obj_gps = vstack((obj_gps, obj_gp_pb))\n",
    "            \n",
    "    obj_gps = obj_gps.to_pandas()\n",
    "    return obj_gps"
   ]
  },
  {
   "cell_type": "code",
   "execution_count": 248,
   "metadata": {},
   "outputs": [],
   "source": [
    "df = data[data['object_id'] == 745]"
   ]
  },
  {
   "cell_type": "code",
   "execution_count": 304,
   "metadata": {},
   "outputs": [
    {
     "data": {
      "text/html": [
       "<div>\n",
       "<style scoped>\n",
       "    .dataframe tbody tr th:only-of-type {\n",
       "        vertical-align: middle;\n",
       "    }\n",
       "\n",
       "    .dataframe tbody tr th {\n",
       "        vertical-align: top;\n",
       "    }\n",
       "\n",
       "    .dataframe thead th {\n",
       "        text-align: right;\n",
       "    }\n",
       "</style>\n",
       "<table border=\"1\" class=\"dataframe\">\n",
       "  <thead>\n",
       "    <tr style=\"text-align: right;\">\n",
       "      <th></th>\n",
       "      <th>object_id</th>\n",
       "      <th>mjd</th>\n",
       "      <th>filter</th>\n",
       "      <th>flux</th>\n",
       "      <th>flux_error</th>\n",
       "      <th>detected</th>\n",
       "    </tr>\n",
       "  </thead>\n",
       "  <tbody>\n",
       "    <tr>\n",
       "      <th>1157</th>\n",
       "      <td>745</td>\n",
       "      <td>60125.4094</td>\n",
       "      <td>lsstr</td>\n",
       "      <td>220.795212</td>\n",
       "      <td>1.492162</td>\n",
       "      <td>1</td>\n",
       "    </tr>\n",
       "    <tr>\n",
       "      <th>1158</th>\n",
       "      <td>745</td>\n",
       "      <td>60125.4171</td>\n",
       "      <td>lsstg</td>\n",
       "      <td>192.244293</td>\n",
       "      <td>1.432564</td>\n",
       "      <td>1</td>\n",
       "    </tr>\n",
       "    <tr>\n",
       "      <th>1159</th>\n",
       "      <td>745</td>\n",
       "      <td>60125.4248</td>\n",
       "      <td>lssti</td>\n",
       "      <td>203.250702</td>\n",
       "      <td>1.862000</td>\n",
       "      <td>1</td>\n",
       "    </tr>\n",
       "    <tr>\n",
       "      <th>1160</th>\n",
       "      <td>745</td>\n",
       "      <td>60125.4357</td>\n",
       "      <td>lsstz</td>\n",
       "      <td>183.633118</td>\n",
       "      <td>2.818825</td>\n",
       "      <td>1</td>\n",
       "    </tr>\n",
       "    <tr>\n",
       "      <th>1161</th>\n",
       "      <td>745</td>\n",
       "      <td>60125.4448</td>\n",
       "      <td>lssty</td>\n",
       "      <td>141.513290</td>\n",
       "      <td>11.663839</td>\n",
       "      <td>1</td>\n",
       "    </tr>\n",
       "  </tbody>\n",
       "</table>\n",
       "</div>"
      ],
      "text/plain": [
       "      object_id         mjd filter        flux  flux_error  detected\n",
       "1157        745  60125.4094  lsstr  220.795212    1.492162         1\n",
       "1158        745  60125.4171  lsstg  192.244293    1.432564         1\n",
       "1159        745  60125.4248  lssti  203.250702    1.862000         1\n",
       "1160        745  60125.4357  lsstz  183.633118    2.818825         1\n",
       "1161        745  60125.4448  lssty  141.513290   11.663839         1"
      ]
     },
     "execution_count": 304,
     "metadata": {},
     "output_type": "execute_result"
    }
   ],
   "source": [
    "df.head()"
   ]
  },
  {
   "cell_type": "code",
   "execution_count": 273,
   "metadata": {},
   "outputs": [],
   "source": [
    "gp_predict = fit_2d_gp(df)"
   ]
  },
  {
   "cell_type": "code",
   "execution_count": 285,
   "metadata": {},
   "outputs": [],
   "source": [
    "number_gp = 100"
   ]
  },
  {
   "cell_type": "code",
   "execution_count": 286,
   "metadata": {},
   "outputs": [
    {
     "data": {
      "text/plain": [
       "(100,)"
      ]
     },
     "execution_count": 286,
     "metadata": {},
     "output_type": "execute_result"
    }
   ],
   "source": [
    "gp_times = np.linspace(min(df['mjd']), max(df['mjd']), number_gp)\n",
    "gp_times.shape"
   ]
  },
  {
   "cell_type": "code",
   "execution_count": 287,
   "metadata": {},
   "outputs": [
    {
     "data": {
      "text/plain": [
       "(6,)"
      ]
     },
     "execution_count": 287,
     "metadata": {},
     "output_type": "execute_result"
    }
   ],
   "source": [
    "gp_wavelengths = np.vectorize(pb_wavelengths.get)(filters)\n",
    "gp_wavelengths.shape"
   ]
  },
  {
   "cell_type": "code",
   "execution_count": 288,
   "metadata": {},
   "outputs": [],
   "source": [
    "obj_gps = predict_2d_gp(gp_predict, gp_times, gp_wavelengths)"
   ]
  },
  {
   "cell_type": "code",
   "execution_count": 289,
   "metadata": {},
   "outputs": [
    {
     "data": {
      "text/plain": [
       "pandas.core.frame.DataFrame"
      ]
     },
     "execution_count": 289,
     "metadata": {},
     "output_type": "execute_result"
    }
   ],
   "source": [
    "type(obj_gps)"
   ]
  },
  {
   "cell_type": "code",
   "execution_count": 290,
   "metadata": {},
   "outputs": [],
   "source": [
    "inverse_pb_wavelengths = {v: k for k, v in pb_wavelengths.items()}"
   ]
  },
  {
   "cell_type": "code",
   "execution_count": 291,
   "metadata": {},
   "outputs": [
    {
     "data": {
      "text/html": [
       "<div>\n",
       "<style scoped>\n",
       "    .dataframe tbody tr th:only-of-type {\n",
       "        vertical-align: middle;\n",
       "    }\n",
       "\n",
       "    .dataframe tbody tr th {\n",
       "        vertical-align: top;\n",
       "    }\n",
       "\n",
       "    .dataframe thead th {\n",
       "        text-align: right;\n",
       "    }\n",
       "</style>\n",
       "<table border=\"1\" class=\"dataframe\">\n",
       "  <thead>\n",
       "    <tr style=\"text-align: right;\">\n",
       "      <th></th>\n",
       "      <th>mjd</th>\n",
       "      <th>flux</th>\n",
       "      <th>flux_error</th>\n",
       "      <th>filter</th>\n",
       "    </tr>\n",
       "  </thead>\n",
       "  <tbody>\n",
       "    <tr>\n",
       "      <th>0</th>\n",
       "      <td>60125.409400</td>\n",
       "      <td>85.239398</td>\n",
       "      <td>13.169184</td>\n",
       "      <td>lsstu</td>\n",
       "    </tr>\n",
       "    <tr>\n",
       "      <th>1</th>\n",
       "      <td>60126.658766</td>\n",
       "      <td>78.827047</td>\n",
       "      <td>12.062357</td>\n",
       "      <td>lsstu</td>\n",
       "    </tr>\n",
       "    <tr>\n",
       "      <th>2</th>\n",
       "      <td>60127.908131</td>\n",
       "      <td>72.413508</td>\n",
       "      <td>10.973103</td>\n",
       "      <td>lsstu</td>\n",
       "    </tr>\n",
       "    <tr>\n",
       "      <th>3</th>\n",
       "      <td>60129.157497</td>\n",
       "      <td>66.042017</td>\n",
       "      <td>9.900084</td>\n",
       "      <td>lsstu</td>\n",
       "    </tr>\n",
       "    <tr>\n",
       "      <th>4</th>\n",
       "      <td>60130.406863</td>\n",
       "      <td>59.760191</td>\n",
       "      <td>8.842291</td>\n",
       "      <td>lsstu</td>\n",
       "    </tr>\n",
       "  </tbody>\n",
       "</table>\n",
       "</div>"
      ],
      "text/plain": [
       "            mjd       flux  flux_error filter\n",
       "0  60125.409400  85.239398   13.169184  lsstu\n",
       "1  60126.658766  78.827047   12.062357  lsstu\n",
       "2  60127.908131  72.413508   10.973103  lsstu\n",
       "3  60129.157497  66.042017    9.900084  lsstu\n",
       "4  60130.406863  59.760191    8.842291  lsstu"
      ]
     },
     "execution_count": 291,
     "metadata": {},
     "output_type": "execute_result"
    }
   ],
   "source": [
    "obj_gps['filter'] = obj_gps['filter'].map(inverse_pb_wavelengths)\n",
    "obj_gps.head()"
   ]
  },
  {
   "cell_type": "code",
   "execution_count": 307,
   "metadata": {},
   "outputs": [],
   "source": [
    "# Central passbands wavelengths\n",
    "pb_wavelengths = {\"lsstu\": 3685., \"lsstg\": 4802., \"lsstr\": 6231.,\n",
    "                  \"lssti\": 7542., \"lsstz\": 8690., \"lssty\": 9736.}\n"
   ]
  },
  {
   "cell_type": "code",
   "execution_count": 314,
   "metadata": {},
   "outputs": [],
   "source": [
    "pb_colors = {'lsstu':'#984ea3', 'lsstg':'#4daf4a', 'lsstr':'#e41a1c', \n",
    "             'lssti':'#377eb8', 'lsstz':'#ff7f00', 'lssty':'#e3c530'} # colours for the plot\n",
    "\n",
    "def plot_real_data_and_model(obj_data, obj_model=None, number_col=2, \n",
    "                             show_title=False, show_legend=True):\n",
    "    \"\"\"Plots real data and model fluxes at the corresponding mjd\"\"\"\n",
    "    passbands = np.unique(obj_data['filter'])\n",
    "    passbands = ['lsstu', 'lsstg', 'lsstr', 'lssti', 'lsstz', 'lssty']\n",
    "    for pb in passbands:\n",
    "        obj_data_pb = obj_data[obj_data['filter'] == pb] # obj LC in that passband\n",
    "        if obj_model is not None:\n",
    "            obj_model_pb = obj_model[obj_model['filter'] == pb]\n",
    "            model_flux = obj_model_pb['flux']\n",
    "            plt.plot(obj_model_pb['mjd'], model_flux, color=pb_colors[pb], alpha=.7, label='')\n",
    "            try:\n",
    "                model_flux_error = obj_model_pb['flux_error']\n",
    "                plt.fill_between(x=obj_model_pb['mjd'], y1=model_flux-model_flux_error, \n",
    "                                 y2=model_flux+model_flux_error, color=pb_colors[pb], alpha=.15, label=None)\n",
    "            except:\n",
    "                pass\n",
    "        plt.errorbar(obj_data_pb['mjd'], obj_data_pb['flux'], obj_data_pb['flux_error'], \n",
    "                     fmt='o', color=pb_colors[pb], label=pb[-1])\n",
    "    plt.xlabel('Time (days)')\n",
    "    plt.ylabel('Flux units')\n",
    "    if show_title:\n",
    "        plt.title('Object ID: {}\\nPhoto-z = {:.3f}'.format(obj_data.meta['name'], obj_data.meta['z']))\n",
    "    if show_legend:\n",
    "        plt.legend(ncol=number_col, handletextpad=.3, borderaxespad=.3, \n",
    "                   labelspacing=.2, borderpad=.3, columnspacing=.4)"
   ]
  },
  {
   "cell_type": "code",
   "execution_count": 315,
   "metadata": {},
   "outputs": [
    {
     "data": {
      "text/html": [
       "<div>\n",
       "<style scoped>\n",
       "    .dataframe tbody tr th:only-of-type {\n",
       "        vertical-align: middle;\n",
       "    }\n",
       "\n",
       "    .dataframe tbody tr th {\n",
       "        vertical-align: top;\n",
       "    }\n",
       "\n",
       "    .dataframe thead th {\n",
       "        text-align: right;\n",
       "    }\n",
       "</style>\n",
       "<table border=\"1\" class=\"dataframe\">\n",
       "  <thead>\n",
       "    <tr style=\"text-align: right;\">\n",
       "      <th></th>\n",
       "      <th>mjd</th>\n",
       "      <th>flux</th>\n",
       "      <th>flux_error</th>\n",
       "      <th>filter</th>\n",
       "    </tr>\n",
       "  </thead>\n",
       "  <tbody>\n",
       "    <tr>\n",
       "      <th>0</th>\n",
       "      <td>60125.409400</td>\n",
       "      <td>85.239398</td>\n",
       "      <td>13.169184</td>\n",
       "      <td>lsstu</td>\n",
       "    </tr>\n",
       "    <tr>\n",
       "      <th>1</th>\n",
       "      <td>60126.658766</td>\n",
       "      <td>78.827047</td>\n",
       "      <td>12.062357</td>\n",
       "      <td>lsstu</td>\n",
       "    </tr>\n",
       "    <tr>\n",
       "      <th>2</th>\n",
       "      <td>60127.908131</td>\n",
       "      <td>72.413508</td>\n",
       "      <td>10.973103</td>\n",
       "      <td>lsstu</td>\n",
       "    </tr>\n",
       "    <tr>\n",
       "      <th>3</th>\n",
       "      <td>60129.157497</td>\n",
       "      <td>66.042017</td>\n",
       "      <td>9.900084</td>\n",
       "      <td>lsstu</td>\n",
       "    </tr>\n",
       "    <tr>\n",
       "      <th>4</th>\n",
       "      <td>60130.406863</td>\n",
       "      <td>59.760191</td>\n",
       "      <td>8.842291</td>\n",
       "      <td>lsstu</td>\n",
       "    </tr>\n",
       "  </tbody>\n",
       "</table>\n",
       "</div>"
      ],
      "text/plain": [
       "            mjd       flux  flux_error filter\n",
       "0  60125.409400  85.239398   13.169184  lsstu\n",
       "1  60126.658766  78.827047   12.062357  lsstu\n",
       "2  60127.908131  72.413508   10.973103  lsstu\n",
       "3  60129.157497  66.042017    9.900084  lsstu\n",
       "4  60130.406863  59.760191    8.842291  lsstu"
      ]
     },
     "execution_count": 315,
     "metadata": {},
     "output_type": "execute_result"
    }
   ],
   "source": [
    "obj_gps.head()"
   ]
  },
  {
   "cell_type": "code",
   "execution_count": 316,
   "metadata": {},
   "outputs": [
    {
     "data": {
      "image/png": "[encoded data removed]",
      "text/plain": [
       "<Figure size 864x576 with 1 Axes>"
      ]
     },
     "metadata": {
      "needs_background": "light"
     },
     "output_type": "display_data"
    }
   ],
   "source": [
    "plot_real_data_and_model(df, obj_model=obj_gps)"
   ]
  },
  {
   "cell_type": "code",
   "execution_count": 295,
   "metadata": {},
   "outputs": [
    {
     "data": {
      "text/html": [
       "<div>\n",
       "<style scoped>\n",
       "    .dataframe tbody tr th:only-of-type {\n",
       "        vertical-align: middle;\n",
       "    }\n",
       "\n",
       "    .dataframe tbody tr th {\n",
       "        vertical-align: top;\n",
       "    }\n",
       "\n",
       "    .dataframe thead th {\n",
       "        text-align: right;\n",
       "    }\n",
       "</style>\n",
       "<table border=\"1\" class=\"dataframe\">\n",
       "  <thead>\n",
       "    <tr style=\"text-align: right;\">\n",
       "      <th></th>\n",
       "      <th>mjd</th>\n",
       "      <th>flux</th>\n",
       "      <th>flux_error</th>\n",
       "      <th>filter</th>\n",
       "    </tr>\n",
       "  </thead>\n",
       "  <tbody>\n",
       "    <tr>\n",
       "      <th>0</th>\n",
       "      <td>60125.409400</td>\n",
       "      <td>85.239398</td>\n",
       "      <td>13.169184</td>\n",
       "      <td>lsstu</td>\n",
       "    </tr>\n",
       "    <tr>\n",
       "      <th>1</th>\n",
       "      <td>60126.658766</td>\n",
       "      <td>78.827047</td>\n",
       "      <td>12.062357</td>\n",
       "      <td>lsstu</td>\n",
       "    </tr>\n",
       "    <tr>\n",
       "      <th>2</th>\n",
       "      <td>60127.908131</td>\n",
       "      <td>72.413508</td>\n",
       "      <td>10.973103</td>\n",
       "      <td>lsstu</td>\n",
       "    </tr>\n",
       "    <tr>\n",
       "      <th>3</th>\n",
       "      <td>60129.157497</td>\n",
       "      <td>66.042017</td>\n",
       "      <td>9.900084</td>\n",
       "      <td>lsstu</td>\n",
       "    </tr>\n",
       "    <tr>\n",
       "      <th>4</th>\n",
       "      <td>60130.406863</td>\n",
       "      <td>59.760191</td>\n",
       "      <td>8.842291</td>\n",
       "      <td>lsstu</td>\n",
       "    </tr>\n",
       "  </tbody>\n",
       "</table>\n",
       "</div>"
      ],
      "text/plain": [
       "            mjd       flux  flux_error filter\n",
       "0  60125.409400  85.239398   13.169184  lsstu\n",
       "1  60126.658766  78.827047   12.062357  lsstu\n",
       "2  60127.908131  72.413508   10.973103  lsstu\n",
       "3  60129.157497  66.042017    9.900084  lsstu\n",
       "4  60130.406863  59.760191    8.842291  lsstu"
      ]
     },
     "execution_count": 295,
     "metadata": {},
     "output_type": "execute_result"
    }
   ],
   "source": [
    "obj_gps.head()"
   ]
  },
  {
   "cell_type": "code",
   "execution_count": 306,
   "metadata": {},
   "outputs": [
    {
     "data": {
      "text/html": [
       "<div>\n",
       "<style scoped>\n",
       "    .dataframe tbody tr th:only-of-type {\n",
       "        vertical-align: middle;\n",
       "    }\n",
       "\n",
       "    .dataframe tbody tr th {\n",
       "        vertical-align: top;\n",
       "    }\n",
       "\n",
       "    .dataframe thead th {\n",
       "        text-align: right;\n",
       "    }\n",
       "</style>\n",
       "<table border=\"1\" class=\"dataframe\">\n",
       "  <thead>\n",
       "    <tr style=\"text-align: right;\">\n",
       "      <th>filter</th>\n",
       "      <th>lsstg</th>\n",
       "      <th>lssti</th>\n",
       "      <th>lsstr</th>\n",
       "      <th>lsstu</th>\n",
       "      <th>lssty</th>\n",
       "      <th>lsstz</th>\n",
       "      <th>obj_id</th>\n",
       "    </tr>\n",
       "    <tr>\n",
       "      <th>mjd</th>\n",
       "      <th></th>\n",
       "      <th></th>\n",
       "      <th></th>\n",
       "      <th></th>\n",
       "      <th></th>\n",
       "      <th></th>\n",
       "      <th></th>\n",
       "    </tr>\n",
       "  </thead>\n",
       "  <tbody>\n",
       "    <tr>\n",
       "      <th>60125.409400</th>\n",
       "      <td>191.804452</td>\n",
       "      <td>203.486435</td>\n",
       "      <td>220.839308</td>\n",
       "      <td>85.239398</td>\n",
       "      <td>142.699996</td>\n",
       "      <td>183.006312</td>\n",
       "      <td>745</td>\n",
       "    </tr>\n",
       "    <tr>\n",
       "      <th>60126.658766</th>\n",
       "      <td>184.756912</td>\n",
       "      <td>199.536666</td>\n",
       "      <td>215.394826</td>\n",
       "      <td>78.827047</td>\n",
       "      <td>139.428623</td>\n",
       "      <td>179.251691</td>\n",
       "      <td>745</td>\n",
       "    </tr>\n",
       "    <tr>\n",
       "      <th>60127.908131</th>\n",
       "      <td>177.327218</td>\n",
       "      <td>195.580718</td>\n",
       "      <td>209.812026</td>\n",
       "      <td>72.413508</td>\n",
       "      <td>136.113325</td>\n",
       "      <td>175.363131</td>\n",
       "      <td>745</td>\n",
       "    </tr>\n",
       "    <tr>\n",
       "      <th>60129.157497</th>\n",
       "      <td>169.588797</td>\n",
       "      <td>191.617705</td>\n",
       "      <td>204.099033</td>\n",
       "      <td>66.042017</td>\n",
       "      <td>132.763736</td>\n",
       "      <td>171.368904</td>\n",
       "      <td>745</td>\n",
       "    </tr>\n",
       "    <tr>\n",
       "      <th>60130.406863</th>\n",
       "      <td>161.611846</td>\n",
       "      <td>187.648345</td>\n",
       "      <td>198.265394</td>\n",
       "      <td>59.760191</td>\n",
       "      <td>129.390911</td>\n",
       "      <td>167.296101</td>\n",
       "      <td>745</td>\n",
       "    </tr>\n",
       "  </tbody>\n",
       "</table>\n",
       "</div>"
      ],
      "text/plain": [
       "filter             lsstg       lssti       lsstr      lsstu       lssty  \\\n",
       "mjd                                                                       \n",
       "60125.409400  191.804452  203.486435  220.839308  85.239398  142.699996   \n",
       "60126.658766  184.756912  199.536666  215.394826  78.827047  139.428623   \n",
       "60127.908131  177.327218  195.580718  209.812026  72.413508  136.113325   \n",
       "60129.157497  169.588797  191.617705  204.099033  66.042017  132.763736   \n",
       "60130.406863  161.611846  187.648345  198.265394  59.760191  129.390911   \n",
       "\n",
       "filter             lsstz  obj_id  \n",
       "mjd                               \n",
       "60125.409400  183.006312     745  \n",
       "60126.658766  179.251691     745  \n",
       "60127.908131  175.363131     745  \n",
       "60129.157497  171.368904     745  \n",
       "60130.406863  167.296101     745  "
      ]
     },
     "execution_count": 306,
     "metadata": {},
     "output_type": "execute_result"
    }
   ],
   "source": [
    "piv = obj_gps.pivot(index='mjd', columns='filter', values='flux')\n",
    "piv['obj_id'] = 745\n",
    "piv.head()"
   ]
  },
  {
   "cell_type": "code",
   "execution_count": null,
   "metadata": {},
   "outputs": [],
   "source": []
  },
  {
   "cell_type": "code",
   "execution_count": null,
   "metadata": {},
   "outputs": [],
   "source": []
  },
  {
   "cell_type": "code",
   "execution_count": null,
   "metadata": {},
   "outputs": [],
   "source": []
  },
  {
   "cell_type": "code",
   "execution_count": 72,
   "metadata": {},
   "outputs": [],
   "source": [
    "import numpy as np\n",
    "import tensorflow as tf\n",
    "import gpflow\n",
    "from gpflow.ci_utils import ci_niter\n",
    "from gpflow.optimizers import NaturalGradient\n",
    "from gpflow import set_trainable\n",
    "import matplotlib.pyplot as plt\n",
    "\n",
    "%matplotlib inline"
   ]
  },
  {
   "cell_type": "code",
   "execution_count": 73,
   "metadata": {},
   "outputs": [
    {
     "data": {
      "text/plain": [
       "((16,), (16,))"
      ]
     },
     "execution_count": 73,
     "metadata": {},
     "output_type": "execute_result"
    }
   ],
   "source": [
    "object_name = 745\n",
    "\n",
    "df = data[data['object_id'] == object_name]\n",
    "df = df[df['filter'] == 'lsstr']\n",
    "df['flux'].shape, df['flux_error'].shape"
   ]
  },
  {
   "cell_type": "code",
   "execution_count": 74,
   "metadata": {},
   "outputs": [
    {
     "data": {
      "text/plain": [
       "((16,), (16,))"
      ]
     },
     "execution_count": 74,
     "metadata": {},
     "output_type": "execute_result"
    }
   ],
   "source": [
    "y = df['flux']\n",
    "y_err = df['flux_error']\n",
    "y.shape, y_err.shape"
   ]
  },
  {
   "cell_type": "code",
   "execution_count": 77,
   "metadata": {},
   "outputs": [
    {
     "data": {
      "text/plain": [
       "(2, 16)"
      ]
     },
     "execution_count": 77,
     "metadata": {},
     "output_type": "execute_result"
    }
   ],
   "source": [
    "pp = np.column_stack([y, y_err])\n",
    "pp.shape"
   ]
  },
  {
   "cell_type": "code",
   "execution_count": 24,
   "metadata": {},
   "outputs": [
    {
     "data": {
      "text/plain": [
       "((16, 1), (16, 1))"
      ]
     },
     "execution_count": 24,
     "metadata": {},
     "output_type": "execute_result"
    }
   ],
   "source": [
    "y = y.values.reshape(-1, 1)\n",
    "y_err = y_err.values.reshape(-1, 1)\n",
    "y.shape, y_err.shape"
   ]
  },
  {
   "cell_type": "code",
   "execution_count": 25,
   "metadata": {},
   "outputs": [
    {
     "data": {
      "text/plain": [
       "(16, 2)"
      ]
     },
     "execution_count": 25,
     "metadata": {},
     "output_type": "execute_result"
    }
   ],
   "source": [
    "Y_data = np.hstack([y, y_err])\n",
    "Y_data.shape"
   ]
  },
  {
   "cell_type": "code",
   "execution_count": 270,
   "metadata": {},
   "outputs": [
    {
     "data": {
      "text/plain": [
       "1157    6231.0\n",
       "1158    4802.0\n",
       "1159    7542.0\n",
       "1160    8690.0\n",
       "1161    9736.0\n",
       "         ...  \n",
       "1243    7542.0\n",
       "1246    6231.0\n",
       "1248    7542.0\n",
       "1251    6231.0\n",
       "1253    7542.0\n",
       "Name: filter, Length: 61, dtype: float64"
      ]
     },
     "execution_count": 270,
     "metadata": {},
     "output_type": "execute_result"
    }
   ],
   "source": [
    "mjd = df['mjd']\n",
    "obj_wavelengths = df['filter'].map(pb_wavelengths)\n",
    "obj_wavelengths"
   ]
  },
  {
   "cell_type": "code",
   "execution_count": 29,
   "metadata": {},
   "outputs": [],
   "source": [
    "obj_wavelengths = obj_wavelengths.values.reshape(-1, 1)\n",
    "mjd = mjd.values.reshape(-1, 1)"
   ]
  },
  {
   "cell_type": "code",
   "execution_count": 30,
   "metadata": {},
   "outputs": [
    {
     "data": {
      "text/plain": [
       "(16, 1)"
      ]
     },
     "execution_count": 30,
     "metadata": {},
     "output_type": "execute_result"
    }
   ],
   "source": [
    "mjd.shape"
   ]
  },
  {
   "cell_type": "code",
   "execution_count": 31,
   "metadata": {},
   "outputs": [
    {
     "data": {
      "text/plain": [
       "(16, 2)"
      ]
     },
     "execution_count": 31,
     "metadata": {},
     "output_type": "execute_result"
    }
   ],
   "source": [
    "X = np.hstack([mjd, obj_wavelengths])\n",
    "X.shape"
   ]
  },
  {
   "cell_type": "code",
   "execution_count": 41,
   "metadata": {},
   "outputs": [
    {
     "data": {
      "text/plain": [
       "array([[60125.4094,  6231.    ],\n",
       "       [60153.2828,  6231.    ],\n",
       "       [60164.1619,  6231.    ],\n",
       "       [60168.1735,  6231.    ],\n",
       "       [60181.3618,  6231.    ],\n",
       "       [60184.3051,  6231.    ],\n",
       "       [60194.1098,  6231.    ],\n",
       "       [60197.0703,  6231.    ],\n",
       "       [60208.0724,  6231.    ],\n",
       "       [60211.0601,  6231.    ],\n",
       "       [60221.0629,  6231.    ],\n",
       "       [60224.0614,  6231.    ],\n",
       "       [60227.0626,  6231.    ],\n",
       "       [60237.2675,  6231.    ],\n",
       "       [60240.0698,  6231.    ],\n",
       "       [60249.0813,  6231.    ]])"
      ]
     },
     "execution_count": 41,
     "metadata": {},
     "output_type": "execute_result"
    }
   ],
   "source": [
    "X"
   ]
  },
  {
   "cell_type": "code",
   "execution_count": 32,
   "metadata": {},
   "outputs": [],
   "source": [
    "class HeteroskedasticGaussian(gpflow.likelihoods.Likelihood):\n",
    "    def __init__(self, **kwargs):\n",
    "        # this likelihood expects a single latent function F, and two columns in the data matrix Y:\n",
    "        super().__init__(latent_dim=1, observation_dim=2, **kwargs)\n",
    "\n",
    "    def _log_prob(self, H, Y):\n",
    "        # log_prob is used by the quadrature fallback of variational_expectations and predict_log_density.\n",
    "        # Because variational_expectations is implemented analytically below, this is not actually needed,\n",
    "        # but is included for pedagogical purposes.\n",
    "        # Note that currently relying on the quadrature would fail due to https://github.com/GPflow/GPflow/issues/966\n",
    "        Y, NoiseVar = Y[:, 0], Y[:, 1]\n",
    "        return gpflow.logdensities.gaussian(Y, H, NoiseVar)\n",
    "\n",
    "    def _variational_expectations(self, Fmu, Fvar, Y):\n",
    "        Y, NoiseVar = Y[:, 0], Y[:, 1]\n",
    "        Fmu, Fvar = Fmu[:, 0], Fvar[:, 0]\n",
    "        return (\n",
    "            -0.5 * np.log(2 * np.pi)\n",
    "            - 0.5 * tf.math.log(NoiseVar)\n",
    "            - 0.5 * (tf.math.square(Y - Fmu) + Fvar) / NoiseVar\n",
    "        )\n",
    "\n",
    "    # The following two methods are abstract in the base class.\n",
    "    # They need to be implemented even if not used.\n",
    "\n",
    "    def _predict_log_density(self, Fmu, Fvar, Y):\n",
    "        raise NotImplementedError\n",
    "\n",
    "    def _predict_mean_and_var(self, Fmu, Fvar):\n",
    "        raise NotImplementedError"
   ]
  },
  {
   "cell_type": "code",
   "execution_count": 33,
   "metadata": {},
   "outputs": [
    {
     "data": {
      "text/plain": [
       "((16, 2), (16, 2))"
      ]
     },
     "execution_count": 33,
     "metadata": {},
     "output_type": "execute_result"
    }
   ],
   "source": [
    "Y_data.shape, X.shape"
   ]
  },
  {
   "cell_type": "code",
   "execution_count": 34,
   "metadata": {},
   "outputs": [
    {
     "data": {
      "text/plain": [
       "(False, False)"
      ]
     },
     "execution_count": 34,
     "metadata": {},
     "output_type": "execute_result"
    }
   ],
   "source": [
    "np.isnan(np.sum(Y_data)), np.isnan(np.sum(X))"
   ]
  },
  {
   "cell_type": "code",
   "execution_count": 35,
   "metadata": {},
   "outputs": [],
   "source": [
    "# model construction\n",
    "likelihood = HeteroskedasticGaussian()\n",
    "# kernel = gpflow.kernels.Matern52(lengthscales=0.5)\n",
    "kernel = gpflow.kernels.Matern52(active_dims=[0], lengthscales=2) + gpflow.kernels.Matern52(active_dims=[1], lengthscales=2)\n",
    "    \n",
    "m = gpflow.models.VGP((X, Y_data), kernel=kernel, likelihood=likelihood, num_latent_gps=1)"
   ]
  },
  {
   "cell_type": "code",
   "execution_count": 36,
   "metadata": {},
   "outputs": [
    {
     "data": {
      "text/html": [
       "&lt;gpflow.models.vgp.VGP object at 0x7f9252115910&gt;\n",
       "<table>\n",
       "<thead>\n",
       "<tr><th>name                              </th><th>class    </th><th>transform     </th><th>prior  </th><th>trainable  </th><th>shape      </th><th>dtype  </th><th>value           </th></tr>\n",
       "</thead>\n",
       "<tbody>\n",
       "<tr><td>VGP.kernel.kernels[0].variance    </td><td>Parameter</td><td>Softplus      </td><td>       </td><td>True       </td><td>()         </td><td>float64</td><td>1.0             </td></tr>\n",
       "<tr><td>VGP.kernel.kernels[0].lengthscales</td><td>Parameter</td><td>Softplus      </td><td>       </td><td>True       </td><td>()         </td><td>float64</td><td>2.0             </td></tr>\n",
       "<tr><td>VGP.kernel.kernels[1].variance    </td><td>Parameter</td><td>Softplus      </td><td>       </td><td>True       </td><td>()         </td><td>float64</td><td>1.0             </td></tr>\n",
       "<tr><td>VGP.kernel.kernels[1].lengthscales</td><td>Parameter</td><td>Softplus      </td><td>       </td><td>True       </td><td>()         </td><td>float64</td><td>2.0             </td></tr>\n",
       "<tr><td>VGP.q_mu                          </td><td>Parameter</td><td>Identity      </td><td>       </td><td>True       </td><td>(16, 1)    </td><td>float64</td><td>[[0....         </td></tr>\n",
       "<tr><td>VGP.q_sqrt                        </td><td>Parameter</td><td>FillTriangular</td><td>       </td><td>True       </td><td>(1, 16, 16)</td><td>float64</td><td>[[[1., 0., 0....</td></tr>\n",
       "</tbody>\n",
       "</table>"
      ],
      "text/plain": [
       "<gpflow.models.vgp.VGP object at 0x7f9252115910>\n",
       "╒════════════════════════════════════╤═══════════╤════════════════╤═════════╤═════════════╤═════════════╤═════════╤══════════════════╕\n",
       "│ name                               │ class     │ transform      │ prior   │ trainable   │ shape       │ dtype   │ value            │\n",
       "╞════════════════════════════════════╪═══════════╪════════════════╪═════════╪═════════════╪═════════════╪═════════╪══════════════════╡\n",
       "│ VGP.kernel.kernels[0].variance     │ Parameter │ Softplus       │         │ True        │ ()          │ float64 │ 1.0              │\n",
       "├────────────────────────────────────┼───────────┼────────────────┼─────────┼─────────────┼─────────────┼─────────┼──────────────────┤\n",
       "│ VGP.kernel.kernels[0].lengthscales │ Parameter │ Softplus       │         │ True        │ ()          │ float64 │ 2.0              │\n",
       "├────────────────────────────────────┼───────────┼────────────────┼─────────┼─────────────┼─────────────┼─────────┼──────────────────┤\n",
       "│ VGP.kernel.kernels[1].variance     │ Parameter │ Softplus       │         │ True        │ ()          │ float64 │ 1.0              │\n",
       "├────────────────────────────────────┼───────────┼────────────────┼─────────┼─────────────┼─────────────┼─────────┼──────────────────┤\n",
       "│ VGP.kernel.kernels[1].lengthscales │ Parameter │ Softplus       │         │ True        │ ()          │ float64 │ 2.0              │\n",
       "├────────────────────────────────────┼───────────┼────────────────┼─────────┼─────────────┼─────────────┼─────────┼──────────────────┤\n",
       "│ VGP.q_mu                           │ Parameter │ Identity       │         │ True        │ (16, 1)     │ float64 │ [[0....          │\n",
       "├────────────────────────────────────┼───────────┼────────────────┼─────────┼─────────────┼─────────────┼─────────┼──────────────────┤\n",
       "│ VGP.q_sqrt                         │ Parameter │ FillTriangular │         │ True        │ (1, 16, 16) │ float64 │ [[[1., 0., 0.... │\n",
       "╘════════════════════════════════════╧═══════════╧════════════════╧═════════╧═════════════╧═════════════╧═════════╧══════════════════╛"
      ]
     },
     "execution_count": 36,
     "metadata": {},
     "output_type": "execute_result"
    }
   ],
   "source": [
    "m"
   ]
  },
  {
   "cell_type": "code",
   "execution_count": 37,
   "metadata": {},
   "outputs": [],
   "source": [
    "set_trainable(m.q_mu, False)\n",
    "set_trainable(m.q_sqrt, False)"
   ]
  },
  {
   "cell_type": "code",
   "execution_count": 38,
   "metadata": {},
   "outputs": [],
   "source": [
    "opt = gpflow.optimizers.Scipy()"
   ]
  },
  {
   "cell_type": "code",
   "execution_count": 39,
   "metadata": {},
   "outputs": [],
   "source": [
    "opt_logs = opt.minimize(m.training_loss, m.trainable_variables, options=dict(maxiter=100))"
   ]
  },
  {
   "cell_type": "code",
   "execution_count": 40,
   "metadata": {},
   "outputs": [
    {
     "data": {
      "text/html": [
       "<table>\n",
       "<thead>\n",
       "<tr><th>name                              </th><th>class    </th><th>transform     </th><th>prior  </th><th>trainable  </th><th>shape      </th><th>dtype  </th><th>value                 </th></tr>\n",
       "</thead>\n",
       "<tbody>\n",
       "<tr><td>VGP.kernel.kernels[0].variance    </td><td>Parameter</td><td>Softplus      </td><td>       </td><td>True       </td><td>()         </td><td>float64</td><td>1.829018320073424e-06 </td></tr>\n",
       "<tr><td>VGP.kernel.kernels[0].lengthscales</td><td>Parameter</td><td>Softplus      </td><td>       </td><td>True       </td><td>()         </td><td>float64</td><td>2.0                   </td></tr>\n",
       "<tr><td>VGP.kernel.kernels[1].variance    </td><td>Parameter</td><td>Softplus      </td><td>       </td><td>True       </td><td>()         </td><td>float64</td><td>1.8290183200734208e-06</td></tr>\n",
       "<tr><td>VGP.kernel.kernels[1].lengthscales</td><td>Parameter</td><td>Softplus      </td><td>       </td><td>True       </td><td>()         </td><td>float64</td><td>2.0                   </td></tr>\n",
       "<tr><td>VGP.q_mu                          </td><td>Parameter</td><td>Identity      </td><td>       </td><td>False      </td><td>(16, 1)    </td><td>float64</td><td>[[0....               </td></tr>\n",
       "<tr><td>VGP.q_sqrt                        </td><td>Parameter</td><td>FillTriangular</td><td>       </td><td>False      </td><td>(1, 16, 16)</td><td>float64</td><td>[[[1., 0., 0....      </td></tr>\n",
       "</tbody>\n",
       "</table>"
      ],
      "text/plain": [
       "<IPython.core.display.HTML object>"
      ]
     },
     "metadata": {},
     "output_type": "display_data"
    }
   ],
   "source": [
    "from gpflow.utilities import print_summary\n",
    "# You can change the default format as follows:\n",
    "gpflow.config.set_default_summary_fmt(\"notebook\")\n",
    "print_summary(m)"
   ]
  },
  {
   "cell_type": "code",
   "execution_count": null,
   "metadata": {},
   "outputs": [],
   "source": [
    "# natgrad = NaturalGradient(gamma=1.0)\n",
    "# adam = tf.optimizers.Adam()"
   ]
  },
  {
   "cell_type": "code",
   "execution_count": null,
   "metadata": {},
   "outputs": [],
   "source": [
    "# for _ in range(ci_niter(1000)):\n",
    "#     natgrad.minimize(model.training_loss, [(model.q_mu, model.q_sqrt)])\n",
    "#     adam.minimize(model.training_loss, model.trainable_variables)"
   ]
  },
  {
   "cell_type": "code",
   "execution_count": 49,
   "metadata": {},
   "outputs": [
    {
     "data": {
      "text/plain": [
       "      fun: 603.1976540988136\n",
       " hess_inv: <156x156 LbfgsInvHessProduct with dtype=float64>\n",
       "      jac: array([-1.29826631e+01, -7.11018345e+00,  0.00000000e+00,  1.44754708e-01,\n",
       "        3.00084253e+00,  2.73862702e+00,  6.91689379e+01, -4.86889142e+01,\n",
       "        1.12040607e+01, -9.57456612e+00,  1.10428895e+01, -5.50396512e+00,\n",
       "        2.40924640e+01,  8.96494147e+00,  2.03682392e+01, -1.80999389e+01,\n",
       "       -1.68228588e+01, -2.50499975e+01, -7.80144692e+00, -1.84095314e+01,\n",
       "        2.10595763e+02, -3.77983209e+00, -9.40843445e+00, -3.82619175e+00,\n",
       "       -4.53304243e+00, -8.90520642e+00, -2.85947713e+00, -9.43236586e+00,\n",
       "       -4.15897665e+00, -1.09327413e+01, -4.19867296e+00, -9.01802192e+00,\n",
       "       -5.30169362e+00, -8.80998560e-02,  4.03826974e+00,  3.18407817e+00,\n",
       "       -6.28210250e+01,  1.23322901e+01, -7.51274196e+00, -2.49532633e+00,\n",
       "       -2.40977352e+00, -4.32300628e+00, -1.40530571e+00, -4.58671682e+00,\n",
       "       -2.02918711e+00, -5.25550542e+00, -2.03596220e+00, -4.28761202e+00,\n",
       "       -2.51488151e+00,  1.39005012e-01,  2.11254705e+00,  1.49026988e+00,\n",
       "        1.50698689e+01,  3.85445532e+01,  1.55125382e+02, -6.16621278e+00,\n",
       "       -7.27241315e+00, -1.14874887e+01, -3.68263091e+00, -1.18235002e+01,\n",
       "       -5.25550188e+00, -1.33862914e+01, -5.24826158e+00, -1.08525698e+01,\n",
       "       -6.35378577e+00,  6.65051729e-01,  5.70825397e+00,  3.40716766e+00,\n",
       "        8.54594982e+00,  1.74405088e+01,  3.35616436e+00,  1.23061572e+01,\n",
       "       -9.49583558e+00, -1.95320002e+01, -2.91246341e+00, -7.18068289e+00,\n",
       "       -3.24081254e+00, -7.45325466e+00, -3.13319930e+00, -5.67444113e+00,\n",
       "       -3.28873280e+00,  1.81064239e+00,  4.43633017e+00,  5.53305180e-01,\n",
       "        5.95515337e+00,  8.22002158e+00, -6.06007727e+00,  1.03335011e+00,\n",
       "       -9.24339157e+00, -3.80544837e+01, -5.82819737e+00, -1.23533898e+01,\n",
       "       -5.60499697e+00, -1.18790763e+01, -5.32386258e+00, -8.75196461e+00,\n",
       "       -5.05337105e+00,  4.21317243e+00,  8.29394893e+00, -1.94793892e-01,\n",
       "        6.21419070e+00,  1.22919129e+01,  1.43146820e+00, -1.35027115e+01,\n",
       "       -3.62346358e+01, -3.44912731e+01, -7.26257798e+00, -1.92271587e+01,\n",
       "       -8.35621985e+00, -1.83300225e+01, -7.91826948e+00, -1.34580596e+01,\n",
       "       -7.68738610e+00,  6.47700065e+00,  1.30943626e+01, -1.03218907e+00,\n",
       "        2.33233770e+00,  4.34921672e+00,  6.81372490e-01, -4.72080306e+00,\n",
       "       -8.43563564e+00,  7.33468238e+00,  8.53003249e+00, -3.96641769e+00,\n",
       "       -2.35577319e+00, -5.81999410e+00, -2.17688120e+00, -4.53225282e+00,\n",
       "       -2.61815052e+00,  6.62684043e-01,  2.83366062e+00,  9.63584241e-01,\n",
       "        4.34281577e+00,  1.14641809e+01,  2.50395618e+00, -1.12050941e+01,\n",
       "       -2.04892477e+01, -1.06903990e+01, -2.96070079e+01, -4.63614256e+00,\n",
       "       -5.31886508e+00, -1.53442001e+01, -5.41187922e+00, -1.18121944e+01,\n",
       "       -6.83683892e+00,  7.81205267e-01,  6.44664358e+00,  3.07112059e+00,\n",
       "        2.11585701e+00,  4.07522208e+00,  7.56372453e-01, -4.25880470e+00,\n",
       "       -7.49626663e+00, -4.53022426e+00, -1.71847044e+01,  1.17683478e+01])\n",
       "  message: b'STOP: TOTAL NO. of ITERATIONS REACHED LIMIT'\n",
       "     nfev: 49\n",
       "      nit: 25\n",
       "   status: 1\n",
       "  success: False\n",
       "        x: array([ 4.00073777e+00,  5.93115450e+01,  1.85458654e+00,  4.73793997e+02,\n",
       "        9.19748181e+00, -1.01465919e+01, -8.42240185e+00, -8.25443717e+00,\n",
       "       -8.66824196e+00, -4.32478352e+00, -7.01835058e+00, -4.03870433e+00,\n",
       "       -5.92416013e+00, -2.82315352e+00, -5.16131396e+00, -3.21116050e+00,\n",
       "       -3.06922064e+00, -5.26215186e+00, -2.39740163e+00, -4.52041430e+00,\n",
       "       -4.73793961e-03, -1.24622302e-01, -5.90506271e-02, -5.15134372e-02,\n",
       "       -2.33093009e-02, -4.09978036e-02, -4.68979957e-02, -7.31769049e-02,\n",
       "       -4.57252271e-02, -3.87765973e-02, -4.45951611e-02, -4.19780820e-02,\n",
       "       -3.22545955e-02, -1.16732155e-02, -1.55066670e-02,  1.02039692e-01,\n",
       "       -3.28264745e-01,  6.04321838e-01, -2.50267590e-01, -2.72140186e-02,\n",
       "       -1.07008751e-02, -1.89831398e-02, -2.24514945e-02, -3.48219746e-02,\n",
       "       -2.18628171e-02, -1.81712353e-02, -2.13086463e-02, -1.96083913e-02,\n",
       "       -1.52937427e-02, -5.22139195e-03, -8.08379593e-03,  5.42497494e-02,\n",
       "        6.68937176e-01,  1.69831906e-01, -6.12365862e-03, -1.02510045e-01,\n",
       "       -2.78343146e-02, -4.31397958e-02, -5.51676687e-02, -8.48294702e-02,\n",
       "       -5.33873896e-02, -4.18740373e-02, -5.15095232e-02, -4.42474412e-02,\n",
       "       -3.44789086e-02, -5.79364593e-03, -1.11734410e-02,  1.11722890e-01,\n",
       "        3.56170708e-01, -6.04222599e-02,  1.97971142e-01,  4.21630314e-01,\n",
       "       -3.63616854e-01, -6.85681766e-02, -2.87253733e-02, -4.46671791e-02,\n",
       "       -2.88109895e-02, -2.02251613e-02, -2.75500638e-02, -2.07761322e-02,\n",
       "       -1.70082671e-02,  5.49877221e-04, -5.96587265e-03,  6.11576816e-02,\n",
       "        2.24791272e-01, -4.21582728e-02, -3.05891733e-01,  2.10294229e-01,\n",
       "        1.47603402e-01, -3.53521153e-01, -4.46048096e-02, -5.94915813e-02,\n",
       "       -3.91521508e-02, -1.93983136e-02, -3.60877273e-02, -1.68923918e-02,\n",
       "       -1.53601181e-02,  1.95972420e-02,  9.18497081e-03,  5.16862871e-02,\n",
       "        2.60041281e-01, -3.36159396e-02, -2.11881012e-02, -8.87716236e-02,\n",
       "        4.34727749e-02, -1.28966151e-01, -1.18579017e-01, -1.01196024e-01,\n",
       "       -6.20752561e-02, -3.12217823e-02, -5.72356535e-02, -2.72544740e-02,\n",
       "       -2.43155116e-02,  3.15897503e-02,  1.77009193e-02,  8.39267655e-02,\n",
       "        1.26864072e-01, -2.48358393e-02, -1.64402629e-02, -3.32729777e-02,\n",
       "       -1.93241629e-01,  6.90025654e-01,  7.38475371e-01, -1.91478745e-01,\n",
       "       -2.75702191e-02, -2.23082768e-02, -2.55422956e-02, -2.45103301e-02,\n",
       "       -1.92800903e-02, -8.90214896e-03, -1.37167296e-02,  7.54275124e-02,\n",
       "        1.75380860e-01, -1.14311426e-02, -6.11008261e-04, -5.58594177e-02,\n",
       "       -7.62140680e-02, -1.50125612e-01, -1.45890577e-01,  1.66275200e-01,\n",
       "       -8.94230739e-02, -5.76700561e-02, -6.45261011e-02, -6.20655057e-02,\n",
       "       -4.77351782e-02, -1.95203352e-02, -2.55224852e-02,  1.59912745e-01,\n",
       "        1.04330934e-01, -1.90182071e-02, -1.18093032e-02, -2.80340747e-02,\n",
       "       -3.53911983e-02, -4.10349177e-02, -2.65528158e-01,  5.18535705e-01])"
      ]
     },
     "execution_count": 49,
     "metadata": {},
     "output_type": "execute_result"
    }
   ],
   "source": [
    "m = gpflow.models.VGP(\n",
    "    (X, Y_data), kernel=kernel, likelihood=likelihood, num_latent_gps=1\n",
    ")\n",
    "\n",
    "opt = gpflow.optimizers.Scipy()\n",
    "opt.minimize(\n",
    "    m.training_loss, variables=m.trainable_variables, options=dict(maxiter=25), method=\"L-BFGS-B\"\n",
    ")\n",
    "# in practice, the optimization needs around 250 iterations to converge"
   ]
  },
  {
   "cell_type": "code",
   "execution_count": null,
   "metadata": {},
   "outputs": [],
   "source": []
  },
  {
   "cell_type": "code",
   "execution_count": 50,
   "metadata": {},
   "outputs": [],
   "source": [
    "x_grid = np.linspace(-3, 3, 40)\n",
    "xx, yy = np.meshgrid(x_grid, x_grid)\n",
    "Xplot = np.vstack((xx.flatten(), yy.flatten())).T"
   ]
  },
  {
   "cell_type": "code",
   "execution_count": 51,
   "metadata": {},
   "outputs": [
    {
     "ename": "NotImplementedError",
     "evalue": "",
     "output_type": "error",
     "traceback": [
      "\u001b[0;31m---------------------------------------------------------------------------\u001b[0m",
      "\u001b[0;31mNotImplementedError\u001b[0m                       Traceback (most recent call last)",
      "\u001b[0;32m<ipython-input-51-d30f9e6cdbf3>\u001b[0m in \u001b[0;36m<module>\u001b[0;34m\u001b[0m\n\u001b[0;32m----> 1\u001b[0;31m \u001b[0mp\u001b[0m\u001b[0;34m,\u001b[0m \u001b[0m_\u001b[0m \u001b[0;34m=\u001b[0m \u001b[0mm\u001b[0m\u001b[0;34m.\u001b[0m\u001b[0mpredict_y\u001b[0m\u001b[0;34m(\u001b[0m\u001b[0mXplot\u001b[0m\u001b[0;34m)\u001b[0m\u001b[0;34m\u001b[0m\u001b[0;34m\u001b[0m\u001b[0m\n\u001b[0m",
      "\u001b[0;32m/usr/local/anaconda3/envs/astronet/lib/python3.7/site-packages/gpflow/models/model.py\u001b[0m in \u001b[0;36mpredict_y\u001b[0;34m(self, Xnew, full_cov, full_output_cov)\u001b[0m\n\u001b[1;32m    219\u001b[0m \u001b[0;34m\u001b[0m\u001b[0m\n\u001b[1;32m    220\u001b[0m         \u001b[0mf_mean\u001b[0m\u001b[0;34m,\u001b[0m \u001b[0mf_var\u001b[0m \u001b[0;34m=\u001b[0m \u001b[0mself\u001b[0m\u001b[0;34m.\u001b[0m\u001b[0mpredict_f\u001b[0m\u001b[0;34m(\u001b[0m\u001b[0mXnew\u001b[0m\u001b[0;34m,\u001b[0m \u001b[0mfull_cov\u001b[0m\u001b[0;34m=\u001b[0m\u001b[0mfull_cov\u001b[0m\u001b[0;34m,\u001b[0m \u001b[0mfull_output_cov\u001b[0m\u001b[0;34m=\u001b[0m\u001b[0mfull_output_cov\u001b[0m\u001b[0;34m)\u001b[0m\u001b[0;34m\u001b[0m\u001b[0;34m\u001b[0m\u001b[0m\n\u001b[0;32m--> 221\u001b[0;31m         \u001b[0;32mreturn\u001b[0m \u001b[0mself\u001b[0m\u001b[0;34m.\u001b[0m\u001b[0mlikelihood\u001b[0m\u001b[0;34m.\u001b[0m\u001b[0mpredict_mean_and_var\u001b[0m\u001b[0;34m(\u001b[0m\u001b[0mf_mean\u001b[0m\u001b[0;34m,\u001b[0m \u001b[0mf_var\u001b[0m\u001b[0;34m)\u001b[0m\u001b[0;34m\u001b[0m\u001b[0;34m\u001b[0m\u001b[0m\n\u001b[0m\u001b[1;32m    222\u001b[0m \u001b[0;34m\u001b[0m\u001b[0m\n\u001b[1;32m    223\u001b[0m     def predict_log_density(\n",
      "\u001b[0;32m/usr/local/anaconda3/envs/astronet/lib/python3.7/site-packages/gpflow/likelihoods/base.py\u001b[0m in \u001b[0;36mpredict_mean_and_var\u001b[0;34m(self, Fmu, Fvar)\u001b[0m\n\u001b[1;32m    209\u001b[0m         \u001b[0mself\u001b[0m\u001b[0;34m.\u001b[0m\u001b[0m_check_latent_dims\u001b[0m\u001b[0;34m(\u001b[0m\u001b[0mFmu\u001b[0m\u001b[0;34m)\u001b[0m\u001b[0;34m\u001b[0m\u001b[0;34m\u001b[0m\u001b[0m\n\u001b[1;32m    210\u001b[0m         \u001b[0mself\u001b[0m\u001b[0;34m.\u001b[0m\u001b[0m_check_latent_dims\u001b[0m\u001b[0;34m(\u001b[0m\u001b[0mFvar\u001b[0m\u001b[0;34m)\u001b[0m\u001b[0;34m\u001b[0m\u001b[0;34m\u001b[0m\u001b[0m\n\u001b[0;32m--> 211\u001b[0;31m         \u001b[0mmu\u001b[0m\u001b[0;34m,\u001b[0m \u001b[0mvar\u001b[0m \u001b[0;34m=\u001b[0m \u001b[0mself\u001b[0m\u001b[0;34m.\u001b[0m\u001b[0m_predict_mean_and_var\u001b[0m\u001b[0;34m(\u001b[0m\u001b[0mFmu\u001b[0m\u001b[0;34m,\u001b[0m \u001b[0mFvar\u001b[0m\u001b[0;34m)\u001b[0m\u001b[0;34m\u001b[0m\u001b[0;34m\u001b[0m\u001b[0m\n\u001b[0m\u001b[1;32m    212\u001b[0m         \u001b[0mself\u001b[0m\u001b[0;34m.\u001b[0m\u001b[0m_check_data_dims\u001b[0m\u001b[0;34m(\u001b[0m\u001b[0mmu\u001b[0m\u001b[0;34m)\u001b[0m\u001b[0;34m\u001b[0m\u001b[0;34m\u001b[0m\u001b[0m\n\u001b[1;32m    213\u001b[0m         \u001b[0mself\u001b[0m\u001b[0;34m.\u001b[0m\u001b[0m_check_data_dims\u001b[0m\u001b[0;34m(\u001b[0m\u001b[0mvar\u001b[0m\u001b[0;34m)\u001b[0m\u001b[0;34m\u001b[0m\u001b[0;34m\u001b[0m\u001b[0m\n",
      "\u001b[0;32m<ipython-input-32-8c3aaec99f81>\u001b[0m in \u001b[0;36m_predict_mean_and_var\u001b[0;34m(self, Fmu, Fvar)\u001b[0m\n\u001b[1;32m     28\u001b[0m \u001b[0;34m\u001b[0m\u001b[0m\n\u001b[1;32m     29\u001b[0m     \u001b[0;32mdef\u001b[0m \u001b[0m_predict_mean_and_var\u001b[0m\u001b[0;34m(\u001b[0m\u001b[0mself\u001b[0m\u001b[0;34m,\u001b[0m \u001b[0mFmu\u001b[0m\u001b[0;34m,\u001b[0m \u001b[0mFvar\u001b[0m\u001b[0;34m)\u001b[0m\u001b[0;34m:\u001b[0m\u001b[0;34m\u001b[0m\u001b[0;34m\u001b[0m\u001b[0m\n\u001b[0;32m---> 30\u001b[0;31m         \u001b[0;32mraise\u001b[0m \u001b[0mNotImplementedError\u001b[0m\u001b[0;34m\u001b[0m\u001b[0;34m\u001b[0m\u001b[0m\n\u001b[0m",
      "\u001b[0;31mNotImplementedError\u001b[0m: "
     ]
    }
   ],
   "source": [
    "p, _ = m.predict_y(Xplot)"
   ]
  },
  {
   "cell_type": "code",
   "execution_count": null,
   "metadata": {},
   "outputs": [],
   "source": []
  },
  {
   "cell_type": "code",
   "execution_count": null,
   "metadata": {},
   "outputs": [],
   "source": []
  },
  {
   "cell_type": "code",
   "execution_count": null,
   "metadata": {},
   "outputs": [],
   "source": []
  },
  {
   "cell_type": "code",
   "execution_count": null,
   "metadata": {},
   "outputs": [],
   "source": []
  },
  {
   "cell_type": "code",
   "execution_count": null,
   "metadata": {},
   "outputs": [],
   "source": [
    "y_err.shape, X.shape, y.shape"
   ]
  },
  {
   "cell_type": "code",
   "execution_count": null,
   "metadata": {},
   "outputs": [],
   "source": [
    "X[0].min().round(), X[0].max().round()"
   ]
  },
  {
   "cell_type": "code",
   "execution_count": null,
   "metadata": {},
   "outputs": [],
   "source": [
    "X[:, 0]"
   ]
  },
  {
   "cell_type": "code",
   "execution_count": null,
   "metadata": {},
   "outputs": [],
   "source": [
    "del mu, var"
   ]
  },
  {
   "cell_type": "code",
   "execution_count": null,
   "metadata": {},
   "outputs": [],
   "source": [
    "#let's do some plotting!\n",
    "xx = np.linspace(X[:, 0].min().round(), X[:, 0].max().round(), 200)[:, None]"
   ]
  },
  {
   "cell_type": "code",
   "execution_count": null,
   "metadata": {},
   "outputs": [],
   "source": [
    "obj_wavelengths[0]"
   ]
  },
  {
   "cell_type": "code",
   "execution_count": null,
   "metadata": {},
   "outputs": [],
   "source": [
    "data_tensor = tf.ragged.constant(xx)\n",
    "data_tensor.to_tensor()"
   ]
  },
  {
   "cell_type": "code",
   "execution_count": null,
   "metadata": {},
   "outputs": [],
   "source": [
    "w = [6231.] * 200\n",
    "W = np.array(w)\n",
    "W = W.reshape(W.shape[0], 1)"
   ]
  },
  {
   "cell_type": "code",
   "execution_count": null,
   "metadata": {},
   "outputs": [],
   "source": [
    "mu, var = m.predict_f([data_tensor.to_tensor(), W])"
   ]
  },
  {
   "cell_type": "code",
   "execution_count": null,
   "metadata": {},
   "outputs": [],
   "source": [
    "plt.figure(figsize=(12, 6))\n",
    "plt.plot(xx, mu, \"C0\")\n",
    "plt.plot(xx, mu + 2 * np.sqrt(var), \"C0\", lw=0.5)\n",
    "plt.plot(xx, mu - 2 * np.sqrt(var), \"C0\", lw=0.5)\n",
    "plt.fill_between(\n",
    "    xx[:, 0],\n",
    "    mu[:, 0] - 1.96 * np.sqrt(var[:, 0]),\n",
    "    mu[:, 0] + 1.96 * np.sqrt(var[:, 0]),\n",
    "    color=\"C4\",\n",
    "    alpha=0.2,\n",
    ")"
   ]
  },
  {
   "cell_type": "code",
   "execution_count": null,
   "metadata": {},
   "outputs": [],
   "source": [
    "#let's do some plotting!\n",
    "xx = np.linspace(X[:, 0].min().round(), X[:, 0].max().round(), 200)[:, None]\n",
    "\n",
    "mu, var = m.predict_f(xx)\n",
    "\n",
    "plt.figure(figsize=(12, 6))\n",
    "plt.plot(xx, mu, \"C0\")\n",
    "plt.plot(xx, mu + 2 * np.sqrt(var), \"C0\", lw=0.5)\n",
    "plt.plot(xx, mu - 2 * np.sqrt(var), \"C0\", lw=0.5)\n",
    "\n",
    "plt.fill_between(\n",
    "    xx[:, 0],\n",
    "    mu[:, 0] - 1.96 * np.sqrt(var[:, 0]),\n",
    "    mu[:, 0] + 1.96 * np.sqrt(var[:, 0]),\n",
    "    color=\"C4\",\n",
    "    alpha=0.2,\n",
    ")"
   ]
  },
  {
   "cell_type": "code",
   "execution_count": null,
   "metadata": {},
   "outputs": [],
   "source": [
    "np.random.seed(1)  # for reproducibility\n",
    "\n",
    "\n",
    "def generate_data(N=80):\n",
    "    X = np.random.rand(N)[:, None] * 10 - 5  # Inputs, shape N x 1\n",
    "    X2 = [1500] * N\n",
    "    X2 = np.array(X2)\n",
    "    X2 = X2.reshape(X2.shape[0], 1)\n",
    "    F = 2.5 * np.sin(6 * X) + np.cos(3 * X)  # Mean function values\n",
    "    NoiseVar = 2 * np.exp(-((X - 2) ** 2) / 4) + 0.3  # Noise variances\n",
    "    Y = np.random.randn(N, 1) * np.sqrt(NoiseVar)  # Noisy data\n",
    "    return X, Y, NoiseVar, X2\n",
    "\n",
    "\n",
    "X, Y, NoiseVar, X2 = generate_data()"
   ]
  },
  {
   "cell_type": "code",
   "execution_count": null,
   "metadata": {},
   "outputs": [],
   "source": [
    "X.shape, X2.shape, Y.shape"
   ]
  },
  {
   "cell_type": "code",
   "execution_count": null,
   "metadata": {},
   "outputs": [],
   "source": [
    "Y.shape"
   ]
  },
  {
   "cell_type": "code",
   "execution_count": null,
   "metadata": {},
   "outputs": [],
   "source": [
    "Y_data = np.hstack([Y, NoiseVar])"
   ]
  },
  {
   "cell_type": "code",
   "execution_count": null,
   "metadata": {},
   "outputs": [],
   "source": [
    "Y_data.shape"
   ]
  },
  {
   "cell_type": "code",
   "execution_count": null,
   "metadata": {},
   "outputs": [],
   "source": [
    "XX = np.hstack([X, X2])\n",
    "XX.shape"
   ]
  },
  {
   "cell_type": "code",
   "execution_count": null,
   "metadata": {},
   "outputs": [],
   "source": [
    "# model construction\n",
    "likelihood = HeteroskedasticGaussian()\n",
    "# kernel = gpflow.kernels.Matern52(lengthscales=0.5)\n",
    "kernel = gpflow.kernels.Matern52(active_dims=[0], lengthscales=0.5) + gpflow.kernels.Matern52(active_dims=[1], lengthscales=0.5)\n",
    "model = gpflow.models.VGP((XX, Y_data), kernel=kernel, likelihood=likelihood, num_latent_gps=1)"
   ]
  },
  {
   "cell_type": "code",
   "execution_count": null,
   "metadata": {},
   "outputs": [],
   "source": [
    "model"
   ]
  },
  {
   "cell_type": "code",
   "execution_count": null,
   "metadata": {},
   "outputs": [],
   "source": [
    "natgrad = NaturalGradient(gamma=1.0)\n",
    "adam = tf.optimizers.Adam()\n",
    "\n",
    "set_trainable(model.q_mu, False)\n",
    "set_trainable(model.q_sqrt, False)\n",
    "\n",
    "for _ in range(ci_niter(1000)):\n",
    "    natgrad.minimize(model.training_loss, [(model.q_mu, model.q_sqrt)])\n",
    "    adam.minimize(model.training_loss, model.trainable_variables)"
   ]
  },
  {
   "cell_type": "code",
   "execution_count": null,
   "metadata": {},
   "outputs": [],
   "source": [
    "# let's do some plotting!\n",
    "xx = np.linspace(-5, 5, 200)[:, None]\n",
    "\n",
    "mu, var = model.predict_f(xx)\n",
    "\n",
    "plt.figure(figsize=(12, 6))\n",
    "plt.plot(xx, mu, \"C0\")\n",
    "plt.plot(xx, mu + 2 * np.sqrt(var), \"C0\", lw=0.5)\n",
    "plt.plot(xx, mu - 2 * np.sqrt(var), \"C0\", lw=0.5)\n",
    "\n",
    "plt.errorbar(\n",
    "    X.squeeze(),\n",
    "    Y.squeeze(),\n",
    "    yerr=2 * (np.sqrt(NoiseVar)).squeeze(),\n",
    "    marker=\"x\",\n",
    "    lw=0,\n",
    "    elinewidth=1.0,\n",
    "    color=\"C1\",\n",
    ")\n",
    "_ = plt.xlim(-5, 5)"
   ]
  },
  {
   "cell_type": "code",
   "execution_count": null,
   "metadata": {},
   "outputs": [],
   "source": [
    "np.isnan(np.sum(Y_data)), np.isnan(np.sum(X))"
   ]
  },
  {
   "cell_type": "code",
   "execution_count": null,
   "metadata": {},
   "outputs": [],
   "source": []
  }
 ],
 "metadata": {
  "kernelspec": {
   "display_name": "Python 3",
   "language": "python",
   "name": "python3"
  },
  "language_info": {
   "codemirror_mode": {
    "name": "ipython",
    "version": 3
   },
   "file_extension": ".py",
   "mimetype": "text/x-python",
   "name": "python",
   "nbconvert_exporter": "python",
   "pygments_lexer": "ipython3",
   "version": "3.7.8"
  }
 },
 "nbformat": 4,
 "nbformat_minor": 4
}
