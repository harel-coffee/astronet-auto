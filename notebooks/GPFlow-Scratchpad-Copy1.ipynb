{
 "cells": [
  {
   "cell_type": "code",
   "execution_count": null,
   "metadata": {},
   "outputs": [],
   "source": []
  },
  {
   "cell_type": "code",
   "execution_count": 2,
   "metadata": {},
   "outputs": [],
   "source": [
    "import numpy as np\n",
    "import tensorflow as tf\n",
    "import gpflow\n",
    "from gpflow.ci_utils import ci_niter\n",
    "from gpflow.optimizers import NaturalGradient\n",
    "from gpflow import set_trainable\n",
    "import matplotlib.pyplot as plt\n",
    "\n",
    "%matplotlib inline"
   ]
  },
  {
   "cell_type": "code",
   "execution_count": 5,
   "metadata": {},
   "outputs": [
    {
     "data": {
      "text/plain": [
       "[<matplotlib.lines.Line2D at 0x7ff8236f2510>]"
      ]
     },
     "execution_count": 5,
     "metadata": {},
     "output_type": "execute_result"
    },
    {
     "data": {
      "image/png": "[encoded data removed]",
      "text/plain": [
       "<Figure size 432x288 with 1 Axes>"
      ]
     },
     "metadata": {
      "needs_background": "light"
     },
     "output_type": "display_data"
    }
   ],
   "source": [
    "# Create dummy data.\n",
    "num_data = 100\n",
    "X = np.random.randn(num_data, 1)  # [N, 2]\n",
    "Y = np.sin(X) + 2 * np.cos(X) + np.random.randn(*X.shape)  # [N, 1]\n",
    "plt.plot(X, Y, \"o\")"
   ]
  },
  {
   "cell_type": "code",
   "execution_count": 7,
   "metadata": {},
   "outputs": [
    {
     "data": {
      "text/html": [
       "&lt;gpflow.models.gpr.GPR object at 0x7ff82366ac50&gt;\n",
       "<table>\n",
       "<thead>\n",
       "<tr><th>name                              </th><th>class    </th><th>transform       </th><th>prior  </th><th>trainable  </th><th>shape  </th><th>dtype  </th><th>value  </th></tr>\n",
       "</thead>\n",
       "<tbody>\n",
       "<tr><td>GPR.kernel.kernels[0].variance    </td><td>Parameter</td><td>Softplus        </td><td>       </td><td>True       </td><td>()     </td><td>float64</td><td>1.0    </td></tr>\n",
       "<tr><td>GPR.kernel.kernels[0].lengthscales</td><td>Parameter</td><td>Softplus        </td><td>       </td><td>True       </td><td>(2,)   </td><td>float64</td><td>[1. 2.]</td></tr>\n",
       "<tr><td>GPR.kernel.kernels[1].variance    </td><td>Parameter</td><td>Softplus        </td><td>       </td><td>True       </td><td>()     </td><td>float64</td><td>1.0    </td></tr>\n",
       "<tr><td>GPR.likelihood.variance           </td><td>Parameter</td><td>Softplus + Shift</td><td>       </td><td>True       </td><td>()     </td><td>float64</td><td>1.0    </td></tr>\n",
       "</tbody>\n",
       "</table>"
      ],
      "text/plain": [
       "<gpflow.models.gpr.GPR object at 0x7ff82366ac50>\n",
       "╒════════════════════════════════════╤═══════════╤══════════════════╤═════════╤═════════════╤═════════╤═════════╤═════════╕\n",
       "│ name                               │ class     │ transform        │ prior   │ trainable   │ shape   │ dtype   │ value   │\n",
       "╞════════════════════════════════════╪═══════════╪══════════════════╪═════════╪═════════════╪═════════╪═════════╪═════════╡\n",
       "│ GPR.kernel.kernels[0].variance     │ Parameter │ Softplus         │         │ True        │ ()      │ float64 │ 1.0     │\n",
       "├────────────────────────────────────┼───────────┼──────────────────┼─────────┼─────────────┼─────────┼─────────┼─────────┤\n",
       "│ GPR.kernel.kernels[0].lengthscales │ Parameter │ Softplus         │         │ True        │ (2,)    │ float64 │ [1. 2.] │\n",
       "├────────────────────────────────────┼───────────┼──────────────────┼─────────┼─────────────┼─────────┼─────────┼─────────┤\n",
       "│ GPR.kernel.kernels[1].variance     │ Parameter │ Softplus         │         │ True        │ ()      │ float64 │ 1.0     │\n",
       "├────────────────────────────────────┼───────────┼──────────────────┼─────────┼─────────────┼─────────┼─────────┼─────────┤\n",
       "│ GPR.likelihood.variance            │ Parameter │ Softplus + Shift │         │ True        │ ()      │ float64 │ 1.0     │\n",
       "╘════════════════════════════════════╧═══════════╧══════════════════╧═════════╧═════════════╧═════════╧═════════╧═════════╛"
      ]
     },
     "execution_count": 7,
     "metadata": {},
     "output_type": "execute_result"
    }
   ],
   "source": [
    "# Set up model and print\n",
    "kernel = gpflow.kernels.SquaredExponential(lengthscales=[1.0, 2.0]) + gpflow.kernels.Linear()\n",
    "model = gpflow.models.GPR((X, Y), kernel)\n",
    "model"
   ]
  },
  {
   "cell_type": "code",
   "execution_count": 10,
   "metadata": {},
   "outputs": [
    {
     "data": {
      "text/plain": [
       "(100, 1)"
      ]
     },
     "execution_count": 10,
     "metadata": {},
     "output_type": "execute_result"
    }
   ],
   "source": [
    "Y.shape"
   ]
  },
  {
   "cell_type": "code",
   "execution_count": 8,
   "metadata": {},
   "outputs": [
    {
     "data": {
      "image/png": "[encoded data removed]",
      "text/plain": [
       "<Figure size 432x288 with 1 Axes>"
      ]
     },
     "metadata": {
      "needs_background": "light"
     },
     "output_type": "display_data"
    }
   ],
   "source": [
    "# We define a function that plots the model's prediction (in the form of samples) together with the data.\n",
    "# Importantly, this function has no other argument than `fig: matplotlib.figure.Figure` and `ax: matplotlib.figure.Axes`.\n",
    "\n",
    "\n",
    "def plot_prediction(fig, ax):\n",
    "    Xnew = np.linspace(X.min() - 0.5, X.max() + 0.5, 100).reshape(-1, 1)\n",
    "    Ypred = model.predict_f_samples(Xnew, full_cov=True, num_samples=1)\n",
    "    ax.plot(Xnew.flatten(), np.squeeze(Ypred).T, \"C2\", linestyle='none', marker='x', alpha=0.2)\n",
    "    ax.plot(X, Y, \"o\")\n",
    "\n",
    "\n",
    "# Let's check if the function does the desired plotting\n",
    "fig = plt.figure()\n",
    "ax = fig.subplots()\n",
    "plot_prediction(fig, ax)\n",
    "plt.show()"
   ]
  },
  {
   "cell_type": "code",
   "execution_count": null,
   "metadata": {},
   "outputs": [],
   "source": [
    "Xnew = np.linspace(X.min() - 0.5, X.max() + 0.5, 100).reshape(-1, 1)\n",
    "Ypred = model.predict_f_samples(Xnew, full_cov=True, num_samples=100)"
   ]
  },
  {
   "cell_type": "code",
   "execution_count": null,
   "metadata": {},
   "outputs": [],
   "source": [
    "Xnew.shape"
   ]
  },
  {
   "cell_type": "code",
   "execution_count": null,
   "metadata": {},
   "outputs": [],
   "source": [
    "Ypred"
   ]
  },
  {
   "cell_type": "code",
   "execution_count": null,
   "metadata": {},
   "outputs": [],
   "source": [
    "np.squeeze(Ypred).T.shape"
   ]
  },
  {
   "cell_type": "code",
   "execution_count": null,
   "metadata": {},
   "outputs": [],
   "source": [
    "Ypred.shape"
   ]
  },
  {
   "cell_type": "code",
   "execution_count": null,
   "metadata": {},
   "outputs": [],
   "source": [
    "import numpy as np\n",
    "import matplotlib.pyplot as plt\n",
    "import tensorflow as tf\n",
    "from gpflow.utilities import print_summary\n",
    "\n",
    "# The lines below are specific to the notebook format\n",
    "%matplotlib inline\n",
    "plt.rcParams[\"figure.figsize\"] = (12, 6)"
   ]
  },
  {
   "cell_type": "code",
   "execution_count": null,
   "metadata": {},
   "outputs": [],
   "source": [
    "X = np.random.randn(num_data, 1)  # [N, 2]\n",
    "Y = np.sin(X) + 2 * np.cos(X) + np.random.randn(*X.shape) * noise_std  # [N, 1]\n",
    "\n",
    "_ = plt.plot(X, Y, \"kx\", mew=2)"
   ]
  },
  {
   "cell_type": "code",
   "execution_count": null,
   "metadata": {},
   "outputs": [],
   "source": [
    "k = gpflow.kernels.Matern52()"
   ]
  },
  {
   "cell_type": "code",
   "execution_count": null,
   "metadata": {},
   "outputs": [],
   "source": [
    "print_summary(k)"
   ]
  },
  {
   "cell_type": "code",
   "execution_count": null,
   "metadata": {},
   "outputs": [],
   "source": [
    "m = gpflow.models.GPR(data=(X, Y), kernel=k, mean_function=None)"
   ]
  },
  {
   "cell_type": "code",
   "execution_count": null,
   "metadata": {},
   "outputs": [],
   "source": [
    "m.likelihood.variance.assign(0.01)\n",
    "m.kernel.lengthscales.assign(0.3)"
   ]
  },
  {
   "cell_type": "code",
   "execution_count": null,
   "metadata": {},
   "outputs": [],
   "source": [
    "opt = gpflow.optimizers.Scipy()"
   ]
  },
  {
   "cell_type": "code",
   "execution_count": null,
   "metadata": {},
   "outputs": [],
   "source": [
    "opt_logs = opt.minimize(m.training_loss, m.trainable_variables, options=dict(maxiter=100))\n",
    "print_summary(m)"
   ]
  },
  {
   "cell_type": "code",
   "execution_count": null,
   "metadata": {},
   "outputs": [],
   "source": [
    "X.shape, Y.shape"
   ]
  },
  {
   "cell_type": "code",
   "execution_count": null,
   "metadata": {},
   "outputs": [],
   "source": [
    "## generate test points for prediction\n",
    "xx = np.linspace(-2, 2, 100).reshape(100, 1)  # test points must be of shape (N, D)\n",
    "\n",
    "## predict mean and variance of latent GP at test points\n",
    "mean, var = m.predict_f(xx)\n",
    "\n",
    "## generate 10 samples from posterior\n",
    "tf.random.set_seed(1)  # for reproducibility\n",
    "samples = m.predict_f_samples(xx, 10)  # shape (10, 100, 1)\n",
    "\n",
    "## plot\n",
    "plt.figure(figsize=(12, 6))\n",
    "plt.plot(X, Y, \"kx\", mew=2)\n",
    "plt.plot(xx, mean, \"C2\", linestyle='none', marker='x')\n",
    "plt.fill_between(\n",
    "    xx[:, 0],\n",
    "    mean[:, 0] - 1.96 * np.sqrt(var[:, 0]),\n",
    "    mean[:, 0] + 1.96 * np.sqrt(var[:, 0]),\n",
    "    color=\"C3\",\n",
    "    alpha=0.2,\n",
    ")\n",
    "\n",
    "plt.plot(xx, samples[:, :, 0].numpy().T, \"C0\", linewidth=0.5)\n",
    "_ = plt.xlim(-2, 2)"
   ]
  },
  {
   "cell_type": "code",
   "execution_count": null,
   "metadata": {},
   "outputs": [],
   "source": [
    "mean"
   ]
  },
  {
   "cell_type": "code",
   "execution_count": null,
   "metadata": {},
   "outputs": [],
   "source": [
    "xx"
   ]
  },
  {
   "cell_type": "code",
   "execution_count": null,
   "metadata": {},
   "outputs": [],
   "source": []
  },
  {
   "cell_type": "code",
   "execution_count": null,
   "metadata": {},
   "outputs": [],
   "source": []
  },
  {
   "cell_type": "code",
   "execution_count": 148,
   "metadata": {},
   "outputs": [],
   "source": [
    "import pandas as pd\n",
    "import numpy as np"
   ]
  },
  {
   "cell_type": "code",
   "execution_count": 149,
   "metadata": {},
   "outputs": [
    {
     "data": {
      "text/plain": [
       "(1421705, 6)"
      ]
     },
     "execution_count": 149,
     "metadata": {},
     "output_type": "execute_result"
    }
   ],
   "source": [
    "data = pd.read_csv(\"~/data/plasticc/training_set.csv\", sep=',')\n",
    "data.shape"
   ]
  },
  {
   "cell_type": "code",
   "execution_count": 150,
   "metadata": {},
   "outputs": [],
   "source": [
    "data = data.loc[data.detected == 1]  # Update dataframe with only detected points"
   ]
  },
  {
   "cell_type": "code",
   "execution_count": 151,
   "metadata": {},
   "outputs": [
    {
     "data": {
      "text/plain": [
       "(236880, 6)"
      ]
     },
     "execution_count": 151,
     "metadata": {},
     "output_type": "execute_result"
    }
   ],
   "source": [
    "data.shape"
   ]
  },
  {
   "cell_type": "code",
   "execution_count": 152,
   "metadata": {},
   "outputs": [],
   "source": [
    "def remap_filters(df):  # maybe not in snmachine (raise issue/channel)\n",
    "    \"\"\"Function to remap integer filters to the corresponding lsst filters and\n",
    "    also to set filter name syntax to what snmachine already recognizes\n",
    "\n",
    "    df: pandas.dataframe\n",
    "        Dataframe of lightcurve observations\n",
    "    \"\"\"\n",
    "    df.rename({'passband': 'filter'}, axis='columns', inplace=True)\n",
    "    filter_replace = {0: 'lsstu', 1: 'lsstg', 2: 'lsstr', 3: 'lssti',\n",
    "                      4: 'lsstz', 5: 'lssty'}\n",
    "    df['filter'].replace(to_replace=filter_replace, inplace=True)\n",
    "    return df\n"
   ]
  },
  {
   "cell_type": "code",
   "execution_count": 153,
   "metadata": {},
   "outputs": [
    {
     "data": {
      "text/html": [
       "<div>\n",
       "<style scoped>\n",
       "    .dataframe tbody tr th:only-of-type {\n",
       "        vertical-align: middle;\n",
       "    }\n",
       "\n",
       "    .dataframe tbody tr th {\n",
       "        vertical-align: top;\n",
       "    }\n",
       "\n",
       "    .dataframe thead th {\n",
       "        text-align: right;\n",
       "    }\n",
       "</style>\n",
       "<table border=\"1\" class=\"dataframe\">\n",
       "  <thead>\n",
       "    <tr style=\"text-align: right;\">\n",
       "      <th></th>\n",
       "      <th>object_id</th>\n",
       "      <th>mjd</th>\n",
       "      <th>filter</th>\n",
       "      <th>flux</th>\n",
       "      <th>flux_error</th>\n",
       "      <th>detected</th>\n",
       "    </tr>\n",
       "  </thead>\n",
       "  <tbody>\n",
       "    <tr>\n",
       "      <th>0</th>\n",
       "      <td>615</td>\n",
       "      <td>59750.4229</td>\n",
       "      <td>lsstr</td>\n",
       "      <td>-544.810303</td>\n",
       "      <td>3.622952</td>\n",
       "      <td>1</td>\n",
       "    </tr>\n",
       "    <tr>\n",
       "      <th>1</th>\n",
       "      <td>615</td>\n",
       "      <td>59750.4306</td>\n",
       "      <td>lsstg</td>\n",
       "      <td>-816.434326</td>\n",
       "      <td>5.553370</td>\n",
       "      <td>1</td>\n",
       "    </tr>\n",
       "    <tr>\n",
       "      <th>2</th>\n",
       "      <td>615</td>\n",
       "      <td>59750.4383</td>\n",
       "      <td>lssti</td>\n",
       "      <td>-471.385529</td>\n",
       "      <td>3.801213</td>\n",
       "      <td>1</td>\n",
       "    </tr>\n",
       "    <tr>\n",
       "      <th>3</th>\n",
       "      <td>615</td>\n",
       "      <td>59750.4450</td>\n",
       "      <td>lsstz</td>\n",
       "      <td>-388.984985</td>\n",
       "      <td>11.395031</td>\n",
       "      <td>1</td>\n",
       "    </tr>\n",
       "    <tr>\n",
       "      <th>4</th>\n",
       "      <td>615</td>\n",
       "      <td>59752.4070</td>\n",
       "      <td>lsstr</td>\n",
       "      <td>-681.858887</td>\n",
       "      <td>4.041204</td>\n",
       "      <td>1</td>\n",
       "    </tr>\n",
       "  </tbody>\n",
       "</table>\n",
       "</div>"
      ],
      "text/plain": [
       "   object_id         mjd filter        flux  flux_error  detected\n",
       "0        615  59750.4229  lsstr -544.810303    3.622952         1\n",
       "1        615  59750.4306  lsstg -816.434326    5.553370         1\n",
       "2        615  59750.4383  lssti -471.385529    3.801213         1\n",
       "3        615  59750.4450  lsstz -388.984985   11.395031         1\n",
       "4        615  59752.4070  lsstr -681.858887    4.041204         1"
      ]
     },
     "execution_count": 153,
     "metadata": {},
     "output_type": "execute_result"
    }
   ],
   "source": [
    "data = remap_filters(df=data)\n",
    "data.rename({'flux_err': 'flux_error'}, axis='columns', inplace=True)  # snmachine and PLAsTiCC uses a different denomination\n",
    "data.head()"
   ]
  },
  {
   "cell_type": "code",
   "execution_count": 154,
   "metadata": {},
   "outputs": [],
   "source": [
    "import re\n",
    "# Abstract column names from dataset\n",
    "for col in data.columns:\n",
    "    if re.search('mjd', col):  # catches the column that has `mjd` in its name\n",
    "        data.mjd_col = col\n",
    "    if re.search('id', col):  # catches the column that has `id` in its name\n",
    "        data.id_col = col"
   ]
  },
  {
   "cell_type": "code",
   "execution_count": 155,
   "metadata": {},
   "outputs": [
    {
     "data": {
      "text/plain": [
       "'object_id'"
      ]
     },
     "execution_count": 155,
     "metadata": {},
     "output_type": "execute_result"
    }
   ],
   "source": [
    "data.id_col"
   ]
  },
  {
   "cell_type": "code",
   "execution_count": 156,
   "metadata": {},
   "outputs": [],
   "source": [
    "number_invalid_objs = 0  # Some objects may have empty data\n",
    "number_objs = len(data[data.id_col].unique())\n",
    "object_names = []"
   ]
  },
  {
   "cell_type": "code",
   "execution_count": 157,
   "metadata": {},
   "outputs": [
    {
     "data": {
      "text/html": [
       "<div>\n",
       "<style scoped>\n",
       "    .dataframe tbody tr th:only-of-type {\n",
       "        vertical-align: middle;\n",
       "    }\n",
       "\n",
       "    .dataframe tbody tr th {\n",
       "        vertical-align: top;\n",
       "    }\n",
       "\n",
       "    .dataframe thead th {\n",
       "        text-align: right;\n",
       "    }\n",
       "</style>\n",
       "<table border=\"1\" class=\"dataframe\">\n",
       "  <thead>\n",
       "    <tr style=\"text-align: right;\">\n",
       "      <th></th>\n",
       "      <th>object_id</th>\n",
       "      <th>mjd</th>\n",
       "      <th>filter</th>\n",
       "      <th>flux</th>\n",
       "      <th>flux_error</th>\n",
       "      <th>detected</th>\n",
       "    </tr>\n",
       "  </thead>\n",
       "  <tbody>\n",
       "    <tr>\n",
       "      <th>0</th>\n",
       "      <td>615</td>\n",
       "      <td>59750.4229</td>\n",
       "      <td>lsstr</td>\n",
       "      <td>-544.810303</td>\n",
       "      <td>3.622952</td>\n",
       "      <td>1</td>\n",
       "    </tr>\n",
       "    <tr>\n",
       "      <th>1</th>\n",
       "      <td>615</td>\n",
       "      <td>59750.4306</td>\n",
       "      <td>lsstg</td>\n",
       "      <td>-816.434326</td>\n",
       "      <td>5.553370</td>\n",
       "      <td>1</td>\n",
       "    </tr>\n",
       "    <tr>\n",
       "      <th>2</th>\n",
       "      <td>615</td>\n",
       "      <td>59750.4383</td>\n",
       "      <td>lssti</td>\n",
       "      <td>-471.385529</td>\n",
       "      <td>3.801213</td>\n",
       "      <td>1</td>\n",
       "    </tr>\n",
       "    <tr>\n",
       "      <th>3</th>\n",
       "      <td>615</td>\n",
       "      <td>59750.4450</td>\n",
       "      <td>lsstz</td>\n",
       "      <td>-388.984985</td>\n",
       "      <td>11.395031</td>\n",
       "      <td>1</td>\n",
       "    </tr>\n",
       "    <tr>\n",
       "      <th>4</th>\n",
       "      <td>615</td>\n",
       "      <td>59752.4070</td>\n",
       "      <td>lsstr</td>\n",
       "      <td>-681.858887</td>\n",
       "      <td>4.041204</td>\n",
       "      <td>1</td>\n",
       "    </tr>\n",
       "    <tr>\n",
       "      <th>...</th>\n",
       "      <td>...</td>\n",
       "      <td>...</td>\n",
       "      <td>...</td>\n",
       "      <td>...</td>\n",
       "      <td>...</td>\n",
       "      <td>...</td>\n",
       "    </tr>\n",
       "    <tr>\n",
       "      <th>1421641</th>\n",
       "      <td>130779836</td>\n",
       "      <td>60133.3766</td>\n",
       "      <td>lssti</td>\n",
       "      <td>304.545258</td>\n",
       "      <td>28.338671</td>\n",
       "      <td>1</td>\n",
       "    </tr>\n",
       "    <tr>\n",
       "      <th>1421642</th>\n",
       "      <td>130779836</td>\n",
       "      <td>60137.1041</td>\n",
       "      <td>lssti</td>\n",
       "      <td>305.615570</td>\n",
       "      <td>28.171988</td>\n",
       "      <td>1</td>\n",
       "    </tr>\n",
       "    <tr>\n",
       "      <th>1421643</th>\n",
       "      <td>130779836</td>\n",
       "      <td>60138.1329</td>\n",
       "      <td>lssti</td>\n",
       "      <td>270.237976</td>\n",
       "      <td>28.013514</td>\n",
       "      <td>1</td>\n",
       "    </tr>\n",
       "    <tr>\n",
       "      <th>1421645</th>\n",
       "      <td>130779836</td>\n",
       "      <td>60142.1321</td>\n",
       "      <td>lssti</td>\n",
       "      <td>276.659332</td>\n",
       "      <td>27.884199</td>\n",
       "      <td>1</td>\n",
       "    </tr>\n",
       "    <tr>\n",
       "      <th>1421649</th>\n",
       "      <td>130779836</td>\n",
       "      <td>60159.0981</td>\n",
       "      <td>lssty</td>\n",
       "      <td>183.245865</td>\n",
       "      <td>29.652933</td>\n",
       "      <td>1</td>\n",
       "    </tr>\n",
       "  </tbody>\n",
       "</table>\n",
       "<p>236880 rows × 6 columns</p>\n",
       "</div>"
      ],
      "text/plain": [
       "         object_id         mjd filter        flux  flux_error  detected\n",
       "0              615  59750.4229  lsstr -544.810303    3.622952         1\n",
       "1              615  59750.4306  lsstg -816.434326    5.553370         1\n",
       "2              615  59750.4383  lssti -471.385529    3.801213         1\n",
       "3              615  59750.4450  lsstz -388.984985   11.395031         1\n",
       "4              615  59752.4070  lsstr -681.858887    4.041204         1\n",
       "...            ...         ...    ...         ...         ...       ...\n",
       "1421641  130779836  60133.3766  lssti  304.545258   28.338671         1\n",
       "1421642  130779836  60137.1041  lssti  305.615570   28.171988         1\n",
       "1421643  130779836  60138.1329  lssti  270.237976   28.013514         1\n",
       "1421645  130779836  60142.1321  lssti  276.659332   27.884199         1\n",
       "1421649  130779836  60159.0981  lssty  183.245865   29.652933         1\n",
       "\n",
       "[236880 rows x 6 columns]"
      ]
     },
     "execution_count": 157,
     "metadata": {},
     "output_type": "execute_result"
    }
   ],
   "source": [
    "data"
   ]
  },
  {
   "cell_type": "code",
   "execution_count": 158,
   "metadata": {},
   "outputs": [],
   "source": [
    "import matplotlib.pyplot as plt\n",
    "%matplotlib inline"
   ]
  },
  {
   "cell_type": "code",
   "execution_count": 159,
   "metadata": {},
   "outputs": [
    {
     "data": {
      "text/html": [
       "<div>\n",
       "<style scoped>\n",
       "    .dataframe tbody tr th:only-of-type {\n",
       "        vertical-align: middle;\n",
       "    }\n",
       "\n",
       "    .dataframe tbody tr th {\n",
       "        vertical-align: top;\n",
       "    }\n",
       "\n",
       "    .dataframe thead th {\n",
       "        text-align: right;\n",
       "    }\n",
       "</style>\n",
       "<table border=\"1\" class=\"dataframe\">\n",
       "  <thead>\n",
       "    <tr style=\"text-align: right;\">\n",
       "      <th></th>\n",
       "      <th>object_id</th>\n",
       "      <th>mjd</th>\n",
       "      <th>filter</th>\n",
       "      <th>flux</th>\n",
       "      <th>flux_error</th>\n",
       "      <th>detected</th>\n",
       "    </tr>\n",
       "  </thead>\n",
       "  <tbody>\n",
       "    <tr>\n",
       "      <th>0</th>\n",
       "      <td>615</td>\n",
       "      <td>59750.4229</td>\n",
       "      <td>lsstr</td>\n",
       "      <td>-544.810303</td>\n",
       "      <td>3.622952</td>\n",
       "      <td>1</td>\n",
       "    </tr>\n",
       "    <tr>\n",
       "      <th>1</th>\n",
       "      <td>615</td>\n",
       "      <td>59750.4306</td>\n",
       "      <td>lsstg</td>\n",
       "      <td>-816.434326</td>\n",
       "      <td>5.553370</td>\n",
       "      <td>1</td>\n",
       "    </tr>\n",
       "    <tr>\n",
       "      <th>2</th>\n",
       "      <td>615</td>\n",
       "      <td>59750.4383</td>\n",
       "      <td>lssti</td>\n",
       "      <td>-471.385529</td>\n",
       "      <td>3.801213</td>\n",
       "      <td>1</td>\n",
       "    </tr>\n",
       "    <tr>\n",
       "      <th>3</th>\n",
       "      <td>615</td>\n",
       "      <td>59750.4450</td>\n",
       "      <td>lsstz</td>\n",
       "      <td>-388.984985</td>\n",
       "      <td>11.395031</td>\n",
       "      <td>1</td>\n",
       "    </tr>\n",
       "    <tr>\n",
       "      <th>4</th>\n",
       "      <td>615</td>\n",
       "      <td>59752.4070</td>\n",
       "      <td>lsstr</td>\n",
       "      <td>-681.858887</td>\n",
       "      <td>4.041204</td>\n",
       "      <td>1</td>\n",
       "    </tr>\n",
       "  </tbody>\n",
       "</table>\n",
       "</div>"
      ],
      "text/plain": [
       "   object_id         mjd filter        flux  flux_error  detected\n",
       "0        615  59750.4229  lsstr -544.810303    3.622952         1\n",
       "1        615  59750.4306  lsstg -816.434326    5.553370         1\n",
       "2        615  59750.4383  lssti -471.385529    3.801213         1\n",
       "3        615  59750.4450  lsstz -388.984985   11.395031         1\n",
       "4        615  59752.4070  lsstr -681.858887    4.041204         1"
      ]
     },
     "execution_count": 159,
     "metadata": {},
     "output_type": "execute_result"
    }
   ],
   "source": [
    "data.head()"
   ]
  },
  {
   "cell_type": "code",
   "execution_count": 160,
   "metadata": {},
   "outputs": [
    {
     "data": {
      "text/plain": [
       "['lsstg', 'lssti', 'lsstr', 'lsstu', 'lssty', 'lsstz']"
      ]
     },
     "execution_count": 160,
     "metadata": {},
     "output_type": "execute_result"
    }
   ],
   "source": [
    "filters = data['filter']\n",
    "filters = list(np.unique(filters))\n",
    "filters"
   ]
  },
  {
   "cell_type": "code",
   "execution_count": 161,
   "metadata": {},
   "outputs": [
    {
     "data": {
      "text/html": [
       "<div>\n",
       "<style scoped>\n",
       "    .dataframe tbody tr th:only-of-type {\n",
       "        vertical-align: middle;\n",
       "    }\n",
       "\n",
       "    .dataframe tbody tr th {\n",
       "        vertical-align: top;\n",
       "    }\n",
       "\n",
       "    .dataframe thead th {\n",
       "        text-align: right;\n",
       "    }\n",
       "</style>\n",
       "<table border=\"1\" class=\"dataframe\">\n",
       "  <thead>\n",
       "    <tr style=\"text-align: right;\">\n",
       "      <th></th>\n",
       "      <th>object_id</th>\n",
       "      <th>mjd</th>\n",
       "      <th>filter</th>\n",
       "      <th>flux</th>\n",
       "      <th>flux_error</th>\n",
       "      <th>detected</th>\n",
       "    </tr>\n",
       "  </thead>\n",
       "  <tbody>\n",
       "    <tr>\n",
       "      <th>0</th>\n",
       "      <td>615</td>\n",
       "      <td>59750.4229</td>\n",
       "      <td>lsstr</td>\n",
       "      <td>-544.810303</td>\n",
       "      <td>3.622952</td>\n",
       "      <td>1</td>\n",
       "    </tr>\n",
       "    <tr>\n",
       "      <th>1</th>\n",
       "      <td>615</td>\n",
       "      <td>59750.4306</td>\n",
       "      <td>lsstg</td>\n",
       "      <td>-816.434326</td>\n",
       "      <td>5.553370</td>\n",
       "      <td>1</td>\n",
       "    </tr>\n",
       "    <tr>\n",
       "      <th>2</th>\n",
       "      <td>615</td>\n",
       "      <td>59750.4383</td>\n",
       "      <td>lssti</td>\n",
       "      <td>-471.385529</td>\n",
       "      <td>3.801213</td>\n",
       "      <td>1</td>\n",
       "    </tr>\n",
       "    <tr>\n",
       "      <th>3</th>\n",
       "      <td>615</td>\n",
       "      <td>59750.4450</td>\n",
       "      <td>lsstz</td>\n",
       "      <td>-388.984985</td>\n",
       "      <td>11.395031</td>\n",
       "      <td>1</td>\n",
       "    </tr>\n",
       "    <tr>\n",
       "      <th>4</th>\n",
       "      <td>615</td>\n",
       "      <td>59752.4070</td>\n",
       "      <td>lsstr</td>\n",
       "      <td>-681.858887</td>\n",
       "      <td>4.041204</td>\n",
       "      <td>1</td>\n",
       "    </tr>\n",
       "    <tr>\n",
       "      <th>...</th>\n",
       "      <td>...</td>\n",
       "      <td>...</td>\n",
       "      <td>...</td>\n",
       "      <td>...</td>\n",
       "      <td>...</td>\n",
       "      <td>...</td>\n",
       "    </tr>\n",
       "    <tr>\n",
       "      <th>1421641</th>\n",
       "      <td>130779836</td>\n",
       "      <td>60133.3766</td>\n",
       "      <td>lssti</td>\n",
       "      <td>304.545258</td>\n",
       "      <td>28.338671</td>\n",
       "      <td>1</td>\n",
       "    </tr>\n",
       "    <tr>\n",
       "      <th>1421642</th>\n",
       "      <td>130779836</td>\n",
       "      <td>60137.1041</td>\n",
       "      <td>lssti</td>\n",
       "      <td>305.615570</td>\n",
       "      <td>28.171988</td>\n",
       "      <td>1</td>\n",
       "    </tr>\n",
       "    <tr>\n",
       "      <th>1421643</th>\n",
       "      <td>130779836</td>\n",
       "      <td>60138.1329</td>\n",
       "      <td>lssti</td>\n",
       "      <td>270.237976</td>\n",
       "      <td>28.013514</td>\n",
       "      <td>1</td>\n",
       "    </tr>\n",
       "    <tr>\n",
       "      <th>1421645</th>\n",
       "      <td>130779836</td>\n",
       "      <td>60142.1321</td>\n",
       "      <td>lssti</td>\n",
       "      <td>276.659332</td>\n",
       "      <td>27.884199</td>\n",
       "      <td>1</td>\n",
       "    </tr>\n",
       "    <tr>\n",
       "      <th>1421649</th>\n",
       "      <td>130779836</td>\n",
       "      <td>60159.0981</td>\n",
       "      <td>lssty</td>\n",
       "      <td>183.245865</td>\n",
       "      <td>29.652933</td>\n",
       "      <td>1</td>\n",
       "    </tr>\n",
       "  </tbody>\n",
       "</table>\n",
       "<p>236880 rows × 6 columns</p>\n",
       "</div>"
      ],
      "text/plain": [
       "         object_id         mjd filter        flux  flux_error  detected\n",
       "0              615  59750.4229  lsstr -544.810303    3.622952         1\n",
       "1              615  59750.4306  lsstg -816.434326    5.553370         1\n",
       "2              615  59750.4383  lssti -471.385529    3.801213         1\n",
       "3              615  59750.4450  lsstz -388.984985   11.395031         1\n",
       "4              615  59752.4070  lsstr -681.858887    4.041204         1\n",
       "...            ...         ...    ...         ...         ...       ...\n",
       "1421641  130779836  60133.3766  lssti  304.545258   28.338671         1\n",
       "1421642  130779836  60137.1041  lssti  305.615570   28.171988         1\n",
       "1421643  130779836  60138.1329  lssti  270.237976   28.013514         1\n",
       "1421645  130779836  60142.1321  lssti  276.659332   27.884199         1\n",
       "1421649  130779836  60159.0981  lssty  183.245865   29.652933         1\n",
       "\n",
       "[236880 rows x 6 columns]"
      ]
     },
     "execution_count": 161,
     "metadata": {},
     "output_type": "execute_result"
    }
   ],
   "source": [
    "data"
   ]
  },
  {
   "cell_type": "code",
   "execution_count": 162,
   "metadata": {},
   "outputs": [
    {
     "data": {
      "text/plain": [
       "(55, 6)"
      ]
     },
     "execution_count": 162,
     "metadata": {},
     "output_type": "execute_result"
    }
   ],
   "source": [
    "data[data['object_id'] == 1920].shape"
   ]
  },
  {
   "cell_type": "code",
   "execution_count": 163,
   "metadata": {},
   "outputs": [],
   "source": [
    "colours = {\n",
    "    'lsstu': '#9a0eea', \n",
    "    'lsstg': '#75bbfd', \n",
    "    'lsstr': '#76ff7b',\n",
    "    'lssti': '#fdde6c', \n",
    "    'lsstz': '#f97306', \n",
    "    'lssty': '#e50000'\n",
    "}"
   ]
  },
  {
   "cell_type": "code",
   "execution_count": 164,
   "metadata": {},
   "outputs": [
    {
     "name": "stdout",
     "output_type": "stream",
     "text": [
      "#9a0eea\n"
     ]
    }
   ],
   "source": [
    "print(colours['lsstu'])"
   ]
  },
  {
   "cell_type": "code",
   "execution_count": 165,
   "metadata": {},
   "outputs": [],
   "source": [
    "from pylab import rcParams\n",
    "rcParams['figure.figsize'] = 12, 8"
   ]
  },
  {
   "cell_type": "code",
   "execution_count": 166,
   "metadata": {},
   "outputs": [],
   "source": [
    "def plot_object(object_name, df, filters):\n",
    "    for passband in filters:\n",
    "        data = df[df['object_id'] == object_name]\n",
    "        data = data[data['filter'] == passband]\n",
    "        #print(data.head())\n",
    "        plt.errorbar(x=data['mjd'], y=data['flux'], yerr=data['flux_error'], \n",
    "                     linestyle='none', \n",
    "                     marker='o', \n",
    "                     color=colours[passband]\n",
    "                    )"
   ]
  },
  {
   "cell_type": "code",
   "execution_count": 168,
   "metadata": {},
   "outputs": [
    {
     "data": {
      "image/png": "[encoded data removed]",
      "text/plain": [
       "<Figure size 864x576 with 1 Axes>"
      ]
     },
     "metadata": {
      "needs_background": "light"
     },
     "output_type": "display_data"
    }
   ],
   "source": [
    "plot_object(1124, data, filters)"
   ]
  },
  {
   "cell_type": "code",
   "execution_count": 169,
   "metadata": {},
   "outputs": [],
   "source": [
    "import numpy as np\n",
    "import tensorflow as tf\n",
    "import gpflow\n",
    "from gpflow.ci_utils import ci_niter\n",
    "from gpflow.optimizers import NaturalGradient\n",
    "from gpflow import set_trainable\n",
    "import matplotlib.pyplot as plt\n",
    "\n",
    "%matplotlib inline"
   ]
  },
  {
   "cell_type": "code",
   "execution_count": 170,
   "metadata": {},
   "outputs": [
    {
     "data": {
      "text/plain": [
       "((16,), (16,))"
      ]
     },
     "execution_count": 170,
     "metadata": {},
     "output_type": "execute_result"
    }
   ],
   "source": [
    "object_name = 745\n",
    "\n",
    "df = data[data['object_id'] == object_name]\n",
    "df = df[df['filter'] == 'lsstr']\n",
    "df['flux'].shape, df['flux_error'].shape"
   ]
  },
  {
   "cell_type": "code",
   "execution_count": 171,
   "metadata": {},
   "outputs": [
    {
     "data": {
      "text/plain": [
       "((16,), (16,))"
      ]
     },
     "execution_count": 171,
     "metadata": {},
     "output_type": "execute_result"
    }
   ],
   "source": [
    "y = df['flux']\n",
    "y_err = df['flux_error']\n",
    "y.shape, y_err.shape"
   ]
  },
  {
   "cell_type": "code",
   "execution_count": 172,
   "metadata": {},
   "outputs": [
    {
     "data": {
      "text/plain": [
       "((16, 1), (16, 1))"
      ]
     },
     "execution_count": 172,
     "metadata": {},
     "output_type": "execute_result"
    }
   ],
   "source": [
    "y = y.values.reshape(y.shape[0], 1)\n",
    "y_err = y_err.values.reshape(y_err.shape[0], 1)\n",
    "y.shape, y_err.shape"
   ]
  },
  {
   "cell_type": "code",
   "execution_count": 173,
   "metadata": {},
   "outputs": [],
   "source": [
    "# y.shape, Y.shape"
   ]
  },
  {
   "cell_type": "code",
   "execution_count": 174,
   "metadata": {},
   "outputs": [
    {
     "data": {
      "text/plain": [
       "(16, 2)"
      ]
     },
     "execution_count": 174,
     "metadata": {},
     "output_type": "execute_result"
    }
   ],
   "source": [
    "Y_data = np.hstack([y, y_err])\n",
    "Y_data.shape"
   ]
  },
  {
   "cell_type": "code",
   "execution_count": 175,
   "metadata": {},
   "outputs": [],
   "source": [
    "mjd = df['mjd']\n",
    "obj_wavelengths = df['filter'].map(pb_wavelengths)"
   ]
  },
  {
   "cell_type": "code",
   "execution_count": 176,
   "metadata": {},
   "outputs": [],
   "source": [
    "obj_wavelengths = obj_wavelengths.values.reshape(obj_wavelengths.shape[0], 1)\n",
    "mjd = mjd.values.reshape(mjd.shape[0], 1)"
   ]
  },
  {
   "cell_type": "code",
   "execution_count": 177,
   "metadata": {},
   "outputs": [
    {
     "data": {
      "text/plain": [
       "(16, 1)"
      ]
     },
     "execution_count": 177,
     "metadata": {},
     "output_type": "execute_result"
    }
   ],
   "source": [
    "mjd.shape"
   ]
  },
  {
   "cell_type": "code",
   "execution_count": 216,
   "metadata": {},
   "outputs": [
    {
     "data": {
      "text/plain": [
       "(16, 2)"
      ]
     },
     "execution_count": 216,
     "metadata": {},
     "output_type": "execute_result"
    }
   ],
   "source": [
    "X = np.hstack([mjd, obj_wavelengths])\n",
    "X.shape"
   ]
  },
  {
   "cell_type": "code",
   "execution_count": 200,
   "metadata": {},
   "outputs": [],
   "source": [
    "# X = X.values.reshape(X.shape[0], 1)\n",
    "# X.shape"
   ]
  },
  {
   "cell_type": "code",
   "execution_count": 213,
   "metadata": {},
   "outputs": [
    {
     "data": {
      "text/plain": [
       "(900, 2)"
      ]
     },
     "execution_count": 213,
     "metadata": {},
     "output_type": "execute_result"
    }
   ],
   "source": [
    "n_grid = 30\n",
    "x = np.linspace(-10, 10, n_grid)\n",
    "X, Y = np.meshgrid(x, x)\n",
    "X = np.vstack((X.flatten(), Y.flatten())).T\n",
    "X.shape"
   ]
  },
  {
   "cell_type": "code",
   "execution_count": 201,
   "metadata": {},
   "outputs": [],
   "source": [
    "class HeteroskedasticGaussian(gpflow.likelihoods.Likelihood):\n",
    "    def __init__(self, **kwargs):\n",
    "        # this likelihood expects a single latent function F, and two columns in the data matrix Y:\n",
    "        super().__init__(latent_dim=1, observation_dim=2, **kwargs)\n",
    "\n",
    "    def _log_prob(self, H, Y):\n",
    "        # log_prob is used by the quadrature fallback of variational_expectations and predict_log_density.\n",
    "        # Because variational_expectations is implemented analytically below, this is not actually needed,\n",
    "        # but is included for pedagogical purposes.\n",
    "        # Note that currently relying on the quadrature would fail due to https://github.com/GPflow/GPflow/issues/966\n",
    "        Y, NoiseVar = Y[:, 0], Y[:, 1]\n",
    "        return gpflow.logdensities.gaussian(Y, H, NoiseVar)\n",
    "\n",
    "    def _variational_expectations(self, Fmu, Fvar, Y):\n",
    "        Y, NoiseVar = Y[:, 0], Y[:, 1]\n",
    "        Fmu, Fvar = Fmu[:, 0], Fvar[:, 0]\n",
    "        return (\n",
    "            -0.5 * np.log(2 * np.pi)\n",
    "            - 0.5 * tf.math.log(NoiseVar)\n",
    "            - 0.5 * (tf.math.square(Y - Fmu) + Fvar) / NoiseVar\n",
    "        )\n",
    "\n",
    "    # The following two methods are abstract in the base class.\n",
    "    # They need to be implemented even if not used.\n",
    "\n",
    "    def _predict_log_density(self, Fmu, Fvar, Y):\n",
    "        raise NotImplementedError\n",
    "\n",
    "    def _predict_mean_and_var(self, Fmu, Fvar):\n",
    "        raise NotImplementedError"
   ]
  },
  {
   "cell_type": "code",
   "execution_count": 212,
   "metadata": {},
   "outputs": [
    {
     "data": {
      "text/plain": [
       "((16, 2), (16, 2))"
      ]
     },
     "execution_count": 212,
     "metadata": {},
     "output_type": "execute_result"
    }
   ],
   "source": [
    "Y_data.shape, X.shape"
   ]
  },
  {
   "cell_type": "code",
   "execution_count": 203,
   "metadata": {},
   "outputs": [],
   "source": [
    "# X = (X - X.mean()) / X.std()\n",
    "# Y_data = (Y_data - Y_data.mean()) / Y_data.std()"
   ]
  },
  {
   "cell_type": "code",
   "execution_count": 204,
   "metadata": {},
   "outputs": [
    {
     "data": {
      "text/plain": [
       "(False, False)"
      ]
     },
     "execution_count": 204,
     "metadata": {},
     "output_type": "execute_result"
    }
   ],
   "source": [
    "np.isnan(np.sum(Y_data)), np.isnan(np.sum(X))"
   ]
  },
  {
   "cell_type": "code",
   "execution_count": 217,
   "metadata": {},
   "outputs": [],
   "source": [
    "# model construction\n",
    "likelihood = HeteroskedasticGaussian()\n",
    "# kernel = gpflow.kernels.Matern52(lengthscales=0.5)\n",
    "kernel = gpflow.kernels.Matern52(active_dims=[0], lengthscales=2) + gpflow.kernels.Matern52(active_dims=[1], lengthscales=2)\n",
    "    \n",
    "model = gpflow.models.VGP((X, Y_data), kernel=kernel, likelihood=likelihood, num_latent_gps=1)"
   ]
  },
  {
   "cell_type": "code",
   "execution_count": 218,
   "metadata": {},
   "outputs": [
    {
     "data": {
      "text/html": [
       "&lt;gpflow.models.vgp.VGP object at 0x7fac753068d0&gt;\n",
       "<table>\n",
       "<thead>\n",
       "<tr><th>name                              </th><th>class    </th><th>transform     </th><th>prior  </th><th>trainable  </th><th>shape      </th><th>dtype  </th><th>value           </th></tr>\n",
       "</thead>\n",
       "<tbody>\n",
       "<tr><td>VGP.kernel.kernels[0].variance    </td><td>Parameter</td><td>Softplus      </td><td>       </td><td>True       </td><td>()         </td><td>float64</td><td>1.0             </td></tr>\n",
       "<tr><td>VGP.kernel.kernels[0].lengthscales</td><td>Parameter</td><td>Softplus      </td><td>       </td><td>True       </td><td>()         </td><td>float64</td><td>2.0             </td></tr>\n",
       "<tr><td>VGP.kernel.kernels[1].variance    </td><td>Parameter</td><td>Softplus      </td><td>       </td><td>True       </td><td>()         </td><td>float64</td><td>1.0             </td></tr>\n",
       "<tr><td>VGP.kernel.kernels[1].lengthscales</td><td>Parameter</td><td>Softplus      </td><td>       </td><td>True       </td><td>()         </td><td>float64</td><td>2.0             </td></tr>\n",
       "<tr><td>VGP.q_mu                          </td><td>Parameter</td><td>Identity      </td><td>       </td><td>True       </td><td>(16, 1)    </td><td>float64</td><td>[[0....         </td></tr>\n",
       "<tr><td>VGP.q_sqrt                        </td><td>Parameter</td><td>FillTriangular</td><td>       </td><td>True       </td><td>(1, 16, 16)</td><td>float64</td><td>[[[1., 0., 0....</td></tr>\n",
       "</tbody>\n",
       "</table>"
      ],
      "text/plain": [
       "<gpflow.models.vgp.VGP object at 0x7fac753068d0>\n",
       "name                                class      transform       prior    trainable    shape        dtype    value\n",
       "----------------------------------  ---------  --------------  -------  -----------  -----------  -------  ----------------\n",
       "VGP.kernel.kernels[0].variance      Parameter  Softplus                 True         ()           float64  1.0\n",
       "VGP.kernel.kernels[0].lengthscales  Parameter  Softplus                 True         ()           float64  2.0\n",
       "VGP.kernel.kernels[1].variance      Parameter  Softplus                 True         ()           float64  1.0\n",
       "VGP.kernel.kernels[1].lengthscales  Parameter  Softplus                 True         ()           float64  2.0\n",
       "VGP.q_mu                            Parameter  Identity                 True         (16, 1)      float64  [[0....\n",
       "VGP.q_sqrt                          Parameter  FillTriangular           True         (1, 16, 16)  float64  [[[1., 0., 0...."
      ]
     },
     "execution_count": 218,
     "metadata": {},
     "output_type": "execute_result"
    }
   ],
   "source": [
    "model"
   ]
  },
  {
   "cell_type": "code",
   "execution_count": 219,
   "metadata": {},
   "outputs": [
    {
     "data": {
      "text/html": [
       "&lt;gpflow.models.vgp.VGP object at 0x7fac753068d0&gt;\n",
       "<table>\n",
       "<thead>\n",
       "<tr><th>name                              </th><th>class    </th><th>transform     </th><th>prior  </th><th>trainable  </th><th>shape      </th><th>dtype  </th><th>value           </th></tr>\n",
       "</thead>\n",
       "<tbody>\n",
       "<tr><td>VGP.kernel.kernels[0].variance    </td><td>Parameter</td><td>Softplus      </td><td>       </td><td>True       </td><td>()         </td><td>float64</td><td>1.0             </td></tr>\n",
       "<tr><td>VGP.kernel.kernels[0].lengthscales</td><td>Parameter</td><td>Softplus      </td><td>       </td><td>True       </td><td>()         </td><td>float64</td><td>2.0             </td></tr>\n",
       "<tr><td>VGP.kernel.kernels[1].variance    </td><td>Parameter</td><td>Softplus      </td><td>       </td><td>True       </td><td>()         </td><td>float64</td><td>1.0             </td></tr>\n",
       "<tr><td>VGP.kernel.kernels[1].lengthscales</td><td>Parameter</td><td>Softplus      </td><td>       </td><td>True       </td><td>()         </td><td>float64</td><td>2.0             </td></tr>\n",
       "<tr><td>VGP.q_mu                          </td><td>Parameter</td><td>Identity      </td><td>       </td><td>True       </td><td>(16, 1)    </td><td>float64</td><td>[[0....         </td></tr>\n",
       "<tr><td>VGP.q_sqrt                        </td><td>Parameter</td><td>FillTriangular</td><td>       </td><td>True       </td><td>(1, 16, 16)</td><td>float64</td><td>[[[1., 0., 0....</td></tr>\n",
       "</tbody>\n",
       "</table>"
      ],
      "text/plain": [
       "<gpflow.models.vgp.VGP object at 0x7fac753068d0>\n",
       "name                                class      transform       prior    trainable    shape        dtype    value\n",
       "----------------------------------  ---------  --------------  -------  -----------  -----------  -------  ----------------\n",
       "VGP.kernel.kernels[0].variance      Parameter  Softplus                 True         ()           float64  1.0\n",
       "VGP.kernel.kernels[0].lengthscales  Parameter  Softplus                 True         ()           float64  2.0\n",
       "VGP.kernel.kernels[1].variance      Parameter  Softplus                 True         ()           float64  1.0\n",
       "VGP.kernel.kernels[1].lengthscales  Parameter  Softplus                 True         ()           float64  2.0\n",
       "VGP.q_mu                            Parameter  Identity                 True         (16, 1)      float64  [[0....\n",
       "VGP.q_sqrt                          Parameter  FillTriangular           True         (1, 16, 16)  float64  [[[1., 0., 0...."
      ]
     },
     "execution_count": 219,
     "metadata": {},
     "output_type": "execute_result"
    }
   ],
   "source": [
    "m = model\n",
    "m"
   ]
  },
  {
   "cell_type": "code",
   "execution_count": 220,
   "metadata": {},
   "outputs": [],
   "source": [
    "set_trainable(m.q_mu, False)\n",
    "set_trainable(m.q_sqrt, False)"
   ]
  },
  {
   "cell_type": "code",
   "execution_count": 221,
   "metadata": {},
   "outputs": [],
   "source": [
    "opt = gpflow.optimizers.Scipy()"
   ]
  },
  {
   "cell_type": "code",
   "execution_count": 222,
   "metadata": {},
   "outputs": [],
   "source": [
    "opt_logs = opt.minimize(m.training_loss, m.trainable_variables, options=dict(maxiter=100))"
   ]
  },
  {
   "cell_type": "code",
   "execution_count": 223,
   "metadata": {},
   "outputs": [
    {
     "data": {
      "text/html": [
       "<table>\n",
       "<thead>\n",
       "<tr><th>name                              </th><th>class    </th><th>transform     </th><th>prior  </th><th>trainable  </th><th>shape      </th><th>dtype  </th><th>value                 </th></tr>\n",
       "</thead>\n",
       "<tbody>\n",
       "<tr><td>VGP.kernel.kernels[0].variance    </td><td>Parameter</td><td>Softplus      </td><td>       </td><td>True       </td><td>()         </td><td>float64</td><td>1.829018320073424e-06 </td></tr>\n",
       "<tr><td>VGP.kernel.kernels[0].lengthscales</td><td>Parameter</td><td>Softplus      </td><td>       </td><td>True       </td><td>()         </td><td>float64</td><td>2.0                   </td></tr>\n",
       "<tr><td>VGP.kernel.kernels[1].variance    </td><td>Parameter</td><td>Softplus      </td><td>       </td><td>True       </td><td>()         </td><td>float64</td><td>1.8290183200734208e-06</td></tr>\n",
       "<tr><td>VGP.kernel.kernels[1].lengthscales</td><td>Parameter</td><td>Softplus      </td><td>       </td><td>True       </td><td>()         </td><td>float64</td><td>2.0                   </td></tr>\n",
       "<tr><td>VGP.q_mu                          </td><td>Parameter</td><td>Identity      </td><td>       </td><td>False      </td><td>(16, 1)    </td><td>float64</td><td>[[0....               </td></tr>\n",
       "<tr><td>VGP.q_sqrt                        </td><td>Parameter</td><td>FillTriangular</td><td>       </td><td>False      </td><td>(1, 16, 16)</td><td>float64</td><td>[[[1., 0., 0....      </td></tr>\n",
       "</tbody>\n",
       "</table>"
      ],
      "text/plain": [
       "<IPython.core.display.HTML object>"
      ]
     },
     "metadata": {},
     "output_type": "display_data"
    }
   ],
   "source": [
    "from gpflow.utilities import print_summary\n",
    "# You can change the default format as follows:\n",
    "gpflow.config.set_default_summary_fmt(\"notebook\")\n",
    "print_summary(m)"
   ]
  },
  {
   "cell_type": "code",
   "execution_count": 224,
   "metadata": {},
   "outputs": [],
   "source": [
    "# natgrad = NaturalGradient(gamma=1.0)\n",
    "# adam = tf.optimizers.Adam()"
   ]
  },
  {
   "cell_type": "code",
   "execution_count": 225,
   "metadata": {},
   "outputs": [],
   "source": [
    "# for _ in range(ci_niter(1000)):\n",
    "#     natgrad.minimize(model.training_loss, [(model.q_mu, model.q_sqrt)])\n",
    "#     adam.minimize(model.training_loss, model.trainable_variables)"
   ]
  },
  {
   "cell_type": "code",
   "execution_count": 232,
   "metadata": {},
   "outputs": [
    {
     "data": {
      "text/plain": [
       "((16, 1), (16, 2), (16, 1))"
      ]
     },
     "execution_count": 232,
     "metadata": {},
     "output_type": "execute_result"
    }
   ],
   "source": [
    "y_err.shape, X.shape, y.shape"
   ]
  },
  {
   "cell_type": "code",
   "execution_count": 227,
   "metadata": {},
   "outputs": [
    {
     "data": {
      "text/plain": [
       "(6231.0, 60125.0)"
      ]
     },
     "execution_count": 227,
     "metadata": {},
     "output_type": "execute_result"
    }
   ],
   "source": [
    "X[0].min().round(), X[0].max().round()"
   ]
  },
  {
   "cell_type": "code",
   "execution_count": 228,
   "metadata": {},
   "outputs": [
    {
     "data": {
      "text/plain": [
       "array([60125.4094, 60153.2828, 60164.1619, 60168.1735, 60181.3618,\n",
       "       60184.3051, 60194.1098, 60197.0703, 60208.0724, 60211.0601,\n",
       "       60221.0629, 60224.0614, 60227.0626, 60237.2675, 60240.0698,\n",
       "       60249.0813])"
      ]
     },
     "execution_count": 228,
     "metadata": {},
     "output_type": "execute_result"
    }
   ],
   "source": [
    "X[:, 0]"
   ]
  },
  {
   "cell_type": "code",
   "execution_count": 233,
   "metadata": {},
   "outputs": [],
   "source": [
    "del mu, var"
   ]
  },
  {
   "cell_type": "code",
   "execution_count": 235,
   "metadata": {},
   "outputs": [],
   "source": [
    "#let's do some plotting!\n",
    "xx = np.linspace(X[:, 0].min().round(), X[:, 0].max().round(), 200)[:, None]"
   ]
  },
  {
   "cell_type": "code",
   "execution_count": 248,
   "metadata": {},
   "outputs": [
    {
     "data": {
      "text/plain": [
       "array([18693.])"
      ]
     },
     "execution_count": 248,
     "metadata": {},
     "output_type": "execute_result"
    }
   ],
   "source": [
    "obj_wavelengths[0]"
   ]
  },
  {
   "cell_type": "code",
   "execution_count": 254,
   "metadata": {},
   "outputs": [
    {
     "data": {
      "text/plain": [
       "<tf.Tensor: shape=(200, 1), dtype=float64, numpy=\n",
       "array([[60125.        ],\n",
       "       [60125.62311558],\n",
       "       [60126.24623116],\n",
       "       [60126.86934673],\n",
       "       [60127.49246231],\n",
       "       [60128.11557789],\n",
       "       [60128.73869347],\n",
       "       [60129.36180905],\n",
       "       [60129.98492462],\n",
       "       [60130.6080402 ],\n",
       "       [60131.23115578],\n",
       "       [60131.85427136],\n",
       "       [60132.47738693],\n",
       "       [60133.10050251],\n",
       "       [60133.72361809],\n",
       "       [60134.34673367],\n",
       "       [60134.96984925],\n",
       "       [60135.59296482],\n",
       "       [60136.2160804 ],\n",
       "       [60136.83919598],\n",
       "       [60137.46231156],\n",
       "       [60138.08542714],\n",
       "       [60138.70854271],\n",
       "       [60139.33165829],\n",
       "       [60139.95477387],\n",
       "       [60140.57788945],\n",
       "       [60141.20100503],\n",
       "       [60141.8241206 ],\n",
       "       [60142.44723618],\n",
       "       [60143.07035176],\n",
       "       [60143.69346734],\n",
       "       [60144.31658291],\n",
       "       [60144.93969849],\n",
       "       [60145.56281407],\n",
       "       [60146.18592965],\n",
       "       [60146.80904523],\n",
       "       [60147.4321608 ],\n",
       "       [60148.05527638],\n",
       "       [60148.67839196],\n",
       "       [60149.30150754],\n",
       "       [60149.92462312],\n",
       "       [60150.54773869],\n",
       "       [60151.17085427],\n",
       "       [60151.79396985],\n",
       "       [60152.41708543],\n",
       "       [60153.04020101],\n",
       "       [60153.66331658],\n",
       "       [60154.28643216],\n",
       "       [60154.90954774],\n",
       "       [60155.53266332],\n",
       "       [60156.15577889],\n",
       "       [60156.77889447],\n",
       "       [60157.40201005],\n",
       "       [60158.02512563],\n",
       "       [60158.64824121],\n",
       "       [60159.27135678],\n",
       "       [60159.89447236],\n",
       "       [60160.51758794],\n",
       "       [60161.14070352],\n",
       "       [60161.7638191 ],\n",
       "       [60162.38693467],\n",
       "       [60163.01005025],\n",
       "       [60163.63316583],\n",
       "       [60164.25628141],\n",
       "       [60164.87939698],\n",
       "       [60165.50251256],\n",
       "       [60166.12562814],\n",
       "       [60166.74874372],\n",
       "       [60167.3718593 ],\n",
       "       [60167.99497487],\n",
       "       [60168.61809045],\n",
       "       [60169.24120603],\n",
       "       [60169.86432161],\n",
       "       [60170.48743719],\n",
       "       [60171.11055276],\n",
       "       [60171.73366834],\n",
       "       [60172.35678392],\n",
       "       [60172.9798995 ],\n",
       "       [60173.60301508],\n",
       "       [60174.22613065],\n",
       "       [60174.84924623],\n",
       "       [60175.47236181],\n",
       "       [60176.09547739],\n",
       "       [60176.71859296],\n",
       "       [60177.34170854],\n",
       "       [60177.96482412],\n",
       "       [60178.5879397 ],\n",
       "       [60179.21105528],\n",
       "       [60179.83417085],\n",
       "       [60180.45728643],\n",
       "       [60181.08040201],\n",
       "       [60181.70351759],\n",
       "       [60182.32663317],\n",
       "       [60182.94974874],\n",
       "       [60183.57286432],\n",
       "       [60184.1959799 ],\n",
       "       [60184.81909548],\n",
       "       [60185.44221106],\n",
       "       [60186.06532663],\n",
       "       [60186.68844221],\n",
       "       [60187.31155779],\n",
       "       [60187.93467337],\n",
       "       [60188.55778894],\n",
       "       [60189.18090452],\n",
       "       [60189.8040201 ],\n",
       "       [60190.42713568],\n",
       "       [60191.05025126],\n",
       "       [60191.67336683],\n",
       "       [60192.29648241],\n",
       "       [60192.91959799],\n",
       "       [60193.54271357],\n",
       "       [60194.16582915],\n",
       "       [60194.78894472],\n",
       "       [60195.4120603 ],\n",
       "       [60196.03517588],\n",
       "       [60196.65829146],\n",
       "       [60197.28140704],\n",
       "       [60197.90452261],\n",
       "       [60198.52763819],\n",
       "       [60199.15075377],\n",
       "       [60199.77386935],\n",
       "       [60200.39698492],\n",
       "       [60201.0201005 ],\n",
       "       [60201.64321608],\n",
       "       [60202.26633166],\n",
       "       [60202.88944724],\n",
       "       [60203.51256281],\n",
       "       [60204.13567839],\n",
       "       [60204.75879397],\n",
       "       [60205.38190955],\n",
       "       [60206.00502513],\n",
       "       [60206.6281407 ],\n",
       "       [60207.25125628],\n",
       "       [60207.87437186],\n",
       "       [60208.49748744],\n",
       "       [60209.12060302],\n",
       "       [60209.74371859],\n",
       "       [60210.36683417],\n",
       "       [60210.98994975],\n",
       "       [60211.61306533],\n",
       "       [60212.2361809 ],\n",
       "       [60212.85929648],\n",
       "       [60213.48241206],\n",
       "       [60214.10552764],\n",
       "       [60214.72864322],\n",
       "       [60215.35175879],\n",
       "       [60215.97487437],\n",
       "       [60216.59798995],\n",
       "       [60217.22110553],\n",
       "       [60217.84422111],\n",
       "       [60218.46733668],\n",
       "       [60219.09045226],\n",
       "       [60219.71356784],\n",
       "       [60220.33668342],\n",
       "       [60220.95979899],\n",
       "       [60221.58291457],\n",
       "       [60222.20603015],\n",
       "       [60222.82914573],\n",
       "       [60223.45226131],\n",
       "       [60224.07537688],\n",
       "       [60224.69849246],\n",
       "       [60225.32160804],\n",
       "       [60225.94472362],\n",
       "       [60226.5678392 ],\n",
       "       [60227.19095477],\n",
       "       [60227.81407035],\n",
       "       [60228.43718593],\n",
       "       [60229.06030151],\n",
       "       [60229.68341709],\n",
       "       [60230.30653266],\n",
       "       [60230.92964824],\n",
       "       [60231.55276382],\n",
       "       [60232.1758794 ],\n",
       "       [60232.79899497],\n",
       "       [60233.42211055],\n",
       "       [60234.04522613],\n",
       "       [60234.66834171],\n",
       "       [60235.29145729],\n",
       "       [60235.91457286],\n",
       "       [60236.53768844],\n",
       "       [60237.16080402],\n",
       "       [60237.7839196 ],\n",
       "       [60238.40703518],\n",
       "       [60239.03015075],\n",
       "       [60239.65326633],\n",
       "       [60240.27638191],\n",
       "       [60240.89949749],\n",
       "       [60241.52261307],\n",
       "       [60242.14572864],\n",
       "       [60242.76884422],\n",
       "       [60243.3919598 ],\n",
       "       [60244.01507538],\n",
       "       [60244.63819095],\n",
       "       [60245.26130653],\n",
       "       [60245.88442211],\n",
       "       [60246.50753769],\n",
       "       [60247.13065327],\n",
       "       [60247.75376884],\n",
       "       [60248.37688442],\n",
       "       [60249.        ]])>"
      ]
     },
     "execution_count": 254,
     "metadata": {},
     "output_type": "execute_result"
    }
   ],
   "source": [
    "data_tensor = tf.ragged.constant(xx)\n",
    "data_tensor.to_tensor()"
   ]
  },
  {
   "cell_type": "code",
   "execution_count": 269,
   "metadata": {},
   "outputs": [],
   "source": [
    "w = [6231.] * 200\n",
    "W = np.array(w)\n",
    "W = W.reshape(W.shape[0], 1)"
   ]
  },
  {
   "cell_type": "code",
   "execution_count": 270,
   "metadata": {},
   "outputs": [
    {
     "ename": "InvalidArgumentError",
     "evalue": "indices[0] = 1 is not in [0, 1) [Op:GatherV2]",
     "output_type": "error",
     "traceback": [
      "\u001b[0;31m---------------------------------------------------------------------------\u001b[0m",
      "\u001b[0;31mInvalidArgumentError\u001b[0m                      Traceback (most recent call last)",
      "\u001b[0;32m<ipython-input-270-7f30d10dfab7>\u001b[0m in \u001b[0;36m<module>\u001b[0;34m\u001b[0m\n\u001b[0;32m----> 1\u001b[0;31m \u001b[0mmu\u001b[0m\u001b[0;34m,\u001b[0m \u001b[0mvar\u001b[0m \u001b[0;34m=\u001b[0m \u001b[0mm\u001b[0m\u001b[0;34m.\u001b[0m\u001b[0mpredict_f\u001b[0m\u001b[0;34m(\u001b[0m\u001b[0;34m[\u001b[0m\u001b[0mdata_tensor\u001b[0m\u001b[0;34m.\u001b[0m\u001b[0mto_tensor\u001b[0m\u001b[0;34m(\u001b[0m\u001b[0;34m)\u001b[0m\u001b[0;34m,\u001b[0m \u001b[0mW\u001b[0m\u001b[0;34m]\u001b[0m\u001b[0;34m)\u001b[0m\u001b[0;34m\u001b[0m\u001b[0;34m\u001b[0m\u001b[0m\n\u001b[0m",
      "\u001b[0;32m/usr/local/anaconda3/envs/astronet/lib/python3.7/site-packages/gpflow/models/vgp.py\u001b[0m in \u001b[0;36mpredict_f\u001b[0;34m(self, Xnew, full_cov, full_output_cov)\u001b[0m\n\u001b[1;32m    117\u001b[0m         \u001b[0mX_data\u001b[0m\u001b[0;34m,\u001b[0m \u001b[0m_\u001b[0m \u001b[0;34m=\u001b[0m \u001b[0mself\u001b[0m\u001b[0;34m.\u001b[0m\u001b[0mdata\u001b[0m\u001b[0;34m\u001b[0m\u001b[0;34m\u001b[0m\u001b[0m\n\u001b[1;32m    118\u001b[0m         mu, var = conditional(\n\u001b[0;32m--> 119\u001b[0;31m             \u001b[0mXnew\u001b[0m\u001b[0;34m,\u001b[0m \u001b[0mX_data\u001b[0m\u001b[0;34m,\u001b[0m \u001b[0mself\u001b[0m\u001b[0;34m.\u001b[0m\u001b[0mkernel\u001b[0m\u001b[0;34m,\u001b[0m \u001b[0mself\u001b[0m\u001b[0;34m.\u001b[0m\u001b[0mq_mu\u001b[0m\u001b[0;34m,\u001b[0m \u001b[0mq_sqrt\u001b[0m\u001b[0;34m=\u001b[0m\u001b[0mself\u001b[0m\u001b[0;34m.\u001b[0m\u001b[0mq_sqrt\u001b[0m\u001b[0;34m,\u001b[0m \u001b[0mfull_cov\u001b[0m\u001b[0;34m=\u001b[0m\u001b[0mfull_cov\u001b[0m\u001b[0;34m,\u001b[0m \u001b[0mwhite\u001b[0m\u001b[0;34m=\u001b[0m\u001b[0;32mTrue\u001b[0m\u001b[0;34m,\u001b[0m\u001b[0;34m\u001b[0m\u001b[0;34m\u001b[0m\u001b[0m\n\u001b[0m\u001b[1;32m    120\u001b[0m         )\n\u001b[1;32m    121\u001b[0m         \u001b[0;32mreturn\u001b[0m \u001b[0mmu\u001b[0m \u001b[0;34m+\u001b[0m \u001b[0mself\u001b[0m\u001b[0;34m.\u001b[0m\u001b[0mmean_function\u001b[0m\u001b[0;34m(\u001b[0m\u001b[0mXnew\u001b[0m\u001b[0;34m)\u001b[0m\u001b[0;34m,\u001b[0m \u001b[0mvar\u001b[0m\u001b[0;34m\u001b[0m\u001b[0;34m\u001b[0m\u001b[0m\n",
      "\u001b[0;32m/usr/local/anaconda3/envs/astronet/lib/python3.7/site-packages/multipledispatch/dispatcher.py\u001b[0m in \u001b[0;36m__call__\u001b[0;34m(self, *args, **kwargs)\u001b[0m\n\u001b[1;32m    276\u001b[0m             \u001b[0mself\u001b[0m\u001b[0;34m.\u001b[0m\u001b[0m_cache\u001b[0m\u001b[0;34m[\u001b[0m\u001b[0mtypes\u001b[0m\u001b[0;34m]\u001b[0m \u001b[0;34m=\u001b[0m \u001b[0mfunc\u001b[0m\u001b[0;34m\u001b[0m\u001b[0;34m\u001b[0m\u001b[0m\n\u001b[1;32m    277\u001b[0m         \u001b[0;32mtry\u001b[0m\u001b[0;34m:\u001b[0m\u001b[0;34m\u001b[0m\u001b[0;34m\u001b[0m\u001b[0m\n\u001b[0;32m--> 278\u001b[0;31m             \u001b[0;32mreturn\u001b[0m \u001b[0mfunc\u001b[0m\u001b[0;34m(\u001b[0m\u001b[0;34m*\u001b[0m\u001b[0margs\u001b[0m\u001b[0;34m,\u001b[0m \u001b[0;34m**\u001b[0m\u001b[0mkwargs\u001b[0m\u001b[0;34m)\u001b[0m\u001b[0;34m\u001b[0m\u001b[0;34m\u001b[0m\u001b[0m\n\u001b[0m\u001b[1;32m    279\u001b[0m \u001b[0;34m\u001b[0m\u001b[0m\n\u001b[1;32m    280\u001b[0m         \u001b[0;32mexcept\u001b[0m \u001b[0mMDNotImplementedError\u001b[0m\u001b[0;34m:\u001b[0m\u001b[0;34m\u001b[0m\u001b[0;34m\u001b[0m\u001b[0m\n",
      "\u001b[0;32m/usr/local/anaconda3/envs/astronet/lib/python3.7/site-packages/gpflow/conditionals/conditionals.py\u001b[0m in \u001b[0;36m_conditional\u001b[0;34m(Xnew, X, kernel, f, full_cov, full_output_cov, q_sqrt, white)\u001b[0m\n\u001b[1;32m    123\u001b[0m     \"\"\"\n\u001b[1;32m    124\u001b[0m     \u001b[0mKmm\u001b[0m \u001b[0;34m=\u001b[0m \u001b[0mkernel\u001b[0m\u001b[0;34m(\u001b[0m\u001b[0mX\u001b[0m\u001b[0;34m)\u001b[0m \u001b[0;34m+\u001b[0m \u001b[0meye\u001b[0m\u001b[0;34m(\u001b[0m\u001b[0mtf\u001b[0m\u001b[0;34m.\u001b[0m\u001b[0mshape\u001b[0m\u001b[0;34m(\u001b[0m\u001b[0mX\u001b[0m\u001b[0;34m)\u001b[0m\u001b[0;34m[\u001b[0m\u001b[0;34m-\u001b[0m\u001b[0;36m2\u001b[0m\u001b[0;34m]\u001b[0m\u001b[0;34m,\u001b[0m \u001b[0mvalue\u001b[0m\u001b[0;34m=\u001b[0m\u001b[0mdefault_jitter\u001b[0m\u001b[0;34m(\u001b[0m\u001b[0;34m)\u001b[0m\u001b[0;34m,\u001b[0m \u001b[0mdtype\u001b[0m\u001b[0;34m=\u001b[0m\u001b[0mX\u001b[0m\u001b[0;34m.\u001b[0m\u001b[0mdtype\u001b[0m\u001b[0;34m)\u001b[0m  \u001b[0;31m# [..., M, M]\u001b[0m\u001b[0;34m\u001b[0m\u001b[0;34m\u001b[0m\u001b[0m\n\u001b[0;32m--> 125\u001b[0;31m     \u001b[0mKmn\u001b[0m \u001b[0;34m=\u001b[0m \u001b[0mkernel\u001b[0m\u001b[0;34m(\u001b[0m\u001b[0mX\u001b[0m\u001b[0;34m,\u001b[0m \u001b[0mXnew\u001b[0m\u001b[0;34m)\u001b[0m  \u001b[0;31m# [M, ..., N]\u001b[0m\u001b[0;34m\u001b[0m\u001b[0;34m\u001b[0m\u001b[0m\n\u001b[0m\u001b[1;32m    126\u001b[0m     \u001b[0mKnn\u001b[0m \u001b[0;34m=\u001b[0m \u001b[0mkernel\u001b[0m\u001b[0;34m(\u001b[0m\u001b[0mXnew\u001b[0m\u001b[0;34m,\u001b[0m \u001b[0mfull_cov\u001b[0m\u001b[0;34m=\u001b[0m\u001b[0mfull_cov\u001b[0m\u001b[0;34m)\u001b[0m  \u001b[0;31m# [..., N] (full_cov = False) or [..., N, N] (True)\u001b[0m\u001b[0;34m\u001b[0m\u001b[0;34m\u001b[0m\u001b[0m\n\u001b[1;32m    127\u001b[0m     \u001b[0mmean\u001b[0m\u001b[0;34m,\u001b[0m \u001b[0mvar\u001b[0m \u001b[0;34m=\u001b[0m \u001b[0mbase_conditional\u001b[0m\u001b[0;34m(\u001b[0m\u001b[0mKmn\u001b[0m\u001b[0;34m,\u001b[0m \u001b[0mKmm\u001b[0m\u001b[0;34m,\u001b[0m \u001b[0mKnn\u001b[0m\u001b[0;34m,\u001b[0m \u001b[0mf\u001b[0m\u001b[0;34m,\u001b[0m \u001b[0mfull_cov\u001b[0m\u001b[0;34m=\u001b[0m\u001b[0mfull_cov\u001b[0m\u001b[0;34m,\u001b[0m \u001b[0mq_sqrt\u001b[0m\u001b[0;34m=\u001b[0m\u001b[0mq_sqrt\u001b[0m\u001b[0;34m,\u001b[0m \u001b[0mwhite\u001b[0m\u001b[0;34m=\u001b[0m\u001b[0mwhite\u001b[0m\u001b[0;34m)\u001b[0m\u001b[0;34m\u001b[0m\u001b[0;34m\u001b[0m\u001b[0m\n",
      "\u001b[0;32m/usr/local/anaconda3/envs/astronet/lib/python3.7/site-packages/gpflow/kernels/base.py\u001b[0m in \u001b[0;36m__call__\u001b[0;34m(self, X, X2, full_cov, presliced)\u001b[0m\n\u001b[1;32m    235\u001b[0m     \u001b[0;32mdef\u001b[0m \u001b[0m__call__\u001b[0m\u001b[0;34m(\u001b[0m\u001b[0mself\u001b[0m\u001b[0;34m,\u001b[0m \u001b[0mX\u001b[0m\u001b[0;34m,\u001b[0m \u001b[0mX2\u001b[0m\u001b[0;34m=\u001b[0m\u001b[0;32mNone\u001b[0m\u001b[0;34m,\u001b[0m \u001b[0;34m*\u001b[0m\u001b[0;34m,\u001b[0m \u001b[0mfull_cov\u001b[0m\u001b[0;34m=\u001b[0m\u001b[0;32mTrue\u001b[0m\u001b[0;34m,\u001b[0m \u001b[0mpresliced\u001b[0m\u001b[0;34m=\u001b[0m\u001b[0;32mFalse\u001b[0m\u001b[0;34m)\u001b[0m\u001b[0;34m:\u001b[0m\u001b[0;34m\u001b[0m\u001b[0;34m\u001b[0m\u001b[0m\n\u001b[1;32m    236\u001b[0m         return self._reduce(\n\u001b[0;32m--> 237\u001b[0;31m             \u001b[0;34m[\u001b[0m\u001b[0mk\u001b[0m\u001b[0;34m(\u001b[0m\u001b[0mX\u001b[0m\u001b[0;34m,\u001b[0m \u001b[0mX2\u001b[0m\u001b[0;34m,\u001b[0m \u001b[0mfull_cov\u001b[0m\u001b[0;34m=\u001b[0m\u001b[0mfull_cov\u001b[0m\u001b[0;34m,\u001b[0m \u001b[0mpresliced\u001b[0m\u001b[0;34m=\u001b[0m\u001b[0mpresliced\u001b[0m\u001b[0;34m)\u001b[0m \u001b[0;32mfor\u001b[0m \u001b[0mk\u001b[0m \u001b[0;32min\u001b[0m \u001b[0mself\u001b[0m\u001b[0;34m.\u001b[0m\u001b[0mkernels\u001b[0m\u001b[0;34m]\u001b[0m\u001b[0;34m\u001b[0m\u001b[0;34m\u001b[0m\u001b[0m\n\u001b[0m\u001b[1;32m    238\u001b[0m         )\n\u001b[1;32m    239\u001b[0m \u001b[0;34m\u001b[0m\u001b[0m\n",
      "\u001b[0;32m/usr/local/anaconda3/envs/astronet/lib/python3.7/site-packages/gpflow/kernels/base.py\u001b[0m in \u001b[0;36m<listcomp>\u001b[0;34m(.0)\u001b[0m\n\u001b[1;32m    235\u001b[0m     \u001b[0;32mdef\u001b[0m \u001b[0m__call__\u001b[0m\u001b[0;34m(\u001b[0m\u001b[0mself\u001b[0m\u001b[0;34m,\u001b[0m \u001b[0mX\u001b[0m\u001b[0;34m,\u001b[0m \u001b[0mX2\u001b[0m\u001b[0;34m=\u001b[0m\u001b[0;32mNone\u001b[0m\u001b[0;34m,\u001b[0m \u001b[0;34m*\u001b[0m\u001b[0;34m,\u001b[0m \u001b[0mfull_cov\u001b[0m\u001b[0;34m=\u001b[0m\u001b[0;32mTrue\u001b[0m\u001b[0;34m,\u001b[0m \u001b[0mpresliced\u001b[0m\u001b[0;34m=\u001b[0m\u001b[0;32mFalse\u001b[0m\u001b[0;34m)\u001b[0m\u001b[0;34m:\u001b[0m\u001b[0;34m\u001b[0m\u001b[0;34m\u001b[0m\u001b[0m\n\u001b[1;32m    236\u001b[0m         return self._reduce(\n\u001b[0;32m--> 237\u001b[0;31m             \u001b[0;34m[\u001b[0m\u001b[0mk\u001b[0m\u001b[0;34m(\u001b[0m\u001b[0mX\u001b[0m\u001b[0;34m,\u001b[0m \u001b[0mX2\u001b[0m\u001b[0;34m,\u001b[0m \u001b[0mfull_cov\u001b[0m\u001b[0;34m=\u001b[0m\u001b[0mfull_cov\u001b[0m\u001b[0;34m,\u001b[0m \u001b[0mpresliced\u001b[0m\u001b[0;34m=\u001b[0m\u001b[0mpresliced\u001b[0m\u001b[0;34m)\u001b[0m \u001b[0;32mfor\u001b[0m \u001b[0mk\u001b[0m \u001b[0;32min\u001b[0m \u001b[0mself\u001b[0m\u001b[0;34m.\u001b[0m\u001b[0mkernels\u001b[0m\u001b[0;34m]\u001b[0m\u001b[0;34m\u001b[0m\u001b[0;34m\u001b[0m\u001b[0m\n\u001b[0m\u001b[1;32m    238\u001b[0m         )\n\u001b[1;32m    239\u001b[0m \u001b[0;34m\u001b[0m\u001b[0m\n",
      "\u001b[0;32m/usr/local/anaconda3/envs/astronet/lib/python3.7/site-packages/gpflow/kernels/base.py\u001b[0m in \u001b[0;36m__call__\u001b[0;34m(self, X, X2, full_cov, presliced)\u001b[0m\n\u001b[1;32m    164\u001b[0m \u001b[0;34m\u001b[0m\u001b[0m\n\u001b[1;32m    165\u001b[0m         \u001b[0;32mif\u001b[0m \u001b[0;32mnot\u001b[0m \u001b[0mpresliced\u001b[0m\u001b[0;34m:\u001b[0m\u001b[0;34m\u001b[0m\u001b[0;34m\u001b[0m\u001b[0m\n\u001b[0;32m--> 166\u001b[0;31m             \u001b[0mX\u001b[0m\u001b[0;34m,\u001b[0m \u001b[0mX2\u001b[0m \u001b[0;34m=\u001b[0m \u001b[0mself\u001b[0m\u001b[0;34m.\u001b[0m\u001b[0mslice\u001b[0m\u001b[0;34m(\u001b[0m\u001b[0mX\u001b[0m\u001b[0;34m,\u001b[0m \u001b[0mX2\u001b[0m\u001b[0;34m)\u001b[0m\u001b[0;34m\u001b[0m\u001b[0;34m\u001b[0m\u001b[0m\n\u001b[0m\u001b[1;32m    167\u001b[0m \u001b[0;34m\u001b[0m\u001b[0m\n\u001b[1;32m    168\u001b[0m         \u001b[0;32mif\u001b[0m \u001b[0;32mnot\u001b[0m \u001b[0mfull_cov\u001b[0m\u001b[0;34m:\u001b[0m\u001b[0;34m\u001b[0m\u001b[0;34m\u001b[0m\u001b[0m\n",
      "\u001b[0;32m/usr/local/anaconda3/envs/astronet/lib/python3.7/site-packages/gpflow/kernels/base.py\u001b[0m in \u001b[0;36mslice\u001b[0;34m(self, X, X2)\u001b[0m\n\u001b[1;32m    102\u001b[0m             \u001b[0mX\u001b[0m \u001b[0;34m=\u001b[0m \u001b[0mtf\u001b[0m\u001b[0;34m.\u001b[0m\u001b[0mgather\u001b[0m\u001b[0;34m(\u001b[0m\u001b[0mX\u001b[0m\u001b[0;34m,\u001b[0m \u001b[0mdims\u001b[0m\u001b[0;34m,\u001b[0m \u001b[0maxis\u001b[0m\u001b[0;34m=\u001b[0m\u001b[0;34m-\u001b[0m\u001b[0;36m1\u001b[0m\u001b[0;34m)\u001b[0m\u001b[0;34m\u001b[0m\u001b[0;34m\u001b[0m\u001b[0m\n\u001b[1;32m    103\u001b[0m             \u001b[0;32mif\u001b[0m \u001b[0mX2\u001b[0m \u001b[0;32mis\u001b[0m \u001b[0;32mnot\u001b[0m \u001b[0;32mNone\u001b[0m\u001b[0;34m:\u001b[0m\u001b[0;34m\u001b[0m\u001b[0;34m\u001b[0m\u001b[0m\n\u001b[0;32m--> 104\u001b[0;31m                 \u001b[0mX2\u001b[0m \u001b[0;34m=\u001b[0m \u001b[0mtf\u001b[0m\u001b[0;34m.\u001b[0m\u001b[0mgather\u001b[0m\u001b[0;34m(\u001b[0m\u001b[0mX2\u001b[0m\u001b[0;34m,\u001b[0m \u001b[0mdims\u001b[0m\u001b[0;34m,\u001b[0m \u001b[0maxis\u001b[0m\u001b[0;34m=\u001b[0m\u001b[0;34m-\u001b[0m\u001b[0;36m1\u001b[0m\u001b[0;34m)\u001b[0m\u001b[0;34m\u001b[0m\u001b[0;34m\u001b[0m\u001b[0m\n\u001b[0m\u001b[1;32m    105\u001b[0m         \u001b[0;32mreturn\u001b[0m \u001b[0mX\u001b[0m\u001b[0;34m,\u001b[0m \u001b[0mX2\u001b[0m\u001b[0;34m\u001b[0m\u001b[0;34m\u001b[0m\u001b[0m\n\u001b[1;32m    106\u001b[0m \u001b[0;34m\u001b[0m\u001b[0m\n",
      "\u001b[0;32m/usr/local/anaconda3/envs/astronet/lib/python3.7/site-packages/tensorflow/python/util/dispatch.py\u001b[0m in \u001b[0;36mwrapper\u001b[0;34m(*args, **kwargs)\u001b[0m\n\u001b[1;32m    199\u001b[0m     \u001b[0;34m\"\"\"Call target, and fall back on dispatchers if there is a TypeError.\"\"\"\u001b[0m\u001b[0;34m\u001b[0m\u001b[0;34m\u001b[0m\u001b[0m\n\u001b[1;32m    200\u001b[0m     \u001b[0;32mtry\u001b[0m\u001b[0;34m:\u001b[0m\u001b[0;34m\u001b[0m\u001b[0;34m\u001b[0m\u001b[0m\n\u001b[0;32m--> 201\u001b[0;31m       \u001b[0;32mreturn\u001b[0m \u001b[0mtarget\u001b[0m\u001b[0;34m(\u001b[0m\u001b[0;34m*\u001b[0m\u001b[0margs\u001b[0m\u001b[0;34m,\u001b[0m \u001b[0;34m**\u001b[0m\u001b[0mkwargs\u001b[0m\u001b[0;34m)\u001b[0m\u001b[0;34m\u001b[0m\u001b[0;34m\u001b[0m\u001b[0m\n\u001b[0m\u001b[1;32m    202\u001b[0m     \u001b[0;32mexcept\u001b[0m \u001b[0;34m(\u001b[0m\u001b[0mTypeError\u001b[0m\u001b[0;34m,\u001b[0m \u001b[0mValueError\u001b[0m\u001b[0;34m)\u001b[0m\u001b[0;34m:\u001b[0m\u001b[0;34m\u001b[0m\u001b[0;34m\u001b[0m\u001b[0m\n\u001b[1;32m    203\u001b[0m       \u001b[0;31m# Note: convert_to_eager_tensor currently raises a ValueError, not a\u001b[0m\u001b[0;34m\u001b[0m\u001b[0;34m\u001b[0m\u001b[0;34m\u001b[0m\u001b[0m\n",
      "\u001b[0;32m/usr/local/anaconda3/envs/astronet/lib/python3.7/site-packages/tensorflow/python/ops/array_ops.py\u001b[0m in \u001b[0;36mgather_v2\u001b[0;34m(params, indices, validate_indices, axis, batch_dims, name)\u001b[0m\n\u001b[1;32m   4693\u001b[0m       \u001b[0mname\u001b[0m\u001b[0;34m=\u001b[0m\u001b[0mname\u001b[0m\u001b[0;34m,\u001b[0m\u001b[0;34m\u001b[0m\u001b[0;34m\u001b[0m\u001b[0m\n\u001b[1;32m   4694\u001b[0m       \u001b[0maxis\u001b[0m\u001b[0;34m=\u001b[0m\u001b[0maxis\u001b[0m\u001b[0;34m,\u001b[0m\u001b[0;34m\u001b[0m\u001b[0;34m\u001b[0m\u001b[0m\n\u001b[0;32m-> 4695\u001b[0;31m       batch_dims=batch_dims)\n\u001b[0m\u001b[1;32m   4696\u001b[0m \u001b[0;34m\u001b[0m\u001b[0m\n\u001b[1;32m   4697\u001b[0m \u001b[0;34m\u001b[0m\u001b[0m\n",
      "\u001b[0;32m/usr/local/anaconda3/envs/astronet/lib/python3.7/site-packages/tensorflow/python/util/dispatch.py\u001b[0m in \u001b[0;36mwrapper\u001b[0;34m(*args, **kwargs)\u001b[0m\n\u001b[1;32m    199\u001b[0m     \u001b[0;34m\"\"\"Call target, and fall back on dispatchers if there is a TypeError.\"\"\"\u001b[0m\u001b[0;34m\u001b[0m\u001b[0;34m\u001b[0m\u001b[0m\n\u001b[1;32m    200\u001b[0m     \u001b[0;32mtry\u001b[0m\u001b[0;34m:\u001b[0m\u001b[0;34m\u001b[0m\u001b[0;34m\u001b[0m\u001b[0m\n\u001b[0;32m--> 201\u001b[0;31m       \u001b[0;32mreturn\u001b[0m \u001b[0mtarget\u001b[0m\u001b[0;34m(\u001b[0m\u001b[0;34m*\u001b[0m\u001b[0margs\u001b[0m\u001b[0;34m,\u001b[0m \u001b[0;34m**\u001b[0m\u001b[0mkwargs\u001b[0m\u001b[0;34m)\u001b[0m\u001b[0;34m\u001b[0m\u001b[0;34m\u001b[0m\u001b[0m\n\u001b[0m\u001b[1;32m    202\u001b[0m     \u001b[0;32mexcept\u001b[0m \u001b[0;34m(\u001b[0m\u001b[0mTypeError\u001b[0m\u001b[0;34m,\u001b[0m \u001b[0mValueError\u001b[0m\u001b[0;34m)\u001b[0m\u001b[0;34m:\u001b[0m\u001b[0;34m\u001b[0m\u001b[0;34m\u001b[0m\u001b[0m\n\u001b[1;32m    203\u001b[0m       \u001b[0;31m# Note: convert_to_eager_tensor currently raises a ValueError, not a\u001b[0m\u001b[0;34m\u001b[0m\u001b[0;34m\u001b[0m\u001b[0;34m\u001b[0m\u001b[0m\n",
      "\u001b[0;32m/usr/local/anaconda3/envs/astronet/lib/python3.7/site-packages/tensorflow/python/ops/array_ops.py\u001b[0m in \u001b[0;36mgather\u001b[0;34m(***failed resolving arguments***)\u001b[0m\n\u001b[1;32m   4670\u001b[0m   \u001b[0;32mif\u001b[0m \u001b[0mtensor_util\u001b[0m\u001b[0;34m.\u001b[0m\u001b[0mconstant_value\u001b[0m\u001b[0;34m(\u001b[0m\u001b[0maxis\u001b[0m\u001b[0;34m)\u001b[0m \u001b[0;34m!=\u001b[0m \u001b[0;36m0\u001b[0m\u001b[0;34m:\u001b[0m\u001b[0;34m\u001b[0m\u001b[0;34m\u001b[0m\u001b[0m\n\u001b[1;32m   4671\u001b[0m     return gen_array_ops.gather_v2(\n\u001b[0;32m-> 4672\u001b[0;31m         params, indices, axis, batch_dims=batch_dims, name=name)\n\u001b[0m\u001b[1;32m   4673\u001b[0m   \u001b[0;32mtry\u001b[0m\u001b[0;34m:\u001b[0m\u001b[0;34m\u001b[0m\u001b[0;34m\u001b[0m\u001b[0m\n\u001b[1;32m   4674\u001b[0m     \u001b[0;31m# TODO(apassos) find a less bad way of detecting resource variables\u001b[0m\u001b[0;34m\u001b[0m\u001b[0;34m\u001b[0m\u001b[0;34m\u001b[0m\u001b[0m\n",
      "\u001b[0;32m/usr/local/anaconda3/envs/astronet/lib/python3.7/site-packages/tensorflow/python/ops/gen_array_ops.py\u001b[0m in \u001b[0;36mgather_v2\u001b[0;34m(params, indices, axis, batch_dims, name)\u001b[0m\n\u001b[1;32m   3848\u001b[0m     \u001b[0;32mtry\u001b[0m\u001b[0;34m:\u001b[0m\u001b[0;34m\u001b[0m\u001b[0;34m\u001b[0m\u001b[0m\n\u001b[1;32m   3849\u001b[0m       return gather_v2_eager_fallback(\n\u001b[0;32m-> 3850\u001b[0;31m           params, indices, axis, batch_dims=batch_dims, name=name, ctx=_ctx)\n\u001b[0m\u001b[1;32m   3851\u001b[0m     \u001b[0;32mexcept\u001b[0m \u001b[0m_core\u001b[0m\u001b[0;34m.\u001b[0m\u001b[0m_SymbolicException\u001b[0m\u001b[0;34m:\u001b[0m\u001b[0;34m\u001b[0m\u001b[0;34m\u001b[0m\u001b[0m\n\u001b[1;32m   3852\u001b[0m       \u001b[0;32mpass\u001b[0m  \u001b[0;31m# Add nodes to the TensorFlow graph.\u001b[0m\u001b[0;34m\u001b[0m\u001b[0;34m\u001b[0m\u001b[0m\n",
      "\u001b[0;32m/usr/local/anaconda3/envs/astronet/lib/python3.7/site-packages/tensorflow/python/ops/gen_array_ops.py\u001b[0m in \u001b[0;36mgather_v2_eager_fallback\u001b[0;34m(params, indices, axis, batch_dims, name, ctx)\u001b[0m\n\u001b[1;32m   3884\u001b[0m   _attr_Tindices, \"Taxis\", _attr_Taxis)\n\u001b[1;32m   3885\u001b[0m   _result = _execute.execute(b\"GatherV2\", 1, inputs=_inputs_flat,\n\u001b[0;32m-> 3886\u001b[0;31m                              attrs=_attrs, ctx=ctx, name=name)\n\u001b[0m\u001b[1;32m   3887\u001b[0m   \u001b[0;32mif\u001b[0m \u001b[0m_execute\u001b[0m\u001b[0;34m.\u001b[0m\u001b[0mmust_record_gradient\u001b[0m\u001b[0;34m(\u001b[0m\u001b[0;34m)\u001b[0m\u001b[0;34m:\u001b[0m\u001b[0;34m\u001b[0m\u001b[0;34m\u001b[0m\u001b[0m\n\u001b[1;32m   3888\u001b[0m     _execute.record_gradient(\n",
      "\u001b[0;32m/usr/local/anaconda3/envs/astronet/lib/python3.7/site-packages/tensorflow/python/eager/execute.py\u001b[0m in \u001b[0;36mquick_execute\u001b[0;34m(op_name, num_outputs, inputs, attrs, ctx, name)\u001b[0m\n\u001b[1;32m     58\u001b[0m     \u001b[0mctx\u001b[0m\u001b[0;34m.\u001b[0m\u001b[0mensure_initialized\u001b[0m\u001b[0;34m(\u001b[0m\u001b[0;34m)\u001b[0m\u001b[0;34m\u001b[0m\u001b[0;34m\u001b[0m\u001b[0m\n\u001b[1;32m     59\u001b[0m     tensors = pywrap_tfe.TFE_Py_Execute(ctx._handle, device_name, op_name,\n\u001b[0;32m---> 60\u001b[0;31m                                         inputs, attrs, num_outputs)\n\u001b[0m\u001b[1;32m     61\u001b[0m   \u001b[0;32mexcept\u001b[0m \u001b[0mcore\u001b[0m\u001b[0;34m.\u001b[0m\u001b[0m_NotOkStatusException\u001b[0m \u001b[0;32mas\u001b[0m \u001b[0me\u001b[0m\u001b[0;34m:\u001b[0m\u001b[0;34m\u001b[0m\u001b[0;34m\u001b[0m\u001b[0m\n\u001b[1;32m     62\u001b[0m     \u001b[0;32mif\u001b[0m \u001b[0mname\u001b[0m \u001b[0;32mis\u001b[0m \u001b[0;32mnot\u001b[0m \u001b[0;32mNone\u001b[0m\u001b[0;34m:\u001b[0m\u001b[0;34m\u001b[0m\u001b[0;34m\u001b[0m\u001b[0m\n",
      "\u001b[0;31mInvalidArgumentError\u001b[0m: indices[0] = 1 is not in [0, 1) [Op:GatherV2]"
     ]
    }
   ],
   "source": [
    "mu, var = m.predict_f([data_tensor.to_tensor(), W])"
   ]
  },
  {
   "cell_type": "code",
   "execution_count": 146,
   "metadata": {},
   "outputs": [
    {
     "data": {
      "text/plain": [
       "<matplotlib.collections.PolyCollection at 0x7fac72b42b10>"
      ]
     },
     "execution_count": 146,
     "metadata": {},
     "output_type": "execute_result"
    },
    {
     "data": {
      "image/png": "[encoded data removed]",
      "text/plain": [
       "<Figure size 864x432 with 1 Axes>"
      ]
     },
     "metadata": {
      "needs_background": "light"
     },
     "output_type": "display_data"
    }
   ],
   "source": [
    "plt.figure(figsize=(12, 6))\n",
    "plt.plot(xx, mu, \"C0\")\n",
    "plt.plot(xx, mu + 2 * np.sqrt(var), \"C0\", lw=0.5)\n",
    "plt.plot(xx, mu - 2 * np.sqrt(var), \"C0\", lw=0.5)\n",
    "plt.fill_between(\n",
    "    xx[:, 0],\n",
    "    mu[:, 0] - 1.96 * np.sqrt(var[:, 0]),\n",
    "    mu[:, 0] + 1.96 * np.sqrt(var[:, 0]),\n",
    "    color=\"C4\",\n",
    "    alpha=0.2,\n",
    ")"
   ]
  },
  {
   "cell_type": "code",
   "execution_count": 147,
   "metadata": {},
   "outputs": [
    {
     "ename": "InvalidArgumentError",
     "evalue": "Matrix size-incompatible: In[0]: [16,2], In[1]: [1,200] [Op:MatMul]",
     "output_type": "error",
     "traceback": [
      "\u001b[0;31m---------------------------------------------------------------------------\u001b[0m",
      "\u001b[0;31mInvalidArgumentError\u001b[0m                      Traceback (most recent call last)",
      "\u001b[0;32m<ipython-input-147-b34ee047d419>\u001b[0m in \u001b[0;36m<module>\u001b[0;34m\u001b[0m\n\u001b[1;32m      2\u001b[0m \u001b[0mxx\u001b[0m \u001b[0;34m=\u001b[0m \u001b[0mnp\u001b[0m\u001b[0;34m.\u001b[0m\u001b[0mlinspace\u001b[0m\u001b[0;34m(\u001b[0m\u001b[0mX\u001b[0m\u001b[0;34m[\u001b[0m\u001b[0;34m:\u001b[0m\u001b[0;34m,\u001b[0m \u001b[0;36m0\u001b[0m\u001b[0;34m]\u001b[0m\u001b[0;34m.\u001b[0m\u001b[0mmin\u001b[0m\u001b[0;34m(\u001b[0m\u001b[0;34m)\u001b[0m\u001b[0;34m.\u001b[0m\u001b[0mround\u001b[0m\u001b[0;34m(\u001b[0m\u001b[0;34m)\u001b[0m\u001b[0;34m,\u001b[0m \u001b[0mX\u001b[0m\u001b[0;34m[\u001b[0m\u001b[0;34m:\u001b[0m\u001b[0;34m,\u001b[0m \u001b[0;36m0\u001b[0m\u001b[0;34m]\u001b[0m\u001b[0;34m.\u001b[0m\u001b[0mmax\u001b[0m\u001b[0;34m(\u001b[0m\u001b[0;34m)\u001b[0m\u001b[0;34m.\u001b[0m\u001b[0mround\u001b[0m\u001b[0;34m(\u001b[0m\u001b[0;34m)\u001b[0m\u001b[0;34m,\u001b[0m \u001b[0;36m200\u001b[0m\u001b[0;34m)\u001b[0m\u001b[0;34m[\u001b[0m\u001b[0;34m:\u001b[0m\u001b[0;34m,\u001b[0m \u001b[0;32mNone\u001b[0m\u001b[0;34m]\u001b[0m\u001b[0;34m\u001b[0m\u001b[0;34m\u001b[0m\u001b[0m\n\u001b[1;32m      3\u001b[0m \u001b[0;34m\u001b[0m\u001b[0m\n\u001b[0;32m----> 4\u001b[0;31m \u001b[0mmu\u001b[0m\u001b[0;34m,\u001b[0m \u001b[0mvar\u001b[0m \u001b[0;34m=\u001b[0m \u001b[0mm\u001b[0m\u001b[0;34m.\u001b[0m\u001b[0mpredict_f\u001b[0m\u001b[0;34m(\u001b[0m\u001b[0mxx\u001b[0m\u001b[0;34m)\u001b[0m\u001b[0;34m\u001b[0m\u001b[0;34m\u001b[0m\u001b[0m\n\u001b[0m\u001b[1;32m      5\u001b[0m \u001b[0;34m\u001b[0m\u001b[0m\n\u001b[1;32m      6\u001b[0m \u001b[0mplt\u001b[0m\u001b[0;34m.\u001b[0m\u001b[0mfigure\u001b[0m\u001b[0;34m(\u001b[0m\u001b[0mfigsize\u001b[0m\u001b[0;34m=\u001b[0m\u001b[0;34m(\u001b[0m\u001b[0;36m12\u001b[0m\u001b[0;34m,\u001b[0m \u001b[0;36m6\u001b[0m\u001b[0;34m)\u001b[0m\u001b[0;34m)\u001b[0m\u001b[0;34m\u001b[0m\u001b[0;34m\u001b[0m\u001b[0m\n",
      "\u001b[0;32m/usr/local/anaconda3/envs/astronet/lib/python3.7/site-packages/gpflow/models/vgp.py\u001b[0m in \u001b[0;36mpredict_f\u001b[0;34m(self, Xnew, full_cov, full_output_cov)\u001b[0m\n\u001b[1;32m    117\u001b[0m         \u001b[0mX_data\u001b[0m\u001b[0;34m,\u001b[0m \u001b[0m_\u001b[0m \u001b[0;34m=\u001b[0m \u001b[0mself\u001b[0m\u001b[0;34m.\u001b[0m\u001b[0mdata\u001b[0m\u001b[0;34m\u001b[0m\u001b[0;34m\u001b[0m\u001b[0m\n\u001b[1;32m    118\u001b[0m         mu, var = conditional(\n\u001b[0;32m--> 119\u001b[0;31m             \u001b[0mXnew\u001b[0m\u001b[0;34m,\u001b[0m \u001b[0mX_data\u001b[0m\u001b[0;34m,\u001b[0m \u001b[0mself\u001b[0m\u001b[0;34m.\u001b[0m\u001b[0mkernel\u001b[0m\u001b[0;34m,\u001b[0m \u001b[0mself\u001b[0m\u001b[0;34m.\u001b[0m\u001b[0mq_mu\u001b[0m\u001b[0;34m,\u001b[0m \u001b[0mq_sqrt\u001b[0m\u001b[0;34m=\u001b[0m\u001b[0mself\u001b[0m\u001b[0;34m.\u001b[0m\u001b[0mq_sqrt\u001b[0m\u001b[0;34m,\u001b[0m \u001b[0mfull_cov\u001b[0m\u001b[0;34m=\u001b[0m\u001b[0mfull_cov\u001b[0m\u001b[0;34m,\u001b[0m \u001b[0mwhite\u001b[0m\u001b[0;34m=\u001b[0m\u001b[0;32mTrue\u001b[0m\u001b[0;34m,\u001b[0m\u001b[0;34m\u001b[0m\u001b[0;34m\u001b[0m\u001b[0m\n\u001b[0m\u001b[1;32m    120\u001b[0m         )\n\u001b[1;32m    121\u001b[0m         \u001b[0;32mreturn\u001b[0m \u001b[0mmu\u001b[0m \u001b[0;34m+\u001b[0m \u001b[0mself\u001b[0m\u001b[0;34m.\u001b[0m\u001b[0mmean_function\u001b[0m\u001b[0;34m(\u001b[0m\u001b[0mXnew\u001b[0m\u001b[0;34m)\u001b[0m\u001b[0;34m,\u001b[0m \u001b[0mvar\u001b[0m\u001b[0;34m\u001b[0m\u001b[0;34m\u001b[0m\u001b[0m\n",
      "\u001b[0;32m/usr/local/anaconda3/envs/astronet/lib/python3.7/site-packages/multipledispatch/dispatcher.py\u001b[0m in \u001b[0;36m__call__\u001b[0;34m(self, *args, **kwargs)\u001b[0m\n\u001b[1;32m    276\u001b[0m             \u001b[0mself\u001b[0m\u001b[0;34m.\u001b[0m\u001b[0m_cache\u001b[0m\u001b[0;34m[\u001b[0m\u001b[0mtypes\u001b[0m\u001b[0;34m]\u001b[0m \u001b[0;34m=\u001b[0m \u001b[0mfunc\u001b[0m\u001b[0;34m\u001b[0m\u001b[0;34m\u001b[0m\u001b[0m\n\u001b[1;32m    277\u001b[0m         \u001b[0;32mtry\u001b[0m\u001b[0;34m:\u001b[0m\u001b[0;34m\u001b[0m\u001b[0;34m\u001b[0m\u001b[0m\n\u001b[0;32m--> 278\u001b[0;31m             \u001b[0;32mreturn\u001b[0m \u001b[0mfunc\u001b[0m\u001b[0;34m(\u001b[0m\u001b[0;34m*\u001b[0m\u001b[0margs\u001b[0m\u001b[0;34m,\u001b[0m \u001b[0;34m**\u001b[0m\u001b[0mkwargs\u001b[0m\u001b[0;34m)\u001b[0m\u001b[0;34m\u001b[0m\u001b[0;34m\u001b[0m\u001b[0m\n\u001b[0m\u001b[1;32m    279\u001b[0m \u001b[0;34m\u001b[0m\u001b[0m\n\u001b[1;32m    280\u001b[0m         \u001b[0;32mexcept\u001b[0m \u001b[0mMDNotImplementedError\u001b[0m\u001b[0;34m:\u001b[0m\u001b[0;34m\u001b[0m\u001b[0;34m\u001b[0m\u001b[0m\n",
      "\u001b[0;32m/usr/local/anaconda3/envs/astronet/lib/python3.7/site-packages/gpflow/conditionals/conditionals.py\u001b[0m in \u001b[0;36m_conditional\u001b[0;34m(Xnew, X, kernel, f, full_cov, full_output_cov, q_sqrt, white)\u001b[0m\n\u001b[1;32m    123\u001b[0m     \"\"\"\n\u001b[1;32m    124\u001b[0m     \u001b[0mKmm\u001b[0m \u001b[0;34m=\u001b[0m \u001b[0mkernel\u001b[0m\u001b[0;34m(\u001b[0m\u001b[0mX\u001b[0m\u001b[0;34m)\u001b[0m \u001b[0;34m+\u001b[0m \u001b[0meye\u001b[0m\u001b[0;34m(\u001b[0m\u001b[0mtf\u001b[0m\u001b[0;34m.\u001b[0m\u001b[0mshape\u001b[0m\u001b[0;34m(\u001b[0m\u001b[0mX\u001b[0m\u001b[0;34m)\u001b[0m\u001b[0;34m[\u001b[0m\u001b[0;34m-\u001b[0m\u001b[0;36m2\u001b[0m\u001b[0;34m]\u001b[0m\u001b[0;34m,\u001b[0m \u001b[0mvalue\u001b[0m\u001b[0;34m=\u001b[0m\u001b[0mdefault_jitter\u001b[0m\u001b[0;34m(\u001b[0m\u001b[0;34m)\u001b[0m\u001b[0;34m,\u001b[0m \u001b[0mdtype\u001b[0m\u001b[0;34m=\u001b[0m\u001b[0mX\u001b[0m\u001b[0;34m.\u001b[0m\u001b[0mdtype\u001b[0m\u001b[0;34m)\u001b[0m  \u001b[0;31m# [..., M, M]\u001b[0m\u001b[0;34m\u001b[0m\u001b[0;34m\u001b[0m\u001b[0m\n\u001b[0;32m--> 125\u001b[0;31m     \u001b[0mKmn\u001b[0m \u001b[0;34m=\u001b[0m \u001b[0mkernel\u001b[0m\u001b[0;34m(\u001b[0m\u001b[0mX\u001b[0m\u001b[0;34m,\u001b[0m \u001b[0mXnew\u001b[0m\u001b[0;34m)\u001b[0m  \u001b[0;31m# [M, ..., N]\u001b[0m\u001b[0;34m\u001b[0m\u001b[0;34m\u001b[0m\u001b[0m\n\u001b[0m\u001b[1;32m    126\u001b[0m     \u001b[0mKnn\u001b[0m \u001b[0;34m=\u001b[0m \u001b[0mkernel\u001b[0m\u001b[0;34m(\u001b[0m\u001b[0mXnew\u001b[0m\u001b[0;34m,\u001b[0m \u001b[0mfull_cov\u001b[0m\u001b[0;34m=\u001b[0m\u001b[0mfull_cov\u001b[0m\u001b[0;34m)\u001b[0m  \u001b[0;31m# [..., N] (full_cov = False) or [..., N, N] (True)\u001b[0m\u001b[0;34m\u001b[0m\u001b[0;34m\u001b[0m\u001b[0m\n\u001b[1;32m    127\u001b[0m     \u001b[0mmean\u001b[0m\u001b[0;34m,\u001b[0m \u001b[0mvar\u001b[0m \u001b[0;34m=\u001b[0m \u001b[0mbase_conditional\u001b[0m\u001b[0;34m(\u001b[0m\u001b[0mKmn\u001b[0m\u001b[0;34m,\u001b[0m \u001b[0mKmm\u001b[0m\u001b[0;34m,\u001b[0m \u001b[0mKnn\u001b[0m\u001b[0;34m,\u001b[0m \u001b[0mf\u001b[0m\u001b[0;34m,\u001b[0m \u001b[0mfull_cov\u001b[0m\u001b[0;34m=\u001b[0m\u001b[0mfull_cov\u001b[0m\u001b[0;34m,\u001b[0m \u001b[0mq_sqrt\u001b[0m\u001b[0;34m=\u001b[0m\u001b[0mq_sqrt\u001b[0m\u001b[0;34m,\u001b[0m \u001b[0mwhite\u001b[0m\u001b[0;34m=\u001b[0m\u001b[0mwhite\u001b[0m\u001b[0;34m)\u001b[0m\u001b[0;34m\u001b[0m\u001b[0;34m\u001b[0m\u001b[0m\n",
      "\u001b[0;32m/usr/local/anaconda3/envs/astronet/lib/python3.7/site-packages/gpflow/kernels/base.py\u001b[0m in \u001b[0;36m__call__\u001b[0;34m(self, X, X2, full_cov, presliced)\u001b[0m\n\u001b[1;32m    171\u001b[0m \u001b[0;34m\u001b[0m\u001b[0m\n\u001b[1;32m    172\u001b[0m         \u001b[0;32melse\u001b[0m\u001b[0;34m:\u001b[0m\u001b[0;34m\u001b[0m\u001b[0;34m\u001b[0m\u001b[0m\n\u001b[0;32m--> 173\u001b[0;31m             \u001b[0;32mreturn\u001b[0m \u001b[0mself\u001b[0m\u001b[0;34m.\u001b[0m\u001b[0mK\u001b[0m\u001b[0;34m(\u001b[0m\u001b[0mX\u001b[0m\u001b[0;34m,\u001b[0m \u001b[0mX2\u001b[0m\u001b[0;34m)\u001b[0m\u001b[0;34m\u001b[0m\u001b[0;34m\u001b[0m\u001b[0m\n\u001b[0m\u001b[1;32m    174\u001b[0m \u001b[0;34m\u001b[0m\u001b[0m\n\u001b[1;32m    175\u001b[0m     \u001b[0;32mdef\u001b[0m \u001b[0m__add__\u001b[0m\u001b[0;34m(\u001b[0m\u001b[0mself\u001b[0m\u001b[0;34m,\u001b[0m \u001b[0mother\u001b[0m\u001b[0;34m)\u001b[0m\u001b[0;34m:\u001b[0m\u001b[0;34m\u001b[0m\u001b[0;34m\u001b[0m\u001b[0m\n",
      "\u001b[0;32m/usr/local/anaconda3/envs/astronet/lib/python3.7/site-packages/gpflow/kernels/stationaries.py\u001b[0m in \u001b[0;36mK\u001b[0;34m(self, X, X2)\u001b[0m\n\u001b[1;32m     86\u001b[0m \u001b[0;34m\u001b[0m\u001b[0m\n\u001b[1;32m     87\u001b[0m     \u001b[0;32mdef\u001b[0m \u001b[0mK\u001b[0m\u001b[0;34m(\u001b[0m\u001b[0mself\u001b[0m\u001b[0;34m,\u001b[0m \u001b[0mX\u001b[0m\u001b[0;34m,\u001b[0m \u001b[0mX2\u001b[0m\u001b[0;34m=\u001b[0m\u001b[0;32mNone\u001b[0m\u001b[0;34m)\u001b[0m\u001b[0;34m:\u001b[0m\u001b[0;34m\u001b[0m\u001b[0;34m\u001b[0m\u001b[0m\n\u001b[0;32m---> 88\u001b[0;31m         \u001b[0mr2\u001b[0m \u001b[0;34m=\u001b[0m \u001b[0mself\u001b[0m\u001b[0;34m.\u001b[0m\u001b[0mscaled_squared_euclid_dist\u001b[0m\u001b[0;34m(\u001b[0m\u001b[0mX\u001b[0m\u001b[0;34m,\u001b[0m \u001b[0mX2\u001b[0m\u001b[0;34m)\u001b[0m\u001b[0;34m\u001b[0m\u001b[0;34m\u001b[0m\u001b[0m\n\u001b[0m\u001b[1;32m     89\u001b[0m         \u001b[0;32mreturn\u001b[0m \u001b[0mself\u001b[0m\u001b[0;34m.\u001b[0m\u001b[0mK_r2\u001b[0m\u001b[0;34m(\u001b[0m\u001b[0mr2\u001b[0m\u001b[0;34m)\u001b[0m\u001b[0;34m\u001b[0m\u001b[0;34m\u001b[0m\u001b[0m\n\u001b[1;32m     90\u001b[0m \u001b[0;34m\u001b[0m\u001b[0m\n",
      "\u001b[0;32m/usr/local/anaconda3/envs/astronet/lib/python3.7/site-packages/gpflow/kernels/stationaries.py\u001b[0m in \u001b[0;36mscaled_squared_euclid_dist\u001b[0;34m(self, X, X2)\u001b[0m\n\u001b[1;32m    100\u001b[0m         \u001b[0mReturns\u001b[0m\u001b[0;31m \u001b[0m\u001b[0;31m‖\u001b[0m\u001b[0;34m(\u001b[0m\u001b[0mX\u001b[0m \u001b[0;34m-\u001b[0m \u001b[0mX2ᵀ\u001b[0m\u001b[0;34m)\u001b[0m \u001b[0;34m/\u001b[0m \u001b[0mℓ\u001b[0m\u001b[0;31m‖\u001b[0m\u001b[0;34m²\u001b[0m\u001b[0;34m,\u001b[0m \u001b[0mi\u001b[0m\u001b[0;34m.\u001b[0m\u001b[0me\u001b[0m\u001b[0;34m.\u001b[0m \u001b[0mthe\u001b[0m \u001b[0msquared\u001b[0m \u001b[0mL₂\u001b[0m\u001b[0;34m-\u001b[0m\u001b[0mnorm\u001b[0m\u001b[0;34m.\u001b[0m\u001b[0;34m\u001b[0m\u001b[0;34m\u001b[0m\u001b[0m\n\u001b[1;32m    101\u001b[0m         \"\"\"\n\u001b[0;32m--> 102\u001b[0;31m         \u001b[0;32mreturn\u001b[0m \u001b[0msquare_distance\u001b[0m\u001b[0;34m(\u001b[0m\u001b[0mself\u001b[0m\u001b[0;34m.\u001b[0m\u001b[0mscale\u001b[0m\u001b[0;34m(\u001b[0m\u001b[0mX\u001b[0m\u001b[0;34m)\u001b[0m\u001b[0;34m,\u001b[0m \u001b[0mself\u001b[0m\u001b[0;34m.\u001b[0m\u001b[0mscale\u001b[0m\u001b[0;34m(\u001b[0m\u001b[0mX2\u001b[0m\u001b[0;34m)\u001b[0m\u001b[0;34m)\u001b[0m\u001b[0;34m\u001b[0m\u001b[0;34m\u001b[0m\u001b[0m\n\u001b[0m\u001b[1;32m    103\u001b[0m \u001b[0;34m\u001b[0m\u001b[0m\n\u001b[1;32m    104\u001b[0m \u001b[0;34m\u001b[0m\u001b[0m\n",
      "\u001b[0;32m/usr/local/anaconda3/envs/astronet/lib/python3.7/site-packages/gpflow/utilities/ops.py\u001b[0m in \u001b[0;36msquare_distance\u001b[0;34m(X, X2)\u001b[0m\n\u001b[1;32m    115\u001b[0m     \u001b[0mXs\u001b[0m \u001b[0;34m=\u001b[0m \u001b[0mtf\u001b[0m\u001b[0;34m.\u001b[0m\u001b[0mreduce_sum\u001b[0m\u001b[0;34m(\u001b[0m\u001b[0mtf\u001b[0m\u001b[0;34m.\u001b[0m\u001b[0msquare\u001b[0m\u001b[0;34m(\u001b[0m\u001b[0mX\u001b[0m\u001b[0;34m)\u001b[0m\u001b[0;34m,\u001b[0m \u001b[0maxis\u001b[0m\u001b[0;34m=\u001b[0m\u001b[0;34m-\u001b[0m\u001b[0;36m1\u001b[0m\u001b[0;34m)\u001b[0m\u001b[0;34m\u001b[0m\u001b[0;34m\u001b[0m\u001b[0m\n\u001b[1;32m    116\u001b[0m     \u001b[0mX2s\u001b[0m \u001b[0;34m=\u001b[0m \u001b[0mtf\u001b[0m\u001b[0;34m.\u001b[0m\u001b[0mreduce_sum\u001b[0m\u001b[0;34m(\u001b[0m\u001b[0mtf\u001b[0m\u001b[0;34m.\u001b[0m\u001b[0msquare\u001b[0m\u001b[0;34m(\u001b[0m\u001b[0mX2\u001b[0m\u001b[0;34m)\u001b[0m\u001b[0;34m,\u001b[0m \u001b[0maxis\u001b[0m\u001b[0;34m=\u001b[0m\u001b[0;34m-\u001b[0m\u001b[0;36m1\u001b[0m\u001b[0;34m)\u001b[0m\u001b[0;34m\u001b[0m\u001b[0;34m\u001b[0m\u001b[0m\n\u001b[0;32m--> 117\u001b[0;31m     \u001b[0mdist\u001b[0m \u001b[0;34m=\u001b[0m \u001b[0;34m-\u001b[0m\u001b[0;36m2\u001b[0m \u001b[0;34m*\u001b[0m \u001b[0mtf\u001b[0m\u001b[0;34m.\u001b[0m\u001b[0mtensordot\u001b[0m\u001b[0;34m(\u001b[0m\u001b[0mX\u001b[0m\u001b[0;34m,\u001b[0m \u001b[0mX2\u001b[0m\u001b[0;34m,\u001b[0m \u001b[0;34m[\u001b[0m\u001b[0;34m[\u001b[0m\u001b[0;34m-\u001b[0m\u001b[0;36m1\u001b[0m\u001b[0;34m]\u001b[0m\u001b[0;34m,\u001b[0m \u001b[0;34m[\u001b[0m\u001b[0;34m-\u001b[0m\u001b[0;36m1\u001b[0m\u001b[0;34m]\u001b[0m\u001b[0;34m]\u001b[0m\u001b[0;34m)\u001b[0m\u001b[0;34m\u001b[0m\u001b[0;34m\u001b[0m\u001b[0m\n\u001b[0m\u001b[1;32m    118\u001b[0m     \u001b[0mdist\u001b[0m \u001b[0;34m+=\u001b[0m \u001b[0mbroadcasting_elementwise\u001b[0m\u001b[0;34m(\u001b[0m\u001b[0mtf\u001b[0m\u001b[0;34m.\u001b[0m\u001b[0madd\u001b[0m\u001b[0;34m,\u001b[0m \u001b[0mXs\u001b[0m\u001b[0;34m,\u001b[0m \u001b[0mX2s\u001b[0m\u001b[0;34m)\u001b[0m\u001b[0;34m\u001b[0m\u001b[0;34m\u001b[0m\u001b[0m\n\u001b[1;32m    119\u001b[0m     \u001b[0;32mreturn\u001b[0m \u001b[0mdist\u001b[0m\u001b[0;34m\u001b[0m\u001b[0;34m\u001b[0m\u001b[0m\n",
      "\u001b[0;32m/usr/local/anaconda3/envs/astronet/lib/python3.7/site-packages/tensorflow/python/util/dispatch.py\u001b[0m in \u001b[0;36mwrapper\u001b[0;34m(*args, **kwargs)\u001b[0m\n\u001b[1;32m    199\u001b[0m     \u001b[0;34m\"\"\"Call target, and fall back on dispatchers if there is a TypeError.\"\"\"\u001b[0m\u001b[0;34m\u001b[0m\u001b[0;34m\u001b[0m\u001b[0m\n\u001b[1;32m    200\u001b[0m     \u001b[0;32mtry\u001b[0m\u001b[0;34m:\u001b[0m\u001b[0;34m\u001b[0m\u001b[0;34m\u001b[0m\u001b[0m\n\u001b[0;32m--> 201\u001b[0;31m       \u001b[0;32mreturn\u001b[0m \u001b[0mtarget\u001b[0m\u001b[0;34m(\u001b[0m\u001b[0;34m*\u001b[0m\u001b[0margs\u001b[0m\u001b[0;34m,\u001b[0m \u001b[0;34m**\u001b[0m\u001b[0mkwargs\u001b[0m\u001b[0;34m)\u001b[0m\u001b[0;34m\u001b[0m\u001b[0;34m\u001b[0m\u001b[0m\n\u001b[0m\u001b[1;32m    202\u001b[0m     \u001b[0;32mexcept\u001b[0m \u001b[0;34m(\u001b[0m\u001b[0mTypeError\u001b[0m\u001b[0;34m,\u001b[0m \u001b[0mValueError\u001b[0m\u001b[0;34m)\u001b[0m\u001b[0;34m:\u001b[0m\u001b[0;34m\u001b[0m\u001b[0;34m\u001b[0m\u001b[0m\n\u001b[1;32m    203\u001b[0m       \u001b[0;31m# Note: convert_to_eager_tensor currently raises a ValueError, not a\u001b[0m\u001b[0;34m\u001b[0m\u001b[0;34m\u001b[0m\u001b[0;34m\u001b[0m\u001b[0m\n",
      "\u001b[0;32m/usr/local/anaconda3/envs/astronet/lib/python3.7/site-packages/tensorflow/python/ops/math_ops.py\u001b[0m in \u001b[0;36mtensordot\u001b[0;34m(a, b, axes, name)\u001b[0m\n\u001b[1;32m   4516\u001b[0m     b_reshape, b_free_dims, b_free_dims_static = _tensordot_reshape(\n\u001b[1;32m   4517\u001b[0m         b, b_axes, True)\n\u001b[0;32m-> 4518\u001b[0;31m     \u001b[0mab_matmul\u001b[0m \u001b[0;34m=\u001b[0m \u001b[0mmatmul\u001b[0m\u001b[0;34m(\u001b[0m\u001b[0ma_reshape\u001b[0m\u001b[0;34m,\u001b[0m \u001b[0mb_reshape\u001b[0m\u001b[0;34m)\u001b[0m\u001b[0;34m\u001b[0m\u001b[0;34m\u001b[0m\u001b[0m\n\u001b[0m\u001b[1;32m   4519\u001b[0m     \u001b[0;32mif\u001b[0m \u001b[0misinstance\u001b[0m\u001b[0;34m(\u001b[0m\u001b[0ma_free_dims\u001b[0m\u001b[0;34m,\u001b[0m \u001b[0mlist\u001b[0m\u001b[0;34m)\u001b[0m \u001b[0;32mand\u001b[0m \u001b[0misinstance\u001b[0m\u001b[0;34m(\u001b[0m\u001b[0mb_free_dims\u001b[0m\u001b[0;34m,\u001b[0m \u001b[0mlist\u001b[0m\u001b[0;34m)\u001b[0m\u001b[0;34m:\u001b[0m\u001b[0;34m\u001b[0m\u001b[0;34m\u001b[0m\u001b[0m\n\u001b[1;32m   4520\u001b[0m       if (ab_matmul.get_shape().is_fully_defined() and\n",
      "\u001b[0;32m/usr/local/anaconda3/envs/astronet/lib/python3.7/site-packages/tensorflow/python/util/dispatch.py\u001b[0m in \u001b[0;36mwrapper\u001b[0;34m(*args, **kwargs)\u001b[0m\n\u001b[1;32m    199\u001b[0m     \u001b[0;34m\"\"\"Call target, and fall back on dispatchers if there is a TypeError.\"\"\"\u001b[0m\u001b[0;34m\u001b[0m\u001b[0;34m\u001b[0m\u001b[0m\n\u001b[1;32m    200\u001b[0m     \u001b[0;32mtry\u001b[0m\u001b[0;34m:\u001b[0m\u001b[0;34m\u001b[0m\u001b[0;34m\u001b[0m\u001b[0m\n\u001b[0;32m--> 201\u001b[0;31m       \u001b[0;32mreturn\u001b[0m \u001b[0mtarget\u001b[0m\u001b[0;34m(\u001b[0m\u001b[0;34m*\u001b[0m\u001b[0margs\u001b[0m\u001b[0;34m,\u001b[0m \u001b[0;34m**\u001b[0m\u001b[0mkwargs\u001b[0m\u001b[0;34m)\u001b[0m\u001b[0;34m\u001b[0m\u001b[0;34m\u001b[0m\u001b[0m\n\u001b[0m\u001b[1;32m    202\u001b[0m     \u001b[0;32mexcept\u001b[0m \u001b[0;34m(\u001b[0m\u001b[0mTypeError\u001b[0m\u001b[0;34m,\u001b[0m \u001b[0mValueError\u001b[0m\u001b[0;34m)\u001b[0m\u001b[0;34m:\u001b[0m\u001b[0;34m\u001b[0m\u001b[0;34m\u001b[0m\u001b[0m\n\u001b[1;32m    203\u001b[0m       \u001b[0;31m# Note: convert_to_eager_tensor currently raises a ValueError, not a\u001b[0m\u001b[0;34m\u001b[0m\u001b[0;34m\u001b[0m\u001b[0;34m\u001b[0m\u001b[0m\n",
      "\u001b[0;32m/usr/local/anaconda3/envs/astronet/lib/python3.7/site-packages/tensorflow/python/ops/math_ops.py\u001b[0m in \u001b[0;36mmatmul\u001b[0;34m(a, b, transpose_a, transpose_b, adjoint_a, adjoint_b, a_is_sparse, b_is_sparse, name)\u001b[0m\n\u001b[1;32m   3252\u001b[0m     \u001b[0;32melse\u001b[0m\u001b[0;34m:\u001b[0m\u001b[0;34m\u001b[0m\u001b[0;34m\u001b[0m\u001b[0m\n\u001b[1;32m   3253\u001b[0m       return gen_math_ops.mat_mul(\n\u001b[0;32m-> 3254\u001b[0;31m           a, b, transpose_a=transpose_a, transpose_b=transpose_b, name=name)\n\u001b[0m\u001b[1;32m   3255\u001b[0m \u001b[0;34m\u001b[0m\u001b[0m\n\u001b[1;32m   3256\u001b[0m \u001b[0;34m\u001b[0m\u001b[0m\n",
      "\u001b[0;32m/usr/local/anaconda3/envs/astronet/lib/python3.7/site-packages/tensorflow/python/ops/gen_math_ops.py\u001b[0m in \u001b[0;36mmat_mul\u001b[0;34m(a, b, transpose_a, transpose_b, name)\u001b[0m\n\u001b[1;32m   5622\u001b[0m       \u001b[0;32mreturn\u001b[0m \u001b[0m_result\u001b[0m\u001b[0;34m\u001b[0m\u001b[0;34m\u001b[0m\u001b[0m\n\u001b[1;32m   5623\u001b[0m     \u001b[0;32mexcept\u001b[0m \u001b[0m_core\u001b[0m\u001b[0;34m.\u001b[0m\u001b[0m_NotOkStatusException\u001b[0m \u001b[0;32mas\u001b[0m \u001b[0me\u001b[0m\u001b[0;34m:\u001b[0m\u001b[0;34m\u001b[0m\u001b[0;34m\u001b[0m\u001b[0m\n\u001b[0;32m-> 5624\u001b[0;31m       \u001b[0m_ops\u001b[0m\u001b[0;34m.\u001b[0m\u001b[0mraise_from_not_ok_status\u001b[0m\u001b[0;34m(\u001b[0m\u001b[0me\u001b[0m\u001b[0;34m,\u001b[0m \u001b[0mname\u001b[0m\u001b[0;34m)\u001b[0m\u001b[0;34m\u001b[0m\u001b[0;34m\u001b[0m\u001b[0m\n\u001b[0m\u001b[1;32m   5625\u001b[0m     \u001b[0;32mexcept\u001b[0m \u001b[0m_core\u001b[0m\u001b[0;34m.\u001b[0m\u001b[0m_FallbackException\u001b[0m\u001b[0;34m:\u001b[0m\u001b[0;34m\u001b[0m\u001b[0;34m\u001b[0m\u001b[0m\n\u001b[1;32m   5626\u001b[0m       \u001b[0;32mpass\u001b[0m\u001b[0;34m\u001b[0m\u001b[0;34m\u001b[0m\u001b[0m\n",
      "\u001b[0;32m/usr/local/anaconda3/envs/astronet/lib/python3.7/site-packages/tensorflow/python/framework/ops.py\u001b[0m in \u001b[0;36mraise_from_not_ok_status\u001b[0;34m(e, name)\u001b[0m\n\u001b[1;32m   6841\u001b[0m   \u001b[0mmessage\u001b[0m \u001b[0;34m=\u001b[0m \u001b[0me\u001b[0m\u001b[0;34m.\u001b[0m\u001b[0mmessage\u001b[0m \u001b[0;34m+\u001b[0m \u001b[0;34m(\u001b[0m\u001b[0;34m\" name: \"\u001b[0m \u001b[0;34m+\u001b[0m \u001b[0mname\u001b[0m \u001b[0;32mif\u001b[0m \u001b[0mname\u001b[0m \u001b[0;32mis\u001b[0m \u001b[0;32mnot\u001b[0m \u001b[0;32mNone\u001b[0m \u001b[0;32melse\u001b[0m \u001b[0;34m\"\"\u001b[0m\u001b[0;34m)\u001b[0m\u001b[0;34m\u001b[0m\u001b[0;34m\u001b[0m\u001b[0m\n\u001b[1;32m   6842\u001b[0m   \u001b[0;31m# pylint: disable=protected-access\u001b[0m\u001b[0;34m\u001b[0m\u001b[0;34m\u001b[0m\u001b[0;34m\u001b[0m\u001b[0m\n\u001b[0;32m-> 6843\u001b[0;31m   \u001b[0msix\u001b[0m\u001b[0;34m.\u001b[0m\u001b[0mraise_from\u001b[0m\u001b[0;34m(\u001b[0m\u001b[0mcore\u001b[0m\u001b[0;34m.\u001b[0m\u001b[0m_status_to_exception\u001b[0m\u001b[0;34m(\u001b[0m\u001b[0me\u001b[0m\u001b[0;34m.\u001b[0m\u001b[0mcode\u001b[0m\u001b[0;34m,\u001b[0m \u001b[0mmessage\u001b[0m\u001b[0;34m)\u001b[0m\u001b[0;34m,\u001b[0m \u001b[0;32mNone\u001b[0m\u001b[0;34m)\u001b[0m\u001b[0;34m\u001b[0m\u001b[0;34m\u001b[0m\u001b[0m\n\u001b[0m\u001b[1;32m   6844\u001b[0m   \u001b[0;31m# pylint: enable=protected-access\u001b[0m\u001b[0;34m\u001b[0m\u001b[0;34m\u001b[0m\u001b[0;34m\u001b[0m\u001b[0m\n\u001b[1;32m   6845\u001b[0m \u001b[0;34m\u001b[0m\u001b[0m\n",
      "\u001b[0;32m/usr/local/anaconda3/envs/astronet/lib/python3.7/site-packages/six.py\u001b[0m in \u001b[0;36mraise_from\u001b[0;34m(value, from_value)\u001b[0m\n",
      "\u001b[0;31mInvalidArgumentError\u001b[0m: Matrix size-incompatible: In[0]: [16,2], In[1]: [1,200] [Op:MatMul]"
     ]
    }
   ],
   "source": [
    "#let's do some plotting!\n",
    "xx = np.linspace(X[:, 0].min().round(), X[:, 0].max().round(), 200)[:, None]\n",
    "\n",
    "mu, var = m.predict_f(xx)\n",
    "\n",
    "plt.figure(figsize=(12, 6))\n",
    "plt.plot(xx, mu, \"C0\")\n",
    "plt.plot(xx, mu + 2 * np.sqrt(var), \"C0\", lw=0.5)\n",
    "plt.plot(xx, mu - 2 * np.sqrt(var), \"C0\", lw=0.5)\n",
    "\n",
    "plt.fill_between(\n",
    "    xx[:, 0],\n",
    "    mu[:, 0] - 1.96 * np.sqrt(var[:, 0]),\n",
    "    mu[:, 0] + 1.96 * np.sqrt(var[:, 0]),\n",
    "    color=\"C4\",\n",
    "    alpha=0.2,\n",
    ")"
   ]
  },
  {
   "cell_type": "code",
   "execution_count": 65,
   "metadata": {},
   "outputs": [],
   "source": [
    "# Central passbands wavelengths\n",
    "pb_wavelengths = {\"lsstu\": 3685., \"lsstg\": 4802., \"lsstr\": 6231.,\n",
    "                  \"lssti\": 7542., \"lsstz\": 8690., \"lssty\": 9736.}\n"
   ]
  },
  {
   "cell_type": "code",
   "execution_count": 292,
   "metadata": {},
   "outputs": [],
   "source": [
    "np.random.seed(1)  # for reproducibility\n",
    "\n",
    "\n",
    "def generate_data(N=80):\n",
    "    X = np.random.rand(N)[:, None] * 10 - 5  # Inputs, shape N x 1\n",
    "    X2 = [1500] * N\n",
    "    X2 = np.array(X2)\n",
    "    X2 = X2.reshape(X2.shape[0], 1)\n",
    "    F = 2.5 * np.sin(6 * X) + np.cos(3 * X)  # Mean function values\n",
    "    NoiseVar = 2 * np.exp(-((X - 2) ** 2) / 4) + 0.3  # Noise variances\n",
    "    Y = np.random.randn(N, 1) * np.sqrt(NoiseVar)  # Noisy data\n",
    "    return X, Y, NoiseVar, X2\n",
    "\n",
    "\n",
    "X, Y, NoiseVar, X2 = generate_data()"
   ]
  },
  {
   "cell_type": "code",
   "execution_count": null,
   "metadata": {},
   "outputs": [],
   "source": [
    "X.shape, X2.shape, Y.shape"
   ]
  },
  {
   "cell_type": "code",
   "execution_count": 302,
   "metadata": {},
   "outputs": [
    {
     "data": {
      "text/plain": [
       "(80, 1)"
      ]
     },
     "execution_count": 302,
     "metadata": {},
     "output_type": "execute_result"
    }
   ],
   "source": [
    "Y.shape"
   ]
  },
  {
   "cell_type": "code",
   "execution_count": 295,
   "metadata": {},
   "outputs": [],
   "source": [
    "Y_data = np.hstack([Y, NoiseVar])"
   ]
  },
  {
   "cell_type": "code",
   "execution_count": 296,
   "metadata": {},
   "outputs": [
    {
     "data": {
      "text/plain": [
       "(80, 2)"
      ]
     },
     "execution_count": 296,
     "metadata": {},
     "output_type": "execute_result"
    }
   ],
   "source": [
    "Y_data.shape"
   ]
  },
  {
   "cell_type": "code",
   "execution_count": 297,
   "metadata": {},
   "outputs": [
    {
     "data": {
      "text/plain": [
       "(80, 2)"
      ]
     },
     "execution_count": 297,
     "metadata": {},
     "output_type": "execute_result"
    }
   ],
   "source": [
    "XX = np.hstack([X, X2])\n",
    "XX.shape"
   ]
  },
  {
   "cell_type": "code",
   "execution_count": 298,
   "metadata": {},
   "outputs": [],
   "source": [
    "# model construction\n",
    "likelihood = HeteroskedasticGaussian()\n",
    "# kernel = gpflow.kernels.Matern52(lengthscales=0.5)\n",
    "kernel = gpflow.kernels.Matern52(active_dims=[0], lengthscales=0.5) + gpflow.kernels.Matern52(active_dims=[1], lengthscales=0.5)\n",
    "model = gpflow.models.VGP((XX, Y_data), kernel=kernel, likelihood=likelihood, num_latent_gps=1)"
   ]
  },
  {
   "cell_type": "code",
   "execution_count": 299,
   "metadata": {},
   "outputs": [
    {
     "data": {
      "text/html": [
       "&lt;gpflow.models.vgp.VGP object at 0x7fac75327390&gt;\n",
       "<table>\n",
       "<thead>\n",
       "<tr><th>name                              </th><th>class    </th><th>transform     </th><th>prior  </th><th>trainable  </th><th>shape      </th><th>dtype  </th><th>value           </th></tr>\n",
       "</thead>\n",
       "<tbody>\n",
       "<tr><td>VGP.kernel.kernels[0].variance    </td><td>Parameter</td><td>Softplus      </td><td>       </td><td>True       </td><td>()         </td><td>float64</td><td>1.0             </td></tr>\n",
       "<tr><td>VGP.kernel.kernels[0].lengthscales</td><td>Parameter</td><td>Softplus      </td><td>       </td><td>True       </td><td>()         </td><td>float64</td><td>0.5             </td></tr>\n",
       "<tr><td>VGP.kernel.kernels[1].variance    </td><td>Parameter</td><td>Softplus      </td><td>       </td><td>True       </td><td>()         </td><td>float64</td><td>1.0             </td></tr>\n",
       "<tr><td>VGP.kernel.kernels[1].lengthscales</td><td>Parameter</td><td>Softplus      </td><td>       </td><td>True       </td><td>()         </td><td>float64</td><td>0.5             </td></tr>\n",
       "<tr><td>VGP.q_mu                          </td><td>Parameter</td><td>Identity      </td><td>       </td><td>True       </td><td>(80, 1)    </td><td>float64</td><td>[[0....         </td></tr>\n",
       "<tr><td>VGP.q_sqrt                        </td><td>Parameter</td><td>FillTriangular</td><td>       </td><td>True       </td><td>(1, 80, 80)</td><td>float64</td><td>[[[1., 0., 0....</td></tr>\n",
       "</tbody>\n",
       "</table>"
      ],
      "text/plain": [
       "<gpflow.models.vgp.VGP object at 0x7fac75327390>\n",
       "name                                class      transform       prior    trainable    shape        dtype    value\n",
       "----------------------------------  ---------  --------------  -------  -----------  -----------  -------  ----------------\n",
       "VGP.kernel.kernels[0].variance      Parameter  Softplus                 True         ()           float64  1.0\n",
       "VGP.kernel.kernels[0].lengthscales  Parameter  Softplus                 True         ()           float64  0.5\n",
       "VGP.kernel.kernels[1].variance      Parameter  Softplus                 True         ()           float64  1.0\n",
       "VGP.kernel.kernels[1].lengthscales  Parameter  Softplus                 True         ()           float64  0.5\n",
       "VGP.q_mu                            Parameter  Identity                 True         (80, 1)      float64  [[0....\n",
       "VGP.q_sqrt                          Parameter  FillTriangular           True         (1, 80, 80)  float64  [[[1., 0., 0...."
      ]
     },
     "execution_count": 299,
     "metadata": {},
     "output_type": "execute_result"
    }
   ],
   "source": [
    "model"
   ]
  },
  {
   "cell_type": "code",
   "execution_count": 300,
   "metadata": {},
   "outputs": [],
   "source": [
    "natgrad = NaturalGradient(gamma=1.0)\n",
    "adam = tf.optimizers.Adam()\n",
    "\n",
    "set_trainable(model.q_mu, False)\n",
    "set_trainable(model.q_sqrt, False)\n",
    "\n",
    "for _ in range(ci_niter(1000)):\n",
    "    natgrad.minimize(model.training_loss, [(model.q_mu, model.q_sqrt)])\n",
    "    adam.minimize(model.training_loss, model.trainable_variables)"
   ]
  },
  {
   "cell_type": "code",
   "execution_count": 301,
   "metadata": {},
   "outputs": [
    {
     "ename": "InvalidArgumentError",
     "evalue": "indices[0] = 1 is not in [0, 1) [Op:GatherV2]",
     "output_type": "error",
     "traceback": [
      "\u001b[0;31m---------------------------------------------------------------------------\u001b[0m",
      "\u001b[0;31mInvalidArgumentError\u001b[0m                      Traceback (most recent call last)",
      "\u001b[0;32m<ipython-input-301-8cda57b66a52>\u001b[0m in \u001b[0;36m<module>\u001b[0;34m\u001b[0m\n\u001b[1;32m      2\u001b[0m \u001b[0mxx\u001b[0m \u001b[0;34m=\u001b[0m \u001b[0mnp\u001b[0m\u001b[0;34m.\u001b[0m\u001b[0mlinspace\u001b[0m\u001b[0;34m(\u001b[0m\u001b[0;34m-\u001b[0m\u001b[0;36m5\u001b[0m\u001b[0;34m,\u001b[0m \u001b[0;36m5\u001b[0m\u001b[0;34m,\u001b[0m \u001b[0;36m200\u001b[0m\u001b[0;34m)\u001b[0m\u001b[0;34m[\u001b[0m\u001b[0;34m:\u001b[0m\u001b[0;34m,\u001b[0m \u001b[0;32mNone\u001b[0m\u001b[0;34m]\u001b[0m\u001b[0;34m\u001b[0m\u001b[0;34m\u001b[0m\u001b[0m\n\u001b[1;32m      3\u001b[0m \u001b[0;34m\u001b[0m\u001b[0m\n\u001b[0;32m----> 4\u001b[0;31m \u001b[0mmu\u001b[0m\u001b[0;34m,\u001b[0m \u001b[0mvar\u001b[0m \u001b[0;34m=\u001b[0m \u001b[0mmodel\u001b[0m\u001b[0;34m.\u001b[0m\u001b[0mpredict_f\u001b[0m\u001b[0;34m(\u001b[0m\u001b[0mxx\u001b[0m\u001b[0;34m)\u001b[0m\u001b[0;34m\u001b[0m\u001b[0;34m\u001b[0m\u001b[0m\n\u001b[0m\u001b[1;32m      5\u001b[0m \u001b[0;34m\u001b[0m\u001b[0m\n\u001b[1;32m      6\u001b[0m \u001b[0mplt\u001b[0m\u001b[0;34m.\u001b[0m\u001b[0mfigure\u001b[0m\u001b[0;34m(\u001b[0m\u001b[0mfigsize\u001b[0m\u001b[0;34m=\u001b[0m\u001b[0;34m(\u001b[0m\u001b[0;36m12\u001b[0m\u001b[0;34m,\u001b[0m \u001b[0;36m6\u001b[0m\u001b[0;34m)\u001b[0m\u001b[0;34m)\u001b[0m\u001b[0;34m\u001b[0m\u001b[0;34m\u001b[0m\u001b[0m\n",
      "\u001b[0;32m/usr/local/anaconda3/envs/astronet/lib/python3.7/site-packages/gpflow/models/vgp.py\u001b[0m in \u001b[0;36mpredict_f\u001b[0;34m(self, Xnew, full_cov, full_output_cov)\u001b[0m\n\u001b[1;32m    117\u001b[0m         \u001b[0mX_data\u001b[0m\u001b[0;34m,\u001b[0m \u001b[0m_\u001b[0m \u001b[0;34m=\u001b[0m \u001b[0mself\u001b[0m\u001b[0;34m.\u001b[0m\u001b[0mdata\u001b[0m\u001b[0;34m\u001b[0m\u001b[0;34m\u001b[0m\u001b[0m\n\u001b[1;32m    118\u001b[0m         mu, var = conditional(\n\u001b[0;32m--> 119\u001b[0;31m             \u001b[0mXnew\u001b[0m\u001b[0;34m,\u001b[0m \u001b[0mX_data\u001b[0m\u001b[0;34m,\u001b[0m \u001b[0mself\u001b[0m\u001b[0;34m.\u001b[0m\u001b[0mkernel\u001b[0m\u001b[0;34m,\u001b[0m \u001b[0mself\u001b[0m\u001b[0;34m.\u001b[0m\u001b[0mq_mu\u001b[0m\u001b[0;34m,\u001b[0m \u001b[0mq_sqrt\u001b[0m\u001b[0;34m=\u001b[0m\u001b[0mself\u001b[0m\u001b[0;34m.\u001b[0m\u001b[0mq_sqrt\u001b[0m\u001b[0;34m,\u001b[0m \u001b[0mfull_cov\u001b[0m\u001b[0;34m=\u001b[0m\u001b[0mfull_cov\u001b[0m\u001b[0;34m,\u001b[0m \u001b[0mwhite\u001b[0m\u001b[0;34m=\u001b[0m\u001b[0;32mTrue\u001b[0m\u001b[0;34m,\u001b[0m\u001b[0;34m\u001b[0m\u001b[0;34m\u001b[0m\u001b[0m\n\u001b[0m\u001b[1;32m    120\u001b[0m         )\n\u001b[1;32m    121\u001b[0m         \u001b[0;32mreturn\u001b[0m \u001b[0mmu\u001b[0m \u001b[0;34m+\u001b[0m \u001b[0mself\u001b[0m\u001b[0;34m.\u001b[0m\u001b[0mmean_function\u001b[0m\u001b[0;34m(\u001b[0m\u001b[0mXnew\u001b[0m\u001b[0;34m)\u001b[0m\u001b[0;34m,\u001b[0m \u001b[0mvar\u001b[0m\u001b[0;34m\u001b[0m\u001b[0;34m\u001b[0m\u001b[0m\n",
      "\u001b[0;32m/usr/local/anaconda3/envs/astronet/lib/python3.7/site-packages/multipledispatch/dispatcher.py\u001b[0m in \u001b[0;36m__call__\u001b[0;34m(self, *args, **kwargs)\u001b[0m\n\u001b[1;32m    276\u001b[0m             \u001b[0mself\u001b[0m\u001b[0;34m.\u001b[0m\u001b[0m_cache\u001b[0m\u001b[0;34m[\u001b[0m\u001b[0mtypes\u001b[0m\u001b[0;34m]\u001b[0m \u001b[0;34m=\u001b[0m \u001b[0mfunc\u001b[0m\u001b[0;34m\u001b[0m\u001b[0;34m\u001b[0m\u001b[0m\n\u001b[1;32m    277\u001b[0m         \u001b[0;32mtry\u001b[0m\u001b[0;34m:\u001b[0m\u001b[0;34m\u001b[0m\u001b[0;34m\u001b[0m\u001b[0m\n\u001b[0;32m--> 278\u001b[0;31m             \u001b[0;32mreturn\u001b[0m \u001b[0mfunc\u001b[0m\u001b[0;34m(\u001b[0m\u001b[0;34m*\u001b[0m\u001b[0margs\u001b[0m\u001b[0;34m,\u001b[0m \u001b[0;34m**\u001b[0m\u001b[0mkwargs\u001b[0m\u001b[0;34m)\u001b[0m\u001b[0;34m\u001b[0m\u001b[0;34m\u001b[0m\u001b[0m\n\u001b[0m\u001b[1;32m    279\u001b[0m \u001b[0;34m\u001b[0m\u001b[0m\n\u001b[1;32m    280\u001b[0m         \u001b[0;32mexcept\u001b[0m \u001b[0mMDNotImplementedError\u001b[0m\u001b[0;34m:\u001b[0m\u001b[0;34m\u001b[0m\u001b[0;34m\u001b[0m\u001b[0m\n",
      "\u001b[0;32m/usr/local/anaconda3/envs/astronet/lib/python3.7/site-packages/gpflow/conditionals/conditionals.py\u001b[0m in \u001b[0;36m_conditional\u001b[0;34m(Xnew, X, kernel, f, full_cov, full_output_cov, q_sqrt, white)\u001b[0m\n\u001b[1;32m    123\u001b[0m     \"\"\"\n\u001b[1;32m    124\u001b[0m     \u001b[0mKmm\u001b[0m \u001b[0;34m=\u001b[0m \u001b[0mkernel\u001b[0m\u001b[0;34m(\u001b[0m\u001b[0mX\u001b[0m\u001b[0;34m)\u001b[0m \u001b[0;34m+\u001b[0m \u001b[0meye\u001b[0m\u001b[0;34m(\u001b[0m\u001b[0mtf\u001b[0m\u001b[0;34m.\u001b[0m\u001b[0mshape\u001b[0m\u001b[0;34m(\u001b[0m\u001b[0mX\u001b[0m\u001b[0;34m)\u001b[0m\u001b[0;34m[\u001b[0m\u001b[0;34m-\u001b[0m\u001b[0;36m2\u001b[0m\u001b[0;34m]\u001b[0m\u001b[0;34m,\u001b[0m \u001b[0mvalue\u001b[0m\u001b[0;34m=\u001b[0m\u001b[0mdefault_jitter\u001b[0m\u001b[0;34m(\u001b[0m\u001b[0;34m)\u001b[0m\u001b[0;34m,\u001b[0m \u001b[0mdtype\u001b[0m\u001b[0;34m=\u001b[0m\u001b[0mX\u001b[0m\u001b[0;34m.\u001b[0m\u001b[0mdtype\u001b[0m\u001b[0;34m)\u001b[0m  \u001b[0;31m# [..., M, M]\u001b[0m\u001b[0;34m\u001b[0m\u001b[0;34m\u001b[0m\u001b[0m\n\u001b[0;32m--> 125\u001b[0;31m     \u001b[0mKmn\u001b[0m \u001b[0;34m=\u001b[0m \u001b[0mkernel\u001b[0m\u001b[0;34m(\u001b[0m\u001b[0mX\u001b[0m\u001b[0;34m,\u001b[0m \u001b[0mXnew\u001b[0m\u001b[0;34m)\u001b[0m  \u001b[0;31m# [M, ..., N]\u001b[0m\u001b[0;34m\u001b[0m\u001b[0;34m\u001b[0m\u001b[0m\n\u001b[0m\u001b[1;32m    126\u001b[0m     \u001b[0mKnn\u001b[0m \u001b[0;34m=\u001b[0m \u001b[0mkernel\u001b[0m\u001b[0;34m(\u001b[0m\u001b[0mXnew\u001b[0m\u001b[0;34m,\u001b[0m \u001b[0mfull_cov\u001b[0m\u001b[0;34m=\u001b[0m\u001b[0mfull_cov\u001b[0m\u001b[0;34m)\u001b[0m  \u001b[0;31m# [..., N] (full_cov = False) or [..., N, N] (True)\u001b[0m\u001b[0;34m\u001b[0m\u001b[0;34m\u001b[0m\u001b[0m\n\u001b[1;32m    127\u001b[0m     \u001b[0mmean\u001b[0m\u001b[0;34m,\u001b[0m \u001b[0mvar\u001b[0m \u001b[0;34m=\u001b[0m \u001b[0mbase_conditional\u001b[0m\u001b[0;34m(\u001b[0m\u001b[0mKmn\u001b[0m\u001b[0;34m,\u001b[0m \u001b[0mKmm\u001b[0m\u001b[0;34m,\u001b[0m \u001b[0mKnn\u001b[0m\u001b[0;34m,\u001b[0m \u001b[0mf\u001b[0m\u001b[0;34m,\u001b[0m \u001b[0mfull_cov\u001b[0m\u001b[0;34m=\u001b[0m\u001b[0mfull_cov\u001b[0m\u001b[0;34m,\u001b[0m \u001b[0mq_sqrt\u001b[0m\u001b[0;34m=\u001b[0m\u001b[0mq_sqrt\u001b[0m\u001b[0;34m,\u001b[0m \u001b[0mwhite\u001b[0m\u001b[0;34m=\u001b[0m\u001b[0mwhite\u001b[0m\u001b[0;34m)\u001b[0m\u001b[0;34m\u001b[0m\u001b[0;34m\u001b[0m\u001b[0m\n",
      "\u001b[0;32m/usr/local/anaconda3/envs/astronet/lib/python3.7/site-packages/gpflow/kernels/base.py\u001b[0m in \u001b[0;36m__call__\u001b[0;34m(self, X, X2, full_cov, presliced)\u001b[0m\n\u001b[1;32m    235\u001b[0m     \u001b[0;32mdef\u001b[0m \u001b[0m__call__\u001b[0m\u001b[0;34m(\u001b[0m\u001b[0mself\u001b[0m\u001b[0;34m,\u001b[0m \u001b[0mX\u001b[0m\u001b[0;34m,\u001b[0m \u001b[0mX2\u001b[0m\u001b[0;34m=\u001b[0m\u001b[0;32mNone\u001b[0m\u001b[0;34m,\u001b[0m \u001b[0;34m*\u001b[0m\u001b[0;34m,\u001b[0m \u001b[0mfull_cov\u001b[0m\u001b[0;34m=\u001b[0m\u001b[0;32mTrue\u001b[0m\u001b[0;34m,\u001b[0m \u001b[0mpresliced\u001b[0m\u001b[0;34m=\u001b[0m\u001b[0;32mFalse\u001b[0m\u001b[0;34m)\u001b[0m\u001b[0;34m:\u001b[0m\u001b[0;34m\u001b[0m\u001b[0;34m\u001b[0m\u001b[0m\n\u001b[1;32m    236\u001b[0m         return self._reduce(\n\u001b[0;32m--> 237\u001b[0;31m             \u001b[0;34m[\u001b[0m\u001b[0mk\u001b[0m\u001b[0;34m(\u001b[0m\u001b[0mX\u001b[0m\u001b[0;34m,\u001b[0m \u001b[0mX2\u001b[0m\u001b[0;34m,\u001b[0m \u001b[0mfull_cov\u001b[0m\u001b[0;34m=\u001b[0m\u001b[0mfull_cov\u001b[0m\u001b[0;34m,\u001b[0m \u001b[0mpresliced\u001b[0m\u001b[0;34m=\u001b[0m\u001b[0mpresliced\u001b[0m\u001b[0;34m)\u001b[0m \u001b[0;32mfor\u001b[0m \u001b[0mk\u001b[0m \u001b[0;32min\u001b[0m \u001b[0mself\u001b[0m\u001b[0;34m.\u001b[0m\u001b[0mkernels\u001b[0m\u001b[0;34m]\u001b[0m\u001b[0;34m\u001b[0m\u001b[0;34m\u001b[0m\u001b[0m\n\u001b[0m\u001b[1;32m    238\u001b[0m         )\n\u001b[1;32m    239\u001b[0m \u001b[0;34m\u001b[0m\u001b[0m\n",
      "\u001b[0;32m/usr/local/anaconda3/envs/astronet/lib/python3.7/site-packages/gpflow/kernels/base.py\u001b[0m in \u001b[0;36m<listcomp>\u001b[0;34m(.0)\u001b[0m\n\u001b[1;32m    235\u001b[0m     \u001b[0;32mdef\u001b[0m \u001b[0m__call__\u001b[0m\u001b[0;34m(\u001b[0m\u001b[0mself\u001b[0m\u001b[0;34m,\u001b[0m \u001b[0mX\u001b[0m\u001b[0;34m,\u001b[0m \u001b[0mX2\u001b[0m\u001b[0;34m=\u001b[0m\u001b[0;32mNone\u001b[0m\u001b[0;34m,\u001b[0m \u001b[0;34m*\u001b[0m\u001b[0;34m,\u001b[0m \u001b[0mfull_cov\u001b[0m\u001b[0;34m=\u001b[0m\u001b[0;32mTrue\u001b[0m\u001b[0;34m,\u001b[0m \u001b[0mpresliced\u001b[0m\u001b[0;34m=\u001b[0m\u001b[0;32mFalse\u001b[0m\u001b[0;34m)\u001b[0m\u001b[0;34m:\u001b[0m\u001b[0;34m\u001b[0m\u001b[0;34m\u001b[0m\u001b[0m\n\u001b[1;32m    236\u001b[0m         return self._reduce(\n\u001b[0;32m--> 237\u001b[0;31m             \u001b[0;34m[\u001b[0m\u001b[0mk\u001b[0m\u001b[0;34m(\u001b[0m\u001b[0mX\u001b[0m\u001b[0;34m,\u001b[0m \u001b[0mX2\u001b[0m\u001b[0;34m,\u001b[0m \u001b[0mfull_cov\u001b[0m\u001b[0;34m=\u001b[0m\u001b[0mfull_cov\u001b[0m\u001b[0;34m,\u001b[0m \u001b[0mpresliced\u001b[0m\u001b[0;34m=\u001b[0m\u001b[0mpresliced\u001b[0m\u001b[0;34m)\u001b[0m \u001b[0;32mfor\u001b[0m \u001b[0mk\u001b[0m \u001b[0;32min\u001b[0m \u001b[0mself\u001b[0m\u001b[0;34m.\u001b[0m\u001b[0mkernels\u001b[0m\u001b[0;34m]\u001b[0m\u001b[0;34m\u001b[0m\u001b[0;34m\u001b[0m\u001b[0m\n\u001b[0m\u001b[1;32m    238\u001b[0m         )\n\u001b[1;32m    239\u001b[0m \u001b[0;34m\u001b[0m\u001b[0m\n",
      "\u001b[0;32m/usr/local/anaconda3/envs/astronet/lib/python3.7/site-packages/gpflow/kernels/base.py\u001b[0m in \u001b[0;36m__call__\u001b[0;34m(self, X, X2, full_cov, presliced)\u001b[0m\n\u001b[1;32m    164\u001b[0m \u001b[0;34m\u001b[0m\u001b[0m\n\u001b[1;32m    165\u001b[0m         \u001b[0;32mif\u001b[0m \u001b[0;32mnot\u001b[0m \u001b[0mpresliced\u001b[0m\u001b[0;34m:\u001b[0m\u001b[0;34m\u001b[0m\u001b[0;34m\u001b[0m\u001b[0m\n\u001b[0;32m--> 166\u001b[0;31m             \u001b[0mX\u001b[0m\u001b[0;34m,\u001b[0m \u001b[0mX2\u001b[0m \u001b[0;34m=\u001b[0m \u001b[0mself\u001b[0m\u001b[0;34m.\u001b[0m\u001b[0mslice\u001b[0m\u001b[0;34m(\u001b[0m\u001b[0mX\u001b[0m\u001b[0;34m,\u001b[0m \u001b[0mX2\u001b[0m\u001b[0;34m)\u001b[0m\u001b[0;34m\u001b[0m\u001b[0;34m\u001b[0m\u001b[0m\n\u001b[0m\u001b[1;32m    167\u001b[0m \u001b[0;34m\u001b[0m\u001b[0m\n\u001b[1;32m    168\u001b[0m         \u001b[0;32mif\u001b[0m \u001b[0;32mnot\u001b[0m \u001b[0mfull_cov\u001b[0m\u001b[0;34m:\u001b[0m\u001b[0;34m\u001b[0m\u001b[0;34m\u001b[0m\u001b[0m\n",
      "\u001b[0;32m/usr/local/anaconda3/envs/astronet/lib/python3.7/site-packages/gpflow/kernels/base.py\u001b[0m in \u001b[0;36mslice\u001b[0;34m(self, X, X2)\u001b[0m\n\u001b[1;32m    102\u001b[0m             \u001b[0mX\u001b[0m \u001b[0;34m=\u001b[0m \u001b[0mtf\u001b[0m\u001b[0;34m.\u001b[0m\u001b[0mgather\u001b[0m\u001b[0;34m(\u001b[0m\u001b[0mX\u001b[0m\u001b[0;34m,\u001b[0m \u001b[0mdims\u001b[0m\u001b[0;34m,\u001b[0m \u001b[0maxis\u001b[0m\u001b[0;34m=\u001b[0m\u001b[0;34m-\u001b[0m\u001b[0;36m1\u001b[0m\u001b[0;34m)\u001b[0m\u001b[0;34m\u001b[0m\u001b[0;34m\u001b[0m\u001b[0m\n\u001b[1;32m    103\u001b[0m             \u001b[0;32mif\u001b[0m \u001b[0mX2\u001b[0m \u001b[0;32mis\u001b[0m \u001b[0;32mnot\u001b[0m \u001b[0;32mNone\u001b[0m\u001b[0;34m:\u001b[0m\u001b[0;34m\u001b[0m\u001b[0;34m\u001b[0m\u001b[0m\n\u001b[0;32m--> 104\u001b[0;31m                 \u001b[0mX2\u001b[0m \u001b[0;34m=\u001b[0m \u001b[0mtf\u001b[0m\u001b[0;34m.\u001b[0m\u001b[0mgather\u001b[0m\u001b[0;34m(\u001b[0m\u001b[0mX2\u001b[0m\u001b[0;34m,\u001b[0m \u001b[0mdims\u001b[0m\u001b[0;34m,\u001b[0m \u001b[0maxis\u001b[0m\u001b[0;34m=\u001b[0m\u001b[0;34m-\u001b[0m\u001b[0;36m1\u001b[0m\u001b[0;34m)\u001b[0m\u001b[0;34m\u001b[0m\u001b[0;34m\u001b[0m\u001b[0m\n\u001b[0m\u001b[1;32m    105\u001b[0m         \u001b[0;32mreturn\u001b[0m \u001b[0mX\u001b[0m\u001b[0;34m,\u001b[0m \u001b[0mX2\u001b[0m\u001b[0;34m\u001b[0m\u001b[0;34m\u001b[0m\u001b[0m\n\u001b[1;32m    106\u001b[0m \u001b[0;34m\u001b[0m\u001b[0m\n",
      "\u001b[0;32m/usr/local/anaconda3/envs/astronet/lib/python3.7/site-packages/tensorflow/python/util/dispatch.py\u001b[0m in \u001b[0;36mwrapper\u001b[0;34m(*args, **kwargs)\u001b[0m\n\u001b[1;32m    199\u001b[0m     \u001b[0;34m\"\"\"Call target, and fall back on dispatchers if there is a TypeError.\"\"\"\u001b[0m\u001b[0;34m\u001b[0m\u001b[0;34m\u001b[0m\u001b[0m\n\u001b[1;32m    200\u001b[0m     \u001b[0;32mtry\u001b[0m\u001b[0;34m:\u001b[0m\u001b[0;34m\u001b[0m\u001b[0;34m\u001b[0m\u001b[0m\n\u001b[0;32m--> 201\u001b[0;31m       \u001b[0;32mreturn\u001b[0m \u001b[0mtarget\u001b[0m\u001b[0;34m(\u001b[0m\u001b[0;34m*\u001b[0m\u001b[0margs\u001b[0m\u001b[0;34m,\u001b[0m \u001b[0;34m**\u001b[0m\u001b[0mkwargs\u001b[0m\u001b[0;34m)\u001b[0m\u001b[0;34m\u001b[0m\u001b[0;34m\u001b[0m\u001b[0m\n\u001b[0m\u001b[1;32m    202\u001b[0m     \u001b[0;32mexcept\u001b[0m \u001b[0;34m(\u001b[0m\u001b[0mTypeError\u001b[0m\u001b[0;34m,\u001b[0m \u001b[0mValueError\u001b[0m\u001b[0;34m)\u001b[0m\u001b[0;34m:\u001b[0m\u001b[0;34m\u001b[0m\u001b[0;34m\u001b[0m\u001b[0m\n\u001b[1;32m    203\u001b[0m       \u001b[0;31m# Note: convert_to_eager_tensor currently raises a ValueError, not a\u001b[0m\u001b[0;34m\u001b[0m\u001b[0;34m\u001b[0m\u001b[0;34m\u001b[0m\u001b[0m\n",
      "\u001b[0;32m/usr/local/anaconda3/envs/astronet/lib/python3.7/site-packages/tensorflow/python/ops/array_ops.py\u001b[0m in \u001b[0;36mgather_v2\u001b[0;34m(params, indices, validate_indices, axis, batch_dims, name)\u001b[0m\n\u001b[1;32m   4693\u001b[0m       \u001b[0mname\u001b[0m\u001b[0;34m=\u001b[0m\u001b[0mname\u001b[0m\u001b[0;34m,\u001b[0m\u001b[0;34m\u001b[0m\u001b[0;34m\u001b[0m\u001b[0m\n\u001b[1;32m   4694\u001b[0m       \u001b[0maxis\u001b[0m\u001b[0;34m=\u001b[0m\u001b[0maxis\u001b[0m\u001b[0;34m,\u001b[0m\u001b[0;34m\u001b[0m\u001b[0;34m\u001b[0m\u001b[0m\n\u001b[0;32m-> 4695\u001b[0;31m       batch_dims=batch_dims)\n\u001b[0m\u001b[1;32m   4696\u001b[0m \u001b[0;34m\u001b[0m\u001b[0m\n\u001b[1;32m   4697\u001b[0m \u001b[0;34m\u001b[0m\u001b[0m\n",
      "\u001b[0;32m/usr/local/anaconda3/envs/astronet/lib/python3.7/site-packages/tensorflow/python/util/dispatch.py\u001b[0m in \u001b[0;36mwrapper\u001b[0;34m(*args, **kwargs)\u001b[0m\n\u001b[1;32m    199\u001b[0m     \u001b[0;34m\"\"\"Call target, and fall back on dispatchers if there is a TypeError.\"\"\"\u001b[0m\u001b[0;34m\u001b[0m\u001b[0;34m\u001b[0m\u001b[0m\n\u001b[1;32m    200\u001b[0m     \u001b[0;32mtry\u001b[0m\u001b[0;34m:\u001b[0m\u001b[0;34m\u001b[0m\u001b[0;34m\u001b[0m\u001b[0m\n\u001b[0;32m--> 201\u001b[0;31m       \u001b[0;32mreturn\u001b[0m \u001b[0mtarget\u001b[0m\u001b[0;34m(\u001b[0m\u001b[0;34m*\u001b[0m\u001b[0margs\u001b[0m\u001b[0;34m,\u001b[0m \u001b[0;34m**\u001b[0m\u001b[0mkwargs\u001b[0m\u001b[0;34m)\u001b[0m\u001b[0;34m\u001b[0m\u001b[0;34m\u001b[0m\u001b[0m\n\u001b[0m\u001b[1;32m    202\u001b[0m     \u001b[0;32mexcept\u001b[0m \u001b[0;34m(\u001b[0m\u001b[0mTypeError\u001b[0m\u001b[0;34m,\u001b[0m \u001b[0mValueError\u001b[0m\u001b[0;34m)\u001b[0m\u001b[0;34m:\u001b[0m\u001b[0;34m\u001b[0m\u001b[0;34m\u001b[0m\u001b[0m\n\u001b[1;32m    203\u001b[0m       \u001b[0;31m# Note: convert_to_eager_tensor currently raises a ValueError, not a\u001b[0m\u001b[0;34m\u001b[0m\u001b[0;34m\u001b[0m\u001b[0;34m\u001b[0m\u001b[0m\n",
      "\u001b[0;32m/usr/local/anaconda3/envs/astronet/lib/python3.7/site-packages/tensorflow/python/ops/array_ops.py\u001b[0m in \u001b[0;36mgather\u001b[0;34m(***failed resolving arguments***)\u001b[0m\n\u001b[1;32m   4670\u001b[0m   \u001b[0;32mif\u001b[0m \u001b[0mtensor_util\u001b[0m\u001b[0;34m.\u001b[0m\u001b[0mconstant_value\u001b[0m\u001b[0;34m(\u001b[0m\u001b[0maxis\u001b[0m\u001b[0;34m)\u001b[0m \u001b[0;34m!=\u001b[0m \u001b[0;36m0\u001b[0m\u001b[0;34m:\u001b[0m\u001b[0;34m\u001b[0m\u001b[0;34m\u001b[0m\u001b[0m\n\u001b[1;32m   4671\u001b[0m     return gen_array_ops.gather_v2(\n\u001b[0;32m-> 4672\u001b[0;31m         params, indices, axis, batch_dims=batch_dims, name=name)\n\u001b[0m\u001b[1;32m   4673\u001b[0m   \u001b[0;32mtry\u001b[0m\u001b[0;34m:\u001b[0m\u001b[0;34m\u001b[0m\u001b[0;34m\u001b[0m\u001b[0m\n\u001b[1;32m   4674\u001b[0m     \u001b[0;31m# TODO(apassos) find a less bad way of detecting resource variables\u001b[0m\u001b[0;34m\u001b[0m\u001b[0;34m\u001b[0m\u001b[0;34m\u001b[0m\u001b[0m\n",
      "\u001b[0;32m/usr/local/anaconda3/envs/astronet/lib/python3.7/site-packages/tensorflow/python/ops/gen_array_ops.py\u001b[0m in \u001b[0;36mgather_v2\u001b[0;34m(params, indices, axis, batch_dims, name)\u001b[0m\n\u001b[1;32m   3843\u001b[0m       \u001b[0;32mreturn\u001b[0m \u001b[0m_result\u001b[0m\u001b[0;34m\u001b[0m\u001b[0;34m\u001b[0m\u001b[0m\n\u001b[1;32m   3844\u001b[0m     \u001b[0;32mexcept\u001b[0m \u001b[0m_core\u001b[0m\u001b[0;34m.\u001b[0m\u001b[0m_NotOkStatusException\u001b[0m \u001b[0;32mas\u001b[0m \u001b[0me\u001b[0m\u001b[0;34m:\u001b[0m\u001b[0;34m\u001b[0m\u001b[0;34m\u001b[0m\u001b[0m\n\u001b[0;32m-> 3845\u001b[0;31m       \u001b[0m_ops\u001b[0m\u001b[0;34m.\u001b[0m\u001b[0mraise_from_not_ok_status\u001b[0m\u001b[0;34m(\u001b[0m\u001b[0me\u001b[0m\u001b[0;34m,\u001b[0m \u001b[0mname\u001b[0m\u001b[0;34m)\u001b[0m\u001b[0;34m\u001b[0m\u001b[0;34m\u001b[0m\u001b[0m\n\u001b[0m\u001b[1;32m   3846\u001b[0m     \u001b[0;32mexcept\u001b[0m \u001b[0m_core\u001b[0m\u001b[0;34m.\u001b[0m\u001b[0m_FallbackException\u001b[0m\u001b[0;34m:\u001b[0m\u001b[0;34m\u001b[0m\u001b[0;34m\u001b[0m\u001b[0m\n\u001b[1;32m   3847\u001b[0m       \u001b[0;32mpass\u001b[0m\u001b[0;34m\u001b[0m\u001b[0;34m\u001b[0m\u001b[0m\n",
      "\u001b[0;32m/usr/local/anaconda3/envs/astronet/lib/python3.7/site-packages/tensorflow/python/framework/ops.py\u001b[0m in \u001b[0;36mraise_from_not_ok_status\u001b[0;34m(e, name)\u001b[0m\n\u001b[1;32m   6841\u001b[0m   \u001b[0mmessage\u001b[0m \u001b[0;34m=\u001b[0m \u001b[0me\u001b[0m\u001b[0;34m.\u001b[0m\u001b[0mmessage\u001b[0m \u001b[0;34m+\u001b[0m \u001b[0;34m(\u001b[0m\u001b[0;34m\" name: \"\u001b[0m \u001b[0;34m+\u001b[0m \u001b[0mname\u001b[0m \u001b[0;32mif\u001b[0m \u001b[0mname\u001b[0m \u001b[0;32mis\u001b[0m \u001b[0;32mnot\u001b[0m \u001b[0;32mNone\u001b[0m \u001b[0;32melse\u001b[0m \u001b[0;34m\"\"\u001b[0m\u001b[0;34m)\u001b[0m\u001b[0;34m\u001b[0m\u001b[0;34m\u001b[0m\u001b[0m\n\u001b[1;32m   6842\u001b[0m   \u001b[0;31m# pylint: disable=protected-access\u001b[0m\u001b[0;34m\u001b[0m\u001b[0;34m\u001b[0m\u001b[0;34m\u001b[0m\u001b[0m\n\u001b[0;32m-> 6843\u001b[0;31m   \u001b[0msix\u001b[0m\u001b[0;34m.\u001b[0m\u001b[0mraise_from\u001b[0m\u001b[0;34m(\u001b[0m\u001b[0mcore\u001b[0m\u001b[0;34m.\u001b[0m\u001b[0m_status_to_exception\u001b[0m\u001b[0;34m(\u001b[0m\u001b[0me\u001b[0m\u001b[0;34m.\u001b[0m\u001b[0mcode\u001b[0m\u001b[0;34m,\u001b[0m \u001b[0mmessage\u001b[0m\u001b[0;34m)\u001b[0m\u001b[0;34m,\u001b[0m \u001b[0;32mNone\u001b[0m\u001b[0;34m)\u001b[0m\u001b[0;34m\u001b[0m\u001b[0;34m\u001b[0m\u001b[0m\n\u001b[0m\u001b[1;32m   6844\u001b[0m   \u001b[0;31m# pylint: enable=protected-access\u001b[0m\u001b[0;34m\u001b[0m\u001b[0;34m\u001b[0m\u001b[0;34m\u001b[0m\u001b[0m\n\u001b[1;32m   6845\u001b[0m \u001b[0;34m\u001b[0m\u001b[0m\n",
      "\u001b[0;32m/usr/local/anaconda3/envs/astronet/lib/python3.7/site-packages/six.py\u001b[0m in \u001b[0;36mraise_from\u001b[0;34m(value, from_value)\u001b[0m\n",
      "\u001b[0;31mInvalidArgumentError\u001b[0m: indices[0] = 1 is not in [0, 1) [Op:GatherV2]"
     ]
    }
   ],
   "source": [
    "# let's do some plotting!\n",
    "xx = np.linspace(-5, 5, 200)[:, None]\n",
    "\n",
    "mu, var = model.predict_f(xx)\n",
    "\n",
    "plt.figure(figsize=(12, 6))\n",
    "plt.plot(xx, mu, \"C0\")\n",
    "plt.plot(xx, mu + 2 * np.sqrt(var), \"C0\", lw=0.5)\n",
    "plt.plot(xx, mu - 2 * np.sqrt(var), \"C0\", lw=0.5)\n",
    "\n",
    "plt.errorbar(\n",
    "    X.squeeze(),\n",
    "    Y.squeeze(),\n",
    "    yerr=2 * (np.sqrt(NoiseVar)).squeeze(),\n",
    "    marker=\"x\",\n",
    "    lw=0,\n",
    "    elinewidth=1.0,\n",
    "    color=\"C1\",\n",
    ")\n",
    "_ = plt.xlim(-5, 5)"
   ]
  },
  {
   "cell_type": "code",
   "execution_count": 49,
   "metadata": {},
   "outputs": [
    {
     "data": {
      "text/plain": [
       "(False, False)"
      ]
     },
     "execution_count": 49,
     "metadata": {},
     "output_type": "execute_result"
    }
   ],
   "source": [
    "np.isnan(np.sum(Y_data)), np.isnan(np.sum(X))"
   ]
  },
  {
   "cell_type": "code",
   "execution_count": 2,
   "metadata": {},
   "outputs": [],
   "source": [
    "import snmachine\n",
    "import pickle\n",
    "    \n",
    "augmented_binary =  f\"../data/plasticc/aug_z_new_long_many_obs_35k.pckl\"\n",
    "\n",
    "with open(augmented_binary, \"rb\") as f:\n",
    "    aug = pickle.load(f)"
   ]
  },
  {
   "cell_type": "code",
   "execution_count": 3,
   "metadata": {},
   "outputs": [
    {
     "data": {
      "text/html": [
       "<div>\n",
       "<style scoped>\n",
       "    .dataframe tbody tr th:only-of-type {\n",
       "        vertical-align: middle;\n",
       "    }\n",
       "\n",
       "    .dataframe tbody tr th {\n",
       "        vertical-align: top;\n",
       "    }\n",
       "\n",
       "    .dataframe thead th {\n",
       "        text-align: right;\n",
       "    }\n",
       "</style>\n",
       "<table border=\"1\" class=\"dataframe\">\n",
       "  <thead>\n",
       "    <tr style=\"text-align: right;\">\n",
       "      <th></th>\n",
       "      <th>ra</th>\n",
       "      <th>decl</th>\n",
       "      <th>ddf</th>\n",
       "      <th>hostgal_specz</th>\n",
       "      <th>hostgal_photoz</th>\n",
       "      <th>hostgal_photoz_err</th>\n",
       "      <th>distmod</th>\n",
       "      <th>mwebv</th>\n",
       "      <th>target</th>\n",
       "      <th>true_target</th>\n",
       "      <th>true_submodel</th>\n",
       "      <th>object_id</th>\n",
       "      <th>augmented</th>\n",
       "      <th>original_event</th>\n",
       "    </tr>\n",
       "  </thead>\n",
       "  <tbody>\n",
       "    <tr>\n",
       "      <th>730_aug1</th>\n",
       "      <td>33.5742</td>\n",
       "      <td>-6.5796</td>\n",
       "      <td>False</td>\n",
       "      <td>0.706679</td>\n",
       "      <td>0.712679</td>\n",
       "      <td>0.012493</td>\n",
       "      <td>40.256</td>\n",
       "      <td>0.021</td>\n",
       "      <td>42</td>\n",
       "      <td>42</td>\n",
       "      <td>2</td>\n",
       "      <td>730_aug1</td>\n",
       "      <td>True</td>\n",
       "      <td>730</td>\n",
       "    </tr>\n",
       "    <tr>\n",
       "      <th>730_aug18</th>\n",
       "      <td>33.5742</td>\n",
       "      <td>-6.5796</td>\n",
       "      <td>False</td>\n",
       "      <td>0.300172</td>\n",
       "      <td>0.285172</td>\n",
       "      <td>0.0164796</td>\n",
       "      <td>40.256</td>\n",
       "      <td>0.021</td>\n",
       "      <td>42</td>\n",
       "      <td>42</td>\n",
       "      <td>2</td>\n",
       "      <td>730_aug18</td>\n",
       "      <td>True</td>\n",
       "      <td>730</td>\n",
       "    </tr>\n",
       "    <tr>\n",
       "      <th>730_aug24</th>\n",
       "      <td>33.5742</td>\n",
       "      <td>-6.5796</td>\n",
       "      <td>False</td>\n",
       "      <td>0.148389</td>\n",
       "      <td>0.146389</td>\n",
       "      <td>0.0223689</td>\n",
       "      <td>40.256</td>\n",
       "      <td>0.021</td>\n",
       "      <td>42</td>\n",
       "      <td>42</td>\n",
       "      <td>2</td>\n",
       "      <td>730_aug24</td>\n",
       "      <td>True</td>\n",
       "      <td>730</td>\n",
       "    </tr>\n",
       "    <tr>\n",
       "      <th>1632_aug12</th>\n",
       "      <td>348.596</td>\n",
       "      <td>-63.0726</td>\n",
       "      <td>False</td>\n",
       "      <td>1.30495</td>\n",
       "      <td>1.39895</td>\n",
       "      <td>0.0381622</td>\n",
       "      <td>43.152</td>\n",
       "      <td>0.021</td>\n",
       "      <td>42</td>\n",
       "      <td>42</td>\n",
       "      <td>3</td>\n",
       "      <td>1632_aug12</td>\n",
       "      <td>True</td>\n",
       "      <td>1632</td>\n",
       "    </tr>\n",
       "    <tr>\n",
       "      <th>2103_aug0</th>\n",
       "      <td>346.5</td>\n",
       "      <td>-62.3204</td>\n",
       "      <td>False</td>\n",
       "      <td>0.424507</td>\n",
       "      <td>0.329507</td>\n",
       "      <td>0.800993</td>\n",
       "      <td>42.467</td>\n",
       "      <td>0.02</td>\n",
       "      <td>42</td>\n",
       "      <td>42</td>\n",
       "      <td>2</td>\n",
       "      <td>2103_aug0</td>\n",
       "      <td>True</td>\n",
       "      <td>2103</td>\n",
       "    </tr>\n",
       "    <tr>\n",
       "      <th>...</th>\n",
       "      <td>...</td>\n",
       "      <td>...</td>\n",
       "      <td>...</td>\n",
       "      <td>...</td>\n",
       "      <td>...</td>\n",
       "      <td>...</td>\n",
       "      <td>...</td>\n",
       "      <td>...</td>\n",
       "      <td>...</td>\n",
       "      <td>...</td>\n",
       "      <td>...</td>\n",
       "      <td>...</td>\n",
       "      <td>...</td>\n",
       "      <td>...</td>\n",
       "    </tr>\n",
       "    <tr>\n",
       "      <th>130639669_aug73</th>\n",
       "      <td>164.004</td>\n",
       "      <td>-31.0392</td>\n",
       "      <td>False</td>\n",
       "      <td>0.446786</td>\n",
       "      <td>0.549786</td>\n",
       "      <td>0.439827</td>\n",
       "      <td>40.825</td>\n",
       "      <td>0.07</td>\n",
       "      <td>62</td>\n",
       "      <td>62</td>\n",
       "      <td>2</td>\n",
       "      <td>130639669_aug73</td>\n",
       "      <td>True</td>\n",
       "      <td>130639669</td>\n",
       "    </tr>\n",
       "    <tr>\n",
       "      <th>130639669_aug75</th>\n",
       "      <td>164.004</td>\n",
       "      <td>-31.0392</td>\n",
       "      <td>False</td>\n",
       "      <td>0.251452</td>\n",
       "      <td>0.236452</td>\n",
       "      <td>0.00931878</td>\n",
       "      <td>40.825</td>\n",
       "      <td>0.07</td>\n",
       "      <td>62</td>\n",
       "      <td>62</td>\n",
       "      <td>2</td>\n",
       "      <td>130639669_aug75</td>\n",
       "      <td>True</td>\n",
       "      <td>130639669</td>\n",
       "    </tr>\n",
       "    <tr>\n",
       "      <th>130639669_aug76</th>\n",
       "      <td>164.004</td>\n",
       "      <td>-31.0392</td>\n",
       "      <td>False</td>\n",
       "      <td>0.176224</td>\n",
       "      <td>0.167224</td>\n",
       "      <td>0.0498352</td>\n",
       "      <td>40.825</td>\n",
       "      <td>0.07</td>\n",
       "      <td>62</td>\n",
       "      <td>62</td>\n",
       "      <td>2</td>\n",
       "      <td>130639669_aug76</td>\n",
       "      <td>True</td>\n",
       "      <td>130639669</td>\n",
       "    </tr>\n",
       "    <tr>\n",
       "      <th>130639669_aug78</th>\n",
       "      <td>164.004</td>\n",
       "      <td>-31.0392</td>\n",
       "      <td>False</td>\n",
       "      <td>0.3472</td>\n",
       "      <td>0.3542</td>\n",
       "      <td>0.262582</td>\n",
       "      <td>40.825</td>\n",
       "      <td>0.07</td>\n",
       "      <td>62</td>\n",
       "      <td>62</td>\n",
       "      <td>2</td>\n",
       "      <td>130639669_aug78</td>\n",
       "      <td>True</td>\n",
       "      <td>130639669</td>\n",
       "    </tr>\n",
       "    <tr>\n",
       "      <th>130639669_aug80</th>\n",
       "      <td>164.004</td>\n",
       "      <td>-31.0392</td>\n",
       "      <td>False</td>\n",
       "      <td>0.360534</td>\n",
       "      <td>0.333534</td>\n",
       "      <td>0.0192279</td>\n",
       "      <td>40.825</td>\n",
       "      <td>0.07</td>\n",
       "      <td>62</td>\n",
       "      <td>62</td>\n",
       "      <td>2</td>\n",
       "      <td>130639669_aug80</td>\n",
       "      <td>True</td>\n",
       "      <td>130639669</td>\n",
       "    </tr>\n",
       "  </tbody>\n",
       "</table>\n",
       "<p>35520 rows × 14 columns</p>\n",
       "</div>"
      ],
      "text/plain": [
       "                      ra     decl    ddf hostgal_specz hostgal_photoz  \\\n",
       "730_aug1         33.5742  -6.5796  False      0.706679       0.712679   \n",
       "730_aug18        33.5742  -6.5796  False      0.300172       0.285172   \n",
       "730_aug24        33.5742  -6.5796  False      0.148389       0.146389   \n",
       "1632_aug12       348.596 -63.0726  False       1.30495        1.39895   \n",
       "2103_aug0          346.5 -62.3204  False      0.424507       0.329507   \n",
       "...                  ...      ...    ...           ...            ...   \n",
       "130639669_aug73  164.004 -31.0392  False      0.446786       0.549786   \n",
       "130639669_aug75  164.004 -31.0392  False      0.251452       0.236452   \n",
       "130639669_aug76  164.004 -31.0392  False      0.176224       0.167224   \n",
       "130639669_aug78  164.004 -31.0392  False        0.3472         0.3542   \n",
       "130639669_aug80  164.004 -31.0392  False      0.360534       0.333534   \n",
       "\n",
       "                hostgal_photoz_err distmod  mwebv target true_target  \\\n",
       "730_aug1                  0.012493  40.256  0.021     42          42   \n",
       "730_aug18                0.0164796  40.256  0.021     42          42   \n",
       "730_aug24                0.0223689  40.256  0.021     42          42   \n",
       "1632_aug12               0.0381622  43.152  0.021     42          42   \n",
       "2103_aug0                 0.800993  42.467   0.02     42          42   \n",
       "...                            ...     ...    ...    ...         ...   \n",
       "130639669_aug73           0.439827  40.825   0.07     62          62   \n",
       "130639669_aug75         0.00931878  40.825   0.07     62          62   \n",
       "130639669_aug76          0.0498352  40.825   0.07     62          62   \n",
       "130639669_aug78           0.262582  40.825   0.07     62          62   \n",
       "130639669_aug80          0.0192279  40.825   0.07     62          62   \n",
       "\n",
       "                true_submodel        object_id augmented original_event  \n",
       "730_aug1                    2         730_aug1      True            730  \n",
       "730_aug18                   2        730_aug18      True            730  \n",
       "730_aug24                   2        730_aug24      True            730  \n",
       "1632_aug12                  3       1632_aug12      True           1632  \n",
       "2103_aug0                   2        2103_aug0      True           2103  \n",
       "...                       ...              ...       ...            ...  \n",
       "130639669_aug73             2  130639669_aug73      True      130639669  \n",
       "130639669_aug75             2  130639669_aug75      True      130639669  \n",
       "130639669_aug76             2  130639669_aug76      True      130639669  \n",
       "130639669_aug78             2  130639669_aug78      True      130639669  \n",
       "130639669_aug80             2  130639669_aug80      True      130639669  \n",
       "\n",
       "[35520 rows x 14 columns]"
      ]
     },
     "execution_count": 3,
     "metadata": {},
     "output_type": "execute_result"
    }
   ],
   "source": [
    "aug.metadata"
   ]
  },
  {
   "cell_type": "code",
   "execution_count": 117,
   "metadata": {},
   "outputs": [
    {
     "data": {
      "text/plain": [
       "Counter({42: 11840, 90: 11840, 62: 11840})"
      ]
     },
     "execution_count": 117,
     "metadata": {},
     "output_type": "execute_result"
    }
   ],
   "source": [
    "from collections import Counter\n",
    "Counter(aug.metadata['target'])"
   ]
  },
  {
   "cell_type": "code",
   "execution_count": 118,
   "metadata": {},
   "outputs": [],
   "source": [
    "meta = aug.metadata"
   ]
  },
  {
   "cell_type": "code",
   "execution_count": 81,
   "metadata": {},
   "outputs": [],
   "source": [
    "from astronet.utils import *"
   ]
  },
  {
   "cell_type": "code",
   "execution_count": 7,
   "metadata": {},
   "outputs": [
    {
     "data": {
      "text/plain": [
       "['730_aug1', '730_aug18', '730_aug24', '1632_aug12', '2103_aug0']"
      ]
     },
     "execution_count": 7,
     "metadata": {},
     "output_type": "execute_result"
    }
   ],
   "source": [
    "object_list = list(aug.object_names)\n",
    "object_list[:5]"
   ]
  },
  {
   "cell_type": "code",
   "execution_count": 13,
   "metadata": {},
   "outputs": [
    {
     "data": {
      "text/plain": [
       "['object_id',\n",
       " 'mjd',\n",
       " 'filter',\n",
       " 'flux',\n",
       " 'flux_error',\n",
       " 'detected',\n",
       " 'ref_mjd',\n",
       " 'wavelength_z_ori']"
      ]
     },
     "execution_count": 13,
     "metadata": {},
     "output_type": "execute_result"
    }
   ],
   "source": [
    "cols = list(aug.data[object_list[0]].to_pandas().columns)\n",
    "cols"
   ]
  },
  {
   "cell_type": "code",
   "execution_count": 14,
   "metadata": {},
   "outputs": [],
   "source": [
    "adf = pd.DataFrame(data=[], columns=cols,)"
   ]
  },
  {
   "cell_type": "code",
   "execution_count": 19,
   "metadata": {},
   "outputs": [
    {
     "data": {
      "text/html": [
       "<i>Table length=90</i>\n",
       "<table id=\"table140245883662416\" class=\"table-striped table-bordered table-condensed\">\n",
       "<thead><tr><th>object_id</th><th>mjd</th><th>filter</th><th>flux</th><th>flux_error</th><th>detected</th><th>ref_mjd</th><th>wavelength_z_ori</th></tr></thead>\n",
       "<thead><tr><th>str8</th><th>float64</th><th>str5</th><th>float64</th><th>float64</th><th>bool</th><th>float64</th><th>float64</th></tr></thead>\n",
       "<tr><td>730_aug1</td><td>0.0</td><td>lsstr</td><td>2.2145400691719135</td><td>9.068648625878922</td><td>False</td><td>2.9783000000024913</td><td>4497.971664681429</td></tr>\n",
       "<tr><td>730_aug1</td><td>0.021472011655098378</td><td>lssti</td><td>-0.8101533576916186</td><td>2.4233469198029143</td><td>False</td><td>2.99380000000383</td><td>5444.343170442518</td></tr>\n",
       "<tr><td>730_aug1</td><td>4.159197921783688</td><td>lsstr</td><td>-1.158885311237583</td><td>6.427957765473942</td><td>False</td><td>5.98070000000007</td><td>4497.971664681429</td></tr>\n",
       "<tr><td>730_aug1</td><td>4.169864663059267</td><td>lsstg</td><td>-1.016922387079945</td><td>3.5486067751154073</td><td>False</td><td>5.988400000002002</td><td>3466.4195047023304</td></tr>\n",
       "<tr><td>730_aug1</td><td>4.210869278863896</td><td>lssty</td><td>-33.43232124872952</td><td>26.18549688031617</td><td>False</td><td>6.018000000003667</td><td>7028.12584293667</td></tr>\n",
       "<tr><td>730_aug1</td><td>26.29961251842442</td><td>lsstu</td><td>8.379986600426404</td><td>9.299289315545403</td><td>False</td><td>21.963199999998324</td><td>2660.0907694352536</td></tr>\n",
       "<tr><td>730_aug1</td><td>30.409909665287355</td><td>lsstu</td><td>-10.576248237859161</td><td>9.997013321232883</td><td>False</td><td>24.93029999999999</td><td>2660.0907694352536</td></tr>\n",
       "<tr><td>730_aug1</td><td>31.796586030769898</td><td>lsstu</td><td>1.0806700852793394</td><td>11.550870178793286</td><td>False</td><td>25.93130000000383</td><td>2660.0907694352536</td></tr>\n",
       "<tr><td>730_aug1</td><td>33.17384241694257</td><td>lsstu</td><td>5.377006074950055</td><td>8.229886379752006</td><td>False</td><td>26.92550000000483</td><td>2660.0907694352536</td></tr>\n",
       "<tr><td>730_aug1</td><td>34.55830231669152</td><td>lsstu</td><td>-4.309690196770476</td><td>5.213712280581052</td><td>False</td><td>27.92489999999816</td><td>2660.0907694352536</td></tr>\n",
       "<tr><td>...</td><td>...</td><td>...</td><td>...</td><td>...</td><td>...</td><td>...</td><td>...</td></tr>\n",
       "<tr><td>730_aug1</td><td>161.86946116557652</td><td>lsstz</td><td>3.4315456898131513</td><td>7.5253720576944</td><td>False</td><td>119.82700000000477</td><td>6273.049874190598</td></tr>\n",
       "<tr><td>730_aug1</td><td>44.40772185569641</td><td>lsstz</td><td>-8.820450430874395</td><td>15.357694449663896</td><td>False</td><td>35.03489999999874</td><td>6273.049874190598</td></tr>\n",
       "<tr><td>730_aug1</td><td>104.99869110078555</td><td>lsstz</td><td>4.746634460322255</td><td>6.82481677739977</td><td>False</td><td>78.77369999999792</td><td>6273.049874190598</td></tr>\n",
       "<tr><td>730_aug1</td><td>161.86946116557652</td><td>lsstz</td><td>1.6474299220826545</td><td>14.23915845471475</td><td>False</td><td>119.82700000000477</td><td>6273.049874190598</td></tr>\n",
       "<tr><td>730_aug1</td><td>123.09197782356294</td><td>lsstz</td><td>7.815721936695397</td><td>17.889898402488416</td><td>False</td><td>91.83469999999943</td><td>6273.049874190598</td></tr>\n",
       "<tr><td>730_aug1</td><td>4.169864663059267</td><td>lssti</td><td>1.6214078818977644</td><td>3.1155886397081427</td><td>False</td><td>5.988400000002002</td><td>5444.343170442518</td></tr>\n",
       "<tr><td>730_aug1</td><td>96.71880634908132</td><td>lsstu</td><td>4.438079423250416</td><td>3.874320316961113</td><td>False</td><td>72.79669999999896</td><td>2660.0907694352536</td></tr>\n",
       "<tr><td>730_aug1</td><td>135.4967052784168</td><td>lssti</td><td>4.47031074127466</td><td>8.823720764902452</td><td>False</td><td>100.789300000004</td><td>5444.343170442518</td></tr>\n",
       "<tr><td>730_aug1</td><td>156.23866853544772</td><td>lssti</td><td>-8.639930049012392</td><td>7.454314487633629</td><td>False</td><td>115.76230000000214</td><td>5444.343170442518</td></tr>\n",
       "<tr><td>730_aug1</td><td>84.33804442982404</td><td>lsstu</td><td>-3.7847118175660124</td><td>6.475963756695274</td><td>False</td><td>63.85940000000119</td><td>2660.0907694352536</td></tr>\n",
       "</table>"
      ],
      "text/plain": [
       "<Table length=90>\n",
       "object_id         mjd          filter ...      ref_mjd        wavelength_z_ori \n",
       "   str8         float64         str5  ...      float64            float64      \n",
       "--------- -------------------- ------ ... ------------------ ------------------\n",
       " 730_aug1                  0.0  lsstr ... 2.9783000000024913  4497.971664681429\n",
       " 730_aug1 0.021472011655098378  lssti ...   2.99380000000383  5444.343170442518\n",
       " 730_aug1    4.159197921783688  lsstr ...   5.98070000000007  4497.971664681429\n",
       " 730_aug1    4.169864663059267  lsstg ...  5.988400000002002 3466.4195047023304\n",
       " 730_aug1    4.210869278863896  lssty ...  6.018000000003667   7028.12584293667\n",
       " 730_aug1    26.29961251842442  lsstu ... 21.963199999998324 2660.0907694352536\n",
       " 730_aug1   30.409909665287355  lsstu ...  24.93029999999999 2660.0907694352536\n",
       " 730_aug1   31.796586030769898  lsstu ...  25.93130000000383 2660.0907694352536\n",
       " 730_aug1    33.17384241694257  lsstu ...  26.92550000000483 2660.0907694352536\n",
       " 730_aug1    34.55830231669152  lsstu ...  27.92489999999816 2660.0907694352536\n",
       "      ...                  ...    ... ...                ...                ...\n",
       " 730_aug1   161.86946116557652  lsstz ... 119.82700000000477  6273.049874190598\n",
       " 730_aug1    44.40772185569641  lsstz ...  35.03489999999874  6273.049874190598\n",
       " 730_aug1   104.99869110078555  lsstz ...  78.77369999999792  6273.049874190598\n",
       " 730_aug1   161.86946116557652  lsstz ... 119.82700000000477  6273.049874190598\n",
       " 730_aug1   123.09197782356294  lsstz ...  91.83469999999943  6273.049874190598\n",
       " 730_aug1    4.169864663059267  lssti ...  5.988400000002002  5444.343170442518\n",
       " 730_aug1    96.71880634908132  lsstu ...  72.79669999999896 2660.0907694352536\n",
       " 730_aug1    135.4967052784168  lssti ...   100.789300000004  5444.343170442518\n",
       " 730_aug1   156.23866853544772  lssti ... 115.76230000000214  5444.343170442518\n",
       " 730_aug1    84.33804442982404  lsstu ...  63.85940000000119 2660.0907694352536"
      ]
     },
     "execution_count": 19,
     "metadata": {},
     "output_type": "execute_result"
    }
   ],
   "source": [
    "aug.data[object_list[0]]"
   ]
  },
  {
   "cell_type": "code",
   "execution_count": 32,
   "metadata": {},
   "outputs": [
    {
     "name": "stdout",
     "output_type": "stream",
     "text": [
      "<class 'int'>\n"
     ]
    }
   ],
   "source": [
    "for i in range(len(object_list)):\n",
    "    print(type(i))\n",
    "    break"
   ]
  },
  {
   "cell_type": "code",
   "execution_count": 33,
   "metadata": {},
   "outputs": [],
   "source": [
    "for i in range(len(object_list)):\n",
    "    adf = pd.concat([adf, aug.data[object_list[i]].to_pandas()])"
   ]
  },
  {
   "cell_type": "code",
   "execution_count": 35,
   "metadata": {},
   "outputs": [
    {
     "data": {
      "text/plain": [
       "(1780803, 8)"
      ]
     },
     "execution_count": 35,
     "metadata": {},
     "output_type": "execute_result"
    }
   ],
   "source": [
    "adf.shape"
   ]
  },
  {
   "cell_type": "code",
   "execution_count": 36,
   "metadata": {},
   "outputs": [
    {
     "data": {
      "text/plain": [
       "pandas.core.frame.DataFrame"
      ]
     },
     "execution_count": 36,
     "metadata": {},
     "output_type": "execute_result"
    }
   ],
   "source": [
    "type(adf)"
   ]
  },
  {
   "cell_type": "code",
   "execution_count": 43,
   "metadata": {},
   "outputs": [],
   "source": [
    "ddf = adf"
   ]
  },
  {
   "cell_type": "code",
   "execution_count": 64,
   "metadata": {},
   "outputs": [
    {
     "data": {
      "text/plain": [
       "object_id              |S80\n",
       "mjd                 float64\n",
       "filter                 |S80\n",
       "flux                float64\n",
       "flux_error          float64\n",
       "detected               bool\n",
       "ref_mjd             float64\n",
       "wavelength_z_ori    float64\n",
       "dtype: object"
      ]
     },
     "execution_count": 64,
     "metadata": {},
     "output_type": "execute_result"
    }
   ],
   "source": [
    "ddf.dtypes"
   ]
  },
  {
   "cell_type": "code",
   "execution_count": 73,
   "metadata": {},
   "outputs": [
    {
     "data": {
      "text/plain": [
       "object_id            string\n",
       "mjd                 float64\n",
       "filter               string\n",
       "flux                float64\n",
       "flux_error          float64\n",
       "detected               bool\n",
       "ref_mjd             float64\n",
       "wavelength_z_ori    float64\n",
       "dtype: object"
      ]
     },
     "execution_count": 73,
     "metadata": {},
     "output_type": "execute_result"
    }
   ],
   "source": [
    "# ddf['filter'] = ddf['filter'].astype(\"string\")\n",
    "ddf.dtypes"
   ]
  },
  {
   "cell_type": "code",
   "execution_count": 40,
   "metadata": {},
   "outputs": [],
   "source": [
    "adf.to_csv(\n",
    "    f\"{asnwd}/data/plasticc/augmented_training_set.csv\",\n",
    ")"
   ]
  },
  {
   "cell_type": "code",
   "execution_count": 42,
   "metadata": {},
   "outputs": [],
   "source": [
    "adf.set_index('object_id').to_csv(\n",
    "    f\"{asnwd}/data/plasticc/augmented_training_set_index.csv\",\n",
    ")"
   ]
  },
  {
   "cell_type": "code",
   "execution_count": 79,
   "metadata": {},
   "outputs": [
    {
     "data": {
      "text/plain": [
       "object_id            string\n",
       "mjd                 float64\n",
       "filter               string\n",
       "flux                float64\n",
       "flux_error          float64\n",
       "detected               bool\n",
       "ref_mjd             float64\n",
       "wavelength_z_ori    float64\n",
       "dtype: object"
      ]
     },
     "execution_count": 79,
     "metadata": {},
     "output_type": "execute_result"
    }
   ],
   "source": [
    "ddf.dtypes"
   ]
  },
  {
   "cell_type": "code",
   "execution_count": 75,
   "metadata": {},
   "outputs": [],
   "source": [
    "dfn = ddf.convert_dtypes()"
   ]
  },
  {
   "cell_type": "code",
   "execution_count": 95,
   "metadata": {},
   "outputs": [
    {
     "data": {
      "text/html": [
       "<div>\n",
       "<style scoped>\n",
       "    .dataframe tbody tr th:only-of-type {\n",
       "        vertical-align: middle;\n",
       "    }\n",
       "\n",
       "    .dataframe tbody tr th {\n",
       "        vertical-align: top;\n",
       "    }\n",
       "\n",
       "    .dataframe thead th {\n",
       "        text-align: right;\n",
       "    }\n",
       "</style>\n",
       "<table border=\"1\" class=\"dataframe\">\n",
       "  <thead>\n",
       "    <tr style=\"text-align: right;\">\n",
       "      <th></th>\n",
       "      <th>object_id</th>\n",
       "      <th>mjd</th>\n",
       "      <th>filter</th>\n",
       "      <th>flux</th>\n",
       "      <th>flux_error</th>\n",
       "      <th>detected</th>\n",
       "      <th>ref_mjd</th>\n",
       "      <th>wavelength_z_ori</th>\n",
       "    </tr>\n",
       "  </thead>\n",
       "  <tbody>\n",
       "    <tr>\n",
       "      <th>0</th>\n",
       "      <td>b'730_aug1'</td>\n",
       "      <td>0.000000</td>\n",
       "      <td>b'lsstr'</td>\n",
       "      <td>2.214540</td>\n",
       "      <td>9.068649</td>\n",
       "      <td>False</td>\n",
       "      <td>2.9783</td>\n",
       "      <td>4497.971665</td>\n",
       "    </tr>\n",
       "    <tr>\n",
       "      <th>1</th>\n",
       "      <td>b'730_aug1'</td>\n",
       "      <td>0.021472</td>\n",
       "      <td>b'lssti'</td>\n",
       "      <td>-0.810153</td>\n",
       "      <td>2.423347</td>\n",
       "      <td>False</td>\n",
       "      <td>2.9938</td>\n",
       "      <td>5444.343170</td>\n",
       "    </tr>\n",
       "    <tr>\n",
       "      <th>2</th>\n",
       "      <td>b'730_aug1'</td>\n",
       "      <td>4.159198</td>\n",
       "      <td>b'lsstr'</td>\n",
       "      <td>-1.158885</td>\n",
       "      <td>6.427958</td>\n",
       "      <td>False</td>\n",
       "      <td>5.9807</td>\n",
       "      <td>4497.971665</td>\n",
       "    </tr>\n",
       "    <tr>\n",
       "      <th>3</th>\n",
       "      <td>b'730_aug1'</td>\n",
       "      <td>4.169865</td>\n",
       "      <td>b'lsstg'</td>\n",
       "      <td>-1.016922</td>\n",
       "      <td>3.548607</td>\n",
       "      <td>False</td>\n",
       "      <td>5.9884</td>\n",
       "      <td>3466.419505</td>\n",
       "    </tr>\n",
       "    <tr>\n",
       "      <th>4</th>\n",
       "      <td>b'730_aug1'</td>\n",
       "      <td>4.210869</td>\n",
       "      <td>b'lssty'</td>\n",
       "      <td>-33.432321</td>\n",
       "      <td>26.185497</td>\n",
       "      <td>False</td>\n",
       "      <td>6.0180</td>\n",
       "      <td>7028.125843</td>\n",
       "    </tr>\n",
       "    <tr>\n",
       "      <th>...</th>\n",
       "      <td>...</td>\n",
       "      <td>...</td>\n",
       "      <td>...</td>\n",
       "      <td>...</td>\n",
       "      <td>...</td>\n",
       "      <td>...</td>\n",
       "      <td>...</td>\n",
       "      <td>...</td>\n",
       "    </tr>\n",
       "    <tr>\n",
       "      <th>33</th>\n",
       "      <td>b'130639669_aug80'</td>\n",
       "      <td>166.119219</td>\n",
       "      <td>b'lsstz'</td>\n",
       "      <td>-5.135075</td>\n",
       "      <td>10.578986</td>\n",
       "      <td>False</td>\n",
       "      <td>163.7696</td>\n",
       "      <td>8150.062474</td>\n",
       "    </tr>\n",
       "    <tr>\n",
       "      <th>34</th>\n",
       "      <td>b'130639669_aug80'</td>\n",
       "      <td>169.281715</td>\n",
       "      <td>b'lssti'</td>\n",
       "      <td>6.081904</td>\n",
       "      <td>3.967157</td>\n",
       "      <td>False</td>\n",
       "      <td>166.7356</td>\n",
       "      <td>7073.391390</td>\n",
       "    </tr>\n",
       "    <tr>\n",
       "      <th>35</th>\n",
       "      <td>b'130639669_aug80'</td>\n",
       "      <td>170.309686</td>\n",
       "      <td>b'lsstr'</td>\n",
       "      <td>3.485542</td>\n",
       "      <td>4.661229</td>\n",
       "      <td>False</td>\n",
       "      <td>167.6997</td>\n",
       "      <td>5843.848018</td>\n",
       "    </tr>\n",
       "    <tr>\n",
       "      <th>36</th>\n",
       "      <td>b'130639669_aug80'</td>\n",
       "      <td>102.196496</td>\n",
       "      <td>b'lsstg'</td>\n",
       "      <td>-5.180097</td>\n",
       "      <td>4.253858</td>\n",
       "      <td>False</td>\n",
       "      <td>103.8186</td>\n",
       "      <td>4503.636363</td>\n",
       "    </tr>\n",
       "    <tr>\n",
       "      <th>37</th>\n",
       "      <td>b'130639669_aug80'</td>\n",
       "      <td>136.415427</td>\n",
       "      <td>b'lssty'</td>\n",
       "      <td>63.180706</td>\n",
       "      <td>20.666826</td>\n",
       "      <td>False</td>\n",
       "      <td>135.9114</td>\n",
       "      <td>9131.071144</td>\n",
       "    </tr>\n",
       "  </tbody>\n",
       "</table>\n",
       "<p>1780803 rows × 8 columns</p>\n",
       "</div>"
      ],
      "text/plain": [
       "             object_id         mjd    filter       flux  flux_error  detected  \\\n",
       "0          b'730_aug1'    0.000000  b'lsstr'   2.214540    9.068649     False   \n",
       "1          b'730_aug1'    0.021472  b'lssti'  -0.810153    2.423347     False   \n",
       "2          b'730_aug1'    4.159198  b'lsstr'  -1.158885    6.427958     False   \n",
       "3          b'730_aug1'    4.169865  b'lsstg'  -1.016922    3.548607     False   \n",
       "4          b'730_aug1'    4.210869  b'lssty' -33.432321   26.185497     False   \n",
       "..                 ...         ...       ...        ...         ...       ...   \n",
       "33  b'130639669_aug80'  166.119219  b'lsstz'  -5.135075   10.578986     False   \n",
       "34  b'130639669_aug80'  169.281715  b'lssti'   6.081904    3.967157     False   \n",
       "35  b'130639669_aug80'  170.309686  b'lsstr'   3.485542    4.661229     False   \n",
       "36  b'130639669_aug80'  102.196496  b'lsstg'  -5.180097    4.253858     False   \n",
       "37  b'130639669_aug80'  136.415427  b'lssty'  63.180706   20.666826     False   \n",
       "\n",
       "     ref_mjd  wavelength_z_ori  \n",
       "0     2.9783       4497.971665  \n",
       "1     2.9938       5444.343170  \n",
       "2     5.9807       4497.971665  \n",
       "3     5.9884       3466.419505  \n",
       "4     6.0180       7028.125843  \n",
       "..       ...               ...  \n",
       "33  163.7696       8150.062474  \n",
       "34  166.7356       7073.391390  \n",
       "35  167.6997       5843.848018  \n",
       "36  103.8186       4503.636363  \n",
       "37  135.9114       9131.071144  \n",
       "\n",
       "[1780803 rows x 8 columns]"
      ]
     },
     "execution_count": 95,
     "metadata": {},
     "output_type": "execute_result"
    }
   ],
   "source": [
    "ddf"
   ]
  },
  {
   "cell_type": "code",
   "execution_count": 77,
   "metadata": {},
   "outputs": [
    {
     "ename": "ArrowTypeError",
     "evalue": "('Did not pass numpy.dtype object', 'Conversion failed for column None with type int64')",
     "output_type": "error",
     "traceback": [
      "\u001b[0;31m---------------------------------------------------------------------------\u001b[0m",
      "\u001b[0;31mArrowTypeError\u001b[0m                            Traceback (most recent call last)",
      "\u001b[0;32m<ipython-input-77-35df82097a30>\u001b[0m in \u001b[0;36m<module>\u001b[0;34m\u001b[0m\n\u001b[1;32m      2\u001b[0m     \u001b[0;34mf\"{asnwd}/data/plasticc/augmented_training_set.parquet\"\u001b[0m\u001b[0;34m,\u001b[0m\u001b[0;34m\u001b[0m\u001b[0;34m\u001b[0m\u001b[0m\n\u001b[1;32m      3\u001b[0m     \u001b[0mengine\u001b[0m\u001b[0;34m=\u001b[0m\u001b[0;34m\"pyarrow\"\u001b[0m\u001b[0;34m,\u001b[0m\u001b[0;34m\u001b[0m\u001b[0;34m\u001b[0m\u001b[0m\n\u001b[0;32m----> 4\u001b[0;31m     \u001b[0mcompression\u001b[0m\u001b[0;34m=\u001b[0m\u001b[0;34m\"snappy\"\u001b[0m\u001b[0;34m,\u001b[0m\u001b[0;34m\u001b[0m\u001b[0;34m\u001b[0m\u001b[0m\n\u001b[0m\u001b[1;32m      5\u001b[0m )\n",
      "\u001b[0;32m/usr/local/anaconda3/envs/astronet/lib/python3.7/site-packages/pandas/util/_decorators.py\u001b[0m in \u001b[0;36mwrapper\u001b[0;34m(*args, **kwargs)\u001b[0m\n\u001b[1;32m    197\u001b[0m                 \u001b[0;32melse\u001b[0m\u001b[0;34m:\u001b[0m\u001b[0;34m\u001b[0m\u001b[0;34m\u001b[0m\u001b[0m\n\u001b[1;32m    198\u001b[0m                     \u001b[0mkwargs\u001b[0m\u001b[0;34m[\u001b[0m\u001b[0mnew_arg_name\u001b[0m\u001b[0;34m]\u001b[0m \u001b[0;34m=\u001b[0m \u001b[0mnew_arg_value\u001b[0m\u001b[0;34m\u001b[0m\u001b[0;34m\u001b[0m\u001b[0m\n\u001b[0;32m--> 199\u001b[0;31m             \u001b[0;32mreturn\u001b[0m \u001b[0mfunc\u001b[0m\u001b[0;34m(\u001b[0m\u001b[0;34m*\u001b[0m\u001b[0margs\u001b[0m\u001b[0;34m,\u001b[0m \u001b[0;34m**\u001b[0m\u001b[0mkwargs\u001b[0m\u001b[0;34m)\u001b[0m\u001b[0;34m\u001b[0m\u001b[0;34m\u001b[0m\u001b[0m\n\u001b[0m\u001b[1;32m    200\u001b[0m \u001b[0;34m\u001b[0m\u001b[0m\n\u001b[1;32m    201\u001b[0m         \u001b[0;32mreturn\u001b[0m \u001b[0mcast\u001b[0m\u001b[0;34m(\u001b[0m\u001b[0mF\u001b[0m\u001b[0;34m,\u001b[0m \u001b[0mwrapper\u001b[0m\u001b[0;34m)\u001b[0m\u001b[0;34m\u001b[0m\u001b[0;34m\u001b[0m\u001b[0m\n",
      "\u001b[0;32m/usr/local/anaconda3/envs/astronet/lib/python3.7/site-packages/pandas/core/frame.py\u001b[0m in \u001b[0;36mto_parquet\u001b[0;34m(self, path, engine, compression, index, partition_cols, **kwargs)\u001b[0m\n\u001b[1;32m   2370\u001b[0m             \u001b[0mindex\u001b[0m\u001b[0;34m=\u001b[0m\u001b[0mindex\u001b[0m\u001b[0;34m,\u001b[0m\u001b[0;34m\u001b[0m\u001b[0;34m\u001b[0m\u001b[0m\n\u001b[1;32m   2371\u001b[0m             \u001b[0mpartition_cols\u001b[0m\u001b[0;34m=\u001b[0m\u001b[0mpartition_cols\u001b[0m\u001b[0;34m,\u001b[0m\u001b[0;34m\u001b[0m\u001b[0;34m\u001b[0m\u001b[0m\n\u001b[0;32m-> 2372\u001b[0;31m             \u001b[0;34m**\u001b[0m\u001b[0mkwargs\u001b[0m\u001b[0;34m,\u001b[0m\u001b[0;34m\u001b[0m\u001b[0;34m\u001b[0m\u001b[0m\n\u001b[0m\u001b[1;32m   2373\u001b[0m         )\n\u001b[1;32m   2374\u001b[0m \u001b[0;34m\u001b[0m\u001b[0m\n",
      "\u001b[0;32m/usr/local/anaconda3/envs/astronet/lib/python3.7/site-packages/pandas/io/parquet.py\u001b[0m in \u001b[0;36mto_parquet\u001b[0;34m(df, path, engine, compression, index, partition_cols, **kwargs)\u001b[0m\n\u001b[1;32m    274\u001b[0m         \u001b[0mindex\u001b[0m\u001b[0;34m=\u001b[0m\u001b[0mindex\u001b[0m\u001b[0;34m,\u001b[0m\u001b[0;34m\u001b[0m\u001b[0;34m\u001b[0m\u001b[0m\n\u001b[1;32m    275\u001b[0m         \u001b[0mpartition_cols\u001b[0m\u001b[0;34m=\u001b[0m\u001b[0mpartition_cols\u001b[0m\u001b[0;34m,\u001b[0m\u001b[0;34m\u001b[0m\u001b[0;34m\u001b[0m\u001b[0m\n\u001b[0;32m--> 276\u001b[0;31m         \u001b[0;34m**\u001b[0m\u001b[0mkwargs\u001b[0m\u001b[0;34m,\u001b[0m\u001b[0;34m\u001b[0m\u001b[0;34m\u001b[0m\u001b[0m\n\u001b[0m\u001b[1;32m    277\u001b[0m     )\n\u001b[1;32m    278\u001b[0m \u001b[0;34m\u001b[0m\u001b[0m\n",
      "\u001b[0;32m/usr/local/anaconda3/envs/astronet/lib/python3.7/site-packages/pandas/io/parquet.py\u001b[0m in \u001b[0;36mwrite\u001b[0;34m(self, df, path, compression, index, partition_cols, **kwargs)\u001b[0m\n\u001b[1;32m     99\u001b[0m             \u001b[0mfrom_pandas_kwargs\u001b[0m\u001b[0;34m[\u001b[0m\u001b[0;34m\"preserve_index\"\u001b[0m\u001b[0;34m]\u001b[0m \u001b[0;34m=\u001b[0m \u001b[0mindex\u001b[0m\u001b[0;34m\u001b[0m\u001b[0;34m\u001b[0m\u001b[0m\n\u001b[1;32m    100\u001b[0m \u001b[0;34m\u001b[0m\u001b[0m\n\u001b[0;32m--> 101\u001b[0;31m         \u001b[0mtable\u001b[0m \u001b[0;34m=\u001b[0m \u001b[0mself\u001b[0m\u001b[0;34m.\u001b[0m\u001b[0mapi\u001b[0m\u001b[0;34m.\u001b[0m\u001b[0mTable\u001b[0m\u001b[0;34m.\u001b[0m\u001b[0mfrom_pandas\u001b[0m\u001b[0;34m(\u001b[0m\u001b[0mdf\u001b[0m\u001b[0;34m,\u001b[0m \u001b[0;34m**\u001b[0m\u001b[0mfrom_pandas_kwargs\u001b[0m\u001b[0;34m)\u001b[0m\u001b[0;34m\u001b[0m\u001b[0;34m\u001b[0m\u001b[0m\n\u001b[0m\u001b[1;32m    102\u001b[0m \u001b[0;34m\u001b[0m\u001b[0m\n\u001b[1;32m    103\u001b[0m         \u001b[0;32mif\u001b[0m \u001b[0mis_fsspec_url\u001b[0m\u001b[0;34m(\u001b[0m\u001b[0mpath\u001b[0m\u001b[0;34m)\u001b[0m \u001b[0;32mand\u001b[0m \u001b[0;34m\"filesystem\"\u001b[0m \u001b[0;32mnot\u001b[0m \u001b[0;32min\u001b[0m \u001b[0mkwargs\u001b[0m\u001b[0;34m:\u001b[0m\u001b[0;34m\u001b[0m\u001b[0;34m\u001b[0m\u001b[0m\n",
      "\u001b[0;32m/usr/local/anaconda3/envs/astronet/lib/python3.7/site-packages/pyarrow/table.pxi\u001b[0m in \u001b[0;36mpyarrow.lib.Table.from_pandas\u001b[0;34m()\u001b[0m\n",
      "\u001b[0;32m/usr/local/anaconda3/envs/astronet/lib/python3.7/site-packages/pyarrow/pandas_compat.py\u001b[0m in \u001b[0;36mdataframe_to_arrays\u001b[0;34m(df, schema, preserve_index, nthreads, columns, safe)\u001b[0m\n\u001b[1;32m    594\u001b[0m             \u001b[0;32mfor\u001b[0m \u001b[0mc\u001b[0m\u001b[0;34m,\u001b[0m \u001b[0mf\u001b[0m \u001b[0;32min\u001b[0m \u001b[0mzip\u001b[0m\u001b[0;34m(\u001b[0m\u001b[0mcolumns_to_convert\u001b[0m\u001b[0;34m,\u001b[0m \u001b[0mconvert_fields\u001b[0m\u001b[0;34m)\u001b[0m\u001b[0;34m:\u001b[0m\u001b[0;34m\u001b[0m\u001b[0;34m\u001b[0m\u001b[0m\n\u001b[1;32m    595\u001b[0m                 \u001b[0;32mif\u001b[0m \u001b[0m_can_definitely_zero_copy\u001b[0m\u001b[0;34m(\u001b[0m\u001b[0mc\u001b[0m\u001b[0;34m.\u001b[0m\u001b[0mvalues\u001b[0m\u001b[0;34m)\u001b[0m\u001b[0;34m:\u001b[0m\u001b[0;34m\u001b[0m\u001b[0;34m\u001b[0m\u001b[0m\n\u001b[0;32m--> 596\u001b[0;31m                     \u001b[0marrays\u001b[0m\u001b[0;34m.\u001b[0m\u001b[0mappend\u001b[0m\u001b[0;34m(\u001b[0m\u001b[0mconvert_column\u001b[0m\u001b[0;34m(\u001b[0m\u001b[0mc\u001b[0m\u001b[0;34m,\u001b[0m \u001b[0mf\u001b[0m\u001b[0;34m)\u001b[0m\u001b[0;34m)\u001b[0m\u001b[0;34m\u001b[0m\u001b[0;34m\u001b[0m\u001b[0m\n\u001b[0m\u001b[1;32m    597\u001b[0m                 \u001b[0;32melse\u001b[0m\u001b[0;34m:\u001b[0m\u001b[0;34m\u001b[0m\u001b[0;34m\u001b[0m\u001b[0m\n\u001b[1;32m    598\u001b[0m                     \u001b[0marrays\u001b[0m\u001b[0;34m.\u001b[0m\u001b[0mappend\u001b[0m\u001b[0;34m(\u001b[0m\u001b[0mexecutor\u001b[0m\u001b[0;34m.\u001b[0m\u001b[0msubmit\u001b[0m\u001b[0;34m(\u001b[0m\u001b[0mconvert_column\u001b[0m\u001b[0;34m,\u001b[0m \u001b[0mc\u001b[0m\u001b[0;34m,\u001b[0m \u001b[0mf\u001b[0m\u001b[0;34m)\u001b[0m\u001b[0;34m)\u001b[0m\u001b[0;34m\u001b[0m\u001b[0;34m\u001b[0m\u001b[0m\n",
      "\u001b[0;32m/usr/local/anaconda3/envs/astronet/lib/python3.7/site-packages/pyarrow/pandas_compat.py\u001b[0m in \u001b[0;36mconvert_column\u001b[0;34m(col, field)\u001b[0m\n\u001b[1;32m    572\u001b[0m             e.args += (\"Conversion failed for column {!s} with type {!s}\"\n\u001b[1;32m    573\u001b[0m                        .format(col.name, col.dtype),)\n\u001b[0;32m--> 574\u001b[0;31m             \u001b[0;32mraise\u001b[0m \u001b[0me\u001b[0m\u001b[0;34m\u001b[0m\u001b[0;34m\u001b[0m\u001b[0m\n\u001b[0m\u001b[1;32m    575\u001b[0m         \u001b[0;32mif\u001b[0m \u001b[0;32mnot\u001b[0m \u001b[0mfield_nullable\u001b[0m \u001b[0;32mand\u001b[0m \u001b[0mresult\u001b[0m\u001b[0;34m.\u001b[0m\u001b[0mnull_count\u001b[0m \u001b[0;34m>\u001b[0m \u001b[0;36m0\u001b[0m\u001b[0;34m:\u001b[0m\u001b[0;34m\u001b[0m\u001b[0;34m\u001b[0m\u001b[0m\n\u001b[1;32m    576\u001b[0m             raise ValueError(\"Field {} was non-nullable but pandas column \"\n",
      "\u001b[0;32m/usr/local/anaconda3/envs/astronet/lib/python3.7/site-packages/pyarrow/pandas_compat.py\u001b[0m in \u001b[0;36mconvert_column\u001b[0;34m(col, field)\u001b[0m\n\u001b[1;32m    566\u001b[0m \u001b[0;34m\u001b[0m\u001b[0m\n\u001b[1;32m    567\u001b[0m         \u001b[0;32mtry\u001b[0m\u001b[0;34m:\u001b[0m\u001b[0;34m\u001b[0m\u001b[0;34m\u001b[0m\u001b[0m\n\u001b[0;32m--> 568\u001b[0;31m             \u001b[0mresult\u001b[0m \u001b[0;34m=\u001b[0m \u001b[0mpa\u001b[0m\u001b[0;34m.\u001b[0m\u001b[0marray\u001b[0m\u001b[0;34m(\u001b[0m\u001b[0mcol\u001b[0m\u001b[0;34m,\u001b[0m \u001b[0mtype\u001b[0m\u001b[0;34m=\u001b[0m\u001b[0mtype_\u001b[0m\u001b[0;34m,\u001b[0m \u001b[0mfrom_pandas\u001b[0m\u001b[0;34m=\u001b[0m\u001b[0;32mTrue\u001b[0m\u001b[0;34m,\u001b[0m \u001b[0msafe\u001b[0m\u001b[0;34m=\u001b[0m\u001b[0msafe\u001b[0m\u001b[0;34m)\u001b[0m\u001b[0;34m\u001b[0m\u001b[0;34m\u001b[0m\u001b[0m\n\u001b[0m\u001b[1;32m    569\u001b[0m         except (pa.ArrowInvalid,\n\u001b[1;32m    570\u001b[0m                 \u001b[0mpa\u001b[0m\u001b[0;34m.\u001b[0m\u001b[0mArrowNotImplementedError\u001b[0m\u001b[0;34m,\u001b[0m\u001b[0;34m\u001b[0m\u001b[0;34m\u001b[0m\u001b[0m\n",
      "\u001b[0;32m/usr/local/anaconda3/envs/astronet/lib/python3.7/site-packages/pyarrow/array.pxi\u001b[0m in \u001b[0;36mpyarrow.lib.array\u001b[0;34m()\u001b[0m\n",
      "\u001b[0;32m/usr/local/anaconda3/envs/astronet/lib/python3.7/site-packages/pyarrow/array.pxi\u001b[0m in \u001b[0;36mpyarrow.lib._ndarray_to_array\u001b[0;34m()\u001b[0m\n",
      "\u001b[0;32m/usr/local/anaconda3/envs/astronet/lib/python3.7/site-packages/pyarrow/array.pxi\u001b[0m in \u001b[0;36mpyarrow.lib._ndarray_to_type\u001b[0;34m()\u001b[0m\n",
      "\u001b[0;32m/usr/local/anaconda3/envs/astronet/lib/python3.7/site-packages/pyarrow/error.pxi\u001b[0m in \u001b[0;36mpyarrow.lib.check_status\u001b[0;34m()\u001b[0m\n",
      "\u001b[0;31mArrowTypeError\u001b[0m: ('Did not pass numpy.dtype object', 'Conversion failed for column None with type int64')"
     ]
    }
   ],
   "source": [
    "dfn.to_parquet(\n",
    "    f\"{asnwd}/data/plasticc/augmented_training_set.parquet\",\n",
    "    engine=\"pyarrow\",\n",
    "    compression=\"snappy\",\n",
    ")"
   ]
  },
  {
   "cell_type": "code",
   "execution_count": 85,
   "metadata": {},
   "outputs": [
    {
     "name": "stdout",
     "output_type": "stream",
     "text": [
      "/usr/local/anaconda3/envs/astronet/bin/python\r\n"
     ]
    }
   ],
   "source": [
    "!which python"
   ]
  },
  {
   "cell_type": "code",
   "execution_count": 84,
   "metadata": {},
   "outputs": [
    {
     "ename": "NameError",
     "evalue": "name 'astronet' is not defined",
     "output_type": "error",
     "traceback": [
      "\u001b[0;31m---------------------------------------------------------------------------\u001b[0m",
      "\u001b[0;31mNameError\u001b[0m                                 Traceback (most recent call last)",
      "\u001b[0;32m<ipython-input-84-052a04863b47>\u001b[0m in \u001b[0;36m<module>\u001b[0;34m\u001b[0m\n\u001b[0;32m----> 1\u001b[0;31m \u001b[0mdata\u001b[0m \u001b[0;34m=\u001b[0m \u001b[0mastronet\u001b[0m\u001b[0;34m.\u001b[0m\u001b[0mutils\u001b[0m\u001b[0;34m.\u001b[0m\u001b[0m__load_plasticc_dataset_from_csv\u001b[0m\u001b[0;34m(\u001b[0m\u001b[0mtimesteps\u001b[0m\u001b[0;34m)\u001b[0m\u001b[0;34m\u001b[0m\u001b[0;34m\u001b[0m\u001b[0m\n\u001b[0m",
      "\u001b[0;31mNameError\u001b[0m: name 'astronet' is not defined"
     ]
    }
   ],
   "source": [
    " = astronet.utils.__load_plasticc_dataset_from_csv(timesteps)\n"
   ]
  },
  {
   "cell_type": "code",
   "execution_count": 92,
   "metadata": {},
   "outputs": [],
   "source": [
    "df = adf.replace({b'_aug': 000}, regex=True)"
   ]
  },
  {
   "cell_type": "code",
   "execution_count": 93,
   "metadata": {},
   "outputs": [
    {
     "data": {
      "text/plain": [
       "object_id            string\n",
       "mjd                 float64\n",
       "filter               string\n",
       "flux                float64\n",
       "flux_error          float64\n",
       "detected               bool\n",
       "ref_mjd             float64\n",
       "wavelength_z_ori    float64\n",
       "dtype: object"
      ]
     },
     "execution_count": 93,
     "metadata": {},
     "output_type": "execute_result"
    }
   ],
   "source": [
    "df.dtypes"
   ]
  },
  {
   "cell_type": "code",
   "execution_count": 94,
   "metadata": {},
   "outputs": [
    {
     "data": {
      "text/html": [
       "<div>\n",
       "<style scoped>\n",
       "    .dataframe tbody tr th:only-of-type {\n",
       "        vertical-align: middle;\n",
       "    }\n",
       "\n",
       "    .dataframe tbody tr th {\n",
       "        vertical-align: top;\n",
       "    }\n",
       "\n",
       "    .dataframe thead th {\n",
       "        text-align: right;\n",
       "    }\n",
       "</style>\n",
       "<table border=\"1\" class=\"dataframe\">\n",
       "  <thead>\n",
       "    <tr style=\"text-align: right;\">\n",
       "      <th></th>\n",
       "      <th>object_id</th>\n",
       "      <th>mjd</th>\n",
       "      <th>filter</th>\n",
       "      <th>flux</th>\n",
       "      <th>flux_error</th>\n",
       "      <th>detected</th>\n",
       "      <th>ref_mjd</th>\n",
       "      <th>wavelength_z_ori</th>\n",
       "    </tr>\n",
       "  </thead>\n",
       "  <tbody>\n",
       "    <tr>\n",
       "      <th>0</th>\n",
       "      <td>b'730_aug1'</td>\n",
       "      <td>0.000000</td>\n",
       "      <td>b'lsstr'</td>\n",
       "      <td>2.214540</td>\n",
       "      <td>9.068649</td>\n",
       "      <td>False</td>\n",
       "      <td>2.9783</td>\n",
       "      <td>4497.971665</td>\n",
       "    </tr>\n",
       "    <tr>\n",
       "      <th>1</th>\n",
       "      <td>b'730_aug1'</td>\n",
       "      <td>0.021472</td>\n",
       "      <td>b'lssti'</td>\n",
       "      <td>-0.810153</td>\n",
       "      <td>2.423347</td>\n",
       "      <td>False</td>\n",
       "      <td>2.9938</td>\n",
       "      <td>5444.343170</td>\n",
       "    </tr>\n",
       "    <tr>\n",
       "      <th>2</th>\n",
       "      <td>b'730_aug1'</td>\n",
       "      <td>4.159198</td>\n",
       "      <td>b'lsstr'</td>\n",
       "      <td>-1.158885</td>\n",
       "      <td>6.427958</td>\n",
       "      <td>False</td>\n",
       "      <td>5.9807</td>\n",
       "      <td>4497.971665</td>\n",
       "    </tr>\n",
       "    <tr>\n",
       "      <th>3</th>\n",
       "      <td>b'730_aug1'</td>\n",
       "      <td>4.169865</td>\n",
       "      <td>b'lsstg'</td>\n",
       "      <td>-1.016922</td>\n",
       "      <td>3.548607</td>\n",
       "      <td>False</td>\n",
       "      <td>5.9884</td>\n",
       "      <td>3466.419505</td>\n",
       "    </tr>\n",
       "    <tr>\n",
       "      <th>4</th>\n",
       "      <td>b'730_aug1'</td>\n",
       "      <td>4.210869</td>\n",
       "      <td>b'lssty'</td>\n",
       "      <td>-33.432321</td>\n",
       "      <td>26.185497</td>\n",
       "      <td>False</td>\n",
       "      <td>6.0180</td>\n",
       "      <td>7028.125843</td>\n",
       "    </tr>\n",
       "    <tr>\n",
       "      <th>...</th>\n",
       "      <td>...</td>\n",
       "      <td>...</td>\n",
       "      <td>...</td>\n",
       "      <td>...</td>\n",
       "      <td>...</td>\n",
       "      <td>...</td>\n",
       "      <td>...</td>\n",
       "      <td>...</td>\n",
       "    </tr>\n",
       "    <tr>\n",
       "      <th>33</th>\n",
       "      <td>b'130639669_aug80'</td>\n",
       "      <td>166.119219</td>\n",
       "      <td>b'lsstz'</td>\n",
       "      <td>-5.135075</td>\n",
       "      <td>10.578986</td>\n",
       "      <td>False</td>\n",
       "      <td>163.7696</td>\n",
       "      <td>8150.062474</td>\n",
       "    </tr>\n",
       "    <tr>\n",
       "      <th>34</th>\n",
       "      <td>b'130639669_aug80'</td>\n",
       "      <td>169.281715</td>\n",
       "      <td>b'lssti'</td>\n",
       "      <td>6.081904</td>\n",
       "      <td>3.967157</td>\n",
       "      <td>False</td>\n",
       "      <td>166.7356</td>\n",
       "      <td>7073.391390</td>\n",
       "    </tr>\n",
       "    <tr>\n",
       "      <th>35</th>\n",
       "      <td>b'130639669_aug80'</td>\n",
       "      <td>170.309686</td>\n",
       "      <td>b'lsstr'</td>\n",
       "      <td>3.485542</td>\n",
       "      <td>4.661229</td>\n",
       "      <td>False</td>\n",
       "      <td>167.6997</td>\n",
       "      <td>5843.848018</td>\n",
       "    </tr>\n",
       "    <tr>\n",
       "      <th>36</th>\n",
       "      <td>b'130639669_aug80'</td>\n",
       "      <td>102.196496</td>\n",
       "      <td>b'lsstg'</td>\n",
       "      <td>-5.180097</td>\n",
       "      <td>4.253858</td>\n",
       "      <td>False</td>\n",
       "      <td>103.8186</td>\n",
       "      <td>4503.636363</td>\n",
       "    </tr>\n",
       "    <tr>\n",
       "      <th>37</th>\n",
       "      <td>b'130639669_aug80'</td>\n",
       "      <td>136.415427</td>\n",
       "      <td>b'lssty'</td>\n",
       "      <td>63.180706</td>\n",
       "      <td>20.666826</td>\n",
       "      <td>False</td>\n",
       "      <td>135.9114</td>\n",
       "      <td>9131.071144</td>\n",
       "    </tr>\n",
       "  </tbody>\n",
       "</table>\n",
       "<p>1780803 rows × 8 columns</p>\n",
       "</div>"
      ],
      "text/plain": [
       "             object_id         mjd    filter       flux  flux_error  detected  \\\n",
       "0          b'730_aug1'    0.000000  b'lsstr'   2.214540    9.068649     False   \n",
       "1          b'730_aug1'    0.021472  b'lssti'  -0.810153    2.423347     False   \n",
       "2          b'730_aug1'    4.159198  b'lsstr'  -1.158885    6.427958     False   \n",
       "3          b'730_aug1'    4.169865  b'lsstg'  -1.016922    3.548607     False   \n",
       "4          b'730_aug1'    4.210869  b'lssty' -33.432321   26.185497     False   \n",
       "..                 ...         ...       ...        ...         ...       ...   \n",
       "33  b'130639669_aug80'  166.119219  b'lsstz'  -5.135075   10.578986     False   \n",
       "34  b'130639669_aug80'  169.281715  b'lssti'   6.081904    3.967157     False   \n",
       "35  b'130639669_aug80'  170.309686  b'lsstr'   3.485542    4.661229     False   \n",
       "36  b'130639669_aug80'  102.196496  b'lsstg'  -5.180097    4.253858     False   \n",
       "37  b'130639669_aug80'  136.415427  b'lssty'  63.180706   20.666826     False   \n",
       "\n",
       "     ref_mjd  wavelength_z_ori  \n",
       "0     2.9783       4497.971665  \n",
       "1     2.9938       5444.343170  \n",
       "2     5.9807       4497.971665  \n",
       "3     5.9884       3466.419505  \n",
       "4     6.0180       7028.125843  \n",
       "..       ...               ...  \n",
       "33  163.7696       8150.062474  \n",
       "34  166.7356       7073.391390  \n",
       "35  167.6997       5843.848018  \n",
       "36  103.8186       4503.636363  \n",
       "37  135.9114       9131.071144  \n",
       "\n",
       "[1780803 rows x 8 columns]"
      ]
     },
     "execution_count": 94,
     "metadata": {},
     "output_type": "execute_result"
    }
   ],
   "source": [
    "df"
   ]
  },
  {
   "cell_type": "code",
   "execution_count": 112,
   "metadata": {},
   "outputs": [],
   "source": [
    "df = pd.read_csv(\n",
    "    f\"{asnwd}/data/plasticc/augmented_training_set.csv\",\n",
    ")"
   ]
  },
  {
   "cell_type": "code",
   "execution_count": 113,
   "metadata": {},
   "outputs": [
    {
     "data": {
      "text/html": [
       "<div>\n",
       "<style scoped>\n",
       "    .dataframe tbody tr th:only-of-type {\n",
       "        vertical-align: middle;\n",
       "    }\n",
       "\n",
       "    .dataframe tbody tr th {\n",
       "        vertical-align: top;\n",
       "    }\n",
       "\n",
       "    .dataframe thead th {\n",
       "        text-align: right;\n",
       "    }\n",
       "</style>\n",
       "<table border=\"1\" class=\"dataframe\">\n",
       "  <thead>\n",
       "    <tr style=\"text-align: right;\">\n",
       "      <th></th>\n",
       "      <th>Unnamed: 0</th>\n",
       "      <th>object_id</th>\n",
       "      <th>mjd</th>\n",
       "      <th>filter</th>\n",
       "      <th>flux</th>\n",
       "      <th>flux_error</th>\n",
       "      <th>detected</th>\n",
       "      <th>ref_mjd</th>\n",
       "      <th>wavelength_z_ori</th>\n",
       "    </tr>\n",
       "  </thead>\n",
       "  <tbody>\n",
       "    <tr>\n",
       "      <th>0</th>\n",
       "      <td>0</td>\n",
       "      <td>730_aug1</td>\n",
       "      <td>0.000000</td>\n",
       "      <td>lsstr</td>\n",
       "      <td>2.214540</td>\n",
       "      <td>9.068649</td>\n",
       "      <td>False</td>\n",
       "      <td>2.9783</td>\n",
       "      <td>4497.971665</td>\n",
       "    </tr>\n",
       "    <tr>\n",
       "      <th>1</th>\n",
       "      <td>1</td>\n",
       "      <td>730_aug1</td>\n",
       "      <td>0.021472</td>\n",
       "      <td>lssti</td>\n",
       "      <td>-0.810153</td>\n",
       "      <td>2.423347</td>\n",
       "      <td>False</td>\n",
       "      <td>2.9938</td>\n",
       "      <td>5444.343170</td>\n",
       "    </tr>\n",
       "    <tr>\n",
       "      <th>2</th>\n",
       "      <td>2</td>\n",
       "      <td>730_aug1</td>\n",
       "      <td>4.159198</td>\n",
       "      <td>lsstr</td>\n",
       "      <td>-1.158885</td>\n",
       "      <td>6.427958</td>\n",
       "      <td>False</td>\n",
       "      <td>5.9807</td>\n",
       "      <td>4497.971665</td>\n",
       "    </tr>\n",
       "    <tr>\n",
       "      <th>3</th>\n",
       "      <td>3</td>\n",
       "      <td>730_aug1</td>\n",
       "      <td>4.169865</td>\n",
       "      <td>lsstg</td>\n",
       "      <td>-1.016922</td>\n",
       "      <td>3.548607</td>\n",
       "      <td>False</td>\n",
       "      <td>5.9884</td>\n",
       "      <td>3466.419505</td>\n",
       "    </tr>\n",
       "    <tr>\n",
       "      <th>4</th>\n",
       "      <td>4</td>\n",
       "      <td>730_aug1</td>\n",
       "      <td>4.210869</td>\n",
       "      <td>lssty</td>\n",
       "      <td>-33.432321</td>\n",
       "      <td>26.185497</td>\n",
       "      <td>False</td>\n",
       "      <td>6.0180</td>\n",
       "      <td>7028.125843</td>\n",
       "    </tr>\n",
       "    <tr>\n",
       "      <th>...</th>\n",
       "      <td>...</td>\n",
       "      <td>...</td>\n",
       "      <td>...</td>\n",
       "      <td>...</td>\n",
       "      <td>...</td>\n",
       "      <td>...</td>\n",
       "      <td>...</td>\n",
       "      <td>...</td>\n",
       "      <td>...</td>\n",
       "    </tr>\n",
       "    <tr>\n",
       "      <th>1780798</th>\n",
       "      <td>1780798</td>\n",
       "      <td>130639669_aug80</td>\n",
       "      <td>166.119219</td>\n",
       "      <td>lsstz</td>\n",
       "      <td>-5.135075</td>\n",
       "      <td>10.578986</td>\n",
       "      <td>False</td>\n",
       "      <td>163.7696</td>\n",
       "      <td>8150.062474</td>\n",
       "    </tr>\n",
       "    <tr>\n",
       "      <th>1780799</th>\n",
       "      <td>1780799</td>\n",
       "      <td>130639669_aug80</td>\n",
       "      <td>169.281715</td>\n",
       "      <td>lssti</td>\n",
       "      <td>6.081904</td>\n",
       "      <td>3.967157</td>\n",
       "      <td>False</td>\n",
       "      <td>166.7356</td>\n",
       "      <td>7073.391390</td>\n",
       "    </tr>\n",
       "    <tr>\n",
       "      <th>1780800</th>\n",
       "      <td>1780800</td>\n",
       "      <td>130639669_aug80</td>\n",
       "      <td>170.309686</td>\n",
       "      <td>lsstr</td>\n",
       "      <td>3.485542</td>\n",
       "      <td>4.661229</td>\n",
       "      <td>False</td>\n",
       "      <td>167.6997</td>\n",
       "      <td>5843.848018</td>\n",
       "    </tr>\n",
       "    <tr>\n",
       "      <th>1780801</th>\n",
       "      <td>1780801</td>\n",
       "      <td>130639669_aug80</td>\n",
       "      <td>102.196496</td>\n",
       "      <td>lsstg</td>\n",
       "      <td>-5.180097</td>\n",
       "      <td>4.253858</td>\n",
       "      <td>False</td>\n",
       "      <td>103.8186</td>\n",
       "      <td>4503.636363</td>\n",
       "    </tr>\n",
       "    <tr>\n",
       "      <th>1780802</th>\n",
       "      <td>1780802</td>\n",
       "      <td>130639669_aug80</td>\n",
       "      <td>136.415427</td>\n",
       "      <td>lssty</td>\n",
       "      <td>63.180706</td>\n",
       "      <td>20.666826</td>\n",
       "      <td>False</td>\n",
       "      <td>135.9114</td>\n",
       "      <td>9131.071144</td>\n",
       "    </tr>\n",
       "  </tbody>\n",
       "</table>\n",
       "<p>1780803 rows × 9 columns</p>\n",
       "</div>"
      ],
      "text/plain": [
       "         Unnamed: 0        object_id         mjd filter       flux  \\\n",
       "0                 0         730_aug1    0.000000  lsstr   2.214540   \n",
       "1                 1         730_aug1    0.021472  lssti  -0.810153   \n",
       "2                 2         730_aug1    4.159198  lsstr  -1.158885   \n",
       "3                 3         730_aug1    4.169865  lsstg  -1.016922   \n",
       "4                 4         730_aug1    4.210869  lssty -33.432321   \n",
       "...             ...              ...         ...    ...        ...   \n",
       "1780798     1780798  130639669_aug80  166.119219  lsstz  -5.135075   \n",
       "1780799     1780799  130639669_aug80  169.281715  lssti   6.081904   \n",
       "1780800     1780800  130639669_aug80  170.309686  lsstr   3.485542   \n",
       "1780801     1780801  130639669_aug80  102.196496  lsstg  -5.180097   \n",
       "1780802     1780802  130639669_aug80  136.415427  lssty  63.180706   \n",
       "\n",
       "         flux_error  detected   ref_mjd  wavelength_z_ori  \n",
       "0          9.068649     False    2.9783       4497.971665  \n",
       "1          2.423347     False    2.9938       5444.343170  \n",
       "2          6.427958     False    5.9807       4497.971665  \n",
       "3          3.548607     False    5.9884       3466.419505  \n",
       "4         26.185497     False    6.0180       7028.125843  \n",
       "...             ...       ...       ...               ...  \n",
       "1780798   10.578986     False  163.7696       8150.062474  \n",
       "1780799    3.967157     False  166.7356       7073.391390  \n",
       "1780800    4.661229     False  167.6997       5843.848018  \n",
       "1780801    4.253858     False  103.8186       4503.636363  \n",
       "1780802   20.666826     False  135.9114       9131.071144  \n",
       "\n",
       "[1780803 rows x 9 columns]"
      ]
     },
     "execution_count": 113,
     "metadata": {},
     "output_type": "execute_result"
    }
   ],
   "source": [
    "df"
   ]
  },
  {
   "cell_type": "code",
   "execution_count": 114,
   "metadata": {},
   "outputs": [],
   "source": [
    "df = df.replace({'_aug': '000'}, regex=True)"
   ]
  },
  {
   "cell_type": "code",
   "execution_count": 115,
   "metadata": {},
   "outputs": [],
   "source": [
    "df = df.convert_dtypes()"
   ]
  },
  {
   "cell_type": "code",
   "execution_count": 119,
   "metadata": {},
   "outputs": [
    {
     "data": {
      "text/html": [
       "<div>\n",
       "<style scoped>\n",
       "    .dataframe tbody tr th:only-of-type {\n",
       "        vertical-align: middle;\n",
       "    }\n",
       "\n",
       "    .dataframe tbody tr th {\n",
       "        vertical-align: top;\n",
       "    }\n",
       "\n",
       "    .dataframe thead th {\n",
       "        text-align: right;\n",
       "    }\n",
       "</style>\n",
       "<table border=\"1\" class=\"dataframe\">\n",
       "  <thead>\n",
       "    <tr style=\"text-align: right;\">\n",
       "      <th></th>\n",
       "      <th>ra</th>\n",
       "      <th>decl</th>\n",
       "      <th>ddf</th>\n",
       "      <th>hostgal_specz</th>\n",
       "      <th>hostgal_photoz</th>\n",
       "      <th>hostgal_photoz_err</th>\n",
       "      <th>distmod</th>\n",
       "      <th>mwebv</th>\n",
       "      <th>target</th>\n",
       "      <th>true_target</th>\n",
       "      <th>true_submodel</th>\n",
       "      <th>object_id</th>\n",
       "      <th>augmented</th>\n",
       "      <th>original_event</th>\n",
       "    </tr>\n",
       "  </thead>\n",
       "  <tbody>\n",
       "    <tr>\n",
       "      <th>730_aug1</th>\n",
       "      <td>33.5742</td>\n",
       "      <td>-6.5796</td>\n",
       "      <td>False</td>\n",
       "      <td>0.706679</td>\n",
       "      <td>0.712679</td>\n",
       "      <td>0.012493</td>\n",
       "      <td>40.256</td>\n",
       "      <td>0.021</td>\n",
       "      <td>42</td>\n",
       "      <td>42</td>\n",
       "      <td>2</td>\n",
       "      <td>7300001</td>\n",
       "      <td>True</td>\n",
       "      <td>730</td>\n",
       "    </tr>\n",
       "    <tr>\n",
       "      <th>730_aug18</th>\n",
       "      <td>33.5742</td>\n",
       "      <td>-6.5796</td>\n",
       "      <td>False</td>\n",
       "      <td>0.300172</td>\n",
       "      <td>0.285172</td>\n",
       "      <td>0.016480</td>\n",
       "      <td>40.256</td>\n",
       "      <td>0.021</td>\n",
       "      <td>42</td>\n",
       "      <td>42</td>\n",
       "      <td>2</td>\n",
       "      <td>73000018</td>\n",
       "      <td>True</td>\n",
       "      <td>730</td>\n",
       "    </tr>\n",
       "    <tr>\n",
       "      <th>730_aug24</th>\n",
       "      <td>33.5742</td>\n",
       "      <td>-6.5796</td>\n",
       "      <td>False</td>\n",
       "      <td>0.148389</td>\n",
       "      <td>0.146389</td>\n",
       "      <td>0.022369</td>\n",
       "      <td>40.256</td>\n",
       "      <td>0.021</td>\n",
       "      <td>42</td>\n",
       "      <td>42</td>\n",
       "      <td>2</td>\n",
       "      <td>73000024</td>\n",
       "      <td>True</td>\n",
       "      <td>730</td>\n",
       "    </tr>\n",
       "    <tr>\n",
       "      <th>1632_aug12</th>\n",
       "      <td>348.5959</td>\n",
       "      <td>-63.0726</td>\n",
       "      <td>False</td>\n",
       "      <td>1.304955</td>\n",
       "      <td>1.398955</td>\n",
       "      <td>0.038162</td>\n",
       "      <td>43.152</td>\n",
       "      <td>0.021</td>\n",
       "      <td>42</td>\n",
       "      <td>42</td>\n",
       "      <td>3</td>\n",
       "      <td>163200012</td>\n",
       "      <td>True</td>\n",
       "      <td>1632</td>\n",
       "    </tr>\n",
       "    <tr>\n",
       "      <th>2103_aug0</th>\n",
       "      <td>346.5000</td>\n",
       "      <td>-62.3204</td>\n",
       "      <td>False</td>\n",
       "      <td>0.424507</td>\n",
       "      <td>0.329507</td>\n",
       "      <td>0.800993</td>\n",
       "      <td>42.467</td>\n",
       "      <td>0.020</td>\n",
       "      <td>42</td>\n",
       "      <td>42</td>\n",
       "      <td>2</td>\n",
       "      <td>21030000</td>\n",
       "      <td>True</td>\n",
       "      <td>2103</td>\n",
       "    </tr>\n",
       "    <tr>\n",
       "      <th>...</th>\n",
       "      <td>...</td>\n",
       "      <td>...</td>\n",
       "      <td>...</td>\n",
       "      <td>...</td>\n",
       "      <td>...</td>\n",
       "      <td>...</td>\n",
       "      <td>...</td>\n",
       "      <td>...</td>\n",
       "      <td>...</td>\n",
       "      <td>...</td>\n",
       "      <td>...</td>\n",
       "      <td>...</td>\n",
       "      <td>...</td>\n",
       "      <td>...</td>\n",
       "    </tr>\n",
       "    <tr>\n",
       "      <th>130639669_aug73</th>\n",
       "      <td>164.0039</td>\n",
       "      <td>-31.0392</td>\n",
       "      <td>False</td>\n",
       "      <td>0.446786</td>\n",
       "      <td>0.549786</td>\n",
       "      <td>0.439827</td>\n",
       "      <td>40.825</td>\n",
       "      <td>0.070</td>\n",
       "      <td>62</td>\n",
       "      <td>62</td>\n",
       "      <td>2</td>\n",
       "      <td>13063966900073</td>\n",
       "      <td>True</td>\n",
       "      <td>130639669</td>\n",
       "    </tr>\n",
       "    <tr>\n",
       "      <th>130639669_aug75</th>\n",
       "      <td>164.0039</td>\n",
       "      <td>-31.0392</td>\n",
       "      <td>False</td>\n",
       "      <td>0.251452</td>\n",
       "      <td>0.236452</td>\n",
       "      <td>0.009319</td>\n",
       "      <td>40.825</td>\n",
       "      <td>0.070</td>\n",
       "      <td>62</td>\n",
       "      <td>62</td>\n",
       "      <td>2</td>\n",
       "      <td>13063966900075</td>\n",
       "      <td>True</td>\n",
       "      <td>130639669</td>\n",
       "    </tr>\n",
       "    <tr>\n",
       "      <th>130639669_aug76</th>\n",
       "      <td>164.0039</td>\n",
       "      <td>-31.0392</td>\n",
       "      <td>False</td>\n",
       "      <td>0.176224</td>\n",
       "      <td>0.167224</td>\n",
       "      <td>0.049835</td>\n",
       "      <td>40.825</td>\n",
       "      <td>0.070</td>\n",
       "      <td>62</td>\n",
       "      <td>62</td>\n",
       "      <td>2</td>\n",
       "      <td>13063966900076</td>\n",
       "      <td>True</td>\n",
       "      <td>130639669</td>\n",
       "    </tr>\n",
       "    <tr>\n",
       "      <th>130639669_aug78</th>\n",
       "      <td>164.0039</td>\n",
       "      <td>-31.0392</td>\n",
       "      <td>False</td>\n",
       "      <td>0.347200</td>\n",
       "      <td>0.354200</td>\n",
       "      <td>0.262582</td>\n",
       "      <td>40.825</td>\n",
       "      <td>0.070</td>\n",
       "      <td>62</td>\n",
       "      <td>62</td>\n",
       "      <td>2</td>\n",
       "      <td>13063966900078</td>\n",
       "      <td>True</td>\n",
       "      <td>130639669</td>\n",
       "    </tr>\n",
       "    <tr>\n",
       "      <th>130639669_aug80</th>\n",
       "      <td>164.0039</td>\n",
       "      <td>-31.0392</td>\n",
       "      <td>False</td>\n",
       "      <td>0.360534</td>\n",
       "      <td>0.333534</td>\n",
       "      <td>0.019228</td>\n",
       "      <td>40.825</td>\n",
       "      <td>0.070</td>\n",
       "      <td>62</td>\n",
       "      <td>62</td>\n",
       "      <td>2</td>\n",
       "      <td>13063966900080</td>\n",
       "      <td>True</td>\n",
       "      <td>130639669</td>\n",
       "    </tr>\n",
       "  </tbody>\n",
       "</table>\n",
       "<p>35520 rows × 14 columns</p>\n",
       "</div>"
      ],
      "text/plain": [
       "                       ra     decl    ddf  hostgal_specz  hostgal_photoz  \\\n",
       "730_aug1          33.5742  -6.5796  False       0.706679        0.712679   \n",
       "730_aug18         33.5742  -6.5796  False       0.300172        0.285172   \n",
       "730_aug24         33.5742  -6.5796  False       0.148389        0.146389   \n",
       "1632_aug12       348.5959 -63.0726  False       1.304955        1.398955   \n",
       "2103_aug0        346.5000 -62.3204  False       0.424507        0.329507   \n",
       "...                   ...      ...    ...            ...             ...   \n",
       "130639669_aug73  164.0039 -31.0392  False       0.446786        0.549786   \n",
       "130639669_aug75  164.0039 -31.0392  False       0.251452        0.236452   \n",
       "130639669_aug76  164.0039 -31.0392  False       0.176224        0.167224   \n",
       "130639669_aug78  164.0039 -31.0392  False       0.347200        0.354200   \n",
       "130639669_aug80  164.0039 -31.0392  False       0.360534        0.333534   \n",
       "\n",
       "                 hostgal_photoz_err  distmod  mwebv  target  true_target  \\\n",
       "730_aug1                   0.012493   40.256  0.021      42           42   \n",
       "730_aug18                  0.016480   40.256  0.021      42           42   \n",
       "730_aug24                  0.022369   40.256  0.021      42           42   \n",
       "1632_aug12                 0.038162   43.152  0.021      42           42   \n",
       "2103_aug0                  0.800993   42.467  0.020      42           42   \n",
       "...                             ...      ...    ...     ...          ...   \n",
       "130639669_aug73            0.439827   40.825  0.070      62           62   \n",
       "130639669_aug75            0.009319   40.825  0.070      62           62   \n",
       "130639669_aug76            0.049835   40.825  0.070      62           62   \n",
       "130639669_aug78            0.262582   40.825  0.070      62           62   \n",
       "130639669_aug80            0.019228   40.825  0.070      62           62   \n",
       "\n",
       "                 true_submodel       object_id  augmented original_event  \n",
       "730_aug1                     2         7300001       True            730  \n",
       "730_aug18                    2        73000018       True            730  \n",
       "730_aug24                    2        73000024       True            730  \n",
       "1632_aug12                   3       163200012       True           1632  \n",
       "2103_aug0                    2        21030000       True           2103  \n",
       "...                        ...             ...        ...            ...  \n",
       "130639669_aug73              2  13063966900073       True      130639669  \n",
       "130639669_aug75              2  13063966900075       True      130639669  \n",
       "130639669_aug76              2  13063966900076       True      130639669  \n",
       "130639669_aug78              2  13063966900078       True      130639669  \n",
       "130639669_aug80              2  13063966900080       True      130639669  \n",
       "\n",
       "[35520 rows x 14 columns]"
      ]
     },
     "execution_count": 119,
     "metadata": {},
     "output_type": "execute_result"
    }
   ],
   "source": [
    "meta = aug.metadata\n",
    "meta = meta.replace({'_aug': '000'}, regex=True)\n",
    "meta = meta.convert_dtypes()\n",
    "meta"
   ]
  },
  {
   "cell_type": "code",
   "execution_count": 121,
   "metadata": {},
   "outputs": [],
   "source": [
    "aug.metadata.to_csv(f\"{asnwd}/data/plasticc/augmented_training_set_metadata.csv\")"
   ]
  },
  {
   "cell_type": "code",
   "execution_count": 123,
   "metadata": {},
   "outputs": [],
   "source": [
    "metadata_pd = pd.read_csv(\n",
    "f\"{asnwd}/data/plasticc/augmented_training_set_metadata.csv\",\n",
    "sep=\",\",\n",
    "index_col=\"object_id\",\n",
    ")\n",
    "\n",
    "metadata_pd = metadata_pd.reset_index()\n",
    "metadata_pd = metadata_pd.replace({'_aug': '000'}, regex=True)\n",
    "metadata_pd = metadata_pd.convert_dtypes()\n",
    "metadata_pd['object_id'] = metadata_pd['object_id'].astype(int)"
   ]
  },
  {
   "cell_type": "code",
   "execution_count": 124,
   "metadata": {},
   "outputs": [
    {
     "data": {
      "text/html": [
       "<div>\n",
       "<style scoped>\n",
       "    .dataframe tbody tr th:only-of-type {\n",
       "        vertical-align: middle;\n",
       "    }\n",
       "\n",
       "    .dataframe tbody tr th {\n",
       "        vertical-align: top;\n",
       "    }\n",
       "\n",
       "    .dataframe thead th {\n",
       "        text-align: right;\n",
       "    }\n",
       "</style>\n",
       "<table border=\"1\" class=\"dataframe\">\n",
       "  <thead>\n",
       "    <tr style=\"text-align: right;\">\n",
       "      <th></th>\n",
       "      <th>object_id</th>\n",
       "      <th>Unnamed: 0</th>\n",
       "      <th>ra</th>\n",
       "      <th>decl</th>\n",
       "      <th>ddf</th>\n",
       "      <th>hostgal_specz</th>\n",
       "      <th>hostgal_photoz</th>\n",
       "      <th>hostgal_photoz_err</th>\n",
       "      <th>distmod</th>\n",
       "      <th>mwebv</th>\n",
       "      <th>target</th>\n",
       "      <th>true_target</th>\n",
       "      <th>true_submodel</th>\n",
       "      <th>augmented</th>\n",
       "      <th>original_event</th>\n",
       "    </tr>\n",
       "  </thead>\n",
       "  <tbody>\n",
       "    <tr>\n",
       "      <th>0</th>\n",
       "      <td>7300001</td>\n",
       "      <td>7300001</td>\n",
       "      <td>33.5742</td>\n",
       "      <td>-6.5796</td>\n",
       "      <td>False</td>\n",
       "      <td>0.706679</td>\n",
       "      <td>0.712679</td>\n",
       "      <td>0.012493</td>\n",
       "      <td>40.256</td>\n",
       "      <td>0.021</td>\n",
       "      <td>42</td>\n",
       "      <td>42</td>\n",
       "      <td>2</td>\n",
       "      <td>True</td>\n",
       "      <td>730</td>\n",
       "    </tr>\n",
       "    <tr>\n",
       "      <th>1</th>\n",
       "      <td>73000018</td>\n",
       "      <td>73000018</td>\n",
       "      <td>33.5742</td>\n",
       "      <td>-6.5796</td>\n",
       "      <td>False</td>\n",
       "      <td>0.300172</td>\n",
       "      <td>0.285172</td>\n",
       "      <td>0.016480</td>\n",
       "      <td>40.256</td>\n",
       "      <td>0.021</td>\n",
       "      <td>42</td>\n",
       "      <td>42</td>\n",
       "      <td>2</td>\n",
       "      <td>True</td>\n",
       "      <td>730</td>\n",
       "    </tr>\n",
       "    <tr>\n",
       "      <th>2</th>\n",
       "      <td>73000024</td>\n",
       "      <td>73000024</td>\n",
       "      <td>33.5742</td>\n",
       "      <td>-6.5796</td>\n",
       "      <td>False</td>\n",
       "      <td>0.148389</td>\n",
       "      <td>0.146389</td>\n",
       "      <td>0.022369</td>\n",
       "      <td>40.256</td>\n",
       "      <td>0.021</td>\n",
       "      <td>42</td>\n",
       "      <td>42</td>\n",
       "      <td>2</td>\n",
       "      <td>True</td>\n",
       "      <td>730</td>\n",
       "    </tr>\n",
       "    <tr>\n",
       "      <th>3</th>\n",
       "      <td>163200012</td>\n",
       "      <td>163200012</td>\n",
       "      <td>348.5959</td>\n",
       "      <td>-63.0726</td>\n",
       "      <td>False</td>\n",
       "      <td>1.304955</td>\n",
       "      <td>1.398955</td>\n",
       "      <td>0.038162</td>\n",
       "      <td>43.152</td>\n",
       "      <td>0.021</td>\n",
       "      <td>42</td>\n",
       "      <td>42</td>\n",
       "      <td>3</td>\n",
       "      <td>True</td>\n",
       "      <td>1632</td>\n",
       "    </tr>\n",
       "    <tr>\n",
       "      <th>4</th>\n",
       "      <td>21030000</td>\n",
       "      <td>21030000</td>\n",
       "      <td>346.5000</td>\n",
       "      <td>-62.3204</td>\n",
       "      <td>False</td>\n",
       "      <td>0.424507</td>\n",
       "      <td>0.329507</td>\n",
       "      <td>0.800993</td>\n",
       "      <td>42.467</td>\n",
       "      <td>0.020</td>\n",
       "      <td>42</td>\n",
       "      <td>42</td>\n",
       "      <td>2</td>\n",
       "      <td>True</td>\n",
       "      <td>2103</td>\n",
       "    </tr>\n",
       "    <tr>\n",
       "      <th>...</th>\n",
       "      <td>...</td>\n",
       "      <td>...</td>\n",
       "      <td>...</td>\n",
       "      <td>...</td>\n",
       "      <td>...</td>\n",
       "      <td>...</td>\n",
       "      <td>...</td>\n",
       "      <td>...</td>\n",
       "      <td>...</td>\n",
       "      <td>...</td>\n",
       "      <td>...</td>\n",
       "      <td>...</td>\n",
       "      <td>...</td>\n",
       "      <td>...</td>\n",
       "      <td>...</td>\n",
       "    </tr>\n",
       "    <tr>\n",
       "      <th>35515</th>\n",
       "      <td>13063966900073</td>\n",
       "      <td>13063966900073</td>\n",
       "      <td>164.0039</td>\n",
       "      <td>-31.0392</td>\n",
       "      <td>False</td>\n",
       "      <td>0.446786</td>\n",
       "      <td>0.549786</td>\n",
       "      <td>0.439827</td>\n",
       "      <td>40.825</td>\n",
       "      <td>0.070</td>\n",
       "      <td>62</td>\n",
       "      <td>62</td>\n",
       "      <td>2</td>\n",
       "      <td>True</td>\n",
       "      <td>130639669</td>\n",
       "    </tr>\n",
       "    <tr>\n",
       "      <th>35516</th>\n",
       "      <td>13063966900075</td>\n",
       "      <td>13063966900075</td>\n",
       "      <td>164.0039</td>\n",
       "      <td>-31.0392</td>\n",
       "      <td>False</td>\n",
       "      <td>0.251452</td>\n",
       "      <td>0.236452</td>\n",
       "      <td>0.009319</td>\n",
       "      <td>40.825</td>\n",
       "      <td>0.070</td>\n",
       "      <td>62</td>\n",
       "      <td>62</td>\n",
       "      <td>2</td>\n",
       "      <td>True</td>\n",
       "      <td>130639669</td>\n",
       "    </tr>\n",
       "    <tr>\n",
       "      <th>35517</th>\n",
       "      <td>13063966900076</td>\n",
       "      <td>13063966900076</td>\n",
       "      <td>164.0039</td>\n",
       "      <td>-31.0392</td>\n",
       "      <td>False</td>\n",
       "      <td>0.176224</td>\n",
       "      <td>0.167224</td>\n",
       "      <td>0.049835</td>\n",
       "      <td>40.825</td>\n",
       "      <td>0.070</td>\n",
       "      <td>62</td>\n",
       "      <td>62</td>\n",
       "      <td>2</td>\n",
       "      <td>True</td>\n",
       "      <td>130639669</td>\n",
       "    </tr>\n",
       "    <tr>\n",
       "      <th>35518</th>\n",
       "      <td>13063966900078</td>\n",
       "      <td>13063966900078</td>\n",
       "      <td>164.0039</td>\n",
       "      <td>-31.0392</td>\n",
       "      <td>False</td>\n",
       "      <td>0.347200</td>\n",
       "      <td>0.354200</td>\n",
       "      <td>0.262582</td>\n",
       "      <td>40.825</td>\n",
       "      <td>0.070</td>\n",
       "      <td>62</td>\n",
       "      <td>62</td>\n",
       "      <td>2</td>\n",
       "      <td>True</td>\n",
       "      <td>130639669</td>\n",
       "    </tr>\n",
       "    <tr>\n",
       "      <th>35519</th>\n",
       "      <td>13063966900080</td>\n",
       "      <td>13063966900080</td>\n",
       "      <td>164.0039</td>\n",
       "      <td>-31.0392</td>\n",
       "      <td>False</td>\n",
       "      <td>0.360534</td>\n",
       "      <td>0.333534</td>\n",
       "      <td>0.019228</td>\n",
       "      <td>40.825</td>\n",
       "      <td>0.070</td>\n",
       "      <td>62</td>\n",
       "      <td>62</td>\n",
       "      <td>2</td>\n",
       "      <td>True</td>\n",
       "      <td>130639669</td>\n",
       "    </tr>\n",
       "  </tbody>\n",
       "</table>\n",
       "<p>35520 rows × 15 columns</p>\n",
       "</div>"
      ],
      "text/plain": [
       "            object_id      Unnamed: 0        ra     decl    ddf  \\\n",
       "0             7300001         7300001   33.5742  -6.5796  False   \n",
       "1            73000018        73000018   33.5742  -6.5796  False   \n",
       "2            73000024        73000024   33.5742  -6.5796  False   \n",
       "3           163200012       163200012  348.5959 -63.0726  False   \n",
       "4            21030000        21030000  346.5000 -62.3204  False   \n",
       "...               ...             ...       ...      ...    ...   \n",
       "35515  13063966900073  13063966900073  164.0039 -31.0392  False   \n",
       "35516  13063966900075  13063966900075  164.0039 -31.0392  False   \n",
       "35517  13063966900076  13063966900076  164.0039 -31.0392  False   \n",
       "35518  13063966900078  13063966900078  164.0039 -31.0392  False   \n",
       "35519  13063966900080  13063966900080  164.0039 -31.0392  False   \n",
       "\n",
       "       hostgal_specz  hostgal_photoz  hostgal_photoz_err  distmod  mwebv  \\\n",
       "0           0.706679        0.712679            0.012493   40.256  0.021   \n",
       "1           0.300172        0.285172            0.016480   40.256  0.021   \n",
       "2           0.148389        0.146389            0.022369   40.256  0.021   \n",
       "3           1.304955        1.398955            0.038162   43.152  0.021   \n",
       "4           0.424507        0.329507            0.800993   42.467  0.020   \n",
       "...              ...             ...                 ...      ...    ...   \n",
       "35515       0.446786        0.549786            0.439827   40.825  0.070   \n",
       "35516       0.251452        0.236452            0.009319   40.825  0.070   \n",
       "35517       0.176224        0.167224            0.049835   40.825  0.070   \n",
       "35518       0.347200        0.354200            0.262582   40.825  0.070   \n",
       "35519       0.360534        0.333534            0.019228   40.825  0.070   \n",
       "\n",
       "       target  true_target  true_submodel  augmented  original_event  \n",
       "0          42           42              2       True             730  \n",
       "1          42           42              2       True             730  \n",
       "2          42           42              2       True             730  \n",
       "3          42           42              3       True            1632  \n",
       "4          42           42              2       True            2103  \n",
       "...       ...          ...            ...        ...             ...  \n",
       "35515      62           62              2       True       130639669  \n",
       "35516      62           62              2       True       130639669  \n",
       "35517      62           62              2       True       130639669  \n",
       "35518      62           62              2       True       130639669  \n",
       "35519      62           62              2       True       130639669  \n",
       "\n",
       "[35520 rows x 15 columns]"
      ]
     },
     "execution_count": 124,
     "metadata": {},
     "output_type": "execute_result"
    }
   ],
   "source": [
    "metadata_pd"
   ]
  },
  {
   "cell_type": "code",
   "execution_count": 125,
   "metadata": {},
   "outputs": [
    {
     "data": {
      "text/plain": [
       "Index(['Unnamed: 0', 'object_id', 'mjd', 'filter', 'flux', 'flux_error',\n",
       "       'detected', 'ref_mjd', 'wavelength_z_ori'],\n",
       "      dtype='object')"
      ]
     },
     "execution_count": 125,
     "metadata": {},
     "output_type": "execute_result"
    }
   ],
   "source": [
    "df.columns"
   ]
  },
  {
   "cell_type": "code",
   "execution_count": 128,
   "metadata": {},
   "outputs": [
    {
     "data": {
      "text/plain": [
       "Index(['Unnamed: 0', 'augmented', 'ddf', 'decl', 'detected', 'distmod',\n",
       "       'filter', 'flux', 'flux_error', 'hostgal_photoz', 'hostgal_photoz_err',\n",
       "       'hostgal_specz', 'mjd', 'mwebv', 'object_id', 'original_event', 'ra',\n",
       "       'ref_mjd', 'target', 'true_submodel', 'true_target',\n",
       "       'wavelength_z_ori'],\n",
       "      dtype='object')"
      ]
     },
     "execution_count": 128,
     "metadata": {},
     "output_type": "execute_result"
    }
   ],
   "source": [
    "meta.columns.union(df.columns)"
   ]
  },
  {
   "cell_type": "code",
   "execution_count": 110,
   "metadata": {},
   "outputs": [
    {
     "data": {
      "text/html": [
       "<div>\n",
       "<style scoped>\n",
       "    .dataframe tbody tr th:only-of-type {\n",
       "        vertical-align: middle;\n",
       "    }\n",
       "\n",
       "    .dataframe tbody tr th {\n",
       "        vertical-align: top;\n",
       "    }\n",
       "\n",
       "    .dataframe thead th {\n",
       "        text-align: right;\n",
       "    }\n",
       "</style>\n",
       "<table border=\"1\" class=\"dataframe\">\n",
       "  <thead>\n",
       "    <tr style=\"text-align: right;\">\n",
       "      <th></th>\n",
       "      <th>Unnamed: 0</th>\n",
       "      <th>mjd</th>\n",
       "      <th>filter</th>\n",
       "      <th>flux</th>\n",
       "      <th>flux_error</th>\n",
       "      <th>detected</th>\n",
       "      <th>ref_mjd</th>\n",
       "      <th>wavelength_z_ori</th>\n",
       "    </tr>\n",
       "    <tr>\n",
       "      <th>object_id</th>\n",
       "      <th></th>\n",
       "      <th></th>\n",
       "      <th></th>\n",
       "      <th></th>\n",
       "      <th></th>\n",
       "      <th></th>\n",
       "      <th></th>\n",
       "      <th></th>\n",
       "    </tr>\n",
       "  </thead>\n",
       "  <tbody>\n",
       "    <tr>\n",
       "      <th>7300001</th>\n",
       "      <td>0</td>\n",
       "      <td>0.000000</td>\n",
       "      <td>lsstr</td>\n",
       "      <td>2.214540</td>\n",
       "      <td>9.068649</td>\n",
       "      <td>False</td>\n",
       "      <td>2.9783</td>\n",
       "      <td>4497.971665</td>\n",
       "    </tr>\n",
       "    <tr>\n",
       "      <th>7300001</th>\n",
       "      <td>1</td>\n",
       "      <td>0.021472</td>\n",
       "      <td>lssti</td>\n",
       "      <td>-0.810153</td>\n",
       "      <td>2.423347</td>\n",
       "      <td>False</td>\n",
       "      <td>2.9938</td>\n",
       "      <td>5444.343170</td>\n",
       "    </tr>\n",
       "    <tr>\n",
       "      <th>7300001</th>\n",
       "      <td>2</td>\n",
       "      <td>4.159198</td>\n",
       "      <td>lsstr</td>\n",
       "      <td>-1.158885</td>\n",
       "      <td>6.427958</td>\n",
       "      <td>False</td>\n",
       "      <td>5.9807</td>\n",
       "      <td>4497.971665</td>\n",
       "    </tr>\n",
       "    <tr>\n",
       "      <th>7300001</th>\n",
       "      <td>3</td>\n",
       "      <td>4.169865</td>\n",
       "      <td>lsstg</td>\n",
       "      <td>-1.016922</td>\n",
       "      <td>3.548607</td>\n",
       "      <td>False</td>\n",
       "      <td>5.9884</td>\n",
       "      <td>3466.419505</td>\n",
       "    </tr>\n",
       "    <tr>\n",
       "      <th>7300001</th>\n",
       "      <td>4</td>\n",
       "      <td>4.210869</td>\n",
       "      <td>lssty</td>\n",
       "      <td>-33.432321</td>\n",
       "      <td>26.185497</td>\n",
       "      <td>False</td>\n",
       "      <td>6.0180</td>\n",
       "      <td>7028.125843</td>\n",
       "    </tr>\n",
       "    <tr>\n",
       "      <th>...</th>\n",
       "      <td>...</td>\n",
       "      <td>...</td>\n",
       "      <td>...</td>\n",
       "      <td>...</td>\n",
       "      <td>...</td>\n",
       "      <td>...</td>\n",
       "      <td>...</td>\n",
       "      <td>...</td>\n",
       "    </tr>\n",
       "    <tr>\n",
       "      <th>13063966900080</th>\n",
       "      <td>1780798</td>\n",
       "      <td>166.119219</td>\n",
       "      <td>lsstz</td>\n",
       "      <td>-5.135075</td>\n",
       "      <td>10.578986</td>\n",
       "      <td>False</td>\n",
       "      <td>163.7696</td>\n",
       "      <td>8150.062474</td>\n",
       "    </tr>\n",
       "    <tr>\n",
       "      <th>13063966900080</th>\n",
       "      <td>1780799</td>\n",
       "      <td>169.281715</td>\n",
       "      <td>lssti</td>\n",
       "      <td>6.081904</td>\n",
       "      <td>3.967157</td>\n",
       "      <td>False</td>\n",
       "      <td>166.7356</td>\n",
       "      <td>7073.391390</td>\n",
       "    </tr>\n",
       "    <tr>\n",
       "      <th>13063966900080</th>\n",
       "      <td>1780800</td>\n",
       "      <td>170.309686</td>\n",
       "      <td>lsstr</td>\n",
       "      <td>3.485542</td>\n",
       "      <td>4.661229</td>\n",
       "      <td>False</td>\n",
       "      <td>167.6997</td>\n",
       "      <td>5843.848018</td>\n",
       "    </tr>\n",
       "    <tr>\n",
       "      <th>13063966900080</th>\n",
       "      <td>1780801</td>\n",
       "      <td>102.196496</td>\n",
       "      <td>lsstg</td>\n",
       "      <td>-5.180097</td>\n",
       "      <td>4.253858</td>\n",
       "      <td>False</td>\n",
       "      <td>103.8186</td>\n",
       "      <td>4503.636363</td>\n",
       "    </tr>\n",
       "    <tr>\n",
       "      <th>13063966900080</th>\n",
       "      <td>1780802</td>\n",
       "      <td>136.415427</td>\n",
       "      <td>lssty</td>\n",
       "      <td>63.180706</td>\n",
       "      <td>20.666826</td>\n",
       "      <td>False</td>\n",
       "      <td>135.9114</td>\n",
       "      <td>9131.071144</td>\n",
       "    </tr>\n",
       "  </tbody>\n",
       "</table>\n",
       "<p>1780803 rows × 8 columns</p>\n",
       "</div>"
      ],
      "text/plain": [
       "                Unnamed: 0         mjd filter       flux  flux_error  \\\n",
       "object_id                                                              \n",
       "7300001                  0    0.000000  lsstr   2.214540    9.068649   \n",
       "7300001                  1    0.021472  lssti  -0.810153    2.423347   \n",
       "7300001                  2    4.159198  lsstr  -1.158885    6.427958   \n",
       "7300001                  3    4.169865  lsstg  -1.016922    3.548607   \n",
       "7300001                  4    4.210869  lssty -33.432321   26.185497   \n",
       "...                    ...         ...    ...        ...         ...   \n",
       "13063966900080     1780798  166.119219  lsstz  -5.135075   10.578986   \n",
       "13063966900080     1780799  169.281715  lssti   6.081904    3.967157   \n",
       "13063966900080     1780800  170.309686  lsstr   3.485542    4.661229   \n",
       "13063966900080     1780801  102.196496  lsstg  -5.180097    4.253858   \n",
       "13063966900080     1780802  136.415427  lssty  63.180706   20.666826   \n",
       "\n",
       "                detected   ref_mjd  wavelength_z_ori  \n",
       "object_id                                             \n",
       "7300001            False    2.9783       4497.971665  \n",
       "7300001            False    2.9938       5444.343170  \n",
       "7300001            False    5.9807       4497.971665  \n",
       "7300001            False    5.9884       3466.419505  \n",
       "7300001            False    6.0180       7028.125843  \n",
       "...                  ...       ...               ...  \n",
       "13063966900080     False  163.7696       8150.062474  \n",
       "13063966900080     False  166.7356       7073.391390  \n",
       "13063966900080     False  167.6997       5843.848018  \n",
       "13063966900080     False  103.8186       4503.636363  \n",
       "13063966900080     False  135.9114       9131.071144  \n",
       "\n",
       "[1780803 rows x 8 columns]"
      ]
     },
     "execution_count": 110,
     "metadata": {},
     "output_type": "execute_result"
    }
   ],
   "source": [
    "dd = df.set_index('object_id')\n",
    "dd"
   ]
  },
  {
   "cell_type": "code",
   "execution_count": 111,
   "metadata": {},
   "outputs": [
    {
     "data": {
      "text/html": [
       "<div>\n",
       "<style scoped>\n",
       "    .dataframe tbody tr th:only-of-type {\n",
       "        vertical-align: middle;\n",
       "    }\n",
       "\n",
       "    .dataframe tbody tr th {\n",
       "        vertical-align: top;\n",
       "    }\n",
       "\n",
       "    .dataframe thead th {\n",
       "        text-align: right;\n",
       "    }\n",
       "</style>\n",
       "<table border=\"1\" class=\"dataframe\">\n",
       "  <thead>\n",
       "    <tr style=\"text-align: right;\">\n",
       "      <th></th>\n",
       "      <th>object_id</th>\n",
       "      <th>Unnamed: 0</th>\n",
       "      <th>mjd</th>\n",
       "      <th>filter</th>\n",
       "      <th>flux</th>\n",
       "      <th>flux_error</th>\n",
       "      <th>detected</th>\n",
       "      <th>ref_mjd</th>\n",
       "      <th>wavelength_z_ori</th>\n",
       "    </tr>\n",
       "  </thead>\n",
       "  <tbody>\n",
       "    <tr>\n",
       "      <th>0</th>\n",
       "      <td>7300001</td>\n",
       "      <td>0</td>\n",
       "      <td>0.000000</td>\n",
       "      <td>lsstr</td>\n",
       "      <td>2.214540</td>\n",
       "      <td>9.068649</td>\n",
       "      <td>False</td>\n",
       "      <td>2.9783</td>\n",
       "      <td>4497.971665</td>\n",
       "    </tr>\n",
       "    <tr>\n",
       "      <th>1</th>\n",
       "      <td>7300001</td>\n",
       "      <td>1</td>\n",
       "      <td>0.021472</td>\n",
       "      <td>lssti</td>\n",
       "      <td>-0.810153</td>\n",
       "      <td>2.423347</td>\n",
       "      <td>False</td>\n",
       "      <td>2.9938</td>\n",
       "      <td>5444.343170</td>\n",
       "    </tr>\n",
       "    <tr>\n",
       "      <th>2</th>\n",
       "      <td>7300001</td>\n",
       "      <td>2</td>\n",
       "      <td>4.159198</td>\n",
       "      <td>lsstr</td>\n",
       "      <td>-1.158885</td>\n",
       "      <td>6.427958</td>\n",
       "      <td>False</td>\n",
       "      <td>5.9807</td>\n",
       "      <td>4497.971665</td>\n",
       "    </tr>\n",
       "    <tr>\n",
       "      <th>3</th>\n",
       "      <td>7300001</td>\n",
       "      <td>3</td>\n",
       "      <td>4.169865</td>\n",
       "      <td>lsstg</td>\n",
       "      <td>-1.016922</td>\n",
       "      <td>3.548607</td>\n",
       "      <td>False</td>\n",
       "      <td>5.9884</td>\n",
       "      <td>3466.419505</td>\n",
       "    </tr>\n",
       "    <tr>\n",
       "      <th>4</th>\n",
       "      <td>7300001</td>\n",
       "      <td>4</td>\n",
       "      <td>4.210869</td>\n",
       "      <td>lssty</td>\n",
       "      <td>-33.432321</td>\n",
       "      <td>26.185497</td>\n",
       "      <td>False</td>\n",
       "      <td>6.0180</td>\n",
       "      <td>7028.125843</td>\n",
       "    </tr>\n",
       "    <tr>\n",
       "      <th>...</th>\n",
       "      <td>...</td>\n",
       "      <td>...</td>\n",
       "      <td>...</td>\n",
       "      <td>...</td>\n",
       "      <td>...</td>\n",
       "      <td>...</td>\n",
       "      <td>...</td>\n",
       "      <td>...</td>\n",
       "      <td>...</td>\n",
       "    </tr>\n",
       "    <tr>\n",
       "      <th>1780798</th>\n",
       "      <td>13063966900080</td>\n",
       "      <td>1780798</td>\n",
       "      <td>166.119219</td>\n",
       "      <td>lsstz</td>\n",
       "      <td>-5.135075</td>\n",
       "      <td>10.578986</td>\n",
       "      <td>False</td>\n",
       "      <td>163.7696</td>\n",
       "      <td>8150.062474</td>\n",
       "    </tr>\n",
       "    <tr>\n",
       "      <th>1780799</th>\n",
       "      <td>13063966900080</td>\n",
       "      <td>1780799</td>\n",
       "      <td>169.281715</td>\n",
       "      <td>lssti</td>\n",
       "      <td>6.081904</td>\n",
       "      <td>3.967157</td>\n",
       "      <td>False</td>\n",
       "      <td>166.7356</td>\n",
       "      <td>7073.391390</td>\n",
       "    </tr>\n",
       "    <tr>\n",
       "      <th>1780800</th>\n",
       "      <td>13063966900080</td>\n",
       "      <td>1780800</td>\n",
       "      <td>170.309686</td>\n",
       "      <td>lsstr</td>\n",
       "      <td>3.485542</td>\n",
       "      <td>4.661229</td>\n",
       "      <td>False</td>\n",
       "      <td>167.6997</td>\n",
       "      <td>5843.848018</td>\n",
       "    </tr>\n",
       "    <tr>\n",
       "      <th>1780801</th>\n",
       "      <td>13063966900080</td>\n",
       "      <td>1780801</td>\n",
       "      <td>102.196496</td>\n",
       "      <td>lsstg</td>\n",
       "      <td>-5.180097</td>\n",
       "      <td>4.253858</td>\n",
       "      <td>False</td>\n",
       "      <td>103.8186</td>\n",
       "      <td>4503.636363</td>\n",
       "    </tr>\n",
       "    <tr>\n",
       "      <th>1780802</th>\n",
       "      <td>13063966900080</td>\n",
       "      <td>1780802</td>\n",
       "      <td>136.415427</td>\n",
       "      <td>lssty</td>\n",
       "      <td>63.180706</td>\n",
       "      <td>20.666826</td>\n",
       "      <td>False</td>\n",
       "      <td>135.9114</td>\n",
       "      <td>9131.071144</td>\n",
       "    </tr>\n",
       "  </tbody>\n",
       "</table>\n",
       "<p>1780803 rows × 9 columns</p>\n",
       "</div>"
      ],
      "text/plain": [
       "              object_id  Unnamed: 0         mjd filter       flux  flux_error  \\\n",
       "0               7300001           0    0.000000  lsstr   2.214540    9.068649   \n",
       "1               7300001           1    0.021472  lssti  -0.810153    2.423347   \n",
       "2               7300001           2    4.159198  lsstr  -1.158885    6.427958   \n",
       "3               7300001           3    4.169865  lsstg  -1.016922    3.548607   \n",
       "4               7300001           4    4.210869  lssty -33.432321   26.185497   \n",
       "...                 ...         ...         ...    ...        ...         ...   \n",
       "1780798  13063966900080     1780798  166.119219  lsstz  -5.135075   10.578986   \n",
       "1780799  13063966900080     1780799  169.281715  lssti   6.081904    3.967157   \n",
       "1780800  13063966900080     1780800  170.309686  lsstr   3.485542    4.661229   \n",
       "1780801  13063966900080     1780801  102.196496  lsstg  -5.180097    4.253858   \n",
       "1780802  13063966900080     1780802  136.415427  lssty  63.180706   20.666826   \n",
       "\n",
       "         detected   ref_mjd  wavelength_z_ori  \n",
       "0           False    2.9783       4497.971665  \n",
       "1           False    2.9938       5444.343170  \n",
       "2           False    5.9807       4497.971665  \n",
       "3           False    5.9884       3466.419505  \n",
       "4           False    6.0180       7028.125843  \n",
       "...           ...       ...               ...  \n",
       "1780798     False  163.7696       8150.062474  \n",
       "1780799     False  166.7356       7073.391390  \n",
       "1780800     False  167.6997       5843.848018  \n",
       "1780801     False  103.8186       4503.636363  \n",
       "1780802     False  135.9114       9131.071144  \n",
       "\n",
       "[1780803 rows x 9 columns]"
      ]
     },
     "execution_count": 111,
     "metadata": {},
     "output_type": "execute_result"
    }
   ],
   "source": [
    "dd.reset_index()"
   ]
  },
  {
   "cell_type": "code",
   "execution_count": null,
   "metadata": {},
   "outputs": [],
   "source": []
  }
 ],
 "metadata": {
  "kernelspec": {
   "display_name": "Python 3",
   "language": "python",
   "name": "python3"
  },
  "language_info": {
   "codemirror_mode": {
    "name": "ipython",
    "version": 3
   },
   "file_extension": ".py",
   "mimetype": "text/x-python",
   "name": "python",
   "nbconvert_exporter": "python",
   "pygments_lexer": "ipython3",
   "version": "3.7.8"
  }
 },
 "nbformat": 4,
 "nbformat_minor": 4
}
