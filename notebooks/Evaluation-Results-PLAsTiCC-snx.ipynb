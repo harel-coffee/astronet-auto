{
 "cells": [
  {
   "cell_type": "markdown",
   "metadata": {},
   "source": [
    "# Evaluation and Visualisation of Results on PLAsTiCC with `snx`\n"
   ]
  },
  {
   "cell_type": "code",
   "execution_count": null,
   "metadata": {},
   "outputs": [],
   "source": [
    "import argparse\n",
    "import joblib\n",
    "import json\n",
    "import matplotlib as mpl\n",
    "import matplotlib.pyplot as plt\n",
    "import numpy as np\n",
    "import shutil\n",
    "import sys\n",
    "import seaborn as sns\n",
    "import tensorflow as tf\n",
    "\n",
    "from itertools import cycle\n",
    "from numpy import interp\n",
    "from pathlib import Path\n",
    "from sklearn.metrics import confusion_matrix\n",
    "from sklearn.metrics import roc_curve, auc\n",
    "from tensorflow import keras\n",
    "\n",
    "from astronet.constants import astronet_working_directory as asnwd\n",
    "from astronet.preprocess import one_hot_encode\n",
    "from astronet.utils import astronet_logger, load_dataset"
   ]
  },
  {
   "cell_type": "code",
   "execution_count": null,
   "metadata": {},
   "outputs": [],
   "source": [
    "from astronet.metrics import WeightedLogLoss\n",
    "from astronet.visualise_results import plot_acc_history, plot_confusion_matrix, plot_loss_history, plot_multiROC"
   ]
  },
  {
   "cell_type": "code",
   "execution_count": null,
   "metadata": {},
   "outputs": [],
   "source": [
    "RANDOM_SEED = 42\n",
    "np.random.seed(RANDOM_SEED)\n",
    "tf.random.set_seed(RANDOM_SEED)\n",
    "\n",
    "import random as python_random\n",
    "# The below is necessary for starting core Python generated random numbers\n",
    "# in a well-defined state.\n",
    "python_random.seed(RANDOM_SEED)\n",
    "\n",
    "plt.rcParams.update({\n",
    "    \"text.usetex\": True,\n",
    "    \"font.family\": \"sans-serif\",\n",
    "    \"font.serif\": [\"Computer Modern Roman\"]})\n",
    "\n",
    "mpl.style.use(\"seaborn\")"
   ]
  },
  {
   "cell_type": "code",
   "execution_count": null,
   "metadata": {},
   "outputs": [],
   "source": [
    "architecture = \"snX\""
   ]
  },
  {
   "cell_type": "code",
   "execution_count": null,
   "metadata": {},
   "outputs": [],
   "source": [
    "dataset = \"plasticc\""
   ]
  },
  {
   "cell_type": "code",
   "execution_count": null,
   "metadata": {},
   "outputs": [],
   "source": [
    "X_train, y_train, X_test, y_test, loss = load_dataset(dataset)"
   ]
  },
  {
   "cell_type": "code",
   "execution_count": null,
   "metadata": {},
   "outputs": [],
   "source": [
    "num_classes = y_train.shape[1]\n",
    "num_classes"
   ]
  },
  {
   "cell_type": "code",
   "execution_count": null,
   "metadata": {},
   "outputs": [],
   "source": [
    "with open(f\"{asnwd}/astronet/{architecture}/models/{dataset}/results.json\") as f:\n",
    "    events = json.load(f)\n",
    "    # Get params for best model with lowest loss\n",
    "    event = min(events['training_result'], key=lambda ev: ev['loss'])"
   ]
  },
  {
   "cell_type": "code",
   "execution_count": null,
   "metadata": {},
   "outputs": [],
   "source": [
    "# Show short summary of items in 'event'\n",
    "dict(list(event.items())[1:4])"
   ]
  },
  {
   "cell_type": "code",
   "execution_count": null,
   "metadata": {},
   "outputs": [],
   "source": [
    "model_name = event['name']"
   ]
  },
  {
   "cell_type": "code",
   "execution_count": null,
   "metadata": {},
   "outputs": [],
   "source": [
    "plot_acc_history(dataset, model_name, event, save=False)"
   ]
  },
  {
   "cell_type": "code",
   "execution_count": null,
   "metadata": {},
   "outputs": [],
   "source": [
    "plot_loss_history(dataset, model_name, event, save=False)"
   ]
  },
  {
   "cell_type": "code",
   "execution_count": null,
   "metadata": {},
   "outputs": [],
   "source": [
    "model = keras.models.load_model(f\"{asnwd}/astronet/{architecture}/models/{dataset}/model-{model_name}\", \n",
    "                                custom_objects={'WeightedLogLoss': WeightedLogLoss()}, \n",
    "                               compile=False)"
   ]
  },
  {
   "cell_type": "code",
   "execution_count": null,
   "metadata": {},
   "outputs": [],
   "source": [
    "with open(f\"{asnwd}/data/{dataset}.encoding\", \"rb\") as eb:\n",
    "    encoding = joblib.load(eb)\n",
    "class_encoding = encoding.categories_[0]\n",
    "\n",
    "if dataset == \"plasticc\":\n",
    "    class_mapping = {\n",
    "        15: \"TDE\",\n",
    "        42: \"SNII\",\n",
    "        52: \"SNIax\",\n",
    "        62: \"SNIbc\",\n",
    "        64: \"KN\",\n",
    "        67: \"SNIa-91bg\",\n",
    "        88: \"AGN\",\n",
    "        90: \"SNIa\",\n",
    "        95: \"SLSN-I\",\n",
    "        1: \"SNIa\",\n",
    "        2: \"SNII\",\n",
    "        3: \"SNIbc\",\n",
    "    }\n",
    "\n",
    "    class_encoding\n",
    "    class_names = list(np.vectorize(class_mapping.get)(class_encoding))\n",
    "else:\n",
    "\n",
    "    class_names = class_encoding"
   ]
  },
  {
   "cell_type": "code",
   "execution_count": null,
   "metadata": {},
   "outputs": [],
   "source": [
    "y_preds = model.predict(X_test)"
   ]
  },
  {
   "cell_type": "code",
   "execution_count": null,
   "metadata": {},
   "outputs": [],
   "source": [
    "logloss = event[\"model_evaluate_on_test_loss\"]\n",
    "acc = event[\"model_evaluate_on_test_acc\"]\n",
    "print(logloss, acc)\n",
    "\n",
    "wloss = WeightedLogLoss()\n",
    "print(f\"{wloss(y_test, y_preds).numpy():.2f}\")\n",
    "# Note the discreptancy seems to be down to inconsistant seeds - see \n",
    "# https://keras.io/getting_started/faq/#how-can-i-obtain-reproducible-results-using-keras-during-development"
   ]
  },
  {
   "cell_type": "code",
   "execution_count": null,
   "metadata": {},
   "outputs": [],
   "source": [
    "plot_confusion_matrix(\n",
    "    dataset,\n",
    "    model_name,\n",
    "    y_test,\n",
    "    y_preds,\n",
    "    encoding, \n",
    "    class_names,  # enc.categories_[0]\n",
    "    save=False,\n",
    ")"
   ]
  },
  {
   "cell_type": "code",
   "execution_count": null,
   "metadata": {},
   "outputs": [],
   "source": [
    "plot_multiROC(dataset, model_name, model, X_test, y_test, class_names, save=False)"
   ]
  },
  {
   "cell_type": "markdown",
   "metadata": {},
   "source": [
    "## `snmachine` Benchmark Comparisons"
   ]
  },
  {
   "cell_type": "markdown",
   "metadata": {},
   "source": [
    "As mentioned in https://github.com/tallamjr/astronet/issues/44 one would like to compare performance with the reuslts shown below:\n",
    "    \n",
    "<img src=\"https://user-images.githubusercontent.com/8843728/101194521-04c46800-3656-11eb-9b8c-fc2f30f88cf5.png\" width=\"800\">\n",
    "\n",
    "> The goal would be to compare with the table below, specifically **LL_test**, with no redshift (**z**) information:"
   ]
  },
  {
   "cell_type": "markdown",
   "metadata": {},
   "source": [
    "From the results obtained for the `t2` model, a weighted log-loss score of $$LL_{test} = 0.93$$ as well as $$LL_{train} = 0.42$$\n",
    "\n",
    "The AUC measurements for $AUC_{test}$ only, since we have only evaluated on the test set are: <br>\n",
    "$$AUC_{test}SNIa = 0.88$$ $$AUC_{test}SNII = 0.84$$ $$AUC_{test}SNIbc = 0.88$$"
   ]
  },
  {
   "cell_type": "markdown",
   "metadata": {},
   "source": [
    "**Comments**: It should be noted that from the loss vs epochs graph above, one can clearly see that a lower loss is achieable, and it is expected that this was not saved as the final model since the `EarlyStopping` criteria was _monitoring_ the `loss` instead of the `val_loss`. This can be updated which may allow for a $LL_{test} ~ 0.6$.\n",
    "\n",
    "Furthermore, it may be seen that from the same graph, the validation loss plataeus at ~ 0.86, but the reported $LL_{test} ~ 0.93$, why? \n",
    "\n",
    "This seems to be a case of random seeds. This has been looked into with additions of `PYTHONHASHSEED=0` added as an environment variable. See these [Keras FAQs](https://keras.io/getting_started/faq/#how-can-i-obtain-reproducible-results-using-keras-during-development) for details."
   ]
  },
  {
   "cell_type": "code",
   "execution_count": null,
   "metadata": {},
   "outputs": [],
   "source": []
  }
 ],
 "metadata": {
  "kernelspec": {
   "display_name": "Python 3",
   "language": "python",
   "name": "python3"
  },
  "language_info": {
   "codemirror_mode": {
    "name": "ipython",
    "version": 3
   },
   "file_extension": ".py",
   "mimetype": "text/x-python",
   "name": "python",
   "nbconvert_exporter": "python",
   "pygments_lexer": "ipython3",
   "version": "3.7.8"
  }
 },
 "nbformat": 4,
 "nbformat_minor": 4
}
