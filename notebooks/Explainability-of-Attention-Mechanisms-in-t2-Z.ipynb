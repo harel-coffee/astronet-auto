{
 "cells": [
  {
   "cell_type": "markdown",
   "metadata": {},
   "source": [
    "## Explainability of Attention Mechanisms in `t2` + Z Features\n",
    "\n",
    "This notebook looks at the attention responses for a given input and tries to explore the explainability of the attention mechanism that is being used in the `t2` model"
   ]
  },
  {
   "cell_type": "code",
   "execution_count": 1,
   "metadata": {},
   "outputs": [],
   "source": [
    "import argparse\n",
    "import joblib\n",
    "import json\n",
    "import matplotlib as mpl\n",
    "import matplotlib.pyplot as plt\n",
    "import numpy as np\n",
    "import shutil\n",
    "import sys\n",
    "import seaborn as sns\n",
    "import tensorflow as tf\n",
    "\n",
    "from itertools import cycle\n",
    "from numpy import interp\n",
    "from pathlib import Path\n",
    "from sklearn.metrics import confusion_matrix\n",
    "from sklearn.metrics import roc_curve, auc\n",
    "from tensorflow import keras\n",
    "\n",
    "from astronet.constants import astronet_working_directory as asnwd\n",
    "from astronet.preprocess import one_hot_encode\n",
    "from astronet.utils import astronet_logger, load_dataset, find_optimal_batch_size"
   ]
  },
  {
   "cell_type": "code",
   "execution_count": 2,
   "metadata": {},
   "outputs": [],
   "source": [
    "from astronet.metrics import WeightedLogLoss\n",
    "from astronet.visualise_results import plot_acc_history, plot_confusion_matrix, plot_loss_history, plot_multiROC"
   ]
  },
  {
   "cell_type": "code",
   "execution_count": 3,
   "metadata": {},
   "outputs": [
    {
     "name": "stdout",
     "output_type": "stream",
     "text": [
      "['Solarize_Light2', '_classic_test_patch', 'bmh', 'classic', 'dark_background', 'fast', 'fivethirtyeight', 'ggplot', 'grayscale', 'seaborn', 'seaborn-bright', 'seaborn-colorblind', 'seaborn-dark', 'seaborn-dark-palette', 'seaborn-darkgrid', 'seaborn-deep', 'seaborn-muted', 'seaborn-notebook', 'seaborn-paper', 'seaborn-pastel', 'seaborn-poster', 'seaborn-talk', 'seaborn-ticks', 'seaborn-white', 'seaborn-whitegrid', 'tableau-colorblind10']\n"
     ]
    }
   ],
   "source": [
    "RANDOM_SEED = 42\n",
    "np.random.seed(RANDOM_SEED)\n",
    "tf.random.set_seed(RANDOM_SEED)\n",
    "\n",
    "import random as python_random\n",
    "# The below is necessary for starting core Python generated random numbers\n",
    "# in a well-defined state.\n",
    "python_random.seed(RANDOM_SEED)\n",
    "\n",
    "plt.rcParams.update({\n",
    "    \"text.usetex\": True,\n",
    "    \"font.family\": \"sans-serif\",\n",
    "    \"font.serif\": [\"Computer Modern Roman\"]})\n",
    "\n",
    "plt.rcParams[\"figure.figsize\"] = (20,3)\n",
    "\n",
    "print(plt.style.available)"
   ]
  },
  {
   "cell_type": "code",
   "execution_count": 4,
   "metadata": {},
   "outputs": [],
   "source": [
    "mpl.style.use(\"seaborn-whitegrid\")"
   ]
  },
  {
   "cell_type": "code",
   "execution_count": 5,
   "metadata": {},
   "outputs": [],
   "source": [
    "architecture = \"t2\""
   ]
  },
  {
   "cell_type": "code",
   "execution_count": 6,
   "metadata": {},
   "outputs": [],
   "source": [
    "dataset = \"plasticc\""
   ]
  },
  {
   "cell_type": "code",
   "execution_count": 7,
   "metadata": {},
   "outputs": [],
   "source": [
    "X_train, y_train, X_test, y_test, loss, Z_train, Z_test = load_dataset(dataset, redshift=True)"
   ]
  },
  {
   "cell_type": "code",
   "execution_count": 8,
   "metadata": {},
   "outputs": [
    {
     "data": {
      "text/plain": [
       "3"
      ]
     },
     "execution_count": 8,
     "metadata": {},
     "output_type": "execute_result"
    }
   ],
   "source": [
    "num_classes = y_train.shape[1]\n",
    "num_classes"
   ]
  },
  {
   "cell_type": "code",
   "execution_count": 9,
   "metadata": {},
   "outputs": [
    {
     "data": {
      "text/plain": [
       "(16, 100, 6)"
      ]
     },
     "execution_count": 9,
     "metadata": {},
     "output_type": "execute_result"
    }
   ],
   "source": [
    "BATCH_SIZE = find_optimal_batch_size(X_train.shape[0])\n",
    "_, timesteps, num_features = X_train.shape  # X_train.shape[1:] == (TIMESTEPS, num_features)\n",
    "input_shape = (BATCH_SIZE, timesteps, num_features)\n",
    "input_shape"
   ]
  },
  {
   "cell_type": "markdown",
   "metadata": {},
   "source": [
    "Get params for best model with lowest loss. Once we have the associated parameters, the corresponding model will be instanciated."
   ]
  },
  {
   "cell_type": "code",
   "execution_count": 10,
   "metadata": {},
   "outputs": [],
   "source": [
    "# with open(f\"{asnwd}/astronet/{architecture}/models/{dataset}/results.json\") as f:\n",
    "#     events = json.load(f)\n",
    "#     # Get params for best model with lowest loss\n",
    "#     event = min(events['training_result'], key=lambda ev: ev['loss'])\n",
    "    \n",
    "# model_name = \"1611966419-e5c6a86\"\n",
    "model_name = \"1612366652-64d2e26\"\n",
    "\n",
    "with open(f\"{asnwd}/astronet/{architecture}/models/{dataset}/results_with_z.json\") as f:\n",
    "    events = json.load(f)\n",
    "    if model_name is not None:\n",
    "    # Get params for model chosen with cli args\n",
    "        event = next(item for item in events['training_result'] if item[\"name\"] == model_name)\n",
    "    else:\n",
    "        # Get params for best model with lowest loss\n",
    "        event = min(\n",
    "            (item for item in events[\"training_result\"] if item[\"augmented\"] is None),\n",
    "                key=lambda ev: ev[\"model_evaluate_on_test_loss\"],\n",
    "            )\n",
    "\n",
    "#         event = min(events['training_result'], key=lambda ev: ev['model_evaluate_on_test_loss'])"
   ]
  },
  {
   "cell_type": "code",
   "execution_count": 11,
   "metadata": {},
   "outputs": [
    {
     "data": {
      "text/plain": [
       "{'augmented': True, 'droprate': 0.1, 'embed_dim': 32}"
      ]
     },
     "execution_count": 11,
     "metadata": {},
     "output_type": "execute_result"
    }
   ],
   "source": [
    "# Show short summary of items in 'event'\n",
    "dict(list(event.items())[1:4])"
   ]
  },
  {
   "cell_type": "code",
   "execution_count": 12,
   "metadata": {},
   "outputs": [],
   "source": [
    "model_name = event['name']"
   ]
  },
  {
   "cell_type": "code",
   "execution_count": 13,
   "metadata": {},
   "outputs": [
    {
     "data": {
      "text/plain": [
       "'1612366652-64d2e26'"
      ]
     },
     "execution_count": 13,
     "metadata": {},
     "output_type": "execute_result"
    }
   ],
   "source": [
    "model_name"
   ]
  },
  {
   "cell_type": "code",
   "execution_count": 14,
   "metadata": {},
   "outputs": [],
   "source": [
    "# model = keras.models.load_model(f\"{asnwd}/astronet/{architecture}/models/{dataset}/model-{model_name}\", \n",
    "#                                 custom_objects={'WeightedLogLoss': WeightedLogLoss()}, \n",
    "#                                compile=False)"
   ]
  },
  {
   "cell_type": "code",
   "execution_count": 15,
   "metadata": {},
   "outputs": [],
   "source": [
    "embed_dim = event['embed_dim']  # --> Embedding size for each token\n",
    "num_heads = event['num_heads']  # --> Number of attention heads\n",
    "ff_dim = event['ff_dim']  # --> Hidden layer size in feed forward network inside transformer\n",
    "\n",
    "# --> Number of filters to use in ConvEmbedding block, should be equal to embed_dim\n",
    "num_filters = embed_dim\n",
    "\n",
    "num_layers = event['num_layers']    # --> N x repeated transformer blocks\n",
    "droprate = event['droprate']        # --> Rate of neurons to drop\n",
    "fc_neurons = event['fc_neurons']    # --> N neurons in final Feed forward network."
   ]
  },
  {
   "cell_type": "code",
   "execution_count": 16,
   "metadata": {},
   "outputs": [],
   "source": [
    "from astronet.t2.model import T2Model"
   ]
  },
  {
   "cell_type": "code",
   "execution_count": 17,
   "metadata": {},
   "outputs": [],
   "source": [
    "from keras.models import Model\n",
    "\n",
    "_, num_z_features = Z_train.shape\n",
    "Z_input_shape = (BATCH_SIZE, num_z_features)\n",
    "\n",
    "input_shape_nobatch = input_shape[1:]\n",
    "Z_input_shape_nobatch = Z_input_shape[1:]\n",
    "\n",
    "inputs = [\n",
    "    tf.keras.Input(shape=input_shape_nobatch), \n",
    "    tf.keras.Input(shape=Z_input_shape_nobatch),\n",
    "]\n"
   ]
  },
  {
   "cell_type": "code",
   "execution_count": 18,
   "metadata": {},
   "outputs": [
    {
     "data": {
      "text/plain": [
       "((100, 6), (2,))"
      ]
     },
     "execution_count": 18,
     "metadata": {},
     "output_type": "execute_result"
    }
   ],
   "source": [
    "input_shape_nobatch, Z_input_shape_nobatch"
   ]
  },
  {
   "cell_type": "code",
   "execution_count": 19,
   "metadata": {},
   "outputs": [
    {
     "data": {
      "text/plain": [
       "[<KerasTensor: shape=(None, 100, 6) dtype=float32 (created by layer 'input_1')>,\n",
       " <KerasTensor: shape=(None, 2) dtype=float32 (created by layer 'input_2')>]"
      ]
     },
     "execution_count": 19,
     "metadata": {},
     "output_type": "execute_result"
    }
   ],
   "source": [
    "inputs"
   ]
  },
  {
   "cell_type": "code",
   "execution_count": 20,
   "metadata": {},
   "outputs": [],
   "source": [
    "tf.config.run_functions_eagerly(True)"
   ]
  },
  {
   "cell_type": "markdown",
   "metadata": {},
   "source": [
    "Instanciate a `T2Model` and load with parameters defined earlier from saved configuration file"
   ]
  },
  {
   "cell_type": "code",
   "execution_count": 21,
   "metadata": {},
   "outputs": [],
   "source": [
    "model = T2Model(        \n",
    "    input_dim=input_shape,\n",
    "    embed_dim=embed_dim,\n",
    "    num_heads=num_heads,\n",
    "    ff_dim=ff_dim,\n",
    "    num_filters=num_filters,\n",
    "    num_classes=num_classes,\n",
    "    num_layers=num_layers,\n",
    "    droprate=droprate,\n",
    "    fc_neurons=fc_neurons,\n",
    ")"
   ]
  },
  {
   "cell_type": "code",
   "execution_count": 22,
   "metadata": {},
   "outputs": [
    {
     "data": {
      "text/plain": [
       "<KerasTensor: shape=(None, 3) dtype=float32 (created by layer 'dense_7')>"
      ]
     },
     "execution_count": 22,
     "metadata": {},
     "output_type": "execute_result"
    }
   ],
   "source": [
    "model.call(inputs, training=True)"
   ]
  },
  {
   "cell_type": "code",
   "execution_count": 23,
   "metadata": {},
   "outputs": [],
   "source": [
    "model.build([input_shape, Z_input_shape])"
   ]
  },
  {
   "cell_type": "code",
   "execution_count": 24,
   "metadata": {},
   "outputs": [
    {
     "data": {
      "text/plain": [
       "<tensorflow.python.training.tracking.util.CheckpointLoadStatus at 0x7fab7eee1e10>"
      ]
     },
     "execution_count": 24,
     "metadata": {},
     "output_type": "execute_result"
    }
   ],
   "source": [
    "# model.load_weights(f\"{asnwd}/astronet/{architecture}/models/{dataset}/weights-1611674535-affdd40\")\n",
    "# model.load_weights(f\"{asnwd}/astronet/{architecture}/models/{dataset}/weights-{model_name}\")\n",
    "model.load_weights(f\"{asnwd}/astronet/{architecture}/models/{dataset}/model-{model_name}\")"
   ]
  },
  {
   "cell_type": "code",
   "execution_count": 25,
   "metadata": {},
   "outputs": [
    {
     "name": "stdout",
     "output_type": "stream",
     "text": [
      "Model: \"t2_model\"\n",
      "_________________________________________________________________\n",
      "Layer (type)                 Output Shape              Param #   \n",
      "=================================================================\n",
      "conv_embedding (ConvEmbeddin (None, 100, 32)           224       \n",
      "_________________________________________________________________\n",
      "positional_encoding (Positio (None, 100, 32)           0         \n",
      "_________________________________________________________________\n",
      "transformer_block (Transform (None, 100, 32)           37664     \n",
      "_________________________________________________________________\n",
      "global_average_pooling1d (Gl (None, 32)                0         \n",
      "_________________________________________________________________\n",
      "dropout_2 (Dropout)          (None, 32)                0         \n",
      "_________________________________________________________________\n",
      "dense_6 (Dense)              (None, 20)                700       \n",
      "_________________________________________________________________\n",
      "dropout_3 (Dropout)          (None, 20)                0         \n",
      "_________________________________________________________________\n",
      "dense_7 (Dense)              (None, 3)                 63        \n",
      "=================================================================\n",
      "Total params: 38,651\n",
      "Trainable params: 38,651\n",
      "Non-trainable params: 0\n",
      "_________________________________________________________________\n"
     ]
    }
   ],
   "source": [
    "model.summary()"
   ]
  },
  {
   "cell_type": "code",
   "execution_count": 26,
   "metadata": {},
   "outputs": [
    {
     "data": {
      "text/plain": [
       "[<astronet.t2.transformer.ConvEmbedding at 0x7fab992ef610>,\n",
       " <astronet.t2.transformer.PositionalEncoding at 0x7fab991f5b90>,\n",
       " <astronet.t2.transformer.TransformerBlock at 0x7fab9941a990>,\n",
       " <tensorflow.python.keras.layers.pooling.GlobalAveragePooling1D at 0x7fab992cac90>,\n",
       " <tensorflow.python.keras.layers.core.Dropout at 0x7fab7ef6bd90>,\n",
       " <tensorflow.python.keras.layers.core.Dense at 0x7fab7ef6bd50>,\n",
       " <tensorflow.python.keras.layers.core.Dropout at 0x7fab7ef8e4d0>,\n",
       " <tensorflow.python.keras.layers.core.Dense at 0x7fab7ef8e690>]"
      ]
     },
     "execution_count": 26,
     "metadata": {},
     "output_type": "execute_result"
    }
   ],
   "source": [
    "model.layers"
   ]
  },
  {
   "cell_type": "code",
   "execution_count": 27,
   "metadata": {},
   "outputs": [
    {
     "name": "stdout",
     "output_type": "stream",
     "text": [
      "KerasTensor(type_spec=TensorSpec(shape=(None, 100, 32), dtype=tf.float32, name=None), name='conv_embedding/conv1d/Relu:0', description=\"created by layer 'conv_embedding'\")\n",
      "KerasTensor(type_spec=TensorSpec(shape=(None, 100, 32), dtype=tf.float32, name=None), name='positional_encoding/add:0', description=\"created by layer 'positional_encoding'\")\n",
      "KerasTensor(type_spec=TensorSpec(shape=(None, 100, 32), dtype=tf.float32, name=None), name='transformer_block/layer_normalization_1/batchnorm/add_1:0', description=\"created by layer 'transformer_block'\")\n",
      "KerasTensor(type_spec=TensorSpec(shape=(None, 32), dtype=tf.float32, name=None), name='global_average_pooling1d/Mean:0', description=\"created by layer 'global_average_pooling1d'\")\n",
      "KerasTensor(type_spec=TensorSpec(shape=(None, 32), dtype=tf.float32, name=None), name='dropout_2/dropout/Mul_1:0', description=\"created by layer 'dropout_2'\")\n",
      "KerasTensor(type_spec=TensorSpec(shape=(None, 20), dtype=tf.float32, name=None), name='dense_6/leaky_re_lu/LeakyRelu:0', description=\"created by layer 'dense_6'\")\n",
      "KerasTensor(type_spec=TensorSpec(shape=(None, 20), dtype=tf.float32, name=None), name='dropout_3/dropout/Mul_1:0', description=\"created by layer 'dropout_3'\")\n",
      "KerasTensor(type_spec=TensorSpec(shape=(None, 3), dtype=tf.float32, name=None), name='dense_7/Softmax:0', description=\"created by layer 'dense_7'\")\n"
     ]
    }
   ],
   "source": [
    "for i in model.layers:\n",
    "    print(i.output)"
   ]
  },
  {
   "cell_type": "markdown",
   "metadata": {},
   "source": [
    "### Explainability of Attention Mechanisms"
   ]
  },
  {
   "cell_type": "markdown",
   "metadata": {},
   "source": [
    "1. Choose random sample from test set"
   ]
  },
  {
   "cell_type": "code",
   "execution_count": 116,
   "metadata": {},
   "outputs": [
    {
     "name": "stdout",
     "output_type": "stream",
     "text": [
      "[71]\n"
     ]
    }
   ],
   "source": [
    "rindex = np.random.choice(len(X_test), 1)\n",
    "# rindex = np.array([102])  # 102 is a nice looking Type Ia\n",
    "print(rindex)"
   ]
  },
  {
   "cell_type": "code",
   "execution_count": 117,
   "metadata": {},
   "outputs": [
    {
     "data": {
      "text/plain": [
       "(1, 100, 6)"
      ]
     },
     "execution_count": 117,
     "metadata": {},
     "output_type": "execute_result"
    }
   ],
   "source": [
    "x = X_test[rindex]\n",
    "x.shape"
   ]
  },
  {
   "cell_type": "code",
   "execution_count": 118,
   "metadata": {},
   "outputs": [
    {
     "data": {
      "text/plain": [
       "array([[0.76, -0.07]])"
      ]
     },
     "execution_count": 118,
     "metadata": {},
     "output_type": "execute_result"
    }
   ],
   "source": [
    "z = Z_test[rindex]\n",
    "z"
   ]
  },
  {
   "cell_type": "code",
   "execution_count": 119,
   "metadata": {},
   "outputs": [],
   "source": [
    "from astronet.visualise_results import _get_encoding"
   ]
  },
  {
   "cell_type": "markdown",
   "metadata": {},
   "source": [
    "What does this random sample look like?"
   ]
  },
  {
   "cell_type": "code",
   "execution_count": 149,
   "metadata": {},
   "outputs": [
    {
     "data": {
      "text/plain": [
       "4.606113755699962"
      ]
     },
     "execution_count": 149,
     "metadata": {},
     "output_type": "execute_result"
    }
   ],
   "source": [
    "max(x[0].flatten())"
   ]
  },
  {
   "cell_type": "code",
   "execution_count": 120,
   "metadata": {},
   "outputs": [
    {
     "data": {
      "text/plain": [
       "[<matplotlib.lines.Line2D at 0x7fab7d0a5510>,\n",
       " <matplotlib.lines.Line2D at 0x7fab7d09cc50>,\n",
       " <matplotlib.lines.Line2D at 0x7fab7cb18bd0>,\n",
       " <matplotlib.lines.Line2D at 0x7fab7cb18c90>,\n",
       " <matplotlib.lines.Line2D at 0x7fab7cb18d50>,\n",
       " <matplotlib.lines.Line2D at 0x7fab7cb18e90>]"
      ]
     },
     "execution_count": 120,
     "metadata": {},
     "output_type": "execute_result"
    },
    {
     "data": {
      "image/png": "[encoded data removed]",
      "text/plain": [
       "<Figure size 432x288 with 1 Axes>"
      ]
     },
     "metadata": {
      "needs_background": "light"
     },
     "output_type": "display_data"
    }
   ],
   "source": [
    "encoding, class_encoding, class_names = _get_encoding(dataset)\n",
    "\n",
    "y_true = encoding.inverse_transform(y_test[rindex])\n",
    "# print(np.argmax(y_true))\n",
    "# print(class_names[np.argmax(y_true)])\n",
    "plt.figure(figsize=(6, 4))\n",
    "plt.plot(x[0])"
   ]
  },
  {
   "cell_type": "code",
   "execution_count": 121,
   "metadata": {},
   "outputs": [],
   "source": [
    "# x = np.expand_dims(x, axis=0)\n",
    "# x.shape"
   ]
  },
  {
   "cell_type": "markdown",
   "metadata": {},
   "source": [
    "From our random sample, we have chosen a class of:"
   ]
  },
  {
   "cell_type": "code",
   "execution_count": 122,
   "metadata": {},
   "outputs": [
    {
     "name": "stdout",
     "output_type": "stream",
     "text": [
      "SNII\n"
     ]
    }
   ],
   "source": [
    "print(class_names[np.argmax(y_test[rindex])])"
   ]
  },
  {
   "cell_type": "code",
   "execution_count": 123,
   "metadata": {},
   "outputs": [
    {
     "name": "stderr",
     "output_type": "stream",
     "text": [
      "/usr/local/anaconda3/envs/astronet/lib/python3.7/site-packages/tensorflow/python/data/ops/dataset_ops.py:3504: UserWarning: Even though the tf.config.experimental_run_functions_eagerly option is set, this option does not apply to tf.data functions. tf.data functions are still traced and executed as graphs.\n",
      "  \"Even though the tf.config.experimental_run_functions_eagerly \"\n"
     ]
    },
    {
     "data": {
      "text/plain": [
       "array([[0.88, 0.00, 0.12]], dtype=float32)"
      ]
     },
     "execution_count": 123,
     "metadata": {},
     "output_type": "execute_result"
    }
   ],
   "source": [
    "model.predict([x, z])"
   ]
  },
  {
   "cell_type": "markdown",
   "metadata": {},
   "source": [
    "2. Get output from Transformer Block"
   ]
  },
  {
   "cell_type": "code",
   "execution_count": 124,
   "metadata": {},
   "outputs": [
    {
     "data": {
      "text/plain": [
       "<KerasTensor: shape=(None, 100, 32) dtype=float32 (created by layer 'transformer_block')>"
      ]
     },
     "execution_count": 124,
     "metadata": {},
     "output_type": "execute_result"
    }
   ],
   "source": [
    "layer_name = \"transformer_block\"\n",
    "model.get_layer(layer_name).output"
   ]
  },
  {
   "cell_type": "code",
   "execution_count": 125,
   "metadata": {},
   "outputs": [],
   "source": [
    "# predictions = tf.keras.layers.Dense(152, activation='softmax')(model.layers[-3].output)"
   ]
  },
  {
   "cell_type": "markdown",
   "metadata": {},
   "source": [
    "3. Instantiate a new \"Attention\" model, whose output will be a vector representaiton of the weights coming from the Transformer block."
   ]
  },
  {
   "cell_type": "code",
   "execution_count": 126,
   "metadata": {},
   "outputs": [],
   "source": [
    "attmodel = Model(inputs=inputs, outputs=model.get_layer(layer_name).output)\n",
    "# annmodel.compile(optimizer='adam', loss=WeightedLogLoss)"
   ]
  },
  {
   "cell_type": "markdown",
   "metadata": {},
   "source": [
    "4. Get vector representation from our random sampled input from the test set"
   ]
  },
  {
   "cell_type": "code",
   "execution_count": 127,
   "metadata": {},
   "outputs": [
    {
     "data": {
      "text/plain": [
       "((1, 100, 32),\n",
       " array([[[-0.02, -0.12, 0.03, ..., -0.67, 0.33, -1.26],\n",
       "         [-0.06, -0.03, 0.09, ..., -0.66, 0.96, -0.29],\n",
       "         [0.13, 0.06, 0.21, ..., -0.99, -2.76, -1.53],\n",
       "         ...,\n",
       "         [-0.00, 0.17, 0.25, ..., -0.88, -2.78, -1.46],\n",
       "         [-0.06, 0.15, 0.23, ..., -0.68, 0.15, -2.44],\n",
       "         [-0.14, 0.33, 0.36, ..., -0.68, -2.78, -2.56]]], dtype=float32))"
      ]
     },
     "execution_count": 127,
     "metadata": {},
     "output_type": "execute_result"
    }
   ],
   "source": [
    "vector = attmodel.predict([x, z])\n",
    "vector.shape, vector"
   ]
  },
  {
   "cell_type": "markdown",
   "metadata": {},
   "source": [
    "* Rearrange axis for easier visualisation"
   ]
  },
  {
   "cell_type": "code",
   "execution_count": 128,
   "metadata": {},
   "outputs": [
    {
     "data": {
      "text/plain": [
       "((1, 32, 100), (1, 100, 32))"
      ]
     },
     "execution_count": 128,
     "metadata": {},
     "output_type": "execute_result"
    }
   ],
   "source": [
    "v = np.moveaxis(vector, 1, 2)\n",
    "v.shape, vector.shape"
   ]
  },
  {
   "cell_type": "code",
   "execution_count": 129,
   "metadata": {},
   "outputs": [
    {
     "data": {
      "image/png": "[encoded data removed]",
      "text/plain": [
       "<Figure size 1440x288 with 1 Axes>"
      ]
     },
     "metadata": {
      "needs_background": "light"
     },
     "output_type": "display_data"
    }
   ],
   "source": [
    "import seaborn as sns\n",
    "cmap = sns.cm.mako\n",
    "%matplotlib inline\n",
    "# f, axes = plt.subplots(2, 1)\n",
    "# ax = plt.plot(x[0], ax=axes.flat[0])\n",
    "# ax2 = ax.twinx()\n",
    "plt.figure(figsize=(20, 4))\n",
    "sns.heatmap(np.abs([v[0][0]]), cmap=cmap, cbar=False, vmin=v.min(), vmax=v.max())\n",
    "plt.show()"
   ]
  },
  {
   "cell_type": "code",
   "execution_count": 160,
   "metadata": {},
   "outputs": [
    {
     "data": {
      "text/plain": [
       "<Figure size 1440x720 with 0 Axes>"
      ]
     },
     "execution_count": 160,
     "metadata": {},
     "output_type": "execute_result"
    },
    {
     "data": {
      "text/plain": [
       "<Figure size 1440x720 with 0 Axes>"
      ]
     },
     "metadata": {},
     "output_type": "display_data"
    }
   ],
   "source": [
    "plt.figure(figsize=(20, 10))\n",
    "# plt.plot(x[0])"
   ]
  },
  {
   "cell_type": "markdown",
   "metadata": {},
   "source": [
    "* Note that darker reigons do not nessearily indicate low 'power' since the weights can range in magnitute from 'high' negative values to 'high' positive values"
   ]
  },
  {
   "cell_type": "code",
   "execution_count": 224,
   "metadata": {},
   "outputs": [],
   "source": [
    "cmap = sns.cm.rocket\n",
    "cmap = sns.light_palette(\"Navy\", as_cmap=True)\n",
    "cmap = sns.color_palette(\"Spectral\", as_cmap=True)\n",
    "cmap = sns.color_palette(\"viridis\", as_cmap=True)\n",
    "cmap = sns.color_palette(\"magma\", as_cmap=True)\n",
    "my_cmap = sns.light_palette(\"Navy\", as_cmap=True)"
   ]
  },
  {
   "cell_type": "code",
   "execution_count": 226,
   "metadata": {},
   "outputs": [
    {
     "data": {
      "image/png": "[encoded data removed]",
      "text/plain": [
       "<Figure size 1440x576 with 2 Axes>"
      ]
     },
     "metadata": {
      "needs_background": "light"
     },
     "output_type": "display_data"
    }
   ],
   "source": [
    "fig, ax = plt.subplots(figsize=(20, 8))\n",
    "\n",
    "sns.heatmap(np.abs([v[0][0]]), cmap=cmap, cbar=False, robust=True, ax=ax) # vmin=v.min(), vmax=v.max()\n",
    "ax2 = ax.twinx()\n",
    "ax2.plot(x[0], lw=5)\n",
    "ax2.grid(False)\n",
    "\n",
    "ax.xaxis.set_ticks(np.arange(1, 100, 10))\n",
    "ax.set_xticklabels([0, 10, 20, 30, 40, 50, 60, 70, 80, 90])\n",
    "ax.tick_params(axis='x', direction='out', length=10, width=2, colors='r',\n",
    "               grid_color='r', grid_alpha=0.5)\n",
    "# ax.set_ylim([min(x[0].flatten()),max(x[0].flatten()) + 1])\n",
    "# ax.set_xlim(0, 99)"
   ]
  },
  {
   "cell_type": "code",
   "execution_count": null,
   "metadata": {},
   "outputs": [],
   "source": []
  },
  {
   "cell_type": "code",
   "execution_count": null,
   "metadata": {},
   "outputs": [],
   "source": []
  },
  {
   "cell_type": "code",
   "execution_count": null,
   "metadata": {},
   "outputs": [],
   "source": []
  },
  {
   "cell_type": "code",
   "execution_count": 138,
   "metadata": {},
   "outputs": [
    {
     "ename": "ValueError",
     "evalue": "The truth value of an array with more than one element is ambiguous. Use a.any() or a.all()",
     "output_type": "error",
     "traceback": [
      "\u001b[0;31m---------------------------------------------------------------------------\u001b[0m",
      "\u001b[0;31mValueError\u001b[0m                                Traceback (most recent call last)",
      "\u001b[0;32m<ipython-input-138-c7413804d5eb>\u001b[0m in \u001b[0;36m<module>\u001b[0;34m\u001b[0m\n\u001b[1;32m      1\u001b[0m \u001b[0maxes\u001b[0m \u001b[0;34m=\u001b[0m \u001b[0mplt\u001b[0m\u001b[0;34m.\u001b[0m\u001b[0mgca\u001b[0m\u001b[0;34m(\u001b[0m\u001b[0;34m)\u001b[0m\u001b[0;34m\u001b[0m\u001b[0;34m\u001b[0m\u001b[0m\n\u001b[0;32m----> 2\u001b[0;31m \u001b[0maxes\u001b[0m\u001b[0;34m.\u001b[0m\u001b[0mset_ylim\u001b[0m\u001b[0;34m(\u001b[0m\u001b[0;34m[\u001b[0m\u001b[0mmin\u001b[0m\u001b[0;34m(\u001b[0m\u001b[0mx\u001b[0m\u001b[0;34m[\u001b[0m\u001b[0;36m0\u001b[0m\u001b[0;34m]\u001b[0m\u001b[0;34m)\u001b[0m\u001b[0;34m,\u001b[0m\u001b[0mmax\u001b[0m\u001b[0;34m(\u001b[0m\u001b[0mx\u001b[0m\u001b[0;34m[\u001b[0m\u001b[0;36m0\u001b[0m\u001b[0;34m]\u001b[0m\u001b[0;34m)\u001b[0m\u001b[0;34m]\u001b[0m\u001b[0;34m)\u001b[0m\u001b[0;34m\u001b[0m\u001b[0;34m\u001b[0m\u001b[0m\n\u001b[0m",
      "\u001b[0;31mValueError\u001b[0m: The truth value of an array with more than one element is ambiguous. Use a.any() or a.all()"
     ]
    },
    {
     "data": {
      "image/png": "[encoded data removed]",
      "text/plain": [
       "<Figure size 432x288 with 1 Axes>"
      ]
     },
     "metadata": {
      "needs_background": "light"
     },
     "output_type": "display_data"
    }
   ],
   "source": [
    "axes = plt.gca()\n"
   ]
  },
  {
   "cell_type": "code",
   "execution_count": null,
   "metadata": {},
   "outputs": [],
   "source": []
  },
  {
   "cell_type": "code",
   "execution_count": null,
   "metadata": {},
   "outputs": [],
   "source": [
    "axes"
   ]
  },
  {
   "cell_type": "code",
   "execution_count": null,
   "metadata": {},
   "outputs": [],
   "source": [
    "fig = plt.figure()\n",
    "ax1 = plt.subplot(211)\n",
    "ax2 = plt.subplot(212, sharex = ax1, sharey = ax1)"
   ]
  },
  {
   "cell_type": "code",
   "execution_count": null,
   "metadata": {},
   "outputs": [],
   "source": []
  },
  {
   "cell_type": "code",
   "execution_count": null,
   "metadata": {},
   "outputs": [],
   "source": [
    "import numpy as np\n",
    "from keras.models import Sequential\n",
    "from keras.layers import Dense, Activation\n",
    "from keras.optimizers import SGD\n",
    "\n",
    "# function to be learned\n",
    "def f(x):\n",
    "    return x[0] + x[1] + x[2]\n",
    "\n",
    "# sample training and test points on a rectangular grid\n",
    "x_train = np.random.uniform(low = -10, high = 10, size = (5000,3))\n",
    "y_train = np.apply_along_axis(f, 1, x_train).reshape(-1,1)\n",
    "\n",
    "x_test = np.random.uniform(low = -10, high = 10, size = (5000,3))\n",
    "y_test = np.apply_along_axis(f, 1, x_test).reshape(-1,1)\n",
    "\n",
    "model = Sequential()\n",
    "model.add(Dense(20, input_dim = 3, activation = 'tanh'))\n",
    "model.add(Dense(1))\n",
    "\n",
    "sgd = SGD(lr=0.01, decay=1e-6, momentum=0.9, nesterov=True)\n",
    "model.compile(loss='mse',\n",
    "      optimizer=sgd)\n",
    "model.fit(x_train, y_train, batch_size = 10, epochs = 30, verbose = 0)\n",
    "\n",
    "model.evaluate(x_test, y_test, batch_size = 10)\n",
    "model.evaluate(x_test, y_test, batch_size = 20)\n",
    "model.evaluate(x_test, y_test, batch_size = 30)\n",
    "model.evaluate(x_test, y_test, batch_size = 40)\n",
    "model.evaluate(x_test, y_test, batch_size = 50)"
   ]
  },
  {
   "cell_type": "code",
   "execution_count": null,
   "metadata": {},
   "outputs": [],
   "source": [
    "x_test.shape"
   ]
  },
  {
   "cell_type": "code",
   "execution_count": null,
   "metadata": {},
   "outputs": [],
   "source": [
    "from sklearn.metrics import mean_squared_error as mse\n",
    "0 == model.evaluate(x_test, y_test) - mse(model.predict(x_test), y_test)"
   ]
  },
  {
   "cell_type": "code",
   "execution_count": null,
   "metadata": {},
   "outputs": [],
   "source": [
    "model.evaluate(x_test, y_test, batch_size=x_test.shape[0])"
   ]
  },
  {
   "cell_type": "code",
   "execution_count": null,
   "metadata": {},
   "outputs": [],
   "source": [
    "model.evaluate(x_test, y_test)"
   ]
  },
  {
   "cell_type": "code",
   "execution_count": null,
   "metadata": {},
   "outputs": [],
   "source": [
    "mse(model.predict(x_test, batch_size=x_test.shape[0]), y_test)"
   ]
  },
  {
   "cell_type": "code",
   "execution_count": null,
   "metadata": {},
   "outputs": [],
   "source": []
  },
  {
   "cell_type": "code",
   "execution_count": null,
   "metadata": {},
   "outputs": [],
   "source": []
  }
 ],
 "metadata": {
  "kernelspec": {
   "display_name": "Python 3",
   "language": "python",
   "name": "python3"
  },
  "language_info": {
   "codemirror_mode": {
    "name": "ipython",
    "version": 3
   },
   "file_extension": ".py",
   "mimetype": "text/x-python",
   "name": "python",
   "nbconvert_exporter": "python",
   "pygments_lexer": "ipython3",
   "version": "3.7.8"
  }
 },
 "nbformat": 4,
 "nbformat_minor": 4
}
