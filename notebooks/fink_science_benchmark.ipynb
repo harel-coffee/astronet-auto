{
 "cells": [
  {
   "cell_type": "markdown",
   "metadata": {},
   "source": [
    "# Benchmarking science modules\n",
    "\n",
    "This simple benchmark works the following:\n",
    "1. Load data using Spark in a DataFrame\n",
    "2. Apply a science module, and create a new column in the DataFrame\n",
    "3. Transfer this column to the driver (to force the creation)\n",
    "\n",
    "To try to monitor the impact of a science module $t_{science}$, we minimise other operations (e.g. I/O) by caching data on the executors, and by subtracting the time to perform other operations:\n",
    "\n",
    "$$\n",
    "\\begin{equation}\n",
    "t_{science} = t_{total} - t_{dry}\n",
    "\\end{equation}\n",
    "$$\n",
    "\n",
    "where \n",
    "- $t_{dry}$ is the time to load the data (from the executor's memory), and transfer one column to the driver without applying a science module\n",
    "- $t_{total}$ is the time to load the data (from the executor's memory), and transfer one column to the driver after applying a science module.\n",
    "\n",
    "Note this is an \"on-sky\" performance, as for each module there are filters that decide which alert is really processed inside based on physics (as opposed to processing all alerts blindly). For example, the crossmatch with SIMBAD applies on all alerts, while only a small fraction of alerts satisfies the criteria to be processed by the microlensing module.\n",
    "\n",
    "## Modules"
   ]
  },
  {
   "cell_type": "code",
   "execution_count": 14,
   "metadata": {},
   "outputs": [],
   "source": [
    "import os\n",
    "import time\n",
    "\n",
    "import pandas as pd\n",
    "import numpy as np\n",
    "\n",
    "from pyspark.sql import SparkSession\n",
    "from pyspark.sql import functions as F\n",
    "from pyspark.sql.functions import pandas_udf, PandasUDFType\n",
    "from pyspark.sql.types import DoubleType, StringType\n",
    "\n",
    "from fink_utils.spark.utils import concat_col\n",
    "from fink_utils.data.utils import format_data_as_snana\n",
    "from fink_utils.xmatch.simbad import return_list_of_eg_host\n",
    "\n",
    "from fink_science import __version__\n",
    "from fink_science import __file__ as fspath\n",
    "from fink_science.random_forest_snia.processor import rfscore_sigmoid_full\n",
    "from fink_science.xmatch.processor import cdsxmatch, crossmatch_other_catalog\n",
    "# from fink_science.snn.processor import snn_ia\n",
    "# from fink_science.microlensing.processor import mulens\n",
    "from fink_science.asteroids.processor import roid_catcher\n",
    "# from fink_science.nalerthist.processor import nalerthist\n",
    "# from fink_science.kilonova.processor import knscore\n",
    "# from fink_science.snad.processor import extract_features_snad\n",
    "# from fink_science.image_classification.processor import labels_assignation\n",
    "\n",
    "from tensorflow import keras\n",
    "from pathlib import Path\n",
    "\n",
    "from sklearn.preprocessing import robust_scale as rs\n",
    "\n",
    "from astronet.metrics import WeightedLogLoss\n",
    "from astronet.preprocess import generate_gp_all_objects\n",
    "from astronet.preprocess import robust_scale\n",
    "import tensorflow as tf"
   ]
  },
  {
   "cell_type": "code",
   "execution_count": 2,
   "metadata": {},
   "outputs": [
    {
     "name": "stdout",
     "output_type": "stream",
     "text": [
      "Fink Science version: 1.2.0\n"
     ]
    }
   ],
   "source": [
    "print('Fink Science version: {}'.format(__version__))"
   ]
  },
  {
   "cell_type": "markdown",
   "metadata": {},
   "source": [
    "## Loading data\n",
    "\n",
    "Let's load one night of data (200,000 alerts -- or 8.2 GB):"
   ]
  },
  {
   "cell_type": "code",
   "execution_count": 3,
   "metadata": {},
   "outputs": [],
   "source": [
    "import os\n",
    "memory = \"8g\"\n",
    "pyspark_submit_args = ' --driver-memory ' + memory + ' pyspark-shell'\n",
    "os.environ[\"PYSPARK_SUBMIT_ARGS\"] = pyspark_submit_args"
   ]
  },
  {
   "cell_type": "code",
   "execution_count": 4,
   "metadata": {},
   "outputs": [
    {
     "name": "stderr",
     "output_type": "stream",
     "text": [
      "WARNING:root:'PYARROW_IGNORE_TIMEZONE' environment variable was not set. It is required to set this environment variable to '1' in both driver and executor sides if you use pyarrow>=2.0.0. pandas-on-Spark will set it for you but it does not work if there is a Spark context already launched.\n",
      "Using Spark's default log4j profile: org/apache/spark/log4j-defaults.properties\n",
      "Setting default log level to \"WARN\".\n",
      "To adjust logging level use sc.setLogLevel(newLevel). For SparkR, use setLogLevel(newLevel).\n",
      "22/06/10 11:43:16 WARN NativeCodeLoader: Unable to load native-hadoop library for your platform... using builtin-java classes where applicable\n"
     ]
    }
   ],
   "source": [
    "import pyspark.pandas as ps\n",
    "from pyspark.sql import SparkSession\n",
    "spark = SparkSession \\\n",
    "    .builder \\\n",
    "    .appName(\"benchmarks\") \\\n",
    "    .config(\"spark.executor.memory\", \"8g\") \\\n",
    "    .getOrCreate()"
   ]
  },
  {
   "cell_type": "code",
   "execution_count": 5,
   "metadata": {},
   "outputs": [
    {
     "data": {
      "text/plain": [
       "[('spark.executor.id', 'driver'),\n",
       " ('spark.driver.host', 'tallamjr-macbookpro-m1'),\n",
       " ('spark.rdd.compress', 'True'),\n",
       " ('spark.driver.port', '50843'),\n",
       " ('spark.driver.memory', '8g'),\n",
       " ('spark.app.startTime', '1654857796129'),\n",
       " ('spark.serializer.objectStreamReset', '100'),\n",
       " ('spark.master', 'local[*]'),\n",
       " ('spark.executor.memory', '8g'),\n",
       " ('spark.submit.pyFiles', ''),\n",
       " ('spark.app.name', 'benchmarks'),\n",
       " ('spark.submit.deployMode', 'client'),\n",
       " ('spark.app.id', 'local-1654857797810'),\n",
       " ('spark.ui.showConsoleProgress', 'true'),\n",
       " ('spark.sql.warehouse.dir',\n",
       "  'file:/Users/tallamjr/github/tallamjr/origin/astronet/notebooks/spark-warehouse')]"
      ]
     },
     "execution_count": 5,
     "metadata": {},
     "output_type": "execute_result"
    }
   ],
   "source": [
    "spark.sparkContext.getConf().getAll()"
   ]
  },
  {
   "cell_type": "code",
   "execution_count": 6,
   "metadata": {},
   "outputs": [
    {
     "name": "stderr",
     "output_type": "stream",
     "text": [
      "22/06/10 11:43:28 WARN package: Truncated the string representation of a plan since it was too large. This behavior can be adjusted by setting 'spark.sql.debug.maxToStringFields'.\n",
      "[Stage 1:>                                                        (0 + 10) / 10]\r"
     ]
    },
    {
     "name": "stdout",
     "output_type": "stream",
     "text": [
      "Number of alerts:  20000\n"
     ]
    },
    {
     "name": "stderr",
     "output_type": "stream",
     "text": [
      "\r",
      "                                                                                \r"
     ]
    }
   ],
   "source": [
    "df = spark.read.format('parquet').load('../data/ztf/small_bench.parquet')\n",
    "total_alerts = df.count()\n",
    "print('Number of alerts: ', total_alerts)"
   ]
  },
  {
   "cell_type": "code",
   "execution_count": 7,
   "metadata": {},
   "outputs": [],
   "source": [
    "df = df.limit(500)"
   ]
  },
  {
   "cell_type": "code",
   "execution_count": 8,
   "metadata": {},
   "outputs": [
    {
     "name": "stdout",
     "output_type": "stream",
     "text": [
      "Benchmark will be done using 10 CPUs\n"
     ]
    }
   ],
   "source": [
    "import psutil\n",
    "nproc = psutil.cpu_count()\n",
    "print('Benchmark will be done using {} CPUs'.format(nproc))"
   ]
  },
  {
   "cell_type": "code",
   "execution_count": 9,
   "metadata": {},
   "outputs": [],
   "source": [
    "# nproc = int([val[1] for val in spark.sparkContext.getConf().getAll() if val[0] == 'spark.cores.max'][0])\n",
    "# print('Benchmark will be done using {} CPUs'.format(nproc))"
   ]
  },
  {
   "cell_type": "markdown",
   "metadata": {},
   "source": [
    "## Caching data\n",
    "\n",
    "Cache the data to the executor memory to reduce I/O perturbations -- Make sure you have enough memory!"
   ]
  },
  {
   "cell_type": "code",
   "execution_count": 10,
   "metadata": {},
   "outputs": [],
   "source": [
    "# Retrieve time-series information\n",
    "to_expand = [\n",
    "    'jd', 'fid', 'magpsf', 'sigmapsf',\n",
    "    'magnr', 'sigmagnr', 'magzpsci', 'isdiffpos'\n",
    "]\n",
    "\n",
    "# Append temp columns with historical + current measurements\n",
    "prefix = 'c'\n",
    "for colname in to_expand:\n",
    "    df = concat_col(df, colname, prefix=prefix)\n",
    "expanded = [prefix + i for i in to_expand]\n",
    "\n",
    "# add xmatch\n",
    "colnames = [df['objectId'], df['candidate.ra'], df['candidate.dec']]\n",
    "df = df.withColumn('cdsxmatch_tmp', cdsxmatch(*colnames))\n",
    "\n",
    "# add roid\n",
    "args_roid = [\n",
    "    'cjd', 'cmagpsf',\n",
    "    'candidate.ndethist', 'candidate.sgscore1',\n",
    "    'candidate.ssdistnr', 'candidate.distpsnr1']\n",
    "df = df.withColumn('roid_tmp', roid_catcher(*args_roid))"
   ]
  },
  {
   "cell_type": "code",
   "execution_count": 31,
   "metadata": {},
   "outputs": [
    {
     "name": "stderr",
     "output_type": "stream",
     "text": [
      "22/06/10 11:52:35 WARN CacheManager: Asked to cache already cached data.\n"
     ]
    },
    {
     "name": "stdout",
     "output_type": "stream",
     "text": [
      "500\n"
     ]
    }
   ],
   "source": [
    "# Cache to reduce I/O perturbations\n",
    "# Make sure you have enough memory\n",
    "df = df.cache()\n",
    "total_alerts = df.count()\n",
    "print(total_alerts)"
   ]
  },
  {
   "cell_type": "markdown",
   "metadata": {},
   "source": [
    "## Calibration\n",
    "\n",
    "Computation of $t_{dry}$"
   ]
  },
  {
   "cell_type": "code",
   "execution_count": 32,
   "metadata": {},
   "outputs": [],
   "source": [
    "def zero_point(df, verbose=False):\n",
    "    \"\"\" Execution time (s) to return one column to the driver with no science module\n",
    "    \"\"\"\n",
    "    t0 = time.time()\n",
    "    pdf = df.select('candidate.ra').toPandas()\n",
    "    calib = time.time() - t0\n",
    "    if verbose:\n",
    "        print('Calibration time: ', calib)\n",
    "        print('{} alert/s/proc'.format(total_alerts/calib/nproc))\n",
    "    return calib, None, \"DRY\"\n",
    "\n",
    "# zero_point(df, True)"
   ]
  },
  {
   "cell_type": "markdown",
   "metadata": {},
   "source": [
    "## Science modules"
   ]
  },
  {
   "cell_type": "markdown",
   "metadata": {},
   "source": [
    "### Solar System"
   ]
  },
  {
   "cell_type": "code",
   "execution_count": 33,
   "metadata": {},
   "outputs": [],
   "source": [
    "def sso(df, verbose=False):\n",
    "    t0 = time.time()\n",
    "    args_roid = [\n",
    "        'cjd', 'cmagpsf',\n",
    "        'candidate.ndethist', 'candidate.sgscore1',\n",
    "        'candidate.ssdistnr', 'candidate.distpsnr1']\n",
    "    pdf = df.withColumn('roid', roid_catcher(*args_roid)).select('roid').toPandas()\n",
    "    t_roid = time.time() - t0\n",
    "    if verbose:\n",
    "        print('roid time: ', t_roid)\n",
    "        print('{} alert/s/proc'.format(total_alerts/t_roid/nproc))\n",
    "    return t_roid, args_roid, \"SSO\"\n",
    "\n",
    "# sso(df, True)"
   ]
  },
  {
   "cell_type": "markdown",
   "metadata": {},
   "source": [
    "### T2"
   ]
  },
  {
   "cell_type": "code",
   "execution_count": 34,
   "metadata": {},
   "outputs": [
    {
     "name": "stderr",
     "output_type": "stream",
     "text": [
      "/opt/homebrew/Cellar/apache-spark/3.2.1/libexec/python/pyspark/sql/pandas/functions.py:389: UserWarning: In Python 3.6+ and Spark 3.0+, it is preferred to specify type hints for pandas UDF instead of specifying pandas UDF type which will be deprecated in the future releases. See SPARK-28264 for more details.\n",
      "  warnings.warn(\n"
     ]
    }
   ],
   "source": [
    "def apply_selection_cuts_ztf(\n",
    "        magpsf: pd.Series, cdsxmatch: pd.Series,\n",
    "        jd: pd.Series, jdstarthist: pd.Series, roid: pd.Series,\n",
    "        minpoints: int = 2, maxndethist: int = 90) -> pd.Series:\n",
    "    \"\"\" Apply selection cuts to keep only alerts of interest\n",
    "    for T2 analysis\n",
    "\n",
    "    Parameters\n",
    "    ----------\n",
    "    magpsf: pd.Series\n",
    "        Series containing data measurement (array of double). Each row contains\n",
    "        all measurement values for one alert.\n",
    "    cdsxmatch: pd.Series\n",
    "        Series containing crossmatch label with SIMBAD (str).\n",
    "        Each row contains one label.\n",
    "    jd: pd.Series\n",
    "        Series containing JD values (array of float). Each row contains\n",
    "        all measurement values for one alert.\n",
    "    jdstarthist: pd.Series\n",
    "        Series containing first JD for which the source varied (float).\n",
    "        Each row contains one label.\n",
    "    roid: pd.Series\n",
    "        Series containing SSO label (int).\n",
    "        Each row contains one label.\n",
    "\n",
    "    Returns\n",
    "    ---------\n",
    "    mask: pd.Series\n",
    "        Series containing `True` if the alert is valid, `False` otherwise.\n",
    "        Each row contains one boolean.\n",
    "    \"\"\"\n",
    "    # Flag empty alerts\n",
    "    mask = magpsf.apply(lambda x: np.sum(np.array(x) == np.array(x))) >= minpoints\n",
    "\n",
    "    mask *= jd.apply(lambda x: float(x[-1])) - jdstarthist.astype(float) <= maxndethist\n",
    "\n",
    "    mask *= roid.astype(int) != 3\n",
    "\n",
    "    list_of_sn_host = return_list_of_eg_host()\n",
    "    mask *= cdsxmatch.apply(lambda x: x in list_of_sn_host)\n",
    "    \n",
    "    # Add cuts on having exactly 2 filters\n",
    "\n",
    "    return mask\n",
    "\n",
    "class LiteModel:\n",
    "    @classmethod\n",
    "    def from_file(cls, model_path):\n",
    "        return LiteModel(tf.lite.Interpreter(model_path=model_path))\n",
    "\n",
    "    @classmethod\n",
    "    def from_saved_model(cls, model_path, tflite_file_path=None):\n",
    "        converter = tf.lite.TFLiteConverter.from_saved_model(model_path)\n",
    "        converter.target_spec.supported_ops = [\n",
    "            tf.lite.OpsSet.TFLITE_BUILTINS,  # enable TensorFlow Lite ops.\n",
    "            tf.lite.OpsSet.SELECT_TF_OPS,  # enable TensorFlow ops.\n",
    "        ]\n",
    "        converter.experimental_enable_resource_variables = True\n",
    "        converter.experimental_new_converter = True\n",
    "        converter.optimizations = [tf.lite.Optimize.DEFAULT]\n",
    "        tflite_model = converter.convert()\n",
    "\n",
    "        if tflite_file_path is not None:\n",
    "            with open(tflite_file_path, \"wb\") as f:\n",
    "                f.write(tflite_model)\n",
    "\n",
    "        return LiteModel(tf.lite.Interpreter(model_content=tflite_model))\n",
    "\n",
    "    def __init__(self, interpreter):\n",
    "        self.interpreter = interpreter\n",
    "        self.interpreter.allocate_tensors()\n",
    "        input_det = self.interpreter.get_input_details()[0]\n",
    "        output_det = self.interpreter.get_output_details()[0]\n",
    "        self.input_index = input_det[\"index\"]\n",
    "        self.output_index = output_det[\"index\"]\n",
    "        self.input_shape = input_det[\"shape\"]\n",
    "        self.output_shape = output_det[\"shape\"]\n",
    "        self.input_dtype = input_det[\"dtype\"]\n",
    "        self.output_dtype = output_det[\"dtype\"]\n",
    "\n",
    "    def predict(self, inp):\n",
    "        inp = inp.astype(self.input_dtype)\n",
    "        count = inp.shape[0]\n",
    "        out = np.zeros((count, self.output_shape[1]), dtype=self.output_dtype)\n",
    "        for i in range(count):\n",
    "            self.interpreter.set_tensor(self.input_index, inp[i : i + 1])\n",
    "            self.interpreter.invoke()\n",
    "            out[i] = self.interpreter.get_tensor(self.output_index)[0]\n",
    "        return out\n",
    "\n",
    "def get_model(model_name):\n",
    "    model_path = f\"../astronet/tinho/models/plasticc/{model_name}\"\n",
    "    model = LiteModel.from_file(model_path=model_path)\n",
    "    return model\n",
    "\n",
    "@pandas_udf(StringType(), PandasUDFType.SCALAR)\n",
    "def t2_spark(candid, jd, fid, magpsf, sigmapsf, roid, cdsxmatch, jdstarthist, model_name=None) -> pd.Series:\n",
    "    \"\"\" Return max prob from T2\n",
    "\n",
    "    Parameters\n",
    "    ----------\n",
    "    candid: Spark DataFrame Column\n",
    "        Candidate IDs (int64)\n",
    "    jd: Spark DataFrame Column\n",
    "        JD times (float)\n",
    "    fid: Spark DataFrame Column\n",
    "        Filter IDs (int)\n",
    "    magpsf, sigmapsf: Spark DataFrame Columns\n",
    "        Magnitude from PSF-fit photometry, and 1-sigma error\n",
    "    model_name: Spark DataFrame Column, optional\n",
    "        T2 pre-trained model. Currently available:\n",
    "            * t2 (default)\n",
    "            * atx\n",
    "\n",
    "    Returns\n",
    "    ----------\n",
    "    probabilities: 1D np.array of float\n",
    "        Probability between 0 (non-Ia) and 1 (Ia).\n",
    "    \"\"\"\n",
    "    mask = apply_selection_cuts_ztf(magpsf, cdsxmatch, jd, jdstarthist, roid)\n",
    "\n",
    "    if len(jd[mask]) == 0:\n",
    "        return pd.Series(np.array(['None'] * len(jd), dtype=np.str))\n",
    "    \n",
    "    ZTF_FILTER_MAP = {1: \"ztfg\", 2: \"ztfr\", 3: \"ztfi\"}\n",
    "\n",
    "    ZTF_PB_WAVELENGTHS = {\n",
    "        \"ztfg\": 4804.79,\n",
    "        \"ztfr\": 6436.92,\n",
    "        \"ztfi\": 7968.22,\n",
    "    }\n",
    "    \n",
    "    # Rescale dates to _start_ at 0\n",
    "    dates = jd.apply(lambda x: [x[0] - i for i in x])    \n",
    "\n",
    "    pdf = format_data_as_snana(\n",
    "        dates, magpsf, sigmapsf, fid, candid, mask, \n",
    "        filter_conversion_dic=ZTF_FILTER_MAP\n",
    "    )\n",
    "    \n",
    "    # SNID, MJD, FLUXCAL, FLUXCALERR, FLT\n",
    "    # [\"object_id\", \"mjd\", \"flux\", \"flux_error\", \"filter\"]\n",
    "    pdf = pdf.rename(\n",
    "        columns={\n",
    "            'SNID': 'object_id', \n",
    "            'MJD': 'mjd', \n",
    "            'FLUXCAL': 'flux',\n",
    "            'FLUXCALERR': 'flux_error',\n",
    "            'FLT': 'filter'\n",
    "        }\n",
    "    )\n",
    "    \n",
    "    pdf = pdf.dropna()\n",
    "    pdf = pdf.reset_index()\n",
    "\n",
    "    if model_name is not None:\n",
    "        # take the first element of the Series\n",
    "        model = get_model(model_name=model_name.values[0])\n",
    "    else:\n",
    "        # Load default pre-trained model\n",
    "        model = get_model()\n",
    "\n",
    "    vals = []\n",
    "    for candid_ in candid[mask].values:\n",
    "        \n",
    "        # one object at a time\n",
    "        sub = pdf[pdf['object_id'] == candid_]\n",
    "        \n",
    "        # Need all filters\n",
    "        if len(np.unique(sub['filter'])) != 2:\n",
    "            vals.append('None')\n",
    "            continue\n",
    "        \n",
    "        # one object at a time\n",
    "        df_gp_mean = generate_gp_all_objects(\n",
    "            [candid_], sub, pb_wavelengths=ZTF_PB_WAVELENGTHS\n",
    "        )\n",
    "\n",
    "        cols = set(list(ZTF_PB_WAVELENGTHS.keys())) & set(df_gp_mean.columns)\n",
    "        # robust_scale(df_gp_mean, cols)\n",
    "        X = df_gp_mean[cols]\n",
    "        X = rs(X)\n",
    "        X = np.asarray(X).astype(\"float32\")\n",
    "        X = np.expand_dims(X, axis=0)\n",
    "\n",
    "        y_preds = model.predict(X)\n",
    "\n",
    "        class_names = [\n",
    "            \"mu-Lens-Single\",\n",
    "            \"TDE\",\n",
    "            \"EB\",\n",
    "            \"SNII\",\n",
    "            \"SNIax\",\n",
    "            \"Mira\",\n",
    "            \"SNIbc\",\n",
    "            \"KN\",\n",
    "            \"M-dwarf\",\n",
    "            \"SNIa-91bg\",\n",
    "            \"AGN\",\n",
    "            \"SNIa\",\n",
    "            \"RRL\",\n",
    "            \"SLSN-I\",\n",
    "        ]\n",
    "\n",
    "        keys = class_names\n",
    "        values = y_preds.tolist()\n",
    "        predictions = dict(zip(keys, values[0]))\n",
    "\n",
    "        #snia_val = predictions['SNIa']\n",
    "        idx = np.where(np.array(list(predictions.values())) == np.max(list(predictions.values())))[0][0]\n",
    "        snia_val = list(predictions.keys())[idx]\n",
    "        vals.append(str(snia_val))\n",
    "\n",
    "    to_return = np.array(['None'] * len(jd), dtype=np.str)\n",
    "    to_return[mask] = vals\n",
    "\n",
    "    # return class with max prob\n",
    "    return pd.Series(to_return)\n"
   ]
  },
  {
   "cell_type": "code",
   "execution_count": 35,
   "metadata": {},
   "outputs": [],
   "source": [
    "def t2(df, verbose=False):\n",
    "    t0 = time.time()\n",
    "\n",
    "    args = ['candid', 'cjd', 'cfid', 'cmagpsf', 'csigmapsf']\n",
    "    args += [F.col('roid'), F.col('cdsxmatch'), F.col('candidate.jdstarthist')]\n",
    "    args += [F.lit('quantized-model-GR-noZ-28341-1654269564-0.5.1.dev73+g70f85f8-LL0.836.tflite')]\n",
    "\n",
    "    pdf2 = df.withColumn('pIa_t2', t2_spark(*args)).select('pIa_t2').toPandas()\n",
    "    t_t2 = time.time() - t0\n",
    "    if verbose:\n",
    "        print('T2 time: ', t_t2)\n",
    "        print('{} alert/s/proc'.format(total_alerts/t_t2/nproc))\n",
    "    return t_t2, args, \"T2\"\n",
    "\n",
    "# t2(df, True)"
   ]
  },
  {
   "cell_type": "markdown",
   "metadata": {},
   "source": [
    "## Total"
   ]
  },
  {
   "cell_type": "code",
   "execution_count": 36,
   "metadata": {},
   "outputs": [],
   "source": [
    "def total(df, args, verbose=False):\n",
    "    \"\"\" keep the args order!\n",
    "    \"\"\"\n",
    "    t0 = time.time()\n",
    "    pdf = df.withColumn('roid', roid_catcher(*(args[0])))\\\n",
    "        .withColumn('pIa_t2', t2_spark(*args[1]))\\\n",
    "        .select(['roid', 'pIa_t2'])\\\n",
    "        .toPandas()\n",
    "    t_all_modules = time.time() - t0\n",
    "    if verbose:\n",
    "        print('All modules time: ', t_all_modules)\n",
    "        print('{} alert/s/proc'.format(total_alerts/t_all_modules/nproc))\n",
    "    return t_all_modules"
   ]
  },
  {
   "cell_type": "markdown",
   "metadata": {},
   "source": [
    "## Benchmark"
   ]
  },
  {
   "cell_type": "code",
   "execution_count": 37,
   "metadata": {},
   "outputs": [
    {
     "data": {
      "text/plain": [
       "(0.10967397689819336, None, 'DRY')"
      ]
     },
     "execution_count": 37,
     "metadata": {},
     "output_type": "execute_result"
    }
   ],
   "source": [
    "zero_point(df)"
   ]
  },
  {
   "cell_type": "code",
   "execution_count": 38,
   "metadata": {},
   "outputs": [
    {
     "name": "stdout",
     "output_type": "stream",
     "text": [
      "Loop 1/10\n"
     ]
    },
    {
     "name": "stderr",
     "output_type": "stream",
     "text": [
      "/var/folders/xh/xnl30qr16k5fldpn_ss_v0cm0000gn/T/ipykernel_32920/1693900588.py:214: DeprecationWarning: `np.str` is a deprecated alias for the builtin `str`. To silence this warning, use `str` by itself. Doing this will not modify any behavior and is safe. If you specifically wanted the numpy scalar type, use `np.str_` here.\n",
      "Deprecated in NumPy 1.20; for more details and guidance: https://numpy.org/devdocs/release/1.20.0-notes.html#deprecations\n",
      "/var/folders/xh/xnl30qr16k5fldpn_ss_v0cm0000gn/T/ipykernel_32920/1693900588.py:214: DeprecationWarning: `np.str` is a deprecated alias for the builtin `str`. To silence this warning, use `str` by itself. Doing this will not modify any behavior and is safe. If you specifically wanted the numpy scalar type, use `np.str_` here.\n",
      "Deprecated in NumPy 1.20; for more details and guidance: https://numpy.org/devdocs/release/1.20.0-notes.html#deprecations\n",
      "                                                                                \r"
     ]
    },
    {
     "name": "stdout",
     "output_type": "stream",
     "text": [
      "Loop 2/10\n"
     ]
    },
    {
     "name": "stderr",
     "output_type": "stream",
     "text": [
      "/var/folders/xh/xnl30qr16k5fldpn_ss_v0cm0000gn/T/ipykernel_32920/1693900588.py:214: DeprecationWarning: `np.str` is a deprecated alias for the builtin `str`. To silence this warning, use `str` by itself. Doing this will not modify any behavior and is safe. If you specifically wanted the numpy scalar type, use `np.str_` here.\n",
      "Deprecated in NumPy 1.20; for more details and guidance: https://numpy.org/devdocs/release/1.20.0-notes.html#deprecations\n",
      "/var/folders/xh/xnl30qr16k5fldpn_ss_v0cm0000gn/T/ipykernel_32920/1693900588.py:214: DeprecationWarning: `np.str` is a deprecated alias for the builtin `str`. To silence this warning, use `str` by itself. Doing this will not modify any behavior and is safe. If you specifically wanted the numpy scalar type, use `np.str_` here.\n",
      "Deprecated in NumPy 1.20; for more details and guidance: https://numpy.org/devdocs/release/1.20.0-notes.html#deprecations\n"
     ]
    },
    {
     "name": "stdout",
     "output_type": "stream",
     "text": [
      "Loop 3/10\n"
     ]
    },
    {
     "name": "stderr",
     "output_type": "stream",
     "text": [
      "/var/folders/xh/xnl30qr16k5fldpn_ss_v0cm0000gn/T/ipykernel_32920/1693900588.py:214: DeprecationWarning: `np.str` is a deprecated alias for the builtin `str`. To silence this warning, use `str` by itself. Doing this will not modify any behavior and is safe. If you specifically wanted the numpy scalar type, use `np.str_` here.\n",
      "Deprecated in NumPy 1.20; for more details and guidance: https://numpy.org/devdocs/release/1.20.0-notes.html#deprecations\n",
      "/var/folders/xh/xnl30qr16k5fldpn_ss_v0cm0000gn/T/ipykernel_32920/1693900588.py:214: DeprecationWarning: `np.str` is a deprecated alias for the builtin `str`. To silence this warning, use `str` by itself. Doing this will not modify any behavior and is safe. If you specifically wanted the numpy scalar type, use `np.str_` here.\n",
      "Deprecated in NumPy 1.20; for more details and guidance: https://numpy.org/devdocs/release/1.20.0-notes.html#deprecations\n"
     ]
    },
    {
     "name": "stdout",
     "output_type": "stream",
     "text": [
      "Loop 4/10\n"
     ]
    },
    {
     "name": "stderr",
     "output_type": "stream",
     "text": [
      "/var/folders/xh/xnl30qr16k5fldpn_ss_v0cm0000gn/T/ipykernel_32920/1693900588.py:214: DeprecationWarning: `np.str` is a deprecated alias for the builtin `str`. To silence this warning, use `str` by itself. Doing this will not modify any behavior and is safe. If you specifically wanted the numpy scalar type, use `np.str_` here.\n",
      "Deprecated in NumPy 1.20; for more details and guidance: https://numpy.org/devdocs/release/1.20.0-notes.html#deprecations\n",
      "/var/folders/xh/xnl30qr16k5fldpn_ss_v0cm0000gn/T/ipykernel_32920/1693900588.py:214: DeprecationWarning: `np.str` is a deprecated alias for the builtin `str`. To silence this warning, use `str` by itself. Doing this will not modify any behavior and is safe. If you specifically wanted the numpy scalar type, use `np.str_` here.\n",
      "Deprecated in NumPy 1.20; for more details and guidance: https://numpy.org/devdocs/release/1.20.0-notes.html#deprecations\n"
     ]
    },
    {
     "name": "stdout",
     "output_type": "stream",
     "text": [
      "Loop 5/10\n"
     ]
    },
    {
     "name": "stderr",
     "output_type": "stream",
     "text": [
      "/var/folders/xh/xnl30qr16k5fldpn_ss_v0cm0000gn/T/ipykernel_32920/1693900588.py:214: DeprecationWarning: `np.str` is a deprecated alias for the builtin `str`. To silence this warning, use `str` by itself. Doing this will not modify any behavior and is safe. If you specifically wanted the numpy scalar type, use `np.str_` here.\n",
      "Deprecated in NumPy 1.20; for more details and guidance: https://numpy.org/devdocs/release/1.20.0-notes.html#deprecations\n",
      "/var/folders/xh/xnl30qr16k5fldpn_ss_v0cm0000gn/T/ipykernel_32920/1693900588.py:214: DeprecationWarning: `np.str` is a deprecated alias for the builtin `str`. To silence this warning, use `str` by itself. Doing this will not modify any behavior and is safe. If you specifically wanted the numpy scalar type, use `np.str_` here.\n",
      "Deprecated in NumPy 1.20; for more details and guidance: https://numpy.org/devdocs/release/1.20.0-notes.html#deprecations\n"
     ]
    },
    {
     "name": "stdout",
     "output_type": "stream",
     "text": [
      "Loop 6/10\n"
     ]
    },
    {
     "name": "stderr",
     "output_type": "stream",
     "text": [
      "/var/folders/xh/xnl30qr16k5fldpn_ss_v0cm0000gn/T/ipykernel_32920/1693900588.py:214: DeprecationWarning: `np.str` is a deprecated alias for the builtin `str`. To silence this warning, use `str` by itself. Doing this will not modify any behavior and is safe. If you specifically wanted the numpy scalar type, use `np.str_` here.\n",
      "Deprecated in NumPy 1.20; for more details and guidance: https://numpy.org/devdocs/release/1.20.0-notes.html#deprecations\n",
      "/var/folders/xh/xnl30qr16k5fldpn_ss_v0cm0000gn/T/ipykernel_32920/1693900588.py:214: DeprecationWarning: `np.str` is a deprecated alias for the builtin `str`. To silence this warning, use `str` by itself. Doing this will not modify any behavior and is safe. If you specifically wanted the numpy scalar type, use `np.str_` here.\n",
      "Deprecated in NumPy 1.20; for more details and guidance: https://numpy.org/devdocs/release/1.20.0-notes.html#deprecations\n"
     ]
    },
    {
     "name": "stdout",
     "output_type": "stream",
     "text": [
      "Loop 7/10\n"
     ]
    },
    {
     "name": "stderr",
     "output_type": "stream",
     "text": [
      "/var/folders/xh/xnl30qr16k5fldpn_ss_v0cm0000gn/T/ipykernel_32920/1693900588.py:214: DeprecationWarning: `np.str` is a deprecated alias for the builtin `str`. To silence this warning, use `str` by itself. Doing this will not modify any behavior and is safe. If you specifically wanted the numpy scalar type, use `np.str_` here.\n",
      "Deprecated in NumPy 1.20; for more details and guidance: https://numpy.org/devdocs/release/1.20.0-notes.html#deprecations\n",
      "/var/folders/xh/xnl30qr16k5fldpn_ss_v0cm0000gn/T/ipykernel_32920/1693900588.py:214: DeprecationWarning: `np.str` is a deprecated alias for the builtin `str`. To silence this warning, use `str` by itself. Doing this will not modify any behavior and is safe. If you specifically wanted the numpy scalar type, use `np.str_` here.\n",
      "Deprecated in NumPy 1.20; for more details and guidance: https://numpy.org/devdocs/release/1.20.0-notes.html#deprecations\n"
     ]
    },
    {
     "name": "stdout",
     "output_type": "stream",
     "text": [
      "Loop 8/10\n"
     ]
    },
    {
     "name": "stderr",
     "output_type": "stream",
     "text": [
      "/var/folders/xh/xnl30qr16k5fldpn_ss_v0cm0000gn/T/ipykernel_32920/1693900588.py:214: DeprecationWarning: `np.str` is a deprecated alias for the builtin `str`. To silence this warning, use `str` by itself. Doing this will not modify any behavior and is safe. If you specifically wanted the numpy scalar type, use `np.str_` here.\n",
      "Deprecated in NumPy 1.20; for more details and guidance: https://numpy.org/devdocs/release/1.20.0-notes.html#deprecations\n",
      "/var/folders/xh/xnl30qr16k5fldpn_ss_v0cm0000gn/T/ipykernel_32920/1693900588.py:214: DeprecationWarning: `np.str` is a deprecated alias for the builtin `str`. To silence this warning, use `str` by itself. Doing this will not modify any behavior and is safe. If you specifically wanted the numpy scalar type, use `np.str_` here.\n",
      "Deprecated in NumPy 1.20; for more details and guidance: https://numpy.org/devdocs/release/1.20.0-notes.html#deprecations\n"
     ]
    },
    {
     "name": "stdout",
     "output_type": "stream",
     "text": [
      "Loop 9/10\n"
     ]
    },
    {
     "name": "stderr",
     "output_type": "stream",
     "text": [
      "/var/folders/xh/xnl30qr16k5fldpn_ss_v0cm0000gn/T/ipykernel_32920/1693900588.py:214: DeprecationWarning: `np.str` is a deprecated alias for the builtin `str`. To silence this warning, use `str` by itself. Doing this will not modify any behavior and is safe. If you specifically wanted the numpy scalar type, use `np.str_` here.\n",
      "Deprecated in NumPy 1.20; for more details and guidance: https://numpy.org/devdocs/release/1.20.0-notes.html#deprecations\n",
      "/var/folders/xh/xnl30qr16k5fldpn_ss_v0cm0000gn/T/ipykernel_32920/1693900588.py:214: DeprecationWarning: `np.str` is a deprecated alias for the builtin `str`. To silence this warning, use `str` by itself. Doing this will not modify any behavior and is safe. If you specifically wanted the numpy scalar type, use `np.str_` here.\n",
      "Deprecated in NumPy 1.20; for more details and guidance: https://numpy.org/devdocs/release/1.20.0-notes.html#deprecations\n"
     ]
    },
    {
     "name": "stdout",
     "output_type": "stream",
     "text": [
      "Loop 10/10\n"
     ]
    },
    {
     "name": "stderr",
     "output_type": "stream",
     "text": [
      "/var/folders/xh/xnl30qr16k5fldpn_ss_v0cm0000gn/T/ipykernel_32920/1693900588.py:214: DeprecationWarning: `np.str` is a deprecated alias for the builtin `str`. To silence this warning, use `str` by itself. Doing this will not modify any behavior and is safe. If you specifically wanted the numpy scalar type, use `np.str_` here.\n",
      "Deprecated in NumPy 1.20; for more details and guidance: https://numpy.org/devdocs/release/1.20.0-notes.html#deprecations\n",
      "/var/folders/xh/xnl30qr16k5fldpn_ss_v0cm0000gn/T/ipykernel_32920/1693900588.py:214: DeprecationWarning: `np.str` is a deprecated alias for the builtin `str`. To silence this warning, use `str` by itself. Doing this will not modify any behavior and is safe. If you specifically wanted the numpy scalar type, use `np.str_` here.\n",
      "Deprecated in NumPy 1.20; for more details and guidance: https://numpy.org/devdocs/release/1.20.0-notes.html#deprecations\n"
     ]
    }
   ],
   "source": [
    "NLOOPS = 10\n",
    "\n",
    "modules = [zero_point, sso, t2]\n",
    "# modules = [zero_point, sso, snn, t2, al, mul, xmatch, kn, snad]\n",
    "ts = []\n",
    "for i in range(NLOOPS):\n",
    "    print(\"Loop {}/{}\".format(i+1, NLOOPS))\n",
    "    names = []\n",
    "    args_ = []\n",
    "    times_ = []\n",
    "    for mod in modules:\n",
    "        t, args, name = mod(df)\n",
    "        times_.append(t)\n",
    "        if args is not None:\n",
    "            args_.append(args)\n",
    "            names.append(name)\n",
    "    # Run all modules\n",
    "    t_tot = total(df, args_)\n",
    "    times_.append(t_tot)\n",
    "    names.append('All')\n",
    "    \n",
    "    ts.append(times_)"
   ]
  },
  {
   "cell_type": "markdown",
   "metadata": {},
   "source": [
    "Mean and std for the execution times:"
   ]
  },
  {
   "cell_type": "code",
   "execution_count": 39,
   "metadata": {},
   "outputs": [
    {
     "name": "stdout",
     "output_type": "stream",
     "text": [
      "[0.11 0.18 0.48 0.54]\n",
      "[0.05 0.10 0.81 0.93]\n"
     ]
    }
   ],
   "source": [
    "print(np.mean(ts, axis=0))\n",
    "print(np.std(ts, axis=0))"
   ]
  },
  {
   "cell_type": "markdown",
   "metadata": {},
   "source": [
    "## Final plot"
   ]
  },
  {
   "cell_type": "code",
   "execution_count": 40,
   "metadata": {},
   "outputs": [],
   "source": [
    "import matplotlib\n",
    "%matplotlib inline\n",
    "\n",
    "import matplotlib.pyplot as plt\n",
    "import seaborn as sns\n",
    "sns.set_context('talk')"
   ]
  },
  {
   "cell_type": "markdown",
   "metadata": {},
   "source": [
    "First, change units from  execution time (second) to single core performance (number of alerts/second/core processed):"
   ]
  },
  {
   "cell_type": "code",
   "execution_count": 46,
   "metadata": {},
   "outputs": [
    {
     "name": "stdout",
     "output_type": "stream",
     "text": [
      "0.41593480110168457 0.08819103240966797\n",
      "2.900285005569458 0.08819103240966797\n",
      "3.3208301067352295 0.08819103240966797\n",
      "0.1075291633605957 0.1121680736541748\n",
      "0.14510393142700195 0.1121680736541748\n",
      "0.1515810489654541 0.1121680736541748\n",
      "0.10872602462768555 0.06022024154663086\n",
      "0.19435811042785645 0.06022024154663086\n",
      "0.40663886070251465 0.06022024154663086\n",
      "0.2571859359741211 0.17185568809509277\n",
      "0.36506009101867676 0.17185568809509277\n",
      "0.1753091812133789 0.17185568809509277\n",
      "0.1121211051940918 0.051969051361083984\n",
      "0.16316986083984375 0.051969051361083984\n",
      "0.2133948802947998 0.051969051361083984\n",
      "0.2734971046447754 0.15379786491394043\n",
      "0.3103902339935303 0.15379786491394043\n",
      "0.27521395683288574 0.15379786491394043\n",
      "0.08564901351928711 0.04935002326965332\n",
      "0.130601167678833 0.04935002326965332\n",
      "0.4272572994232178 0.04935002326965332\n",
      "0.14790010452270508 0.20042681694030762\n",
      "0.19705510139465332 0.20042681694030762\n",
      "0.15347671508789062 0.20042681694030762\n",
      "0.08605432510375977 0.055193185806274414\n",
      "0.13280415534973145 0.055193185806274414\n",
      "0.15585589408874512 0.055193185806274414\n",
      "0.22912287712097168 0.11494922637939453\n",
      "0.21192097663879395 0.11494922637939453\n",
      "0.15162205696105957 0.11494922637939453\n"
     ]
    }
   ],
   "source": [
    "# ts\n",
    "for j in ts:\n",
    "    for i in j[1:]:\n",
    "        print(i, j[0])"
   ]
  },
  {
   "cell_type": "code",
   "execution_count": 49,
   "metadata": {},
   "outputs": [
    {
     "name": "stdout",
     "output_type": "stream",
     "text": [
      "[-527.65 -1011.77 1755.55] [3482.88 4621.09 4288.93]\n"
     ]
    }
   ],
   "source": [
    "ts_ = [[total_alerts/(i - j[0])/nproc for i in j[1:]] for j in ts]\n",
    "# print(ts_)\n",
    "\n",
    "mean = np.mean(ts_, axis=0)\n",
    "err = np.std(ts_, axis=0)\n",
    "print(mean, err)"
   ]
  },
  {
   "cell_type": "markdown",
   "metadata": {},
   "source": [
    "Plot:"
   ]
  },
  {
   "cell_type": "code",
   "execution_count": 50,
   "metadata": {},
   "outputs": [
    {
     "data": {
      "image/png": "[encoded data removed]",
      "text/plain": [
       "<Figure size 864x504 with 1 Axes>"
      ]
     },
     "metadata": {
      "needs_background": "light"
     },
     "output_type": "display_data"
    }
   ],
   "source": [
    "# names = ['SSO', 'SNN', 'T2', 'AL', 'ML', 'CDS', 'KN', 'FEAT', 'All']\n",
    "names = ['SSO', 'T2','All']\n",
    "plt.figure(figsize=(12, 7))\n",
    "\n",
    "colors = ['C{}'.format(i) for i in range(len(names))]\n",
    "plt.bar(\n",
    "    names, mean, yerr=err, \n",
    "    color=colors, edgecolor=colors, ecolor='black', \n",
    "    linewidth=3, error_kw={'capsize': 10}, \n",
    "    alpha=0.3, fill=True\n",
    ")\n",
    "plt.grid(alpha=0.5)\n",
    "\n",
    "# for index, ts__ in zip(range(len(mean)), mean):\n",
    "#     plt.text(index - 0.15, 1.25 * ts__, int(ts__))\n",
    "\n",
    "plt.ylabel('alerts/second/core')\n",
    "\n",
    "plt.title('\"on-sky\" single core performance (version {})'.format('1.2.0_rc'))\n",
    "\n",
    "plt.axhline(50, ls='--', color='grey')\n",
    "plt.yscale('log')\n",
    "plt.text(-0.5, 55, r'2 seconds/exposure');\n",
    "plt.text(-0.5, 37, r'@ LSST scale @ 100 CPU');\n",
    "\n",
    "plt.ylim(10, 2e6)\n",
    "plt.tight_layout()\n",
    "plt.show()"
   ]
  },
  {
   "cell_type": "code",
   "execution_count": 39,
   "metadata": {},
   "outputs": [],
   "source": [
    "# naive total throughput\n",
    "# total_throughput = 1/np.sum(1/np.array(mean))\n",
    "# print('{:.2f} alerts/s/proc'.format(total_throughput))"
   ]
  },
  {
   "cell_type": "code",
   "execution_count": 73,
   "metadata": {},
   "outputs": [
    {
     "name": "stdout",
     "output_type": "stream",
     "text": [
      "10,000,000 alerts: 0.00 hours with 150 cores\n"
     ]
    },
    {
     "name": "stderr",
     "output_type": "stream",
     "text": [
      "[Stage 18:===================================================>     (9 + 1) / 10]\r"
     ]
    }
   ],
   "source": [
    "total_throughput = mean[-1]\n",
    "nalert_total = int(10e6)\n",
    "nproc_total = 150\n",
    "time_for_all = nalert_total / total_throughput / nproc_total\n",
    "print('{:,} alerts: {:.2f} hours with {} cores'.format(nalert_total, time_for_all / 3600, nproc_total))"
   ]
  },
  {
   "cell_type": "code",
   "execution_count": null,
   "metadata": {},
   "outputs": [],
   "source": []
  }
 ],
 "metadata": {
  "hide_input": false,
  "kernelspec": {
   "display_name": "Python 3 (ipykernel)",
   "language": "python",
   "name": "python3"
  },
  "language_info": {
   "codemirror_mode": {
    "name": "ipython",
    "version": 3
   },
   "file_extension": ".py",
   "mimetype": "text/x-python",
   "name": "python",
   "nbconvert_exporter": "python",
   "pygments_lexer": "ipython3",
   "version": "3.10.2"
  }
 },
 "nbformat": 4,
 "nbformat_minor": 2
}
