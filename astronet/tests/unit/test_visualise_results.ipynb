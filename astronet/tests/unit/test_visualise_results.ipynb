{
 "cells": [
  {
   "cell_type": "code",
   "execution_count": 1,
   "metadata": {
    "execution": {
     "iopub.execute_input": "2022-02-07T17:41:08.402025Z",
     "iopub.status.busy": "2022-02-07T17:41:08.401423Z",
     "iopub.status.idle": "2022-02-07T17:41:08.409203Z",
     "shell.execute_reply": "2022-02-07T17:41:08.409745Z"
    }
   },
   "outputs": [
    {
     "name": "stdout",
     "output_type": "stream",
     "text": [
      "/Users/tallamjr/github/tallamjr/origin/astronet/astronet/__init__.py\n"
     ]
    }
   ],
   "source": [
    "import astronet\n",
    "print(astronet.__file__) "
   ]
  },
  {
   "cell_type": "markdown",
   "metadata": {},
   "source": [
    "#### Setup"
   ]
  },
  {
   "cell_type": "code",
   "execution_count": 2,
   "metadata": {
    "execution": {
     "iopub.execute_input": "2022-02-07T17:41:08.418687Z",
     "iopub.status.busy": "2022-02-07T17:41:08.418059Z",
     "iopub.status.idle": "2022-02-07T17:41:10.883469Z",
     "shell.execute_reply": "2022-02-07T17:41:10.883917Z"
    }
   },
   "outputs": [],
   "source": [
    "# Python ≥3.5 is required\n",
    "import sys\n",
    "assert sys.version_info >= (3, 5)\n",
    "\n",
    "# Scikit-Learn ≥0.20 is required\n",
    "import sklearn\n",
    "assert sklearn.__version__ >= \"0.20\"\n",
    "\n",
    "# TensorFlow ≥2.0 is required\n",
    "import tensorflow as tf\n",
    "from tensorflow import keras\n",
    "assert tf.__version__ >= \"2.0\"\n",
    "\n",
    "# Common imports\n",
    "import numpy as np\n",
    "import os\n",
    "import pandas as pd\n",
    "\n",
    "# to make this notebook's output stable across runs\n",
    "np.random.seed(42)\n",
    "tf.random.set_seed(42)\n",
    "\n",
    "# To plot pretty figures\n",
    "%matplotlib inline\n",
    "import matplotlib as mpl\n",
    "import matplotlib.pyplot as plt\n",
    "mpl.rc('axes', labelsize=14)\n",
    "mpl.rc('xtick', labelsize=24)\n",
    "mpl.rc('ytick', labelsize=24)\n",
    "\n",
    "plt.rcParams.update({\n",
    "    \"text.usetex\": True,\n",
    "    \"font.family\": \"sans-serif\",\n",
    "    \"font.serif\": [\"Computer Modern Roman\"]})\n",
    "\n",
    "plt.rcParams[\"figure.figsize\"] = (16,6)"
   ]
  },
  {
   "cell_type": "markdown",
   "metadata": {},
   "source": [
    "## Chapter 3: t2 - The Time-Series Transformer"
   ]
  },
  {
   "cell_type": "code",
   "execution_count": 3,
   "metadata": {
    "execution": {
     "iopub.execute_input": "2022-02-07T17:41:10.887864Z",
     "iopub.status.busy": "2022-02-07T17:41:10.887276Z",
     "iopub.status.idle": "2022-02-07T17:41:10.889188Z",
     "shell.execute_reply": "2022-02-07T17:41:10.889781Z"
    }
   },
   "outputs": [],
   "source": [
    "from pathlib import Path"
   ]
  },
  {
   "cell_type": "code",
   "execution_count": 4,
   "metadata": {
    "execution": {
     "iopub.execute_input": "2022-02-07T17:41:10.893565Z",
     "iopub.status.busy": "2022-02-07T17:41:10.892964Z",
     "iopub.status.idle": "2022-02-07T17:41:10.895336Z",
     "shell.execute_reply": "2022-02-07T17:41:10.895760Z"
    }
   },
   "outputs": [
    {
     "name": "stdout",
     "output_type": "stream",
     "text": [
      "/Users/tallamjr/github/tallamjr/origin/astronet\n"
     ]
    }
   ],
   "source": [
    "ROOT = f\"{Path(__name__).absolute().parent.parent.parent.parent}\"\n",
    "print(ROOT)"
   ]
  },
  {
   "cell_type": "markdown",
   "metadata": {},
   "source": [
    "## 3.2 Data Interpolation with Gaussian Processes"
   ]
  },
  {
   "cell_type": "code",
   "execution_count": 5,
   "metadata": {
    "execution": {
     "iopub.execute_input": "2022-02-07T17:41:10.899467Z",
     "iopub.status.busy": "2022-02-07T17:41:10.898832Z",
     "iopub.status.idle": "2022-02-07T17:41:10.900302Z",
     "shell.execute_reply": "2022-02-07T17:41:10.900844Z"
    }
   },
   "outputs": [],
   "source": [
    "plt.rcParams[\"figure.figsize\"] = (12,8)"
   ]
  },
  {
   "cell_type": "code",
   "execution_count": 6,
   "metadata": {
    "execution": {
     "iopub.execute_input": "2022-02-07T17:41:10.905821Z",
     "iopub.status.busy": "2022-02-07T17:41:10.905277Z",
     "iopub.status.idle": "2022-02-07T17:41:11.701350Z",
     "shell.execute_reply": "2022-02-07T17:41:11.701901Z"
    }
   },
   "outputs": [],
   "source": [
    "import argparse\n",
    "import joblib\n",
    "import json\n",
    "import matplotlib.pyplot as plt\n",
    "import numpy as np\n",
    "import random as python_random\n",
    "import sys\n",
    "import seaborn as sns\n",
    "import tensorflow as tf\n",
    "\n",
    "from tensorflow import keras\n",
    "\n",
    "from astronet.constants import ASTRONET_WORKING_DIRECTORY as asnwd\n",
    "from astronet.utils import astronet_logger, load_dataset, find_optimal_batch_size\n",
    "\n",
    "from astronet.metrics import WeightedLogLoss\n",
    "from astronet.viz.visualise_results import (\n",
    "    plot_acc_history,\n",
    "    plot_confusion_matrix,\n",
    "    plot_loss_history,\n",
    "    plot_multiROC,\n",
    "    plot_multiPR,\n",
    ")\n",
    "\n",
    "RANDOM_SEED = 42\n",
    "np.random.seed(RANDOM_SEED)\n",
    "tf.random.set_seed(RANDOM_SEED)\n",
    "# The below is necessary for starting core Python generated random numbers\n",
    "# in a well-defined state.\n",
    "python_random.seed(RANDOM_SEED)"
   ]
  },
  {
   "cell_type": "code",
   "execution_count": 7,
   "metadata": {
    "execution": {
     "iopub.execute_input": "2022-02-07T17:41:11.706032Z",
     "iopub.status.busy": "2022-02-07T17:41:11.705352Z",
     "iopub.status.idle": "2022-02-07T17:41:11.710386Z",
     "shell.execute_reply": "2022-02-07T17:41:11.710939Z"
    }
   },
   "outputs": [],
   "source": [
    "from astronet.viz.generate_plots import Plots"
   ]
  },
  {
   "cell_type": "code",
   "execution_count": 8,
   "metadata": {
    "execution": {
     "iopub.execute_input": "2022-02-07T17:41:11.715414Z",
     "iopub.status.busy": "2022-02-07T17:41:11.714416Z",
     "iopub.status.idle": "2022-02-07T17:41:11.716305Z",
     "shell.execute_reply": "2022-02-07T17:41:11.717075Z"
    }
   },
   "outputs": [],
   "source": [
    "architecture=\"t2\"\n",
    "dataset=\"plasticc\"\n",
    "model_name=\"1619624444-0.1.dev765+g7c90cbb.d20210428\"\n",
    "redshift=\"z\""
   ]
  },
  {
   "cell_type": "code",
   "execution_count": 9,
   "metadata": {
    "execution": {
     "iopub.execute_input": "2022-02-07T17:41:11.721234Z",
     "iopub.status.busy": "2022-02-07T17:41:11.720653Z",
     "iopub.status.idle": "2022-02-07T17:41:16.492989Z",
     "shell.execute_reply": "2022-02-07T17:41:16.492051Z"
    }
   },
   "outputs": [
    {
     "name": "stdout",
     "output_type": "stream",
     "text": [
      "X_TEST: (869864, 100, 6), Y_TEST: (869864, 14), Z_TEST: (869864, 2)\n",
      "BATCH_SIZE:256\n"
     ]
    },
    {
     "ename": "NameError",
     "evalue": "name 'architecture' is not defined",
     "output_type": "error",
     "traceback": [
      "\u001b[0;31m---------------------------------------------------------------------------\u001b[0m",
      "\u001b[0;31mNameError\u001b[0m                                 Traceback (most recent call last)",
      "\u001b[0;32m/var/folders/9y/6kx7fns90pn84gtycx7dyl680000gn/T/ipykernel_14387/1014121578.py\u001b[0m in \u001b[0;36m<module>\u001b[0;34m\u001b[0m\n\u001b[1;32m      6\u001b[0m     \u001b[0msavefigs\u001b[0m\u001b[0;34m=\u001b[0m\u001b[0;32mFalse\u001b[0m\u001b[0;34m,\u001b[0m\u001b[0;34m\u001b[0m\u001b[0;34m\u001b[0m\u001b[0m\n\u001b[1;32m      7\u001b[0m )\n\u001b[0;32m----> 8\u001b[0;31m \u001b[0mplotting\u001b[0m\u001b[0;34m(\u001b[0m\u001b[0;34m)\u001b[0m\u001b[0;34m\u001b[0m\u001b[0;34m\u001b[0m\u001b[0m\n\u001b[0m",
      "\u001b[0;32m~/github/tallamjr/origin/astronet/astronet/viz/generate_plots.py\u001b[0m in \u001b[0;36m__call__\u001b[0;34m(self)\u001b[0m\n\u001b[1;32m     81\u001b[0m             \u001b[0minputs\u001b[0m \u001b[0;34m=\u001b[0m \u001b[0;34m[\u001b[0m\u001b[0mX_test\u001b[0m\u001b[0;34m,\u001b[0m \u001b[0mZ_test\u001b[0m\u001b[0;34m]\u001b[0m\u001b[0;34m\u001b[0m\u001b[0;34m\u001b[0m\u001b[0m\n\u001b[1;32m     82\u001b[0m             results_filename = (\n\u001b[0;32m---> 83\u001b[0;31m                 \u001b[0;34mf\"{asnwd}/astronet/{architecture}/models/{dataset}/results_with_z.json\"\u001b[0m\u001b[0;34m\u001b[0m\u001b[0;34m\u001b[0m\u001b[0m\n\u001b[0m\u001b[1;32m     84\u001b[0m             )\n\u001b[1;32m     85\u001b[0m         \u001b[0;32melse\u001b[0m\u001b[0;34m:\u001b[0m\u001b[0;34m\u001b[0m\u001b[0;34m\u001b[0m\u001b[0m\n",
      "\u001b[0;31mNameError\u001b[0m: name 'architecture' is not defined"
     ]
    }
   ],
   "source": [
    "plotting = Plots(\n",
    "    architecture=architecture,\n",
    "    dataset=dataset,\n",
    "    model_name=model_name,\n",
    "    redshift=redshift,\n",
    "    savefigs=False,\n",
    ")\n",
    "plotting()"
   ]
  },
  {
   "cell_type": "code",
   "execution_count": null,
   "metadata": {},
   "outputs": [],
   "source": []
  }
 ],
 "metadata": {
  "kernelspec": {
   "display_name": "Python 3 (ipykernel)",
   "language": "python",
   "name": "python3"
  },
  "language_info": {
   "codemirror_mode": {
    "name": "ipython",
    "version": 3
   },
   "file_extension": ".py",
   "mimetype": "text/x-python",
   "name": "python",
   "nbconvert_exporter": "python",
   "pygments_lexer": "ipython3",
   "version": "3.7.8"
  }
 },
 "nbformat": 4,
 "nbformat_minor": 2
}
